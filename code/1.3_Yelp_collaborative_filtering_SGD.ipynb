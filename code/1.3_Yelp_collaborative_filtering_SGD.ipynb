{
 "cells": [
  {
   "cell_type": "code",
   "execution_count": 78,
   "metadata": {},
   "outputs": [],
   "source": [
    "import pandas as pd\n",
    "import numpy as np\n",
    "from sklearn.metrics import mean_squared_error, mean_absolute_error\n",
    "import time\n",
    "# import seaborn as sns\n",
    "from numpy.linalg import solve\n",
    "import matplotlib.pyplot as plt"
   ]
  },
  {
   "cell_type": "code",
   "execution_count": 2,
   "metadata": {},
   "outputs": [],
   "source": [
    "train = np.load('../data/train_sparse_matrix.npy')\n",
    "valid = np.load('../data/valid_sparse_matrix.npy')\n",
    "train_valid = np.load('../data/train_valid_sparse_matrix.npy')\n",
    "test = np.load('../data/test_sparse_matrix.npy')"
   ]
  },
  {
   "cell_type": "markdown",
   "metadata": {},
   "source": [
    "# MSE & MAE"
   ]
  },
  {
   "cell_type": "code",
   "execution_count": 76,
   "metadata": {},
   "outputs": [],
   "source": [
    "def get_mse(pred, actual):\n",
    "        # Ignore nonzero terms.\n",
    "        pred = pred[actual.nonzero()].flatten()\n",
    "        actual = actual[actual.nonzero()].flatten()\n",
    "        \n",
    "        return mean_squared_error(pred, actual)\n",
    "    \n",
    "def get_mae(pred, actual):\n",
    "        # Ignore nonzero terms.\n",
    "        pred = pred[actual.nonzero()].flatten()\n",
    "        actual = actual[actual.nonzero()].flatten()\n",
    "        \n",
    "        return mean_absolute_error(pred, actual)"
   ]
  },
  {
   "cell_type": "markdown",
   "metadata": {},
   "source": [
    "# ALS"
   ]
  },
  {
   "cell_type": "code",
   "execution_count": 38,
   "metadata": {},
   "outputs": [],
   "source": [
    "class ExplicitMF_ALS():\n",
    "    def __init__(self, \n",
    "                 ratings, \n",
    "                 n_factors=40, \n",
    "                 item_reg=0.0, \n",
    "                 user_reg=0.0,\n",
    "                 verbose=False):\n",
    "        \"\"\"\n",
    "        Train a matrix factorization model to predict empty \n",
    "        entries in a matrix. The terminology assumes a \n",
    "        ratings matrix which is ~ user x item\n",
    "        \n",
    "        Params\n",
    "        ======\n",
    "        ratings : (ndarray)\n",
    "            User x Item matrix with corresponding ratings\n",
    "        \n",
    "        n_factors : (int)\n",
    "            Number of latent factors to use in matrix \n",
    "            factorization model\n",
    "        \n",
    "        item_reg : (float)\n",
    "            Regularization term for item latent factors\n",
    "        \n",
    "        user_reg : (float)\n",
    "            Regularization term for user latent factors\n",
    "        \n",
    "        verbose : (bool)\n",
    "            Whether or not to printout training progress\n",
    "        \"\"\"\n",
    "        \n",
    "        self.ratings = ratings\n",
    "        self.n_users, self.n_items = ratings.shape\n",
    "        self.n_factors = n_factors\n",
    "        self.item_reg = item_reg\n",
    "        self.user_reg = user_reg\n",
    "        self._v = verbose\n",
    "\n",
    "    def als_step(self,\n",
    "                 latent_vectors,\n",
    "                 fixed_vecs,\n",
    "                 ratings,\n",
    "                 _lambda,\n",
    "                 type='user'):\n",
    "        \"\"\"\n",
    "        One of the two ALS steps. Solve for the latent vectors\n",
    "        specified by type.\n",
    "        \"\"\"\n",
    "        if type == 'user':\n",
    "            # Precompute\n",
    "            YTY = fixed_vecs.T.dot(fixed_vecs)\n",
    "            lambdaI = np.eye(YTY.shape[0]) * _lambda\n",
    "\n",
    "            for u in range(latent_vectors.shape[0]):\n",
    "                latent_vectors[u, :] = solve((YTY + lambdaI), \n",
    "                                             ratings[u, :].dot(fixed_vecs))\n",
    "        elif type == 'item':\n",
    "            # Precompute\n",
    "            XTX = fixed_vecs.T.dot(fixed_vecs)\n",
    "            lambdaI = np.eye(XTX.shape[0]) * _lambda\n",
    "            \n",
    "            for i in range(latent_vectors.shape[0]):\n",
    "                latent_vectors[i, :] = solve((XTX + lambdaI), \n",
    "                                             ratings[:, i].T.dot(fixed_vecs))\n",
    "        return latent_vectors\n",
    "\n",
    "    def train(self, n_iter=10):\n",
    "        \"\"\" Train model for n_iter iterations from scratch.\"\"\"\n",
    "        # initialize latent vectors\n",
    "        self.user_vecs = np.random.random((self.n_users, self.n_factors))\n",
    "        self.item_vecs = np.random.random((self.n_items, self.n_factors))\n",
    "        \n",
    "        self.partial_train(n_iter)\n",
    "    \n",
    "    def partial_train(self, n_iter):\n",
    "        \"\"\" \n",
    "        Train model for n_iter iterations. Can be \n",
    "        called multiple times for further training.\n",
    "        \"\"\"\n",
    "        ctr = 1\n",
    "        while ctr <= n_iter:\n",
    "            if ctr % 10 == 0 and self._v:\n",
    "                print ('\\tcurrent iteration: {}'.format(ctr))\n",
    "            self.user_vecs = self.als_step(self.user_vecs, \n",
    "                                           self.item_vecs, \n",
    "                                           self.ratings, \n",
    "                                           self.user_reg, \n",
    "                                           type='user')\n",
    "            self.item_vecs = self.als_step(self.item_vecs, \n",
    "                                           self.user_vecs, \n",
    "                                           self.ratings, \n",
    "                                           self.item_reg, \n",
    "                                           type='item')\n",
    "            ctr += 1\n",
    "    \n",
    "    def predict_all(self):\n",
    "        \"\"\" Predict ratings for every user and item. \"\"\"\n",
    "        predictions = np.zeros((self.user_vecs.shape[0], \n",
    "                                self.item_vecs.shape[0]))\n",
    "        for u in range(self.user_vecs.shape[0]):\n",
    "            for i in range(self.item_vecs.shape[0]):\n",
    "                predictions[u, i] = self.predict(u, i)\n",
    "                \n",
    "        return predictions\n",
    "    def predict(self, u, i):\n",
    "        \"\"\" Single user and item prediction. \"\"\"\n",
    "        return self.user_vecs[u, :].dot(self.item_vecs[i, :].T)\n",
    "    \n",
    "    def calculate_learning_curve(self, iter_array, test):\n",
    "        \"\"\"\n",
    "        Keep track of MSE as a function of training iterations.\n",
    "        \n",
    "        Params\n",
    "        ======\n",
    "        iter_array : (list)\n",
    "            List of numbers of iterations to train for each step of \n",
    "            the learning curve. e.g. [1, 5, 10, 20]\n",
    "        test : (2D ndarray)\n",
    "            Testing dataset (assumed to be user x item).\n",
    "        \n",
    "        The function creates two new class attributes:\n",
    "        \n",
    "        train_mse : (list)\n",
    "            Training data MSE values for each value of iter_array\n",
    "        test_mse : (list)\n",
    "            Test data MSE values for each value of iter_array\n",
    "        \"\"\"\n",
    "        iter_array.sort()\n",
    "        self.train_mse =[]\n",
    "        self.test_mse = []\n",
    "        iter_diff = 0\n",
    "        \n",
    "        for (i, n_iter) in enumerate(iter_array):\n",
    "            if self._v:\n",
    "                print ('Iteration: {}'.format(n_iter))\n",
    "            if i == 0:\n",
    "                self.train(n_iter - iter_diff)\n",
    "            else:\n",
    "                self.partial_train(n_iter - iter_diff)\n",
    "\n",
    "            predictions = self.predict_all()\n",
    "\n",
    "            self.train_mse += [get_mse(predictions, self.ratings)]\n",
    "            self.test_mse += [get_mse(predictions, test)]\n",
    "            if self._v:\n",
    "                print ('Train mse: ' + str(self.train_mse[-1]))\n",
    "                print ('Test mse: ' + str(self.test_mse[-1]))\n",
    "            iter_diff = n_iter\n",
    "        return self.train_mse[-1], self.test_mse[-1], predictions"
   ]
  },
  {
   "cell_type": "markdown",
   "metadata": {},
   "source": [
    "# Optimize ALS model parameter"
   ]
  },
  {
   "cell_type": "code",
   "execution_count": 9,
   "metadata": {
    "scrolled": true
   },
   "outputs": [],
   "source": [
    "# latent_factors = [5, 20, 40, 80]\n",
    "# regularizations = [0.1, 1., 10., 100.]\n",
    "# regularizations.sort()\n",
    "# iter_array = [1, 2, 5, 10]\n",
    "\n",
    "# best_params = {}\n",
    "# best_params['n_factors'] = latent_factors[0]\n",
    "# best_params['reg'] = regularizations[0]\n",
    "# best_params['n_iter'] = 0\n",
    "# best_params['train_mse'] = np.inf\n",
    "# best_params['test_mse'] = np.inf\n",
    "# best_params['model'] = None\n",
    "\n",
    "# start_time = time.time()\n",
    "# for fact in latent_factors:\n",
    "#     print('Factors: {}'.format(fact))\n",
    "#     for reg in regularizations:\n",
    "#         print('Regularization: {}'.format(reg))\n",
    "#         MF_ALS = ExplicitMF_ALS(train, n_factors=fact, user_reg=reg, item_reg=reg)\n",
    "#         MF_ALS.calculate_learning_curve(iter_array, test)\n",
    "#         min_idx = np.argmin(MF_ALS.test_mse)\n",
    "#         if MF_ALS.test_mse[min_idx] < best_params['test_mse']:\n",
    "#             best_params['n_factors'] = fact\n",
    "#             best_params['reg'] = reg\n",
    "#             best_params['n_iter'] = iter_array[min_idx]\n",
    "#             best_params['train_mse'] = MF_ALS.train_mse[min_idx]\n",
    "#             best_params['test_mse'] = MF_ALS.test_mse[min_idx]\n",
    "#             best_params['model'] = MF_ALS\n",
    "#             print ('New optimal hyperparameters')\n",
    "#             print (pd.Series(best_params))\n",
    "    \n",
    "# end_time = time.time()\n",
    "# print(f'running time: {end_time-start_time}')\n",
    "\n",
    "# best_als_model = best_params['model']"
   ]
  },
  {
   "cell_type": "markdown",
   "metadata": {},
   "source": [
    "# Results "
   ]
  },
  {
   "cell_type": "markdown",
   "metadata": {},
   "source": [
    "### Factors: 5\n",
    "Regularization: 0.1\n",
    "New optimal hyperparameters\n",
    "n_factors                                                    5\n",
    "reg                                                        0.1\n",
    "n_iter                                                      10\n",
    "train_mse                                               14.529\n",
    "test_mse                                               16.5731\n",
    "model        <__main__.ExplicitMF_ALS object at 0x7f932f37a...\n",
    "dtype: object\n",
    "Regularization: 1.0\n",
    "Regularization: 10.0\n",
    "Regularization: 100.0\n",
    "Factors: 20\n",
    "Regularization: 0.1\n",
    "New optimal hyperparameters\n",
    "n_factors                                                   20\n",
    "reg                                                        0.1\n",
    "n_iter                                                      10\n",
    "train_mse                                              13.1969\n",
    "test_mse                                               16.5401\n",
    "model        <__main__.ExplicitMF_ALS object at 0x7f93d7a08...\n",
    "dtype: object\n",
    "Regularization: 1.0\n",
    "Regularization: 10.0\n",
    "Regularization: 100.0\n",
    "Factors: 40\n",
    "Regularization: 0.1\n",
    "Regularization: 1.0\n",
    "Regularization: 10.0\n",
    "Regularization: 100.0\n",
    "Factors: 80\n",
    "Regularization: 0.1\n",
    "Regularization: 1.0\n",
    "Regularization: 10.0\n",
    "Regularization: 100.0\n",
    "running time: 3550.5916318893433 --> -->"
   ]
  },
  {
   "cell_type": "markdown",
   "metadata": {},
   "source": [
    "# Plot"
   ]
  },
  {
   "cell_type": "code",
   "execution_count": 99,
   "metadata": {},
   "outputs": [
    {
     "name": "stdout",
     "output_type": "stream",
     "text": [
      "Factors: 5\n",
      "Factors: 10\n",
      "Factors: 15\n",
      "Factors: 20\n",
      "Factors: 25\n",
      "Factors: 30\n",
      "Factors: 35\n",
      "Factors: 40\n",
      "running time: 466.7684180736542\n"
     ]
    }
   ],
   "source": [
    "reg = 0.1\n",
    "iter_array = [10]\n",
    "n_factors = [5,10,15,20,25,30,35,40]\n",
    "train_mse_lst = []\n",
    "valid_mse_lst = []\n",
    "\n",
    "start_time = time.time()\n",
    "\n",
    "for k in n_factors:\n",
    "    print('Factors: {}'.format(k))\n",
    "    MF_ALS = ExplicitMF_ALS(train, n_factors=k, user_reg=reg, item_reg=reg)\n",
    "    train_mse, valid_mse, _ = MF_ALS.calculate_learning_curve(iter_array, test)\n",
    "    train_mse_lst.append(train_mse)\n",
    "    valid_mse_lst.append(valid_mse)\n",
    "    \n",
    "end_time = time.time()\n",
    "print(f'running time: {end_time-start_time}')"
   ]
  },
  {
   "cell_type": "code",
   "execution_count": 102,
   "metadata": {},
   "outputs": [
    {
     "data": {
      "image/png": "[encoded data removed]",
      "text/plain": [
       "<Figure size 720x576 with 1 Axes>"
      ]
     },
     "metadata": {
      "needs_background": "light"
     },
     "output_type": "display_data"
    }
   ],
   "source": [
    "fig, ax = plt.subplots(figsize=(10,8))\n",
    "\n",
    "# plt.plot(n_factors, train_mse_lst, label='Training', linewidth=5, color='blue')\n",
    "plt.plot(n_factors, valid_mse_lst, label='Validation set', linewidth=2, color='blue')\n",
    "plt.xticks(fontsize=16);\n",
    "plt.yticks(fontsize=16);\n",
    "plt.plot(25, valid_mse_lst[4], 'ro', label='Optimal k: 25')\n",
    "\n",
    "plt.xlabel('Numbers of the Latent Factors', fontsize=24);\n",
    "plt.ylabel('MSE', fontsize=24);\n",
    "plt.legend(loc='best', fontsize=15);\n",
    "plt.title('MSE-Numbers of the Latent Factors', fontsize=24)\n",
    "plt.show()"
   ]
  },
  {
   "cell_type": "markdown",
   "metadata": {},
   "source": [
    "# Valid-Sparse-Matrix Prediction"
   ]
  },
  {
   "cell_type": "code",
   "execution_count": 73,
   "metadata": {},
   "outputs": [],
   "source": [
    "reg = 0.1\n",
    "iter_array = [10]\n",
    "n = 15\n",
    "\n",
    "tuned_model = ExplicitMF_ALS(train_valid, n_factors=n, user_reg=reg, item_reg=reg)\n",
    "train_mse, valid_mse, prediction = tuned_model.calculate_learning_curve(iter_array, valid)\n",
    "\n",
    "np.save('../data/test_prediction_CF_ALS.npy', prediction)"
   ]
  },
  {
   "cell_type": "code",
   "execution_count": 74,
   "metadata": {},
   "outputs": [
    {
     "data": {
      "text/plain": [
       "16.43281890816601"
      ]
     },
     "execution_count": 74,
     "metadata": {},
     "output_type": "execute_result"
    }
   ],
   "source": [
    "als_mse = get_mse(prediction, valid)\n",
    "als_mse"
   ]
  },
  {
   "cell_type": "code",
   "execution_count": 79,
   "metadata": {},
   "outputs": [
    {
     "data": {
      "text/plain": [
       "3.8369603607763727"
      ]
     },
     "execution_count": 79,
     "metadata": {},
     "output_type": "execute_result"
    }
   ],
   "source": [
    "als_mae = get_mae(prediction, valid)\n",
    "als_mae"
   ]
  },
  {
   "cell_type": "code",
   "execution_count": null,
   "metadata": {},
   "outputs": [],
   "source": []
  },
  {
   "cell_type": "code",
   "execution_count": null,
   "metadata": {},
   "outputs": [],
   "source": []
  },
  {
   "cell_type": "markdown",
   "metadata": {},
   "source": [
    "# SGD"
   ]
  },
  {
   "cell_type": "code",
   "execution_count": 60,
   "metadata": {},
   "outputs": [],
   "source": [
    "class ExplicitMF_SGD():\n",
    "    def __init__(self, \n",
    "                 ratings,\n",
    "                 n_factors,\n",
    "                 item_fact_reg, \n",
    "                 user_fact_reg,\n",
    "                 item_bias_reg,\n",
    "                 user_bias_reg,\n",
    "                 learning='sgd',\n",
    "                 verbose=False):\n",
    "        \"\"\"\n",
    "        Train a matrix factorization model to predict empty \n",
    "        entries in a matrix. The terminology assumes a \n",
    "        ratings matrix which is ~ user x item\n",
    "        \n",
    "        Params\n",
    "        ======\n",
    "        ratings : (ndarray)\n",
    "            User x Item matrix with corresponding ratings\n",
    "        \n",
    "        n_factors : (int)\n",
    "            Number of latent factors to use in matrix \n",
    "            factorization model\n",
    "        learning : (str)\n",
    "            Method of optimization. Options include \n",
    "            'sgd' or 'als'.\n",
    "        \n",
    "        item_fact_reg : (float)\n",
    "            Regularization term for item latent factors\n",
    "        \n",
    "        user_fact_reg : (float)\n",
    "            Regularization term for user latent factors\n",
    "            \n",
    "        item_bias_reg : (float)\n",
    "            Regularization term for item biases\n",
    "        \n",
    "        user_bias_reg : (float)\n",
    "            Regularization term for user biases\n",
    "        \n",
    "        verbose : (bool)\n",
    "            Whether or not to printout training progress\n",
    "        \"\"\"\n",
    "        \n",
    "        self.ratings = ratings\n",
    "        self.n_users, self.n_items = ratings.shape\n",
    "        self.n_factors = n_factors\n",
    "        self.item_fact_reg = item_fact_reg\n",
    "        self.user_fact_reg = user_fact_reg\n",
    "        self.item_bias_reg = item_bias_reg\n",
    "        self.user_bias_reg = user_bias_reg\n",
    "        self.learning = learning\n",
    "        if self.learning == 'sgd':\n",
    "            self.sample_row, self.sample_col = self.ratings.nonzero()\n",
    "            self.n_samples = len(self.sample_row)\n",
    "        self._v = verbose\n",
    "\n",
    "    def als_step(self,\n",
    "                 latent_vectors,\n",
    "                 fixed_vecs,\n",
    "                 ratings,\n",
    "                 _lambda,\n",
    "                 type='user'):\n",
    "        \"\"\"\n",
    "        One of the two ALS steps. Solve for the latent vectors\n",
    "        specified by type.\n",
    "        \"\"\"\n",
    "        if type == 'user':\n",
    "            # Precompute\n",
    "            YTY = fixed_vecs.T.dot(fixed_vecs)\n",
    "            lambdaI = np.eye(YTY.shape[0]) * _lambda\n",
    "\n",
    "            for u in range(latent_vectors.shape[0]):\n",
    "                latent_vectors[u, :] = solve((YTY + lambdaI), \n",
    "                                             ratings[u, :].dot(fixed_vecs))\n",
    "        elif type == 'item':\n",
    "            # Precompute\n",
    "            XTX = fixed_vecs.T.dot(fixed_vecs)\n",
    "            lambdaI = np.eye(XTX.shape[0]) * _lambda\n",
    "            \n",
    "            for i in range(latent_vectors.shape[0]):\n",
    "                latent_vectors[i, :] = solve((XTX + lambdaI), \n",
    "                                             ratings[:, i].T.dot(fixed_vecs))\n",
    "        return latent_vectors\n",
    "\n",
    "    def train(self, n_iter=10, learning_rate=0.1):\n",
    "        \"\"\" Train model for n_iter iterations from scratch.\"\"\"\n",
    "        # initialize latent vectors        \n",
    "        self.user_vecs = np.random.normal(scale=1./self.n_factors,\\\n",
    "                                          size=(self.n_users, self.n_factors))\n",
    "        self.item_vecs = np.random.normal(scale=1./self.n_factors,\n",
    "                                          size=(self.n_items, self.n_factors))\n",
    "        \n",
    "        if self.learning == 'als':\n",
    "            self.partial_train(n_iter)\n",
    "        elif self.learning == 'sgd':\n",
    "            self.learning_rate = learning_rate\n",
    "            self.user_bias = np.zeros(self.n_users)\n",
    "            self.item_bias = np.zeros(self.n_items)\n",
    "            self.global_bias = np.mean(self.ratings[np.where(self.ratings != 0)])\n",
    "            self.partial_train(n_iter)\n",
    "    \n",
    "    \n",
    "    def partial_train(self, n_iter):\n",
    "        \"\"\" \n",
    "        Train model for n_iter iterations. Can be \n",
    "        called multiple times for further training.\n",
    "        \"\"\"\n",
    "        ctr = 1\n",
    "        while ctr <= n_iter:\n",
    "            if ctr % 10 == 0 and self._v:\n",
    "                print ('\\tcurrent iteration: {}'.format(ctr))\n",
    "            if self.learning == 'als':\n",
    "                self.user_vecs = self.als_step(self.user_vecs, \n",
    "                                               self.item_vecs, \n",
    "                                               self.ratings, \n",
    "                                               self.user_fact_reg, \n",
    "                                               type='user')\n",
    "                self.item_vecs = self.als_step(self.item_vecs, \n",
    "                                               self.user_vecs, \n",
    "                                               self.ratings, \n",
    "                                               self.item_fact_reg, \n",
    "                                               type='item')\n",
    "            elif self.learning == 'sgd':\n",
    "                self.training_indices = np.arange(self.n_samples)\n",
    "                np.random.shuffle(self.training_indices)\n",
    "                self.sgd()\n",
    "            ctr += 1\n",
    "\n",
    "    def sgd(self):\n",
    "        for idx in self.training_indices:\n",
    "            u = self.sample_row[idx]\n",
    "            i = self.sample_col[idx]\n",
    "            prediction = self.predict(u, i)\n",
    "            e = (self.ratings[u,i] - prediction) # error\n",
    "            \n",
    "            # Update biases\n",
    "            self.user_bias[u] += self.learning_rate * \\\n",
    "                                (e - self.user_bias_reg * self.user_bias[u])\n",
    "            self.item_bias[i] += self.learning_rate * \\\n",
    "                                (e - self.item_bias_reg * self.item_bias[i])\n",
    "            \n",
    "            #Update latent factors\n",
    "            self.user_vecs[u, :] += self.learning_rate * \\\n",
    "                                    (e * self.item_vecs[i, :] - \\\n",
    "                                     self.user_fact_reg * self.user_vecs[u,:])\n",
    "            self.item_vecs[i, :] += self.learning_rate * \\\n",
    "                                    (e * self.user_vecs[u, :] - \\\n",
    "                                     self.item_fact_reg * self.item_vecs[i,:])\n",
    "    def predict(self, u, i):\n",
    "        \"\"\" Single user and item prediction.\"\"\"\n",
    "        if self.learning == 'als':\n",
    "            return self.user_vecs[u, :].dot(self.item_vecs[i, :].T)\n",
    "        elif self.learning == 'sgd':\n",
    "            prediction = self.global_bias + self.user_bias[u] + self.item_bias[i]\n",
    "            prediction += self.user_vecs[u, :].dot(self.item_vecs[i, :].T)\n",
    "            return prediction\n",
    "    \n",
    "    def predict_all(self):\n",
    "        \"\"\" Predict ratings for every user and item.\"\"\"\n",
    "        predictions = np.zeros((self.user_vecs.shape[0], \n",
    "                                self.item_vecs.shape[0]))\n",
    "        for u in range(self.user_vecs.shape[0]):\n",
    "            for i in range(self.item_vecs.shape[0]):\n",
    "                predictions[u, i] = self.predict(u, i)\n",
    "                \n",
    "        return predictions\n",
    "    \n",
    "    def calculate_learning_curve(self, iter_array, test, learning_rate=0.1):\n",
    "        \"\"\"\n",
    "        Keep track of MSE as a function of training iterations.\n",
    "        \n",
    "        Params\n",
    "        ======\n",
    "        iter_array : (list)\n",
    "            List of numbers of iterations to train for each step of \n",
    "            the learning curve. e.g. [1, 5, 10, 20]\n",
    "        test : (2D ndarray)\n",
    "            Testing dataset (assumed to be user x item).\n",
    "        \n",
    "        The function creates two new class attributes:\n",
    "        \n",
    "        train_mse : (list)\n",
    "            Training data MSE values for each value of iter_array\n",
    "        test_mse : (list)\n",
    "            Test data MSE values for each value of iter_array\n",
    "        \"\"\"\n",
    "        iter_array.sort()\n",
    "        self.train_mse =[]\n",
    "        self.test_mse = []\n",
    "        iter_diff = 0\n",
    "        for (i, n_iter) in enumerate(iter_array):\n",
    "            if self._v:\n",
    "                print ('Iteration: {}'.format(n_iter))\n",
    "            if i == 0:\n",
    "                self.train(n_iter - iter_diff, learning_rate)\n",
    "            else:\n",
    "                self.partial_train(n_iter - iter_diff)\n",
    "\n",
    "            predictions = self.predict_all()\n",
    "\n",
    "            self.train_mse += [get_mse(predictions, self.ratings)]\n",
    "            self.test_mse += [get_mse(predictions, test)]\n",
    "            if self._v:\n",
    "                print ('Train mse: ' + str(self.train_mse[-1]))\n",
    "                print ('Test mse: ' + str(self.test_mse[-1]))\n",
    "            iter_diff = n_iter\n",
    "        return self.train_mse[-1], self.test_mse[-1], predictions"
   ]
  },
  {
   "cell_type": "markdown",
   "metadata": {},
   "source": [
    "# Optimize SGD model parameters"
   ]
  },
  {
   "cell_type": "code",
   "execution_count": 59,
   "metadata": {
    "scrolled": false
   },
   "outputs": [],
   "source": [
    "# latent_factors = [5,10,15,20,25,30,35,40]\n",
    "# bias_regularizations = [0.1, 1., 10.]\n",
    "# fact_regularizations = [0.1, 1., 10.]\n",
    "# iter_array = [1, 2, 5, 10]\n",
    "# learning_rates = [1e-2, 1e-1]\n",
    "\n",
    "# best_params = {}\n",
    "# best_params['n_factors'] = latent_factors[0]\n",
    "# best_params['fact_reg'] = fact_regularizations[0]\n",
    "# best_params['bias_reg'] = bias_regularizations[0]\n",
    "# best_params['learning_rate'] = None\n",
    "# best_params['n_iter'] = 0\n",
    "# best_params['train_mse'] = np.inf\n",
    "# best_params['test_mse'] = np.inf\n",
    "# best_params['model'] = None\n",
    "\n",
    "# start_time = time.time()\n",
    "# for fact in latent_factors:\n",
    "#     print('Factors: {}'.format(fact))\n",
    "#     for fact_reg in fact_regularizations:\n",
    "#         print('Fact_Regularization: {}'.format(fact_reg))\n",
    "#         for bias_reg in bias_regularizations:\n",
    "#             print('Bias_Regularization: {}'.format(bias_reg))\n",
    "#             for rate in learning_rates:\n",
    "#                 print ('Rate: {}'.format(rate))\n",
    "                \n",
    "#                 MF_SGD = ExplicitMF_SGD(train, n_factors=k, \\\n",
    "#                                         user_fact_reg=fact_reg, item_fact_reg=fact_reg,\\\n",
    "#                                         user_bias_reg=bias_reg, item_bias_reg=bias_reg, learning='sgd')\n",
    "                \n",
    "#                 MF_SGD.calculate_learning_curve(iter_array, valid, learning_rate=rate)\n",
    "#                 min_idx = np.argmin(MF_SGD.test_mse)\n",
    "#                 if MF_SGD.test_mse[min_idx] < best_params['test_mse']:\n",
    "                    \n",
    "#                     best_params['n_factors'] = fact\n",
    "#                     best_params['fact_reg'] = fact_reg\n",
    "#                     best_params['bias_reg'] = bias_reg\n",
    "#                     best_params['n_iter'] = iter_array[min_idx]\n",
    "#                     best_params['learning_rate'] = rate\n",
    "#                     best_params['train_mse'] = MF_SGD.train_mse[min_idx]\n",
    "#                     best_params['test_mse'] = MF_SGD.test_mse[min_idx]\n",
    "#                     best_params['model'] = MF_SGD\n",
    "                    \n",
    "#                     print ('New optimal hyperparameters')\n",
    "#                     print (pd.Series(best_params))"
   ]
  },
  {
   "cell_type": "markdown",
   "metadata": {},
   "source": [
    "# Plot"
   ]
  },
  {
   "cell_type": "code",
   "execution_count": 103,
   "metadata": {},
   "outputs": [
    {
     "name": "stdout",
     "output_type": "stream",
     "text": [
      "Factors: 5\n",
      "Factors: 10\n",
      "Factors: 15\n",
      "Factors: 20\n",
      "Factors: 25\n",
      "Factors: 30\n",
      "Factors: 35\n",
      "Factors: 40\n",
      "running time: 941.5012218952179\n"
     ]
    }
   ],
   "source": [
    "reg = 0.1\n",
    "iter_array = [10]\n",
    "n_factors = [5,10,15,20,25,30,35,40]\n",
    "train_mse_lst = []\n",
    "valid_mse_lst = []\n",
    "\n",
    "start_time = time.time()\n",
    "\n",
    "for k in n_factors:\n",
    "    print('Factors: {}'.format(k))\n",
    "    MF_SGD = ExplicitMF_SGD(train, n_factors=k, item_fact_reg=reg, user_fact_reg=reg, user_bias_reg=reg, item_bias_reg=reg)\n",
    "    train_mse, valid_mse, predictions = MF_SGD.calculate_learning_curve(iter_array, valid, learning_rate=0.01)\n",
    "    train_mse_lst.append(train_mse)\n",
    "    valid_mse_lst.append(valid_mse)\n",
    "    \n",
    "end_time = time.time()\n",
    "print(f'running time: {end_time-start_time}')"
   ]
  },
  {
   "cell_type": "code",
   "execution_count": 106,
   "metadata": {},
   "outputs": [
    {
     "data": {
      "image/png": "[encoded data removed]",
      "text/plain": [
       "<Figure size 720x576 with 1 Axes>"
      ]
     },
     "metadata": {
      "needs_background": "light"
     },
     "output_type": "display_data"
    }
   ],
   "source": [
    "fig, ax = plt.subplots(figsize=(10,8))\n",
    "\n",
    "# plt.plot(n_factors, train_mse_lst, label='Training', linewidth=5, color='blue')\n",
    "plt.plot(n_factors, valid_mse_lst, label='Validation set', linewidth=2, color='blue')\n",
    "plt.xticks(fontsize=16);\n",
    "plt.yticks(fontsize=16);\n",
    "plt.plot(35, valid_mse_lst[6], 'ro', label='Optimal k: 35')\n",
    "\n",
    "plt.xlabel('Numbers of the Latent Factors', fontsize=24);\n",
    "plt.ylabel('MSE', fontsize=24);\n",
    "plt.legend(loc='best', fontsize=15);\n",
    "plt.title('MSE-Numbers of the Latent Factors', fontsize=24)\n",
    "plt.show()"
   ]
  },
  {
   "cell_type": "markdown",
   "metadata": {},
   "source": [
    "# Valid-Sparse-Matrix Prediction"
   ]
  },
  {
   "cell_type": "code",
   "execution_count": 91,
   "metadata": {
    "scrolled": false
   },
   "outputs": [
    {
     "name": "stdout",
     "output_type": "stream",
     "text": [
      "Iteration: 10\n",
      "\tcurrent iteration: 10\n",
      "Train mse: 1.0192969741918814\n",
      "Test mse: 1.4178860388775774\n"
     ]
    }
   ],
   "source": [
    "iter_array =  [10]\n",
    "learning_rates = [0.01]\n",
    "n=25\n",
    "\n",
    "MF_SGD = ExplicitMF_SGD(train, n_factors=n, item_fact_reg=0.1, user_fact_reg=0.1, user_bias_reg=0.1, item_bias_reg=0.1, verbose=True)\n",
    "train_mse, test_mse, predictions = MF_SGD.calculate_learning_curve(iter_array, valid, learning_rate=0.01)\n",
    "\n",
    "np.save('../data/test_prediction_CF_SGD.npy', predictions)"
   ]
  },
  {
   "cell_type": "code",
   "execution_count": 92,
   "metadata": {},
   "outputs": [
    {
     "data": {
      "text/plain": [
       "1.4178860388775774"
      ]
     },
     "execution_count": 92,
     "metadata": {},
     "output_type": "execute_result"
    }
   ],
   "source": [
    "sgd_mse = get_mse(predictions, valid)\n",
    "sgd_mse"
   ]
  },
  {
   "cell_type": "code",
   "execution_count": 93,
   "metadata": {},
   "outputs": [
    {
     "data": {
      "text/plain": [
       "0.9477884332870176"
      ]
     },
     "execution_count": 93,
     "metadata": {},
     "output_type": "execute_result"
    }
   ],
   "source": [
    "sgd_mae = get_mae(predictions, valid)\n",
    "sgd_mae"
   ]
  },
  {
   "cell_type": "code",
   "execution_count": null,
   "metadata": {},
   "outputs": [],
   "source": []
  }
 ],
 "metadata": {
  "kernelspec": {
   "display_name": "Python 3",
   "language": "python",
   "name": "python3"
  },
  "language_info": {
   "codemirror_mode": {
    "name": "ipython",
    "version": 3
   },
   "file_extension": ".py",
   "mimetype": "text/x-python",
   "name": "python",
   "nbconvert_exporter": "python",
   "pygments_lexer": "ipython3",
   "version": "3.7.6"
  }
 },
 "nbformat": 4,
 "nbformat_minor": 4
}
