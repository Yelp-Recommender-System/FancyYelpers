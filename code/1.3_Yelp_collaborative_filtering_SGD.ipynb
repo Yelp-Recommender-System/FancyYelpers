{
 "cells": [
  {
   "cell_type": "code",
   "execution_count": 1,
   "metadata": {},
   "outputs": [],
   "source": [
    "import pandas as pd\n",
    "import numpy as np\n",
    "from sklearn.metrics import mean_squared_error\n",
    "import time\n",
    "import matplotlib.pyplot as plt\n",
    "import seaborn as sns\n",
    "sns.set()"
   ]
  },
  {
   "cell_type": "code",
   "execution_count": 2,
   "metadata": {
    "scrolled": true
   },
   "outputs": [
    {
     "data": {
      "text/html": [
       "<div>\n",
       "<style scoped>\n",
       "    .dataframe tbody tr th:only-of-type {\n",
       "        vertical-align: middle;\n",
       "    }\n",
       "\n",
       "    .dataframe tbody tr th {\n",
       "        vertical-align: top;\n",
       "    }\n",
       "\n",
       "    .dataframe thead th {\n",
       "        text-align: right;\n",
       "    }\n",
       "</style>\n",
       "<table border=\"1\" class=\"dataframe\">\n",
       "  <thead>\n",
       "    <tr style=\"text-align: right;\">\n",
       "      <th></th>\n",
       "      <th>Unnamed: 0</th>\n",
       "      <th>review_id</th>\n",
       "      <th>user_id</th>\n",
       "      <th>business_id</th>\n",
       "      <th>stars</th>\n",
       "      <th>business_name</th>\n",
       "      <th>city</th>\n",
       "      <th>state</th>\n",
       "      <th>categories</th>\n",
       "    </tr>\n",
       "  </thead>\n",
       "  <tbody>\n",
       "    <tr>\n",
       "      <th>0</th>\n",
       "      <td>1</td>\n",
       "      <td>aBWKb49Xfkv1946YN7_SIg</td>\n",
       "      <td>sSPbLBHcEMXaJfoO8zs1bA</td>\n",
       "      <td>poSV39UqEg-gpESXafS9-g</td>\n",
       "      <td>5.0</td>\n",
       "      <td>Angry Crab Shack</td>\n",
       "      <td>Phoenix</td>\n",
       "      <td>AZ</td>\n",
       "      <td>Restaurants, American (New), Seafood, Cajun/Cr...</td>\n",
       "    </tr>\n",
       "    <tr>\n",
       "      <th>1</th>\n",
       "      <td>2</td>\n",
       "      <td>jCHaWXgppmZjkOdpFltWGA</td>\n",
       "      <td>D5ywfFmwtJxLReqAYlDDmw</td>\n",
       "      <td>poSV39UqEg-gpESXafS9-g</td>\n",
       "      <td>5.0</td>\n",
       "      <td>Angry Crab Shack</td>\n",
       "      <td>Phoenix</td>\n",
       "      <td>AZ</td>\n",
       "      <td>Restaurants, American (New), Seafood, Cajun/Cr...</td>\n",
       "    </tr>\n",
       "    <tr>\n",
       "      <th>2</th>\n",
       "      <td>3</td>\n",
       "      <td>KvJ8yT-dODmCYe21J-Pp_A</td>\n",
       "      <td>gjoN4q-f61kwjmmU4mm1_g</td>\n",
       "      <td>poSV39UqEg-gpESXafS9-g</td>\n",
       "      <td>2.0</td>\n",
       "      <td>Angry Crab Shack</td>\n",
       "      <td>Phoenix</td>\n",
       "      <td>AZ</td>\n",
       "      <td>Restaurants, American (New), Seafood, Cajun/Cr...</td>\n",
       "    </tr>\n",
       "  </tbody>\n",
       "</table>\n",
       "</div>"
      ],
      "text/plain": [
       "   Unnamed: 0               review_id                 user_id  \\\n",
       "0           1  aBWKb49Xfkv1946YN7_SIg  sSPbLBHcEMXaJfoO8zs1bA   \n",
       "1           2  jCHaWXgppmZjkOdpFltWGA  D5ywfFmwtJxLReqAYlDDmw   \n",
       "2           3  KvJ8yT-dODmCYe21J-Pp_A  gjoN4q-f61kwjmmU4mm1_g   \n",
       "\n",
       "              business_id  stars     business_name     city state  \\\n",
       "0  poSV39UqEg-gpESXafS9-g    5.0  Angry Crab Shack  Phoenix    AZ   \n",
       "1  poSV39UqEg-gpESXafS9-g    5.0  Angry Crab Shack  Phoenix    AZ   \n",
       "2  poSV39UqEg-gpESXafS9-g    2.0  Angry Crab Shack  Phoenix    AZ   \n",
       "\n",
       "                                          categories  \n",
       "0  Restaurants, American (New), Seafood, Cajun/Cr...  \n",
       "1  Restaurants, American (New), Seafood, Cajun/Cr...  \n",
       "2  Restaurants, American (New), Seafood, Cajun/Cr...  "
      ]
     },
     "execution_count": 2,
     "metadata": {},
     "output_type": "execute_result"
    }
   ],
   "source": [
    "data = pd.read_csv('../data/filtered_reviews_in_Phonex.csv')\n",
    "data.head(3)"
   ]
  },
  {
   "cell_type": "code",
   "execution_count": null,
   "metadata": {},
   "outputs": [],
   "source": [
    "# row: user\n",
    "# column: busi\n",
    "# element: review counts "
   ]
  },
  {
   "cell_type": "markdown",
   "metadata": {},
   "source": [
    "### Construct Rating Matrix"
   ]
  },
  {
   "cell_type": "code",
   "execution_count": 3,
   "metadata": {},
   "outputs": [],
   "source": [
    "def construct_rating_matrix(data, user, busi, rating):\n",
    "    '''\n",
    "    construct rating matrix from data\n",
    "    the columns of which represent business_id\n",
    "    the rows of which represent user_id\n",
    "    the values of whose elements represent the according ratings\n",
    "    '''\n",
    "    user_id = data[user].unique().tolist()\n",
    "    busi_id = data[busi].unique().tolist()\n",
    "    sparse_matrix = np.zeros(shape=(len(user_id), len(busi_id)))\n",
    "    \n",
    "    ranking_df = data[[user, busi, rating]].groupby([user, busi])[rating].mean()\n",
    "    ranking_df = ranking_df.reset_index()\n",
    "\n",
    "    for i in range(len(ranking_df)):\n",
    "        row_index, column_index = user_id.index(ranking_df.iloc[i, :].user_id), busi_id.index(ranking_df.iloc[i, :].business_id)\n",
    "        element = ranking_df.iloc[i, :].stars\n",
    "        sparse_matrix[row_index, column_index] = element\n",
    "        \n",
    "    # calculate sparstiy of the matrix\n",
    "    sparsity = np.count_nonzero(sparse_matrix)/ (sparse_matrix.shape[0] * sparse_matrix.shape[1])\n",
    "    sparsity *= 100\n",
    "    \n",
    "    print (f'{len(user_id)} users')\n",
    "    print (f'{len(busi_id)} business')\n",
    "    print (f'Sparsity: {round(sparsity,4)}%')\n",
    "    return sparse_matrix"
   ]
  },
  {
   "cell_type": "code",
   "execution_count": 4,
   "metadata": {
    "scrolled": true
   },
   "outputs": [
    {
     "name": "stdout",
     "output_type": "stream",
     "text": [
      "20472 users\n",
      "1782 business\n",
      "Sparsity: 0.6135%\n"
     ]
    }
   ],
   "source": [
    "rating_matrix = construct_rating_matrix(data, 'user_id', 'business_id', 'stars')"
   ]
  },
  {
   "cell_type": "markdown",
   "metadata": {},
   "source": [
    "### Construct CF model using SGD, with bias correction"
   ]
  },
  {
   "cell_type": "code",
   "execution_count": 5,
   "metadata": {},
   "outputs": [],
   "source": [
    "def train_test_split(ratings):\n",
    "    test = np.zeros(ratings.shape)\n",
    "    train = ratings.copy()\n",
    "    for user in range(ratings.shape[0]):\n",
    "        test_ratings = np.random.choice(ratings[user, :].nonzero()[0], size=10, replace=True)\n",
    "        train[user, test_ratings] = 0.\n",
    "        test[user, test_ratings] = ratings[user, test_ratings]\n",
    "        \n",
    "    # Test and training are truly disjoint\n",
    "    assert(np.all((train * test) == 0)) \n",
    "    return train, test"
   ]
  },
  {
   "cell_type": "code",
   "execution_count": 6,
   "metadata": {},
   "outputs": [],
   "source": [
    "train, test = train_test_split(ratings=rating_matrix)"
   ]
  },
  {
   "cell_type": "code",
   "execution_count": 7,
   "metadata": {},
   "outputs": [],
   "source": [
    "def get_mse(pred, actual):\n",
    "        # Ignore nonzero terms.\n",
    "        pred = pred[actual.nonzero()].flatten()\n",
    "        actual = actual[actual.nonzero()].flatten()\n",
    "        \n",
    "        return mean_squared_error(pred, actual)"
   ]
  },
  {
   "cell_type": "code",
   "execution_count": 8,
   "metadata": {},
   "outputs": [],
   "source": [
    "class ExplicitMF():\n",
    "    def __init__(self, \n",
    "                 ratings,\n",
    "                 n_factors=40,\n",
    "                 learning='sgd',\n",
    "                 item_fact_reg=0.0, \n",
    "                 user_fact_reg=0.0,\n",
    "                 item_bias_reg=0.0,\n",
    "                 user_bias_reg=0.0,\n",
    "                 verbose=False):\n",
    "        \"\"\"\n",
    "        Train a matrix factorization model to predict empty entries in a matrix. \n",
    "        The terminology assumes a ratings matrix which is ~ user * item\n",
    "        \n",
    "        Params\n",
    "        ======\n",
    "        ratings : (ndarray)\n",
    "            User * Item matrix with corresponding ratings\n",
    "        \n",
    "        n_factors : (int)\n",
    "            Number of latent factors to use in matrix factorization model\n",
    "            \n",
    "        learning : (str)\n",
    "            Method of optimization. Options include 'sgd' or 'als'.\n",
    "        \n",
    "        item_fact_reg : (float)\n",
    "            Regularization term for item latent factors\n",
    "        \n",
    "        user_fact_reg : (float)\n",
    "            Regularization term for user latent factors\n",
    "            \n",
    "        item_bias_reg : (float)\n",
    "            Regularization term for item biases\n",
    "        \n",
    "        user_bias_reg : (float)\n",
    "            Regularization term for user biases\n",
    "        \n",
    "        verbose : (bool)\n",
    "            Whether or not to printout training progress\n",
    "        \"\"\"\n",
    "        self.ratings = ratings\n",
    "        self.n_users, self.n_items = ratings.shape\n",
    "        self.n_factors = n_factors\n",
    "        self.item_fact_reg = item_fact_reg\n",
    "        self.user_fact_reg = user_fact_reg\n",
    "        self.item_bias_reg = item_bias_reg\n",
    "        self.user_bias_reg = user_bias_reg\n",
    "        self.learning = learning\n",
    "        \n",
    "        if self.learning == 'sgd':\n",
    "            self.sample_row, self.sample_col = self.ratings.nonzero()\n",
    "            self.n_samples = len(self.sample_row)\n",
    "            self._v = verbose\n",
    "\n",
    "    def als_step(self,\n",
    "                 latent_vectors,\n",
    "                 fixed_vecs,\n",
    "                 ratings,\n",
    "                 _lambda,\n",
    "                 type='user'):\n",
    "        \"\"\"One of the two ALS steps. Solve for the latent vectors specified by type. \"\"\"\n",
    "        if type == 'user':\n",
    "            # Precompute\n",
    "            YTY = fixed_vecs.T.dot(fixed_vecs)\n",
    "            lambdaI = np.eye(YTY.shape[0]) * _lambda\n",
    "\n",
    "            for u in xrange(latent_vectors.shape[0]):\n",
    "                latent_vectors[u, :] = solve((YTY + lambdaI), ratings[u, :].dot(fixed_vecs))\n",
    "       \n",
    "        elif type == 'item':\n",
    "            # Precompute\n",
    "            XTX = fixed_vecs.T.dot(fixed_vecs)\n",
    "            lambdaI = np.eye(XTX.shape[0]) * _lambda\n",
    "            \n",
    "            for i in xrange(latent_vectors.shape[0]):\n",
    "                latent_vectors[i, :] = solve((XTX + lambdaI), ratings[:, i].T.dot(fixed_vecs))\n",
    "        return latent_vectors\n",
    "\n",
    "    def train(self, n_iter=10, learning_rate=0.1):\n",
    "        \"\"\" Train model for n_iter iterations from scratch.\"\"\"\n",
    "        # initialize latent vectors        \n",
    "        self.user_vecs = np.random.normal(scale=1./self.n_factors, size=(self.n_users, self.n_factors))\n",
    "        self.item_vecs = np.random.normal(scale=1./self.n_factors, size=(self.n_items, self.n_factors))\n",
    "        \n",
    "        if self.learning == 'als':\n",
    "            self.partial_train(n_iter)\n",
    "        elif self.learning == 'sgd':\n",
    "            self.learning_rate = learning_rate\n",
    "            self.user_bias = np.zeros(self.n_users)\n",
    "            self.item_bias = np.zeros(self.n_items)\n",
    "            self.global_bias = np.mean(self.ratings[np.where(self.ratings != 0)])\n",
    "            self.partial_train(n_iter)\n",
    "    \n",
    "    \n",
    "    def partial_train(self, n_iter):\n",
    "        \"\"\"  Train model for n_iter iterations. Can be called multiple times for further training.\"\"\"\n",
    "        ctr = 1\n",
    "        while ctr <= n_iter:\n",
    "            if ctr % 10 == 0 and self._v:\n",
    "                print ('\\tcurrent iteration: {}'.format(ctr))\n",
    "                \n",
    "            if self.learning == 'als':\n",
    "                self.user_vecs = self.als_step(self.user_vecs, \n",
    "                                               self.item_vecs, \n",
    "                                               self.ratings, \n",
    "                                               self.user_fact_reg, \n",
    "                                               type='user')\n",
    "                self.item_vecs = self.als_step(self.item_vecs, \n",
    "                                               self.user_vecs, \n",
    "                                               self.ratings, \n",
    "                                               self.item_fact_reg, \n",
    "                                               type='item')\n",
    "\n",
    "            elif self.learning == 'sgd':\n",
    "                self.training_indices = np.arange(self.n_samples)\n",
    "                np.random.shuffle(self.training_indices)\n",
    "                self.sgd()\n",
    "            ctr += 1\n",
    "\n",
    "    def sgd(self):\n",
    "        for idx in self.training_indices:\n",
    "            u = self.sample_row[idx]\n",
    "            i = self.sample_col[idx]\n",
    "            prediction = self.predict(u, i)\n",
    "            e = (self.ratings[u,i] - prediction) # error\n",
    "            \n",
    "            # Update biases\n",
    "            self.user_bias[u] += self.learning_rate *  (e - self.user_bias_reg * self.user_bias[u])\n",
    "            self.item_bias[i] += self.learning_rate *  (e - self.item_bias_reg * self.item_bias[i])\n",
    "            \n",
    "            #Update latent factors\n",
    "            self.user_vecs[u, :] += self.learning_rate *  (e * self.item_vecs[i, :] - self.user_fact_reg * self.user_vecs[u,:])\n",
    "            self.item_vecs[i, :] += self.learning_rate * (e * self.user_vecs[u, :] - self.item_fact_reg * self.item_vecs[i,:])\n",
    "            \n",
    "    def predict(self, u, i):\n",
    "        \"\"\" Single user and item prediction.\"\"\"\n",
    "        if self.learning == 'als':\n",
    "            return self.user_vecs[u, :].dot(self.item_vecs[i, :].T)\n",
    "        elif self.learning == 'sgd':\n",
    "            prediction = self.global_bias + self.user_bias[u] + self.item_bias[i]\n",
    "            prediction += self.user_vecs[u, :].dot(self.item_vecs[i, :].T)\n",
    "            return prediction\n",
    "    \n",
    "    def predict_all(self):\n",
    "        \"\"\" Predict ratings for every user and item.\"\"\"\n",
    "        predictions = np.zeros((self.user_vecs.shape[0], self.item_vecs.shape[0]))\n",
    "        for u in range(self.user_vecs.shape[0]):\n",
    "            for i in range(self.item_vecs.shape[0]):\n",
    "                predictions[u, i] = self.predict(u, i)\n",
    "                \n",
    "        return predictions\n",
    "    \n",
    "    \n",
    "    def calculate_learning_curve(self, iter_array, test, learning_rate=0.1):\n",
    "        \"\"\"\n",
    "        Keep track of MSE as a function of training iterations.\n",
    "        \n",
    "        Params\n",
    "        ======\n",
    "        iter_array : (list)\n",
    "            List of numbers of iterations to train for each step of \n",
    "            the learning curve. e.g. [1, 5, 10, 20]\n",
    "            \n",
    "        test : (2D ndarray)\n",
    "            Testing dataset (assumed to be user x item).\n",
    "        \n",
    "        The function creates two new class attributes:\n",
    "        train_mse : (list)\n",
    "            Training data MSE values for each value of iter_array\n",
    "        test_mse : (list)\n",
    "            Test data MSE values for each value of iter_array\n",
    "        \"\"\"\n",
    "        iter_array.sort()\n",
    "        self.train_mse =[]\n",
    "        self.test_mse = []\n",
    "        iter_diff = 0\n",
    "        for (i, n_iter) in enumerate(iter_array):\n",
    "            if self._v:\n",
    "                print ('Iteration: {}'.format(n_iter))\n",
    "            if i == 0:\n",
    "                self.train(n_iter - iter_diff, learning_rate)\n",
    "            else:\n",
    "                self.partial_train(n_iter - iter_diff)\n",
    "\n",
    "            predictions = self.predict_all()\n",
    "\n",
    "            self.train_mse += [get_mse(predictions, self.ratings)]\n",
    "            self.test_mse += [get_mse(predictions, test)]\n",
    "            \n",
    "            if self._v:\n",
    "                print ('Train mse: ' + str(self.train_mse[-1]))\n",
    "                print ('Test mse: ' + str(self.test_mse[-1]))\n",
    "            iter_diff = n_iter"
   ]
  },
  {
   "cell_type": "markdown",
   "metadata": {},
   "source": [
    "### Computation"
   ]
  },
  {
   "cell_type": "code",
   "execution_count": 9,
   "metadata": {},
   "outputs": [
    {
     "name": "stdout",
     "output_type": "stream",
     "text": [
      "Iteration: 1\n",
      "Train mse: 1.2785254250263756\n",
      "Test mse: 1.5919391254218958\n",
      "Iteration: 5\n",
      "Train mse: 1.1921488380468017\n",
      "Test mse: 1.528191732781429\n",
      "Iteration: 10\n",
      "Train mse: 1.1341885037038557\n",
      "Test mse: 1.4885760241582195\n",
      "Iteration: 25\n",
      "\tcurrent iteration: 10\n",
      "Train mse: 1.0500285725503806\n",
      "Test mse: 1.4367731726289965\n",
      "Iteration: 50\n",
      "\tcurrent iteration: 10\n",
      "\tcurrent iteration: 20\n",
      "Train mse: 0.9878396416278463\n",
      "Test mse: 1.4064352660208734\n",
      "running time: 573.8947172164917\n"
     ]
    }
   ],
   "source": [
    "start_time = time.time()\n",
    "\n",
    "MF_SGD = ExplicitMF(train, 40, learning='sgd', verbose=True)\n",
    "iter_array = [1, 5, 10, 25, 50]\n",
    "MF_SGD.calculate_learning_curve(iter_array, test, learning_rate=0.001)\n",
    "\n",
    "end_time = time.time()\n",
    "print(f'running time: {end_time-start_time}')"
   ]
  },
  {
   "cell_type": "markdown",
   "metadata": {},
   "source": [
    "### Visulazation"
   ]
  },
  {
   "cell_type": "code",
   "execution_count": 10,
   "metadata": {},
   "outputs": [],
   "source": [
    "def plot_learning_curve(iter_array, model):\n",
    "    plt.plot(iter_array, model.train_mse, label='Training', linewidth=5)\n",
    "    plt.plot(iter_array, model.test_mse, label='Test', linewidth=5)\n",
    "    plt.xticks(fontsize=16);\n",
    "    plt.yticks(fontsize=16);\n",
    "    plt.xlabel('iterations', fontsize=30);\n",
    "    plt.ylabel('MSE', fontsize=30);\n",
    "    plt.legend(loc='best', fontsize=20);"
   ]
  },
  {
   "cell_type": "code",
   "execution_count": 11,
   "metadata": {},
   "outputs": [
    {
     "data": {
      "image/png": "[encoded data removed]",
      "text/plain": [
       "<Figure size 432x288 with 1 Axes>"
      ]
     },
     "metadata": {},
     "output_type": "display_data"
    }
   ],
   "source": [
    "plot_learning_curve(iter_array, MF_SGD)"
   ]
  },
  {
   "cell_type": "markdown",
   "metadata": {},
   "source": [
    "### Optimize SGD model parameters"
   ]
  },
  {
   "cell_type": "code",
   "execution_count": 12,
   "metadata": {},
   "outputs": [
    {
     "name": "stdout",
     "output_type": "stream",
     "text": [
      "Rate: 1e-05\n",
      "New optimal hyperparameters\n",
      "learning_rate                                             1e-05\n",
      "n_iter                                                       50\n",
      "train_mse                                               1.29562\n",
      "test_mse                                                1.60515\n",
      "model            <__main__.ExplicitMF object at 0x7fbe91d779d0>\n",
      "dtype: object\n",
      "Rate: 0.0001\n",
      "New optimal hyperparameters\n",
      "learning_rate                                            0.0001\n",
      "n_iter                                                       50\n",
      "train_mse                                                1.1922\n",
      "test_mse                                                1.52817\n",
      "model            <__main__.ExplicitMF object at 0x7fbe91d140d0>\n",
      "dtype: object\n",
      "Rate: 0.001\n",
      "New optimal hyperparameters\n",
      "learning_rate                                             0.001\n",
      "n_iter                                                       50\n",
      "train_mse                                              0.987802\n",
      "test_mse                                                1.40636\n",
      "model            <__main__.ExplicitMF object at 0x7fbf51c92250>\n",
      "dtype: object\n",
      "Rate: 0.01\n",
      "New optimal hyperparameters\n",
      "learning_rate                                              0.01\n",
      "n_iter                                                       10\n",
      "train_mse                                              0.915041\n",
      "test_mse                                                   1.39\n",
      "model            <__main__.ExplicitMF object at 0x7fbe91d140d0>\n",
      "dtype: object\n"
     ]
    }
   ],
   "source": [
    "iter_array =  [1, 5, 10, 25, 50]\n",
    "learning_rates = [1e-5, 1e-4, 1e-3, 1e-2]\n",
    "\n",
    "best_params = {}\n",
    "best_params['learning_rate'] = None\n",
    "best_params['n_iter'] = 0\n",
    "best_params['train_mse'] = np.inf\n",
    "best_params['test_mse'] = np.inf\n",
    "best_params['model'] = None\n",
    "\n",
    "\n",
    "for rate in learning_rates:\n",
    "    print ('Rate: {}'.format(rate))\n",
    "    MF_SGD = ExplicitMF(train, n_factors=40, learning='sgd')\n",
    "    MF_SGD.calculate_learning_curve(iter_array, test, learning_rate=rate)\n",
    "    min_idx = np.argmin(MF_SGD.test_mse)\n",
    "    if MF_SGD.test_mse[min_idx] < best_params['test_mse']:\n",
    "        best_params['n_iter'] = iter_array[min_idx]\n",
    "        best_params['learning_rate'] = rate\n",
    "        best_params['train_mse'] = MF_SGD.train_mse[min_idx]\n",
    "        best_params['test_mse'] = MF_SGD.test_mse[min_idx]\n",
    "        best_params['model'] = MF_SGD\n",
    "        print ('New optimal hyperparameters')\n",
    "        print (pd.Series(best_params))"
   ]
  },
  {
   "cell_type": "markdown",
   "metadata": {},
   "source": [
    "### To be done:\n",
    "-  1. Modify the train_test_split part; split based on time series, rather than users.\n",
    "-  2. Tune the parameters (training may need lots of time considering the low learning rate)"
   ]
  },
  {
   "cell_type": "code",
   "execution_count": null,
   "metadata": {},
   "outputs": [],
   "source": []
  },
  {
   "cell_type": "code",
   "execution_count": null,
   "metadata": {},
   "outputs": [],
   "source": []
  },
  {
   "cell_type": "code",
   "execution_count": null,
   "metadata": {},
   "outputs": [],
   "source": [
    "# Meeting 3"
   ]
  },
  {
   "cell_type": "markdown",
   "metadata": {},
   "source": [
    "# Next few weeks:\n",
    "***\n",
    "\n",
    "- Data Cleaning\n",
    "\n",
    "-- drop duplicates; \n",
    "\n",
    "-- set threshold to filter user/ business; \n",
    "\n",
    "-- train_test_split based on time series; \n",
    "\n",
    "***\n",
    "\n",
    "- Clarify baseline model \n",
    "\n",
    "***\n",
    "\n",
    "- CF model\n",
    "\n",
    "-- ALS+bias; -- Xinli\n",
    "\n",
    "-- SGD tune parameters; -- WX\n",
    "\n",
    "***\n",
    "\n",
    "- Creative Working: (gather paper + code example)\n",
    "\n",
    "-- Neural CF & Feature SVD -- Xirui WX\n",
    "\n",
    "-- Content based: NLP/ LDA -- Sigao \n",
    "\n",
    "-- Factorization Machine -- Xinli"
   ]
  },
  {
   "cell_type": "code",
   "execution_count": null,
   "metadata": {},
   "outputs": [],
   "source": []
  }
 ],
 "metadata": {
  "kernelspec": {
   "display_name": "Python 3",
   "language": "python",
   "name": "python3"
  },
  "language_info": {
   "codemirror_mode": {
    "name": "ipython",
    "version": 3
   },
   "file_extension": ".py",
   "mimetype": "text/x-python",
   "name": "python",
   "nbconvert_exporter": "python",
   "pygments_lexer": "ipython3",
   "version": "3.7.4"
  }
 },
 "nbformat": 4,
 "nbformat_minor": 4
}
