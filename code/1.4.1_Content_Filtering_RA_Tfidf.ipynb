{
 "cells": [
  {
   "cell_type": "code",
   "execution_count": 1,
   "metadata": {
    "scrolled": true
   },
   "outputs": [],
   "source": [
    "import pandas as pd\n",
    "import numpy as np\n",
    "import matplotlib.pyplot as plt\n",
    "\n",
    "from IPython.core.interactiveshell import InteractiveShell\n",
    "InteractiveShell.ast_node_interactivity = \"all\"\n",
    "\n",
    "import os\n",
    "import re, string, unicodedata\n",
    "import nltk\n",
    "import contractions\n",
    "import inflect\n",
    "\n",
    "import lime\n",
    "from lime import lime_text\n",
    "from lime.lime_text import LimeTextExplainer\n",
    "\n",
    "import re\n",
    "\n",
    "from wordcloud import WordCloud, STOPWORDS\n",
    "\n",
    "import nltk\n",
    "# import contractions\n",
    "import inflect\n",
    "from nltk import word_tokenize, sent_tokenize\n",
    "from nltk.corpus import stopwords\n",
    "from nltk import SnowballStemmer\n",
    "from nltk.stem import LancasterStemmer, WordNetLemmatizer\n",
    "\n",
    "\n",
    "from sklearn import metrics\n",
    "from sklearn.model_selection import train_test_split\n",
    "# from keras.preprocessing.sequence import pad_sequences\n",
    "\n",
    "from sklearn.metrics import confusion_matrix, classification_report\n",
    "from sklearn.feature_extraction.text import TfidfVectorizer\n",
    "from sklearn.decomposition import TruncatedSVD\n",
    "from sklearn.metrics.pairwise import cosine_similarity\n",
    "from sklearn.metrics import mean_squared_error\n",
    "from sklearn.metrics import mean_absolute_error\n",
    "from sklearn.metrics.pairwise import euclidean_distances\n",
    "from sklearn.preprocessing import StandardScaler\n",
    "%matplotlib inline\n",
    "from sklearn.preprocessing import OneHotEncoder\n",
    "\n",
    "import scipy\n",
    "\n",
    "from gensim import corpora\n",
    "from gensim import corpora\n",
    "from gensim.similarities.docsim import Similarity\n",
    "from gensim import corpora, models, similarities\n",
    "\n",
    "import pickle\n",
    "import time"
   ]
  },
  {
   "cell_type": "code",
   "execution_count": null,
   "metadata": {},
   "outputs": [],
   "source": []
  },
  {
   "cell_type": "markdown",
   "metadata": {},
   "source": [
    "# Read Train Split and Validation Data"
   ]
  },
  {
   "cell_type": "code",
   "execution_count": 177,
   "metadata": {},
   "outputs": [],
   "source": [
    "rev_busi_Pho= pd.read_csv('../data/filtered_reviews_in_Phonex.csv', parse_dates=[\"date\"])\n",
    "\n",
    "train_df  = pickle.load(open('../data/train_df.pkl', \"rb\"))\n",
    "valid_df = pickle.load(open('../data/valid_df.pkl', \"rb\"))\n",
    "test_df = pickle.load(open('../data/test_df.pkl', \"rb\"))"
   ]
  },
  {
   "cell_type": "code",
   "execution_count": 178,
   "metadata": {},
   "outputs": [
    {
     "data": {
      "text/html": [
       "<div>\n",
       "<style scoped>\n",
       "    .dataframe tbody tr th:only-of-type {\n",
       "        vertical-align: middle;\n",
       "    }\n",
       "\n",
       "    .dataframe tbody tr th {\n",
       "        vertical-align: top;\n",
       "    }\n",
       "\n",
       "    .dataframe thead th {\n",
       "        text-align: right;\n",
       "    }\n",
       "</style>\n",
       "<table border=\"1\" class=\"dataframe\">\n",
       "  <thead>\n",
       "    <tr style=\"text-align: right;\">\n",
       "      <th></th>\n",
       "      <th>user_id</th>\n",
       "      <th>business_id</th>\n",
       "      <th>stars</th>\n",
       "      <th>review_id</th>\n",
       "      <th>text</th>\n",
       "    </tr>\n",
       "  </thead>\n",
       "  <tbody>\n",
       "    <tr>\n",
       "      <th>0</th>\n",
       "      <td>--2HUmLkcNHZp0xw6AMBPg</td>\n",
       "      <td>yX0pOWG_Be9TjGnm0aihVA</td>\n",
       "      <td>5.0</td>\n",
       "      <td>tfi5EOpqZw637p3AJtOUMg</td>\n",
       "      <td>Obsessed with their chicken salad and sweet fr...</td>\n",
       "    </tr>\n",
       "  </tbody>\n",
       "</table>\n",
       "</div>"
      ],
      "text/plain": [
       "                  user_id             business_id  stars  \\\n",
       "0  --2HUmLkcNHZp0xw6AMBPg  yX0pOWG_Be9TjGnm0aihVA    5.0   \n",
       "\n",
       "                review_id                                               text  \n",
       "0  tfi5EOpqZw637p3AJtOUMg  Obsessed with their chicken salad and sweet fr...  "
      ]
     },
     "execution_count": 178,
     "metadata": {},
     "output_type": "execute_result"
    }
   ],
   "source": [
    "train_df = train_df.merge(rev_busi_Pho[[\"review_id\", \"user_id\", \"business_id\", \"text\"]], how = \"left\", on = [\"user_id\", \"business_id\"])\n",
    "valid_df = valid_df.merge(rev_busi_Pho[[\"review_id\", \"user_id\", \"business_id\", \"text\"]], how = \"left\", on = [\"user_id\", \"business_id\"])\n",
    "test_df  = test_df.merge(rev_busi_Pho[[\"review_id\", \"user_id\", \"business_id\", \"text\"]], how = \"left\", on = [\"user_id\", \"business_id\"])\n",
    "\n",
    "train_df.head(1)"
   ]
  },
  {
   "cell_type": "code",
   "execution_count": 4,
   "metadata": {},
   "outputs": [
    {
     "data": {
      "text/plain": [
       "(180559, 5)"
      ]
     },
     "execution_count": 4,
     "metadata": {},
     "output_type": "execute_result"
    },
    {
     "data": {
      "text/plain": [
       "(19500, 5)"
      ]
     },
     "execution_count": 4,
     "metadata": {},
     "output_type": "execute_result"
    },
    {
     "data": {
      "text/plain": [
       "(19500, 5)"
      ]
     },
     "execution_count": 4,
     "metadata": {},
     "output_type": "execute_result"
    }
   ],
   "source": [
    "train_df.shape\n",
    "valid_df.shape\n",
    "test_df.shape"
   ]
  },
  {
   "cell_type": "code",
   "execution_count": 179,
   "metadata": {
    "scrolled": true
   },
   "outputs": [
    {
     "name": "stdout",
     "output_type": "stream",
     "text": [
      "unique users in training set: 19683\n",
      "unique businesses in training set: 1728\n",
      "unique users in test set: 19500\n",
      "unique businesses in test set: 1672\n"
     ]
    }
   ],
   "source": [
    "print(\"unique users in training set:\", train_df[\"user_id\"].nunique())\n",
    "print(\"unique businesses in training set:\", train_df[\"business_id\"].nunique())\n",
    "print(\"unique users in test set:\", test_df[\"user_id\"].nunique())\n",
    "print(\"unique businesses in test set:\", test_df[\"business_id\"].nunique())"
   ]
  },
  {
   "cell_type": "markdown",
   "metadata": {},
   "source": [
    "# Content-based Model, NLP (Tf-idf)"
   ]
  },
  {
   "cell_type": "markdown",
   "metadata": {},
   "source": [
    "### - Combine reviews of each business_id as its document "
   ]
  },
  {
   "cell_type": "code",
   "execution_count": 6,
   "metadata": {
    "scrolled": true
   },
   "outputs": [
    {
     "data": {
      "text/html": [
       "<div>\n",
       "<style scoped>\n",
       "    .dataframe tbody tr th:only-of-type {\n",
       "        vertical-align: middle;\n",
       "    }\n",
       "\n",
       "    .dataframe tbody tr th {\n",
       "        vertical-align: top;\n",
       "    }\n",
       "\n",
       "    .dataframe thead th {\n",
       "        text-align: right;\n",
       "    }\n",
       "</style>\n",
       "<table border=\"1\" class=\"dataframe\">\n",
       "  <thead>\n",
       "    <tr style=\"text-align: right;\">\n",
       "      <th></th>\n",
       "      <th>user_id</th>\n",
       "      <th>business_id</th>\n",
       "      <th>stars</th>\n",
       "      <th>review_id</th>\n",
       "      <th>text</th>\n",
       "    </tr>\n",
       "  </thead>\n",
       "  <tbody>\n",
       "    <tr>\n",
       "      <th>0</th>\n",
       "      <td>--2HUmLkcNHZp0xw6AMBPg</td>\n",
       "      <td>yX0pOWG_Be9TjGnm0aihVA</td>\n",
       "      <td>5.0</td>\n",
       "      <td>tfi5EOpqZw637p3AJtOUMg</td>\n",
       "      <td>Obsessed with their chicken salad and sweet fr...</td>\n",
       "    </tr>\n",
       "  </tbody>\n",
       "</table>\n",
       "</div>"
      ],
      "text/plain": [
       "                  user_id             business_id  stars  \\\n",
       "0  --2HUmLkcNHZp0xw6AMBPg  yX0pOWG_Be9TjGnm0aihVA    5.0   \n",
       "\n",
       "                review_id                                               text  \n",
       "0  tfi5EOpqZw637p3AJtOUMg  Obsessed with their chicken salad and sweet fr...  "
      ]
     },
     "execution_count": 6,
     "metadata": {},
     "output_type": "execute_result"
    },
    {
     "data": {
      "text/plain": [
       "1728"
      ]
     },
     "execution_count": 6,
     "metadata": {},
     "output_type": "execute_result"
    },
    {
     "data": {
      "text/html": [
       "<div>\n",
       "<style scoped>\n",
       "    .dataframe tbody tr th:only-of-type {\n",
       "        vertical-align: middle;\n",
       "    }\n",
       "\n",
       "    .dataframe tbody tr th {\n",
       "        vertical-align: top;\n",
       "    }\n",
       "\n",
       "    .dataframe thead th {\n",
       "        text-align: right;\n",
       "    }\n",
       "</style>\n",
       "<table border=\"1\" class=\"dataframe\">\n",
       "  <thead>\n",
       "    <tr style=\"text-align: right;\">\n",
       "      <th></th>\n",
       "      <th>business_id</th>\n",
       "      <th>text</th>\n",
       "    </tr>\n",
       "  </thead>\n",
       "  <tbody>\n",
       "    <tr>\n",
       "      <th>0</th>\n",
       "      <td>-050d_XIor1NpCuWkbIVaQ</td>\n",
       "      <td>Great Food. Great Coffee. Great Service. Amazi...</td>\n",
       "    </tr>\n",
       "  </tbody>\n",
       "</table>\n",
       "</div>"
      ],
      "text/plain": [
       "              business_id                                               text\n",
       "0  -050d_XIor1NpCuWkbIVaQ  Great Food. Great Coffee. Great Service. Amazi..."
      ]
     },
     "execution_count": 6,
     "metadata": {},
     "output_type": "execute_result"
    }
   ],
   "source": [
    "train_df.head(1)\n",
    "text_train_df = train_df.groupby([\"business_id\"])[\"text\"].apply(lambda x: x.str.cat()).reset_index()\n",
    "len(text_train_df)\n",
    "text_train_df.head(1)"
   ]
  },
  {
   "cell_type": "markdown",
   "metadata": {},
   "source": [
    "### - Generate Wordcloud"
   ]
  },
  {
   "cell_type": "code",
   "execution_count": 7,
   "metadata": {},
   "outputs": [],
   "source": [
    "# gather all words together\n",
    "all_text = \"\"\n",
    "all_snippets = text_train_df[\"text\"].values\n",
    "\n",
    "for snippet in all_snippets:\n",
    "    all_text += snippet\n",
    "\n",
    "# plot Wordcloud\n",
    "wordcloud = WordCloud(stopwords=STOPWORDS, background_color='white',width=6000,height=6000).generate(all_text)\n",
    "plt.figure(figsize = (10,10))\n",
    "plt.imshow(wordcloud)\n",
    "plt.axis(\"off\")\n",
    "plt.show()"
   ]
  },
  {
   "cell_type": "markdown",
   "metadata": {},
   "source": [
    "### - Text Prepocessing"
   ]
  },
  {
   "cell_type": "code",
   "execution_count": 6,
   "metadata": {},
   "outputs": [],
   "source": [
    "def remove_punctuation(words):\n",
    "    \"\"\"Remove punctuation from list of tokenized words\"\"\"\n",
    "    new_words = []\n",
    "    for word in words:\n",
    "        new_word = re.sub(r'[^\\w\\s]', '', word)\n",
    "        if new_word != '':\n",
    "            new_words.append(new_word)\n",
    "            \n",
    "    return new_words\n",
    "\n",
    "def remove_special(words):\n",
    "    \"\"\"Remove special signs like &*\"\"\"\n",
    "    new_words = []\n",
    "    for word in words:\n",
    "        new_word = re.sub(r'[-,$()#+&*]', '', word)\n",
    "        if new_word != '':\n",
    "            new_words.append(new_word)\n",
    "            \n",
    "    return new_words\n",
    "\n",
    "def replace_numbers(words):\n",
    "    \"\"\"Replace all interger occurrences in list of tokenized words with textual representation\"\"\"\n",
    "    p = inflect.engine()\n",
    "    new_words = []\n",
    "    for word in words:\n",
    "        if word.isdigit():\n",
    "            new_word = p.number_to_words(word)\n",
    "            new_words.append(new_word)\n",
    "        else:\n",
    "            new_words.append(word)\n",
    "            \n",
    "    return new_words\n",
    "\n",
    "def remove_stopwords(words):\n",
    "    \"\"\"Remove stop words from list of tokenized words\"\"\"  \n",
    "    stopwords = nltk.corpus.stopwords.words('english')\n",
    "    myStopWords = []\n",
    "    stopwords.extend(myStopWords)\n",
    "    new_words = []\n",
    "    for word in words:\n",
    "        if word not in stopwords:\n",
    "            new_words.append(word)\n",
    "            \n",
    "    return new_words\n",
    "\n",
    "def to_lowercase(words):\n",
    "    \"\"\"Convert words to lowercase\"\"\"\n",
    "    new_words=[]\n",
    "    for word in words:\n",
    "        new_words.append(word.lower())\n",
    "        \n",
    "    return new_words\n",
    "\n",
    "def stem_words(words):\n",
    "    \"\"\"Stem words in list of tokenized words\"\"\"\n",
    "    stemmer = LancasterStemmer()\n",
    "    stemmer = SnowballStemmer('english')\n",
    "    stems = []\n",
    "    for word in words:\n",
    "        stem = stemmer.stem(word)\n",
    "        stems.append(stem)\n",
    "        \n",
    "    return stems\n",
    "\n",
    "def lemmatize_verbs(words):\n",
    "    \"\"\"Lemmatize verbs in list of tokenized words\"\"\"\n",
    "    lemmatizer = WordNetLemmatizer()\n",
    "    lemmas = []\n",
    "    for word in words:\n",
    "        lemma = lemmatizer.lemmatize(word, pos='v')\n",
    "        lemmas.append(lemma)\n",
    "        \n",
    "    return lemmas\n",
    "\n",
    "def normalize_lemmatize(words):\n",
    "    words = remove_special(words)\n",
    "    words = to_lowercase(words)\n",
    "    words = remove_punctuation(words)\n",
    "    words = replace_numbers(words)\n",
    "    words = remove_stopwords(words)\n",
    "    words = stem_words(words)\n",
    "    words = lemmatize_verbs(words)\n",
    "    \n",
    "    return words\n"
   ]
  },
  {
   "cell_type": "code",
   "execution_count": 7,
   "metadata": {
    "scrolled": true
   },
   "outputs": [],
   "source": [
    "def get_processed(sample):\n",
    "    processed = pd.DataFrame(data=[],columns = ['business_id', 'text'])\n",
    "    new_texts = []\n",
    "\n",
    "    for i in range(0, len(sample)):\n",
    "        business_id = sample['business_id'].iloc[i]\n",
    "        words = nltk.word_tokenize(sample['text'].iloc[i])\n",
    "        text = ' '.join(normalize_lemmatize(words))\n",
    "        dfnew = pd.DataFrame([[business_id, text]], columns=['business_id', 'text'])\n",
    "        new_texts.append(text)\n",
    "        processed = processed.append(dfnew,ignore_index = True)\n",
    "\n",
    "    return processed"
   ]
  },
  {
   "cell_type": "code",
   "execution_count": 9,
   "metadata": {},
   "outputs": [],
   "source": [
    "# This takes lots of time, \n",
    "# You may just read_pickle here after the initial run\n",
    "\n",
    "df_texts_train = get_processed(text_train_df)\n",
    "df_texts_train.to_pickle('../data/text_train_df.pkl')\n",
    "\n",
    "#df_texts_train = pickle.load(open('../data/text_train_df.pkl', \"rb\"))\n"
   ]
  },
  {
   "cell_type": "markdown",
   "metadata": {},
   "source": [
    "### - Cosine Similarity"
   ]
  },
  {
   "cell_type": "code",
   "execution_count": 10,
   "metadata": {},
   "outputs": [],
   "source": [
    "def get_tfidf_matrix(processed):\n",
    "    '''\n",
    "    get the Tf-Idf matrix of processed texts for business reviews\n",
    "    \n",
    "    '''\n",
    "    TV = TfidfVectorizer(stop_words = \"english\")\n",
    "    processed[\"text\"] = processed[\"text\"].fillna('')\n",
    "    tfidf_matrix = TV.fit_transform((processed[\"text\"]))\n",
    "    \n",
    "    return tfidf_matrix\n",
    "\n",
    "def get_cos_sim_matrix(tfidf_matrix, n):\n",
    "    '''\n",
    "    use truncated SVD to reduce dimensions to n \n",
    "    @n: the dimensions to keep\n",
    "    '''\n",
    "    SVD = TruncatedSVD(n_components = n , random_state = 42) # 42 is the ultimate answer to everything\n",
    "    tfidf_truncated = SVD.fit_transform(tfidf_matrix)\n",
    "    cosine_sim = cosine_similarity(tfidf_truncated, tfidf_truncated)\n",
    "    \n",
    "    return cosine_sim\n"
   ]
  },
  {
   "cell_type": "markdown",
   "metadata": {},
   "source": [
    "### - Dimension Reduction"
   ]
  },
  {
   "cell_type": "code",
   "execution_count": 120,
   "metadata": {},
   "outputs": [
    {
     "data": {
      "text/plain": [
       "<BarContainer object of 1727 artists>"
      ]
     },
     "execution_count": 120,
     "metadata": {},
     "output_type": "execute_result"
    },
    {
     "data": {
      "image/png": "[encoded data removed]",
      "text/plain": [
       "<Figure size 432x288 with 1 Axes>"
      ]
     },
     "metadata": {
      "needs_background": "light"
     },
     "output_type": "display_data"
    },
    {
     "data": {
      "text/plain": [
       "[<matplotlib.lines.Line2D at 0x7ff82c752c90>]"
      ]
     },
     "execution_count": 120,
     "metadata": {},
     "output_type": "execute_result"
    },
    {
     "data": {
      "image/png": "[encoded data removed]",
      "text/plain": [
       "<Figure size 432x288 with 1 Axes>"
      ]
     },
     "metadata": {
      "needs_background": "light"
     },
     "output_type": "display_data"
    }
   ],
   "source": [
    "tfidf_matrix = get_tfidf_matrix(df_texts_train)\n",
    "u, s, vt  = scipy.sparse.linalg.svds(tfidf_matrix, k = tfidf_matrix.shape[0]-1)\n",
    "plt.bar(range(len(s)),s)\n",
    "plt.show()\n",
    "\n",
    "plt.plot(range(len(s))[:100], np.cumsum(sorted((s**2 / sum(s**2)),reverse = True)[:100]), \"r\" )\n",
    "plt.show()"
   ]
  },
  {
   "cell_type": "code",
   "execution_count": 135,
   "metadata": {},
   "outputs": [
    {
     "data": {
      "text/plain": [
       "<BarContainer object of 50 artists>"
      ]
     },
     "execution_count": 135,
     "metadata": {},
     "output_type": "execute_result"
    },
    {
     "data": {
      "text/plain": [
       "[<matplotlib.lines.Line2D at 0x7ff82cf19090>]"
      ]
     },
     "execution_count": 135,
     "metadata": {},
     "output_type": "execute_result"
    },
    {
     "data": {
      "text/plain": [
       "Text(0.5, 1.0, 'Singular values of restaurant features')"
      ]
     },
     "execution_count": 135,
     "metadata": {},
     "output_type": "execute_result"
    },
    {
     "data": {
      "text/plain": [
       "Text(0.5, 0, 'Dimension')"
      ]
     },
     "execution_count": 135,
     "metadata": {},
     "output_type": "execute_result"
    },
    {
     "data": {
      "text/plain": [
       "Text(0, 0.5, 'Singular values')"
      ]
     },
     "execution_count": 135,
     "metadata": {},
     "output_type": "execute_result"
    },
    {
     "data": {
      "text/plain": [
       "<matplotlib.legend.Legend at 0x7ff82d049890>"
      ]
     },
     "execution_count": 135,
     "metadata": {},
     "output_type": "execute_result"
    },
    {
     "data": {
      "image/png": "[encoded data removed]",
      "text/plain": [
       "<Figure size 432x288 with 1 Axes>"
      ]
     },
     "metadata": {
      "needs_background": "light"
     },
     "output_type": "display_data"
    }
   ],
   "source": [
    "# u, s, vt  = np.linalg.svd(bus_df_subset.iloc[:,:])\n",
    "plt.bar(range(50),np.sort(s)[::-1][:50])\n",
    "plt.plot([20 for i in np.linspace(0,20,10)], np.linspace(0,20,10),\"r\", label = \"cut-off point\")\n",
    "plt.title(\"Singular values of restaurant features\")\n",
    "plt.xlabel(\"Dimension\")\n",
    "plt.ylabel(\"Singular values\")\n",
    "plt.legend(loc = \"best\")\n",
    "plt.show()"
   ]
  },
  {
   "cell_type": "markdown",
   "metadata": {},
   "source": [
    "### - Here we choose n=20 "
   ]
  },
  {
   "cell_type": "code",
   "execution_count": 143,
   "metadata": {},
   "outputs": [
    {
     "data": {
      "text/plain": [
       "[<matplotlib.lines.Line2D at 0x7ff82d458c50>]"
      ]
     },
     "execution_count": 143,
     "metadata": {},
     "output_type": "execute_result"
    },
    {
     "data": {
      "text/plain": [
       "[<matplotlib.lines.Line2D at 0x7ff82d4653d0>]"
      ]
     },
     "execution_count": 143,
     "metadata": {},
     "output_type": "execute_result"
    },
    {
     "data": {
      "text/plain": [
       "Text(0.5, 1.0, 'Singular values of restaurant features')"
      ]
     },
     "execution_count": 143,
     "metadata": {},
     "output_type": "execute_result"
    },
    {
     "data": {
      "text/plain": [
       "Text(0.5, 0, 'Dimension')"
      ]
     },
     "execution_count": 143,
     "metadata": {},
     "output_type": "execute_result"
    },
    {
     "data": {
      "text/plain": [
       "Text(0, 0.5, 'Singular values')"
      ]
     },
     "execution_count": 143,
     "metadata": {},
     "output_type": "execute_result"
    },
    {
     "data": {
      "text/plain": [
       "<matplotlib.legend.Legend at 0x7ff82d338250>"
      ]
     },
     "execution_count": 143,
     "metadata": {},
     "output_type": "execute_result"
    },
    {
     "data": {
      "image/png": "[encoded data removed]",
      "text/plain": [
       "<Figure size 432x288 with 1 Axes>"
      ]
     },
     "metadata": {
      "needs_background": "light"
     },
     "output_type": "display_data"
    }
   ],
   "source": [
    "plt.plot(range(50), np.cumsum(np.sort(s)[::-1]**2/np.sum(np.sort(s)[::-1]**2))[:50] )\n",
    "plt.plot([20 for i in np.linspace(0,1,10)], np.linspace(0,1,10),\"r\", label = \"cut-off point\")\n",
    "plt.title(\"Singular values of restaurant features\")\n",
    "plt.xlabel(\"Dimension\")\n",
    "plt.ylabel(\"Singular values\")\n",
    "plt.legend(loc = \"best\")\n",
    "plt.show()"
   ]
  },
  {
   "cell_type": "code",
   "execution_count": 11,
   "metadata": {},
   "outputs": [
    {
     "data": {
      "text/html": [
       "<div>\n",
       "<style scoped>\n",
       "    .dataframe tbody tr th:only-of-type {\n",
       "        vertical-align: middle;\n",
       "    }\n",
       "\n",
       "    .dataframe tbody tr th {\n",
       "        vertical-align: top;\n",
       "    }\n",
       "\n",
       "    .dataframe thead th {\n",
       "        text-align: right;\n",
       "    }\n",
       "</style>\n",
       "<table border=\"1\" class=\"dataframe\">\n",
       "  <thead>\n",
       "    <tr style=\"text-align: right;\">\n",
       "      <th></th>\n",
       "      <th>-050d_XIor1NpCuWkbIVaQ</th>\n",
       "      <th>-0WegMt6Cy966qlDKhu6jA</th>\n",
       "      <th>-0tgMGl7D9B10YjSN2ujLA</th>\n",
       "      <th>-1UMR00eXtwaeh59pEiDjA</th>\n",
       "      <th>-45kMvS7h38CGaWugPY0rg</th>\n",
       "      <th>-8JaNeG3etLgOVyg2gOIiA</th>\n",
       "      <th>-9eNGMp8XiygI8t8QFuFWw</th>\n",
       "      <th>-A9sm-E6uQxWTJ_MuyOzFw</th>\n",
       "      <th>-Bdw-5H5C4AYSMGnAvmnzw</th>\n",
       "      <th>-BxWyEIQ6wypT-37MzZizQ</th>\n",
       "      <th>...</th>\n",
       "      <th>zSicVxnJHV8indit0oFuNw</th>\n",
       "      <th>zU63bs3Ofe8y1peOgOFJaA</th>\n",
       "      <th>zYZPpOqo_2YrLJLOmjlgPQ</th>\n",
       "      <th>zaBk2imYnk7rG7IdOMhRmA</th>\n",
       "      <th>zbrFk-4ejesAJD8EwcdHxg</th>\n",
       "      <th>zc1sur_MxkKkD6P8gYXQbg</th>\n",
       "      <th>zidkKI_N1OPxsiddTOQH_Q</th>\n",
       "      <th>znH36RmIAI4wcHy9WiEO5Q</th>\n",
       "      <th>zrTGcb83AsfyVTMrsCa65A</th>\n",
       "      <th>zwmps5SXn30g-f5wqg_r9A</th>\n",
       "    </tr>\n",
       "  </thead>\n",
       "  <tbody>\n",
       "    <tr>\n",
       "      <th>-050d_XIor1NpCuWkbIVaQ</th>\n",
       "      <td>1.0</td>\n",
       "      <td>0.580148</td>\n",
       "      <td>0.577455</td>\n",
       "      <td>0.958394</td>\n",
       "      <td>0.691951</td>\n",
       "      <td>0.557193</td>\n",
       "      <td>0.649372</td>\n",
       "      <td>0.327343</td>\n",
       "      <td>0.719355</td>\n",
       "      <td>0.641419</td>\n",
       "      <td>...</td>\n",
       "      <td>0.969567</td>\n",
       "      <td>0.569617</td>\n",
       "      <td>0.38946</td>\n",
       "      <td>0.250388</td>\n",
       "      <td>0.529521</td>\n",
       "      <td>0.988208</td>\n",
       "      <td>0.342962</td>\n",
       "      <td>0.565981</td>\n",
       "      <td>0.662767</td>\n",
       "      <td>0.516715</td>\n",
       "    </tr>\n",
       "  </tbody>\n",
       "</table>\n",
       "<p>1 rows × 1728 columns</p>\n",
       "</div>"
      ],
      "text/plain": [
       "                        -050d_XIor1NpCuWkbIVaQ  -0WegMt6Cy966qlDKhu6jA  \\\n",
       "-050d_XIor1NpCuWkbIVaQ                     1.0                0.580148   \n",
       "\n",
       "                        -0tgMGl7D9B10YjSN2ujLA  -1UMR00eXtwaeh59pEiDjA  \\\n",
       "-050d_XIor1NpCuWkbIVaQ                0.577455                0.958394   \n",
       "\n",
       "                        -45kMvS7h38CGaWugPY0rg  -8JaNeG3etLgOVyg2gOIiA  \\\n",
       "-050d_XIor1NpCuWkbIVaQ                0.691951                0.557193   \n",
       "\n",
       "                        -9eNGMp8XiygI8t8QFuFWw  -A9sm-E6uQxWTJ_MuyOzFw  \\\n",
       "-050d_XIor1NpCuWkbIVaQ                0.649372                0.327343   \n",
       "\n",
       "                        -Bdw-5H5C4AYSMGnAvmnzw  -BxWyEIQ6wypT-37MzZizQ  ...  \\\n",
       "-050d_XIor1NpCuWkbIVaQ                0.719355                0.641419  ...   \n",
       "\n",
       "                        zSicVxnJHV8indit0oFuNw  zU63bs3Ofe8y1peOgOFJaA  \\\n",
       "-050d_XIor1NpCuWkbIVaQ                0.969567                0.569617   \n",
       "\n",
       "                        zYZPpOqo_2YrLJLOmjlgPQ  zaBk2imYnk7rG7IdOMhRmA  \\\n",
       "-050d_XIor1NpCuWkbIVaQ                 0.38946                0.250388   \n",
       "\n",
       "                        zbrFk-4ejesAJD8EwcdHxg  zc1sur_MxkKkD6P8gYXQbg  \\\n",
       "-050d_XIor1NpCuWkbIVaQ                0.529521                0.988208   \n",
       "\n",
       "                        zidkKI_N1OPxsiddTOQH_Q  znH36RmIAI4wcHy9WiEO5Q  \\\n",
       "-050d_XIor1NpCuWkbIVaQ                0.342962                0.565981   \n",
       "\n",
       "                        zrTGcb83AsfyVTMrsCa65A  zwmps5SXn30g-f5wqg_r9A  \n",
       "-050d_XIor1NpCuWkbIVaQ                0.662767                0.516715  \n",
       "\n",
       "[1 rows x 1728 columns]"
      ]
     },
     "execution_count": 11,
     "metadata": {},
     "output_type": "execute_result"
    },
    {
     "data": {
      "text/plain": [
       "(1728, 1728)"
      ]
     },
     "execution_count": 11,
     "metadata": {},
     "output_type": "execute_result"
    }
   ],
   "source": [
    "### Generate Tf-idf vector space representation, and apply truncated SVD\n",
    "\n",
    "tfidf_matrix = get_tfidf_matrix(df_texts_train)\n",
    "cosine_sim = get_cos_sim_matrix(tfidf_matrix, 20)\n",
    "df_sim = pd.DataFrame(cosine_sim, index=df_texts_train['business_id'].values, columns=df_texts_train['business_id'].values)\n",
    "df_sim.head(1)\n",
    "cosine_sim.shape"
   ]
  },
  {
   "cell_type": "code",
   "execution_count": 12,
   "metadata": {},
   "outputs": [],
   "source": [
    "def get_recommendation_cos(reviews, business_id, user_id, df_sim, k):\n",
    "    '''get the business_id_array that shows top_k greatest similarity to the specific business_id'''\n",
    "    user_bids = reviews[reviews['user_id']==user_id]['business_id'].values\n",
    "    df_user = df_sim.loc[df_sim.index.isin(user_bids), df_sim.columns == business_id]\n",
    "    df_user_topk = df_user.sort_values(df_user.columns[0], ascending = False).iloc[:k]\n",
    "    \n",
    "    return np.array(df_user_topk.index.values)\n",
    "\n",
    "\n",
    "def predict_rating(reviews, user_id, business_ids):\n",
    "    '''predict the avg of the user's rating on business in business_ids'''\n",
    "    scores = reviews.loc[(reviews.user_id == user_id) & (reviews.business_id.isin(business_ids))][\"stars\"].values\n",
    "    \n",
    "    return np.mean(scores)\n",
    "\n",
    "\n",
    "def get_results_cos(reviews, reviews_test, business_id, user_id, df_sim, k):\n",
    "    '''\n",
    "    prediction on the business_id：avg the ratings on top_k business that shows similarity to the business_id\n",
    "    actual on the business_id: the true rating \n",
    "    '''\n",
    "    actual = reviews_test.loc[(reviews_test.user_id==user_id) & (reviews_test.business_id==business_id)]['stars'].values[0]\n",
    "    business_ids = get_recommendation_cos(reviews, business_id, user_id, df_sim, k)\n",
    "    prediction = predict_rating(reviews, user_id, business_ids)\n",
    "    \n",
    "    return actual, prediction\n",
    "\n",
    "def get_review_processed(processed, reviews):\n",
    "    reviews_processed = reviews.loc[reviews.business_id.isin(processed.business_id)]\\\n",
    "                                                       .reset_index()\\\n",
    "                                                       .drop(columns=['index'])\n",
    "    return reviews_processed"
   ]
  },
  {
   "cell_type": "code",
   "execution_count": 13,
   "metadata": {},
   "outputs": [
    {
     "data": {
      "text/html": [
       "<div>\n",
       "<style scoped>\n",
       "    .dataframe tbody tr th:only-of-type {\n",
       "        vertical-align: middle;\n",
       "    }\n",
       "\n",
       "    .dataframe tbody tr th {\n",
       "        vertical-align: top;\n",
       "    }\n",
       "\n",
       "    .dataframe thead th {\n",
       "        text-align: right;\n",
       "    }\n",
       "</style>\n",
       "<table border=\"1\" class=\"dataframe\">\n",
       "  <thead>\n",
       "    <tr style=\"text-align: right;\">\n",
       "      <th></th>\n",
       "      <th>user_id</th>\n",
       "      <th>business_id</th>\n",
       "      <th>stars</th>\n",
       "      <th>review_id</th>\n",
       "      <th>text</th>\n",
       "    </tr>\n",
       "  </thead>\n",
       "  <tbody>\n",
       "    <tr>\n",
       "      <th>0</th>\n",
       "      <td>--2HUmLkcNHZp0xw6AMBPg</td>\n",
       "      <td>yX0pOWG_Be9TjGnm0aihVA</td>\n",
       "      <td>5.0</td>\n",
       "      <td>tfi5EOpqZw637p3AJtOUMg</td>\n",
       "      <td>Obsessed with their chicken salad and sweet fr...</td>\n",
       "    </tr>\n",
       "    <tr>\n",
       "      <th>1</th>\n",
       "      <td>--2HUmLkcNHZp0xw6AMBPg</td>\n",
       "      <td>u9R0_pvEkl7QGPJYH3j1sg</td>\n",
       "      <td>5.0</td>\n",
       "      <td>_FcKYC5R81v6SbSeaWxHNA</td>\n",
       "      <td>This place is INCREDIBLE.  We just bought a ho...</td>\n",
       "    </tr>\n",
       "    <tr>\n",
       "      <th>2</th>\n",
       "      <td>--2HUmLkcNHZp0xw6AMBPg</td>\n",
       "      <td>cHdJXLlKNWixBXpDwEGb_A</td>\n",
       "      <td>5.0</td>\n",
       "      <td>wK3roBOGrakzjoX_o5nmBw</td>\n",
       "      <td>Pretty decent for something a little different...</td>\n",
       "    </tr>\n",
       "    <tr>\n",
       "      <th>3</th>\n",
       "      <td>--2HUmLkcNHZp0xw6AMBPg</td>\n",
       "      <td>LR_99E7tVUfxqemvcGkDzw</td>\n",
       "      <td>3.0</td>\n",
       "      <td>_d9cfYYjzuJwhLe5egMLIQ</td>\n",
       "      <td>This place has pretty decent food but their se...</td>\n",
       "    </tr>\n",
       "    <tr>\n",
       "      <th>4</th>\n",
       "      <td>--2HUmLkcNHZp0xw6AMBPg</td>\n",
       "      <td>lfyg98UFNYMVk18p6LIlkw</td>\n",
       "      <td>5.0</td>\n",
       "      <td>_yreTg27A_fsPb8uulhKtg</td>\n",
       "      <td>Love this place.  Amazing food, great selectio...</td>\n",
       "    </tr>\n",
       "  </tbody>\n",
       "</table>\n",
       "</div>"
      ],
      "text/plain": [
       "                  user_id             business_id  stars  \\\n",
       "0  --2HUmLkcNHZp0xw6AMBPg  yX0pOWG_Be9TjGnm0aihVA    5.0   \n",
       "1  --2HUmLkcNHZp0xw6AMBPg  u9R0_pvEkl7QGPJYH3j1sg    5.0   \n",
       "2  --2HUmLkcNHZp0xw6AMBPg  cHdJXLlKNWixBXpDwEGb_A    5.0   \n",
       "3  --2HUmLkcNHZp0xw6AMBPg  LR_99E7tVUfxqemvcGkDzw    3.0   \n",
       "4  --2HUmLkcNHZp0xw6AMBPg  lfyg98UFNYMVk18p6LIlkw    5.0   \n",
       "\n",
       "                review_id                                               text  \n",
       "0  tfi5EOpqZw637p3AJtOUMg  Obsessed with their chicken salad and sweet fr...  \n",
       "1  _FcKYC5R81v6SbSeaWxHNA  This place is INCREDIBLE.  We just bought a ho...  \n",
       "2  wK3roBOGrakzjoX_o5nmBw  Pretty decent for something a little different...  \n",
       "3  _d9cfYYjzuJwhLe5egMLIQ  This place has pretty decent food but their se...  \n",
       "4  _yreTg27A_fsPb8uulhKtg  Love this place.  Amazing food, great selectio...  "
      ]
     },
     "execution_count": 13,
     "metadata": {},
     "output_type": "execute_result"
    }
   ],
   "source": [
    "reviews_processed = get_review_processed(df_texts_train, train_df)\n",
    "reviews_processed.head()"
   ]
  },
  {
   "cell_type": "code",
   "execution_count": 14,
   "metadata": {},
   "outputs": [],
   "source": [
    "def CB_predict(reviews, reviews_test, df_sim, k = 5):\n",
    "    '''\n",
    "    based on test_df \n",
    "    get a dataframe with each user on each business's true ratings and prediction ratings\n",
    "    @k: int, top k similar businesses\n",
    "    '''\n",
    "    user_id_sample = reviews_test['user_id'].values\n",
    "    busi_id_sample = reviews_test['business_id'].values\n",
    "    \n",
    "    actual = []\n",
    "    predictions = []\n",
    "    \n",
    "    for i in range(len(reviews_test)):\n",
    "        try:\n",
    "            act, pred = get_results_cos(reviews, reviews_test, busi_id_sample[i], user_id_sample[i], df_sim, k)\n",
    "            actual.append(act)\n",
    "            predictions.append(pred)\n",
    "            \n",
    "        except:\n",
    "            actual.append(np.nan)\n",
    "            predictions.append(np.nan)\n",
    "            \n",
    "    return pd.DataFrame({\"user_id\": user_id_sample,\n",
    "                         \"business_id\": busi_id_sample,\n",
    "                         \"true_ratings\": actual,\n",
    "                         \"prediction_ratings\":  predictions                        \n",
    "                        })"
   ]
  },
  {
   "cell_type": "markdown",
   "metadata": {},
   "source": [
    "### - Tuning parameters k"
   ]
  },
  {
   "cell_type": "code",
   "execution_count": 20,
   "metadata": {},
   "outputs": [
    {
     "name": "stdout",
     "output_type": "stream",
     "text": [
      "time elapsed: (seconds)\n",
      "4312.54\n"
     ]
    },
    {
     "data": {
      "text/plain": [
       "<matplotlib.axes._subplots.AxesSubplot at 0x7ff958623710>"
      ]
     },
     "execution_count": 20,
     "metadata": {},
     "output_type": "execute_result"
    },
    {
     "name": "stdout",
     "output_type": "stream",
     "text": [
      "optimal k (nearest neighbors):\n",
      "     ks  sample_size      rmse       mae\n",
      "4  45.0      19500.0  1.338007  1.004968\n"
     ]
    },
    {
     "data": {
      "image/png": "[encoded data removed]",
      "text/plain": [
       "<Figure size 432x288 with 1 Axes>"
      ]
     },
     "metadata": {
      "needs_background": "light"
     },
     "output_type": "display_data"
    }
   ],
   "source": [
    "# # run this may take 2527.366 seconds\n",
    "# # the result of this process:\n",
    "# # optimal k (nearest neighbors): 3   35.0\n",
    "\n",
    "\n",
    "t0 = time.time()\n",
    "df_pred_results = pd.DataFrame(columns= [\"ks\", \"sample_size\", \"rmse\", \"mae\"])\n",
    "sample_sizes = [len(valid_df)]\n",
    "ks = [5, 15, 25, 35, 45, 55]\n",
    "\n",
    "for sample_size in sample_sizes:\n",
    "    for k in ks:\n",
    "        valid = CB_predict(train_df, valid_df.sample(n = sample_size, random_state = 12), df_sim, k)\n",
    "        rmse = mean_squared_error(valid.dropna().prediction_ratings, valid.dropna().true_ratings)**0.5\n",
    "        mae =  mean_absolute_error(valid.dropna().prediction_ratings, valid.dropna().true_ratings)**0.5\n",
    "        df_pred_results = df_pred_results.append({\"ks\": k, \"sample_size\": sample_size,\n",
    "                                                  \"rmse\": rmse, \"mae\": mae}, ignore_index = True)\n",
    "t1 = time.time()\n",
    "print(\"time elapsed: (seconds)\")\n",
    "print(np.round(t1 - t0,3))\n",
    "\n",
    "df_pred_results[df_pred_results[\"sample_size\"] == sample_size].plot(\"ks\", \"rmse\")\n",
    "print(\"optimal k (nearest neighbors):\")\n",
    "print(df_pred_results.loc[df_pred_results[\"rmse\"] == np.min(df_pred_results.rmse),])\n",
    "\n",
    "# df_pred_results.to_csv(\"Content_Based_Filtering_Cosine_Evaluation.csv\",index = False)"
   ]
  },
  {
   "cell_type": "code",
   "execution_count": 22,
   "metadata": {},
   "outputs": [],
   "source": [
    "df_pred_results.to_csv(\"../data/Content_Based_Filtering_Cosine_Evaluation.csv\",index = False)"
   ]
  },
  {
   "cell_type": "code",
   "execution_count": 209,
   "metadata": {},
   "outputs": [
    {
     "data": {
      "text/plain": [
       "[<matplotlib.lines.Line2D at 0x7ff7b6eae290>]"
      ]
     },
     "execution_count": 209,
     "metadata": {},
     "output_type": "execute_result"
    },
    {
     "data": {
      "text/plain": [
       "(array([ 0., 10., 20., 30., 40., 50., 60.]),\n",
       " <a list of 7 Text xticklabel objects>)"
      ]
     },
     "execution_count": 209,
     "metadata": {},
     "output_type": "execute_result"
    },
    {
     "data": {
      "text/plain": [
       "(array([1.789, 1.79 , 1.791, 1.792, 1.793, 1.794, 1.795, 1.796, 1.797]),\n",
       " <a list of 9 Text yticklabel objects>)"
      ]
     },
     "execution_count": 209,
     "metadata": {},
     "output_type": "execute_result"
    },
    {
     "data": {
      "text/plain": [
       "[<matplotlib.lines.Line2D at 0x7ff7b6eeca10>]"
      ]
     },
     "execution_count": 209,
     "metadata": {},
     "output_type": "execute_result"
    },
    {
     "data": {
      "text/plain": [
       "<matplotlib.legend.Legend at 0x7ff7b6efa150>"
      ]
     },
     "execution_count": 209,
     "metadata": {},
     "output_type": "execute_result"
    },
    {
     "data": {
      "text/plain": [
       "Text(0.5, 0, 'k')"
      ]
     },
     "execution_count": 209,
     "metadata": {},
     "output_type": "execute_result"
    },
    {
     "data": {
      "text/plain": [
       "Text(0, 0.5, 'MSE')"
      ]
     },
     "execution_count": 209,
     "metadata": {},
     "output_type": "execute_result"
    },
    {
     "data": {
      "text/plain": [
       "Text(0.5, 1.0, 'Content Based Model (Tf-idf): k vs MSE')"
      ]
     },
     "execution_count": 209,
     "metadata": {},
     "output_type": "execute_result"
    },
    {
     "data": {
      "image/png": "[encoded data removed]",
      "text/plain": [
       "<Figure size 720x576 with 1 Axes>"
      ]
     },
     "metadata": {
      "needs_background": "light"
     },
     "output_type": "display_data"
    }
   ],
   "source": [
    "fig, ax = plt.subplots(figsize=(10,8))\n",
    "\n",
    "optimal = df_pred_results.loc[df_pred_results[\"rmse\"] == np.min(df_pred_results.rmse),]\n",
    "# plt.figure()\n",
    "plt.plot(df_pred_results[\"ks\"][1:], np.round(df_pred_results[\"rmse\"]**2,10)[1:], \n",
    "         label = \"Validation set\", linewidth = 2, color =\"blue\")\n",
    "plt.xticks(fontsize=16);\n",
    "plt.yticks(fontsize=16);\n",
    "plt.plot(optimal[\"ks\"], np.round(optimal[\"rmse\"]**2,10), \"ro\", label = \"Optimal k: {}\".format(45))\n",
    "plt.legend(loc = \"best\", fontsize = 14)\n",
    "plt.xlabel(\"k\", fontsize = 24)\n",
    "plt.ylabel(\"MSE\", fontsize = 24)\n",
    "plt.title(\"Content Based Model (Tf-idf): k vs MSE\",fontsize=24)"
   ]
  },
  {
   "cell_type": "code",
   "execution_count": 186,
   "metadata": {},
   "outputs": [
    {
     "name": "stdout",
     "output_type": "stream",
     "text": [
      "time elapsed: (seconds)\n",
      "937.908\n",
      "1.7902632606937823\n"
     ]
    }
   ],
   "source": [
    "### Prediction using the tuned parameters\n",
    "\n",
    "t0 = time.time()\n",
    "k = 45\n",
    "\n",
    "valid = CB_predict(train_df, valid_df, df_sim, k)\n",
    "mse = mean_squared_error(valid.dropna().prediction_ratings, valid.dropna().true_ratings)\n",
    "mae =  mean_absolute_error(valid.dropna().prediction_ratings, valid.dropna().true_ratings)\n",
    "t1 = time.time()\n",
    "print(\"time elapsed: (seconds)\")\n",
    "print(np.round(t1 - t0,3))\n",
    "print(mse)\n",
    "valid.to_csv(\"Predictions_CB_tfidf.csv\", index = False)\n"
   ]
  },
  {
   "cell_type": "markdown",
   "metadata": {},
   "source": [
    "# Content-Based Filtering (Business Attributes)"
   ]
  },
  {
   "cell_type": "markdown",
   "metadata": {},
   "source": [
    "### This model leverages business non-reviews features to generate the similarity matrix"
   ]
  },
  {
   "cell_type": "markdown",
   "metadata": {},
   "source": [
    "### We have done feature engineering in the previous step"
   ]
  },
  {
   "cell_type": "code",
   "execution_count": 28,
   "metadata": {},
   "outputs": [
    {
     "data": {
      "text/html": [
       "<div>\n",
       "<style scoped>\n",
       "    .dataframe tbody tr th:only-of-type {\n",
       "        vertical-align: middle;\n",
       "    }\n",
       "\n",
       "    .dataframe tbody tr th {\n",
       "        vertical-align: top;\n",
       "    }\n",
       "\n",
       "    .dataframe thead th {\n",
       "        text-align: right;\n",
       "    }\n",
       "</style>\n",
       "<table border=\"1\" class=\"dataframe\">\n",
       "  <thead>\n",
       "    <tr style=\"text-align: right;\">\n",
       "      <th></th>\n",
       "      <th>latitude</th>\n",
       "      <th>longitude</th>\n",
       "      <th>stars</th>\n",
       "      <th>review_count</th>\n",
       "      <th>is_open</th>\n",
       "      <th>RestaurantsGoodForGroups</th>\n",
       "      <th>OutdoorSeating</th>\n",
       "      <th>BusinessAcceptsCreditCards</th>\n",
       "      <th>RestaurantsTakeOut</th>\n",
       "      <th>GoodForKids</th>\n",
       "      <th>...</th>\n",
       "      <th>Ambience_casual</th>\n",
       "      <th>Parking</th>\n",
       "      <th>music</th>\n",
       "      <th>Monday</th>\n",
       "      <th>Tuesday</th>\n",
       "      <th>Wednesday</th>\n",
       "      <th>Thursday</th>\n",
       "      <th>Friday</th>\n",
       "      <th>Saturday</th>\n",
       "      <th>Sunday</th>\n",
       "    </tr>\n",
       "    <tr>\n",
       "      <th>business_id</th>\n",
       "      <th></th>\n",
       "      <th></th>\n",
       "      <th></th>\n",
       "      <th></th>\n",
       "      <th></th>\n",
       "      <th></th>\n",
       "      <th></th>\n",
       "      <th></th>\n",
       "      <th></th>\n",
       "      <th></th>\n",
       "      <th></th>\n",
       "      <th></th>\n",
       "      <th></th>\n",
       "      <th></th>\n",
       "      <th></th>\n",
       "      <th></th>\n",
       "      <th></th>\n",
       "      <th></th>\n",
       "      <th></th>\n",
       "      <th></th>\n",
       "      <th></th>\n",
       "    </tr>\n",
       "  </thead>\n",
       "  <tbody>\n",
       "    <tr>\n",
       "      <th>lpQziF9QCVZQRkxac1xzcw</th>\n",
       "      <td>-0.155783</td>\n",
       "      <td>-0.475781</td>\n",
       "      <td>0.426501</td>\n",
       "      <td>-0.446236</td>\n",
       "      <td>1</td>\n",
       "      <td>1</td>\n",
       "      <td>0</td>\n",
       "      <td>1</td>\n",
       "      <td>1</td>\n",
       "      <td>0</td>\n",
       "      <td>...</td>\n",
       "      <td>1</td>\n",
       "      <td>1</td>\n",
       "      <td>0</td>\n",
       "      <td>1</td>\n",
       "      <td>1</td>\n",
       "      <td>1</td>\n",
       "      <td>1</td>\n",
       "      <td>1</td>\n",
       "      <td>1</td>\n",
       "      <td>1</td>\n",
       "    </tr>\n",
       "  </tbody>\n",
       "</table>\n",
       "<p>1 rows × 44 columns</p>\n",
       "</div>"
      ],
      "text/plain": [
       "                        latitude  longitude     stars  review_count  is_open  \\\n",
       "business_id                                                                    \n",
       "lpQziF9QCVZQRkxac1xzcw -0.155783  -0.475781  0.426501     -0.446236        1   \n",
       "\n",
       "                        RestaurantsGoodForGroups  OutdoorSeating  \\\n",
       "business_id                                                        \n",
       "lpQziF9QCVZQRkxac1xzcw                         1               0   \n",
       "\n",
       "                        BusinessAcceptsCreditCards  RestaurantsTakeOut  \\\n",
       "business_id                                                              \n",
       "lpQziF9QCVZQRkxac1xzcw                           1                   1   \n",
       "\n",
       "                        GoodForKids  ...  Ambience_casual  Parking  music  \\\n",
       "business_id                          ...                                    \n",
       "lpQziF9QCVZQRkxac1xzcw            0  ...                1        1      0   \n",
       "\n",
       "                        Monday  Tuesday  Wednesday  Thursday  Friday  \\\n",
       "business_id                                                            \n",
       "lpQziF9QCVZQRkxac1xzcw       1        1          1         1       1   \n",
       "\n",
       "                        Saturday  Sunday  \n",
       "business_id                               \n",
       "lpQziF9QCVZQRkxac1xzcw         1       1  \n",
       "\n",
       "[1 rows x 44 columns]"
      ]
     },
     "execution_count": 28,
     "metadata": {},
     "output_type": "execute_result"
    }
   ],
   "source": [
    "bus_df_subset = pd.read_csv(\"../data/business_subset_cleaned.csv\", index_col= \"business_id\")\n",
    "bus_df_subset.head(1)"
   ]
  },
  {
   "cell_type": "code",
   "execution_count": 103,
   "metadata": {},
   "outputs": [
    {
     "data": {
      "text/plain": [
       "44"
      ]
     },
     "execution_count": 103,
     "metadata": {},
     "output_type": "execute_result"
    }
   ],
   "source": [
    "len(bus_df_subset.columns)"
   ]
  },
  {
   "cell_type": "code",
   "execution_count": 13,
   "metadata": {},
   "outputs": [
    {
     "data": {
      "text/html": [
       "<div>\n",
       "<style scoped>\n",
       "    .dataframe tbody tr th:only-of-type {\n",
       "        vertical-align: middle;\n",
       "    }\n",
       "\n",
       "    .dataframe tbody tr th {\n",
       "        vertical-align: top;\n",
       "    }\n",
       "\n",
       "    .dataframe thead th {\n",
       "        text-align: right;\n",
       "    }\n",
       "</style>\n",
       "<table border=\"1\" class=\"dataframe\">\n",
       "  <thead>\n",
       "    <tr style=\"text-align: right;\">\n",
       "      <th></th>\n",
       "      <th>latitude</th>\n",
       "      <th>longitude</th>\n",
       "      <th>stars</th>\n",
       "      <th>review_count</th>\n",
       "      <th>is_open</th>\n",
       "      <th>RestaurantsGoodForGroups</th>\n",
       "      <th>OutdoorSeating</th>\n",
       "      <th>BusinessAcceptsCreditCards</th>\n",
       "      <th>RestaurantsTakeOut</th>\n",
       "      <th>GoodForKids</th>\n",
       "      <th>...</th>\n",
       "      <th>Ambience_casual</th>\n",
       "      <th>Parking</th>\n",
       "      <th>music</th>\n",
       "      <th>Monday</th>\n",
       "      <th>Tuesday</th>\n",
       "      <th>Wednesday</th>\n",
       "      <th>Thursday</th>\n",
       "      <th>Friday</th>\n",
       "      <th>Saturday</th>\n",
       "      <th>Sunday</th>\n",
       "    </tr>\n",
       "    <tr>\n",
       "      <th>business_id</th>\n",
       "      <th></th>\n",
       "      <th></th>\n",
       "      <th></th>\n",
       "      <th></th>\n",
       "      <th></th>\n",
       "      <th></th>\n",
       "      <th></th>\n",
       "      <th></th>\n",
       "      <th></th>\n",
       "      <th></th>\n",
       "      <th></th>\n",
       "      <th></th>\n",
       "      <th></th>\n",
       "      <th></th>\n",
       "      <th></th>\n",
       "      <th></th>\n",
       "      <th></th>\n",
       "      <th></th>\n",
       "      <th></th>\n",
       "      <th></th>\n",
       "      <th></th>\n",
       "    </tr>\n",
       "  </thead>\n",
       "  <tbody>\n",
       "    <tr>\n",
       "      <th>lpQziF9QCVZQRkxac1xzcw</th>\n",
       "      <td>-0.155783</td>\n",
       "      <td>-0.475781</td>\n",
       "      <td>0.426501</td>\n",
       "      <td>-0.446236</td>\n",
       "      <td>1</td>\n",
       "      <td>1</td>\n",
       "      <td>0</td>\n",
       "      <td>1</td>\n",
       "      <td>1</td>\n",
       "      <td>0</td>\n",
       "      <td>...</td>\n",
       "      <td>1</td>\n",
       "      <td>1</td>\n",
       "      <td>0</td>\n",
       "      <td>1</td>\n",
       "      <td>1</td>\n",
       "      <td>1</td>\n",
       "      <td>1</td>\n",
       "      <td>1</td>\n",
       "      <td>1</td>\n",
       "      <td>1</td>\n",
       "    </tr>\n",
       "  </tbody>\n",
       "</table>\n",
       "<p>1 rows × 44 columns</p>\n",
       "</div>"
      ],
      "text/plain": [
       "                        latitude  longitude     stars  review_count  is_open  \\\n",
       "business_id                                                                    \n",
       "lpQziF9QCVZQRkxac1xzcw -0.155783  -0.475781  0.426501     -0.446236        1   \n",
       "\n",
       "                        RestaurantsGoodForGroups  OutdoorSeating  \\\n",
       "business_id                                                        \n",
       "lpQziF9QCVZQRkxac1xzcw                         1               0   \n",
       "\n",
       "                        BusinessAcceptsCreditCards  RestaurantsTakeOut  \\\n",
       "business_id                                                              \n",
       "lpQziF9QCVZQRkxac1xzcw                           1                   1   \n",
       "\n",
       "                        GoodForKids  ...  Ambience_casual  Parking  music  \\\n",
       "business_id                          ...                                    \n",
       "lpQziF9QCVZQRkxac1xzcw            0  ...                1        1      0   \n",
       "\n",
       "                        Monday  Tuesday  Wednesday  Thursday  Friday  \\\n",
       "business_id                                                            \n",
       "lpQziF9QCVZQRkxac1xzcw       1        1          1         1       1   \n",
       "\n",
       "                        Saturday  Sunday  \n",
       "business_id                               \n",
       "lpQziF9QCVZQRkxac1xzcw         1       1  \n",
       "\n",
       "[1 rows x 44 columns]"
      ]
     },
     "execution_count": 13,
     "metadata": {},
     "output_type": "execute_result"
    },
    {
     "data": {
      "text/plain": [
       "(1728, 44)"
      ]
     },
     "execution_count": 13,
     "metadata": {},
     "output_type": "execute_result"
    }
   ],
   "source": [
    "bus_df_subset.head(1)\n",
    "bus_df_subset.shape"
   ]
  },
  {
   "cell_type": "markdown",
   "metadata": {},
   "source": [
    "### Calculate truncated SVD and use reduced data to calculate similarity"
   ]
  },
  {
   "cell_type": "code",
   "execution_count": 49,
   "metadata": {},
   "outputs": [
    {
     "data": {
      "text/plain": [
       "<BarContainer object of 44 artists>"
      ]
     },
     "execution_count": 49,
     "metadata": {},
     "output_type": "execute_result"
    },
    {
     "data": {
      "image/png": "[encoded data removed]",
      "text/plain": [
       "<Figure size 432x288 with 1 Axes>"
      ]
     },
     "metadata": {
      "needs_background": "light"
     },
     "output_type": "display_data"
    }
   ],
   "source": [
    "u, s, vt  = np.linalg.svd(bus_df_subset.iloc[:,:])\n",
    "plt.bar(range(len(s)),s)\n",
    "plt.show()\n"
   ]
  },
  {
   "cell_type": "code",
   "execution_count": 146,
   "metadata": {},
   "outputs": [
    {
     "data": {
      "text/plain": [
       "<BarContainer object of 44 artists>"
      ]
     },
     "execution_count": 146,
     "metadata": {},
     "output_type": "execute_result"
    },
    {
     "data": {
      "text/plain": [
       "[<matplotlib.lines.Line2D at 0x7ff82d4fb7d0>]"
      ]
     },
     "execution_count": 146,
     "metadata": {},
     "output_type": "execute_result"
    },
    {
     "data": {
      "text/plain": [
       "Text(0.5, 1.0, 'Singular values of restaurant features')"
      ]
     },
     "execution_count": 146,
     "metadata": {},
     "output_type": "execute_result"
    },
    {
     "data": {
      "text/plain": [
       "Text(0.5, 0, 'Dimension')"
      ]
     },
     "execution_count": 146,
     "metadata": {},
     "output_type": "execute_result"
    },
    {
     "data": {
      "text/plain": [
       "Text(0, 0.5, 'Singular values')"
      ]
     },
     "execution_count": 146,
     "metadata": {},
     "output_type": "execute_result"
    },
    {
     "data": {
      "text/plain": [
       "<matplotlib.legend.Legend at 0x7ff82d4658d0>"
      ]
     },
     "execution_count": 146,
     "metadata": {},
     "output_type": "execute_result"
    },
    {
     "data": {
      "image/png": "[encoded data removed]",
      "text/plain": [
       "<Figure size 432x288 with 1 Axes>"
      ]
     },
     "metadata": {
      "needs_background": "light"
     },
     "output_type": "display_data"
    }
   ],
   "source": [
    "u, s, vt  = np.linalg.svd(bus_df_subset.iloc[:,:])\n",
    "plt.bar(range(len(s)),s)\n",
    "plt.plot([10 for i in np.linspace(0,150,10)], np.linspace(0,150,10),\"r\", label = \"cut-off point\")\n",
    "plt.title(\"Singular values of restaurant features\")\n",
    "plt.xlabel(\"Dimension\")\n",
    "plt.ylabel(\"Singular values\")\n",
    "plt.legend(loc = \"best\")\n",
    "plt.show()"
   ]
  },
  {
   "cell_type": "code",
   "execution_count": 149,
   "metadata": {},
   "outputs": [
    {
     "data": {
      "text/plain": [
       "array([0.65611801, 0.72135899, 0.77086239, 0.81148973, 0.84739164,\n",
       "       0.86647742, 0.88110888, 0.89351775, 0.90494873, 0.91512764])"
      ]
     },
     "execution_count": 149,
     "metadata": {},
     "output_type": "execute_result"
    }
   ],
   "source": [
    "np.cumsum(s**2/np.sum(s**2))[:10]"
   ]
  },
  {
   "cell_type": "markdown",
   "metadata": {},
   "source": [
    "### Choose top 10 singular values based on the above chart"
   ]
  },
  {
   "cell_type": "code",
   "execution_count": 26,
   "metadata": {},
   "outputs": [],
   "source": [
    "   \n",
    "def get_buscosine_sim(business,n_components):\n",
    "    SVD = TruncatedSVD(n_components = n_components , random_state = 42) # 42 is the ultimate answer to everything\n",
    "    bus_truncated = SVD.fit_transform(business)\n",
    "    \n",
    "    cosine_sim = cosine_similarity(bus_truncated, bus_truncated)\n",
    "    return cosine_sim"
   ]
  },
  {
   "cell_type": "markdown",
   "metadata": {},
   "source": [
    "### * the two types of similarity measures yield materially different distributions, to be tested for which is better"
   ]
  },
  {
   "cell_type": "code",
   "execution_count": 29,
   "metadata": {},
   "outputs": [
    {
     "data": {
      "text/plain": [
       "(1728, 1728)"
      ]
     },
     "execution_count": 29,
     "metadata": {},
     "output_type": "execute_result"
    }
   ],
   "source": [
    "bus_cos_sim = get_buscosine_sim(bus_df_subset, 10)\n",
    "df_cos_sim  = pd.DataFrame(bus_cos_sim, index= bus_df_subset.index.values, columns=bus_df_subset.index.values)\n",
    "bus_cos_sim.shape"
   ]
  },
  {
   "cell_type": "markdown",
   "metadata": {},
   "source": [
    "### Tuning optimal values for k (neighbors), also test the two similarity measures"
   ]
  },
  {
   "cell_type": "code",
   "execution_count": 38,
   "metadata": {},
   "outputs": [
    {
     "name": "stdout",
     "output_type": "stream",
     "text": [
      "time elapsed: (seconds)\n",
      "4269.55\n"
     ]
    },
    {
     "data": {
      "text/plain": [
       "<matplotlib.axes._subplots.AxesSubplot at 0x7ff9457732d0>"
      ]
     },
     "execution_count": 38,
     "metadata": {},
     "output_type": "execute_result"
    },
    {
     "name": "stdout",
     "output_type": "stream",
     "text": [
      "optimal k (nearest neighbors):\n",
      "   ks similarity sample_size      rmse       mae\n",
      "1  15        cos       19500  1.336647  1.008416\n"
     ]
    },
    {
     "data": {
      "image/png": "[encoded data removed]",
      "text/plain": [
       "<Figure size 432x288 with 1 Axes>"
      ]
     },
     "metadata": {
      "needs_background": "light"
     },
     "output_type": "display_data"
    }
   ],
   "source": [
    "t0 = time.time()\n",
    "df_pred_results_bus = pd.DataFrame(columns= [\"ks\", \"similarity\", \"sample_size\", \"rmse\", \"mae\"])\n",
    "sample_sizes = [len(valid_df)]\n",
    "ks = [5,15,25, 35, 45, 55]\n",
    "similarity = [\"cos\" ]\n",
    "\n",
    "for sim in similarity:\n",
    "    if sim == \"eucl\":\n",
    "        df_bus_sim = df_eucl_sim.copy()\n",
    "    else:\n",
    "        df_bus_sim = df_cos_sim.copy()\n",
    "    \n",
    "    for sample_size in sample_sizes:\n",
    "        for k in ks:\n",
    "            valid = CB_NLP_predict(train_df, valid_df.sample(n = sample_size, random_state = 12), df_bus_sim, k)\n",
    "            rmse = mean_squared_error(valid.dropna().prediction_ratings, valid.dropna().true_ratings)**0.5\n",
    "            mae = mean_absolute_error(valid.dropna().prediction_ratings, valid.dropna().true_ratings)\n",
    "            df_pred_results_bus = df_pred_results_bus.append({\"ks\": k, \"similarity\": sim,  \"sample_size\": sample_size,\n",
    "                                                      \"rmse\": rmse, \"mae\": mae}, ignore_index = True)\n",
    "t1 = time.time()\n",
    "print(\"time elapsed: (seconds)\")\n",
    "print(np.round(t1 - t0,3))\n",
    "\n",
    "df_pred_results_bus[(df_pred_results_bus[\"sample_size\"] == sample_size) &(df_pred_results_bus[\"similarity\"] == \"cos\")].plot(\"ks\", \"rmse\")\n",
    "print(\"optimal k (nearest neighbors):\")\n",
    "print(df_pred_results_bus.loc[df_pred_results_bus[\"rmse\"] == np.min(df_pred_results_bus.rmse) ,])\n",
    "\n",
    "df_pred_results_bus.to_csv(\"../data/Content_Based_Filtering_Bus_nonNLP_Evaluation.csv\",index = False)"
   ]
  },
  {
   "cell_type": "code",
   "execution_count": 210,
   "metadata": {},
   "outputs": [
    {
     "data": {
      "text/plain": [
       "[<matplotlib.lines.Line2D at 0x7ff7b6f2bd50>]"
      ]
     },
     "execution_count": 210,
     "metadata": {},
     "output_type": "execute_result"
    },
    {
     "data": {
      "text/plain": [
       "(array([ 0., 10., 20., 30., 40., 50., 60.]),\n",
       " <a list of 7 Text xticklabel objects>)"
      ]
     },
     "execution_count": 210,
     "metadata": {},
     "output_type": "execute_result"
    },
    {
     "data": {
      "text/plain": [
       "(array([1.784, 1.786, 1.788, 1.79 , 1.792, 1.794, 1.796, 1.798, 1.8  ,\n",
       "        1.802]),\n",
       " <a list of 10 Text yticklabel objects>)"
      ]
     },
     "execution_count": 210,
     "metadata": {},
     "output_type": "execute_result"
    },
    {
     "data": {
      "text/plain": [
       "[<matplotlib.lines.Line2D at 0x7ff7b7f6be90>]"
      ]
     },
     "execution_count": 210,
     "metadata": {},
     "output_type": "execute_result"
    },
    {
     "data": {
      "text/plain": [
       "<matplotlib.legend.Legend at 0x7ff7b7f51690>"
      ]
     },
     "execution_count": 210,
     "metadata": {},
     "output_type": "execute_result"
    },
    {
     "data": {
      "text/plain": [
       "Text(0.5, 0, 'k')"
      ]
     },
     "execution_count": 210,
     "metadata": {},
     "output_type": "execute_result"
    },
    {
     "data": {
      "text/plain": [
       "Text(0, 0.5, 'MSE')"
      ]
     },
     "execution_count": 210,
     "metadata": {},
     "output_type": "execute_result"
    },
    {
     "data": {
      "text/plain": [
       "Text(0.5, 1.0, 'Content Based Model (Restaurant Attribute): k vs MSE')"
      ]
     },
     "execution_count": 210,
     "metadata": {},
     "output_type": "execute_result"
    },
    {
     "data": {
      "image/png": "[encoded data removed]",
      "text/plain": [
       "<Figure size 720x576 with 1 Axes>"
      ]
     },
     "metadata": {
      "needs_background": "light"
     },
     "output_type": "display_data"
    }
   ],
   "source": [
    "fig, ax = plt.subplots(figsize=(10,8))\n",
    "\n",
    "optimal = df_pred_results_bus.loc[df_pred_results_bus[\"rmse\"] == np.min(df_pred_results_bus.rmse),]\n",
    "\n",
    "plt.plot(df_pred_results_bus[\"ks\"], np.round(df_pred_results_bus[\"rmse\"]**2,10), \n",
    "         label = \"Validation set\", linewidth = 2, color =\"blue\")\n",
    "plt.xticks(fontsize=16);\n",
    "plt.yticks(fontsize=16);\n",
    "plt.plot(optimal[\"ks\"], np.round(optimal[\"rmse\"]**2,10), \"ro\", label = \"Optimal k: {}\".format(15))\n",
    "plt.legend(loc = \"best\", fontsize = 14)\n",
    "plt.xlabel(\"k\", fontsize = 24)\n",
    "plt.ylabel(\"MSE\", fontsize = 24)\n",
    "plt.title(\"Content Based Model (Restaurant Attribute): k vs MSE\",fontsize=24)"
   ]
  },
  {
   "cell_type": "code",
   "execution_count": 187,
   "metadata": {},
   "outputs": [
    {
     "name": "stdout",
     "output_type": "stream",
     "text": [
      "time elapsed: (seconds)\n",
      "1354.296\n",
      "1.7866242990130192\n"
     ]
    }
   ],
   "source": [
    "### Generate predictions using optimized parameters\n",
    "\n",
    "t0 = time.time()\n",
    "k = 15\n",
    "    \n",
    "valid = CB_NLP_predict(train_df, valid_df, df_cos_sim, k)\n",
    "mse = mean_squared_error(valid.dropna().prediction_ratings, valid.dropna().true_ratings)\n",
    "mae = mean_absolute_error(valid.dropna().prediction_ratings, valid.dropna().true_ratings)\n",
    "\n",
    "t1 = time.time()\n",
    "print(\"time elapsed: (seconds)\")\n",
    "print(np.round(t1 - t0,3))\n",
    "print(mse)\n",
    "\n",
    "valid.to_csv(\"../data/Predictions_CB_bus.csv\",index = False)"
   ]
  },
  {
   "cell_type": "code",
   "execution_count": 27,
   "metadata": {
    "scrolled": false
   },
   "outputs": [],
   "source": []
  }
 ],
 "metadata": {
  "kernelspec": {
   "display_name": "Python 3",
   "language": "python",
   "name": "python3"
  },
  "language_info": {
   "codemirror_mode": {
    "name": "ipython",
    "version": 3
   },
   "file_extension": ".py",
   "mimetype": "text/x-python",
   "name": "python",
   "nbconvert_exporter": "python",
   "pygments_lexer": "ipython3",
   "version": "3.7.6"
  },
  "varInspector": {
   "cols": {
    "lenName": 16,
    "lenType": 16,
    "lenVar": 40
   },
   "kernels_config": {
    "python": {
     "delete_cmd_postfix": "",
     "delete_cmd_prefix": "del ",
     "library": "var_list.py",
     "varRefreshCmd": "print(var_dic_list())"
    },
    "r": {
     "delete_cmd_postfix": ") ",
     "delete_cmd_prefix": "rm(",
     "library": "var_list.r",
     "varRefreshCmd": "cat(var_dic_list()) "
    }
   },
   "types_to_exclude": [
    "module",
    "function",
    "builtin_function_or_method",
    "instance",
    "_Feature"
   ],
   "window_display": false
  }
 },
 "nbformat": 4,
 "nbformat_minor": 4
}
