{
 "cells": [
  {
   "cell_type": "code",
   "execution_count": 2,
   "metadata": {},
   "outputs": [
    {
     "ename": "ModuleNotFoundError",
     "evalue": "No module named 'Utils'",
     "output_type": "error",
     "traceback": [
      "\u001b[0;31m---------------------------------------------------------------------------\u001b[0m",
      "\u001b[0;31mModuleNotFoundError\u001b[0m                       Traceback (most recent call last)",
      "\u001b[0;32m<ipython-input-2-69e9bd9e1e3a>\u001b[0m in \u001b[0;36m<module>\u001b[0;34m\u001b[0m\n\u001b[1;32m     52\u001b[0m \u001b[0;32mimport\u001b[0m \u001b[0mpickle\u001b[0m\u001b[0;34m\u001b[0m\u001b[0;34m\u001b[0m\u001b[0m\n\u001b[1;32m     53\u001b[0m \u001b[0;32mimport\u001b[0m \u001b[0mtime\u001b[0m\u001b[0;34m\u001b[0m\u001b[0;34m\u001b[0m\u001b[0m\n\u001b[0;32m---> 54\u001b[0;31m \u001b[0;32mimport\u001b[0m \u001b[0mUtils\u001b[0m \u001b[0;32mas\u001b[0m \u001b[0mutil\u001b[0m\u001b[0;34m\u001b[0m\u001b[0;34m\u001b[0m\u001b[0m\n\u001b[0m",
      "\u001b[0;31mModuleNotFoundError\u001b[0m: No module named 'Utils'"
     ]
    }
   ],
   "source": [
    "import pandas as pd\n",
    "import numpy as np\n",
    "import matplotlib.pyplot as plt\n",
    "\n",
    "from IPython.core.interactiveshell import InteractiveShell\n",
    "InteractiveShell.ast_node_interactivity = \"all\"\n",
    "\n",
    "import os\n",
    "import re, string, unicodedata\n",
    "import nltk\n",
    "import contractions\n",
    "import inflect\n",
    "\n",
    "import lime\n",
    "from lime import lime_text\n",
    "from lime.lime_text import LimeTextExplainer\n",
    "\n",
    "import re\n",
    "\n",
    "from wordcloud import WordCloud, STOPWORDS\n",
    "\n",
    "import nltk\n",
    "# import contractions\n",
    "import inflect\n",
    "from nltk import word_tokenize, sent_tokenize\n",
    "from nltk.corpus import stopwords\n",
    "from nltk import SnowballStemmer\n",
    "from nltk.stem import LancasterStemmer, WordNetLemmatizer\n",
    "\n",
    "\n",
    "from sklearn import metrics\n",
    "from sklearn.model_selection import train_test_split\n",
    "# from keras.preprocessing.sequence import pad_sequences\n",
    "\n",
    "from sklearn.metrics import confusion_matrix, classification_report\n",
    "from sklearn.feature_extraction.text import TfidfVectorizer\n",
    "from sklearn.decomposition import TruncatedSVD\n",
    "from sklearn.metrics.pairwise import cosine_similarity\n",
    "from sklearn.metrics import mean_squared_error\n",
    "from sklearn.metrics import mean_absolute_error\n",
    "from sklearn.metrics.pairwise import euclidean_distances\n",
    "from sklearn.preprocessing import StandardScaler\n",
    "from sklearn.preprocessing import OneHotEncoder\n",
    "\n",
    "import scipy\n",
    "\n",
    "from gensim import corpora\n",
    "from gensim import corpora\n",
    "from gensim.similarities.docsim import Similarity\n",
    "from gensim import corpora, models, similarities\n",
    "\n",
    "import pickle\n",
    "import time\n",
    "import Utils as util"
   ]
  },
  {
   "cell_type": "code",
   "execution_count": 2,
   "metadata": {},
   "outputs": [
    {
     "name": "stdout",
     "output_type": "stream",
     "text": [
      "unique users in training set: 19683\n",
      "unique businesses in training set: 1728\n",
      "unique users in test set: 19500\n",
      "unique businesses in test set: 1672\n"
     ]
    }
   ],
   "source": [
    "rev_busi_Pho= pd.read_csv('../data/filtered_reviews_in_Phonex.csv', parse_dates=[\"date\"])\n",
    "# train_valid_df  = pickle.load(open('../data/train_valid_df.pkl', \"rb\"))\n",
    "test_df = pickle.load(open('../data/test_df.pkl', \"rb\"))\n",
    "\n",
    "train_df  = pickle.load(open('../data/train_df.pkl', \"rb\"))\n",
    "valid_df = pickle.load(open('../data/valid_df.pkl', \"rb\"))\n",
    "\n",
    "bus_df_subset = pd.read_csv(\"../data/business_subset_cleaned.csv\", index_col= \"business_id\")\n",
    "print(\"unique users in training set:\", train_valid_df[\"user_id\"].nunique())\n",
    "print(\"unique businesses in training set:\", train_valid_df[\"business_id\"].nunique())\n",
    "print(\"unique users in test set:\", test_df[\"user_id\"].nunique())\n",
    "print(\"unique businesses in test set:\", test_df[\"business_id\"].nunique())"
   ]
  },
  {
   "cell_type": "code",
   "execution_count": 9,
   "metadata": {},
   "outputs": [
    {
     "name": "stdout",
     "output_type": "stream",
     "text": [
      "   ks  n_topics  sample_size      rmse       mae\n",
      "6  50       150        19500  1.338092  1.010049\n"
     ]
    }
   ],
   "source": [
    "t0 = time.time()\n",
    "df_pred_results_lsi1 = pd.DataFrame(columns= [\"ks\",\"n_topics\",\"sample_size\", \"rmse\", \"mae\"])\n",
    "# sample_sizes = [100]\n",
    "ks = [50]\n",
    "n_topics = [50, 100, 150, 200]\n",
    "df_texts = pickle.load(open('../data/text_train_valid_df.pkl', \"rb\")) # text data processed in the previous step\n",
    "# for sample_size in sample_sizes:\n",
    "for k in ks:\n",
    "    for n_topic in n_topics:\n",
    "        test = util.CB_LSI_predict(df_texts,train_df, valid_df, k = k, n_topics = n_topic)\n",
    "        rmse = mean_squared_error(test.dropna().pred_lsi, test.dropna().ratings)**0.5\n",
    "        mae = mean_absolute_error(test.dropna().pred_lsi, test.dropna().ratings)\n",
    "        df_pred_results_lsi1 = df_pred_results_lsi1.append({\"ks\": k, \"n_topics\": n_topic,\"sample_size\": len(test_df),\n",
    "                                \"rmse\": rmse, \"mae\": mae}, ignore_index = True)\n",
    "t1=  time.time()\n",
    "print(\"time elapsed: (seconds)\")\n",
    "print(np.round(t1- t0,3))\n",
    "\n",
    "df_pred_results_lsi1\n",
    "print(df_pred_results_lsi1.loc[df_pred_results_lsi1[\"rmse\"] == np.min(df_pred_results_lsi1.rmse),])\n",
    "\n"
   ]
  },
  {
   "cell_type": "code",
   "execution_count": 6,
   "metadata": {},
   "outputs": [],
   "source": [
    "df_pred_results_lsi1.to_csv(\"../data/Results_CB_LSI.csv\", index = False)"
   ]
  },
  {
   "cell_type": "code",
   "execution_count": 18,
   "metadata": {},
   "outputs": [
    {
     "data": {
      "text/plain": [
       "<Figure size 432x288 with 0 Axes>"
      ]
     },
     "execution_count": 18,
     "metadata": {},
     "output_type": "execute_result"
    },
    {
     "data": {
      "text/plain": [
       "[<matplotlib.lines.Line2D at 0x7fa7ba11a650>]"
      ]
     },
     "execution_count": 18,
     "metadata": {},
     "output_type": "execute_result"
    },
    {
     "data": {
      "text/plain": [
       "[<matplotlib.lines.Line2D at 0x7fa7b5ca41d0>]"
      ]
     },
     "execution_count": 18,
     "metadata": {},
     "output_type": "execute_result"
    },
    {
     "data": {
      "text/plain": [
       "<matplotlib.legend.Legend at 0x7fa7b9d77f10>"
      ]
     },
     "execution_count": 18,
     "metadata": {},
     "output_type": "execute_result"
    },
    {
     "data": {
      "text/plain": [
       "Text(0.5, 0, 'n_topics')"
      ]
     },
     "execution_count": 18,
     "metadata": {},
     "output_type": "execute_result"
    },
    {
     "data": {
      "text/plain": [
       "Text(0, 0.5, 'MSE')"
      ]
     },
     "execution_count": 18,
     "metadata": {},
     "output_type": "execute_result"
    },
    {
     "data": {
      "text/plain": [
       "Text(0.5, 1.0, 'Content Based Model (LSI) : n_topics vs MSE')"
      ]
     },
     "execution_count": 18,
     "metadata": {},
     "output_type": "execute_result"
    },
    {
     "data": {
      "image/png": "[encoded data removed]",
      "text/plain": [
       "<Figure size 432x288 with 1 Axes>"
      ]
     },
     "metadata": {
      "needs_background": "light"
     },
     "output_type": "display_data"
    }
   ],
   "source": [
    "optimal = df_pred_results_lsi.loc[df_pred_results_lsi[\"rmse\"] == np.min(df_pred_results_lsi.rmse),]\n",
    "plt.figure()\n",
    "plt.plot(df_pred_results_lsi[\"n_topics\"], df_pred_results_lsi[\"rmse\"]**2, label = \"MSE\")\n",
    "plt.plot(optimal[\"n_topics\"], optimal[\"rmse\"]**2, \"ro\", label = \"Optimal n_topics: {}\".format(150))\n",
    "plt.legend()\n",
    "plt.xlabel(\"n_topics\")\n",
    "plt.ylabel(\"MSE\")\n",
    "plt.title(\"Content Based Model (LSI) : n_topics vs MSE\")"
   ]
  },
  {
   "cell_type": "code",
   "execution_count": null,
   "metadata": {},
   "outputs": [],
   "source": []
  }
 ],
 "metadata": {
  "kernelspec": {
   "display_name": "Python 3",
   "language": "python",
   "name": "python3"
  },
  "language_info": {
   "codemirror_mode": {
    "name": "ipython",
    "version": 3
   },
   "file_extension": ".py",
   "mimetype": "text/x-python",
   "name": "python",
   "nbconvert_exporter": "python",
   "pygments_lexer": "ipython3",
   "version": "3.7.6"
  },
  "varInspector": {
   "cols": {
    "lenName": 16,
    "lenType": 16,
    "lenVar": 40
   },
   "kernels_config": {
    "python": {
     "delete_cmd_postfix": "",
     "delete_cmd_prefix": "del ",
     "library": "var_list.py",
     "varRefreshCmd": "print(var_dic_list())"
    },
    "r": {
     "delete_cmd_postfix": ") ",
     "delete_cmd_prefix": "rm(",
     "library": "var_list.r",
     "varRefreshCmd": "cat(var_dic_list()) "
    }
   },
   "types_to_exclude": [
    "module",
    "function",
    "builtin_function_or_method",
    "instance",
    "_Feature"
   ],
   "window_display": false
  }
 },
 "nbformat": 4,
 "nbformat_minor": 4
}
