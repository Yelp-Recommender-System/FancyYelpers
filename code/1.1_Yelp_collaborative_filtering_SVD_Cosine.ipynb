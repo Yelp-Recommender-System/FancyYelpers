{
 "cells": [
  {
   "cell_type": "code",
   "execution_count": 212,
   "metadata": {},
   "outputs": [],
   "source": [
    "## preps\n",
    "import json\n",
    "import numpy as np\n",
    "import pandas as pd\n",
    "import matplotlib.pyplot as plt\n",
    "import scipy.sparse as sparse\n",
    "from scipy.sparse import csr_matrix\n",
    "%matplotlib inline\n",
    "\n",
    "from sklearn.metrics import mean_squared_error"
   ]
  },
  {
   "cell_type": "code",
   "execution_count": 7,
   "metadata": {},
   "outputs": [],
   "source": [
    "# Load three pre-processed datasets: reviews data, business data for selected candidate cities\n",
    "\n",
    "## The restaurants in the five candidate cities\n",
    "df_res_bus = pd.read_csv(\"business_data_subset.csv\", index_col= None)\n",
    "### reviews in the top ten candidate cities\n",
    "reviews = pd.read_csv(\"reviews_data_subset.csv\")"
   ]
  },
  {
   "cell_type": "code",
   "execution_count": 8,
   "metadata": {},
   "outputs": [
    {
     "data": {
      "text/html": [
       "<div>\n",
       "<style scoped>\n",
       "    .dataframe tbody tr th:only-of-type {\n",
       "        vertical-align: middle;\n",
       "    }\n",
       "\n",
       "    .dataframe tbody tr th {\n",
       "        vertical-align: top;\n",
       "    }\n",
       "\n",
       "    .dataframe thead th {\n",
       "        text-align: right;\n",
       "    }\n",
       "</style>\n",
       "<table border=\"1\" class=\"dataframe\">\n",
       "  <thead>\n",
       "    <tr style=\"text-align: right;\">\n",
       "      <th></th>\n",
       "      <th>review_id</th>\n",
       "      <th>user_id</th>\n",
       "      <th>business_id</th>\n",
       "      <th>stars</th>\n",
       "      <th>useful</th>\n",
       "      <th>funny</th>\n",
       "      <th>cool</th>\n",
       "      <th>text</th>\n",
       "      <th>date</th>\n",
       "      <th>city</th>\n",
       "      <th>categories</th>\n",
       "      <th>review_count</th>\n",
       "    </tr>\n",
       "  </thead>\n",
       "  <tbody>\n",
       "    <tr>\n",
       "      <th>0</th>\n",
       "      <td>i6g_oA9Yf9Y31qt0wibXpw</td>\n",
       "      <td>ofKDkJKXSKZXu5xJNGiiBQ</td>\n",
       "      <td>5JxlZaqCnk1MnbgRirs40Q</td>\n",
       "      <td>1.0</td>\n",
       "      <td>0.0</td>\n",
       "      <td>0.0</td>\n",
       "      <td>0.0</td>\n",
       "      <td>Dismal, lukewarm, defrosted-tasting \"TexMex\" g...</td>\n",
       "      <td>2011-05-27 05:30:52</td>\n",
       "      <td>Las Vegas</td>\n",
       "      <td>Restaurants, Mexican</td>\n",
       "      <td>56.0</td>\n",
       "    </tr>\n",
       "    <tr>\n",
       "      <th>1</th>\n",
       "      <td>Q9pkOKlRbHZy1pTUkTcBnQ</td>\n",
       "      <td>m-BZLIIh5PCAKnzH0qj_0Q</td>\n",
       "      <td>5JxlZaqCnk1MnbgRirs40Q</td>\n",
       "      <td>3.0</td>\n",
       "      <td>2.0</td>\n",
       "      <td>1.0</td>\n",
       "      <td>1.0</td>\n",
       "      <td>The three stars here don't represent a real re...</td>\n",
       "      <td>2012-06-26 07:51:00</td>\n",
       "      <td>Las Vegas</td>\n",
       "      <td>Restaurants, Mexican</td>\n",
       "      <td>56.0</td>\n",
       "    </tr>\n",
       "    <tr>\n",
       "      <th>2</th>\n",
       "      <td>Y6hcNJ2bek3hSG4wm4UHKQ</td>\n",
       "      <td>PKEzKWv_FktMm2mGPjwd0Q</td>\n",
       "      <td>5JxlZaqCnk1MnbgRirs40Q</td>\n",
       "      <td>4.0</td>\n",
       "      <td>4.0</td>\n",
       "      <td>1.0</td>\n",
       "      <td>1.0</td>\n",
       "      <td>I've been here several times, but I never revi...</td>\n",
       "      <td>2011-02-15 02:35:38</td>\n",
       "      <td>Las Vegas</td>\n",
       "      <td>Restaurants, Mexican</td>\n",
       "      <td>56.0</td>\n",
       "    </tr>\n",
       "    <tr>\n",
       "      <th>3</th>\n",
       "      <td>E7Qtf8zR-e2wXFpVuaNDWQ</td>\n",
       "      <td>GdnJtqYWVSBAjya-WdN5RQ</td>\n",
       "      <td>5JxlZaqCnk1MnbgRirs40Q</td>\n",
       "      <td>2.0</td>\n",
       "      <td>2.0</td>\n",
       "      <td>0.0</td>\n",
       "      <td>0.0</td>\n",
       "      <td>I took my folks here last weekend for dinner o...</td>\n",
       "      <td>2012-05-30 18:54:30</td>\n",
       "      <td>Las Vegas</td>\n",
       "      <td>Restaurants, Mexican</td>\n",
       "      <td>56.0</td>\n",
       "    </tr>\n",
       "    <tr>\n",
       "      <th>4</th>\n",
       "      <td>Q3kju7l36U0KWfuZRL_wlw</td>\n",
       "      <td>bX_VFU48rabrU_yHNL2XZg</td>\n",
       "      <td>5JxlZaqCnk1MnbgRirs40Q</td>\n",
       "      <td>4.0</td>\n",
       "      <td>0.0</td>\n",
       "      <td>0.0</td>\n",
       "      <td>0.0</td>\n",
       "      <td>Above average in taste &amp; presentation, which i...</td>\n",
       "      <td>2012-11-07 00:05:33</td>\n",
       "      <td>Las Vegas</td>\n",
       "      <td>Restaurants, Mexican</td>\n",
       "      <td>56.0</td>\n",
       "    </tr>\n",
       "  </tbody>\n",
       "</table>\n",
       "</div>"
      ],
      "text/plain": [
       "                review_id                 user_id             business_id  \\\n",
       "0  i6g_oA9Yf9Y31qt0wibXpw  ofKDkJKXSKZXu5xJNGiiBQ  5JxlZaqCnk1MnbgRirs40Q   \n",
       "1  Q9pkOKlRbHZy1pTUkTcBnQ  m-BZLIIh5PCAKnzH0qj_0Q  5JxlZaqCnk1MnbgRirs40Q   \n",
       "2  Y6hcNJ2bek3hSG4wm4UHKQ  PKEzKWv_FktMm2mGPjwd0Q  5JxlZaqCnk1MnbgRirs40Q   \n",
       "3  E7Qtf8zR-e2wXFpVuaNDWQ  GdnJtqYWVSBAjya-WdN5RQ  5JxlZaqCnk1MnbgRirs40Q   \n",
       "4  Q3kju7l36U0KWfuZRL_wlw  bX_VFU48rabrU_yHNL2XZg  5JxlZaqCnk1MnbgRirs40Q   \n",
       "\n",
       "   stars  useful  funny  cool  \\\n",
       "0    1.0     0.0    0.0   0.0   \n",
       "1    3.0     2.0    1.0   1.0   \n",
       "2    4.0     4.0    1.0   1.0   \n",
       "3    2.0     2.0    0.0   0.0   \n",
       "4    4.0     0.0    0.0   0.0   \n",
       "\n",
       "                                                text                 date  \\\n",
       "0  Dismal, lukewarm, defrosted-tasting \"TexMex\" g...  2011-05-27 05:30:52   \n",
       "1  The three stars here don't represent a real re...  2012-06-26 07:51:00   \n",
       "2  I've been here several times, but I never revi...  2011-02-15 02:35:38   \n",
       "3  I took my folks here last weekend for dinner o...  2012-05-30 18:54:30   \n",
       "4  Above average in taste & presentation, which i...  2012-11-07 00:05:33   \n",
       "\n",
       "        city            categories  review_count  \n",
       "0  Las Vegas  Restaurants, Mexican          56.0  \n",
       "1  Las Vegas  Restaurants, Mexican          56.0  \n",
       "2  Las Vegas  Restaurants, Mexican          56.0  \n",
       "3  Las Vegas  Restaurants, Mexican          56.0  \n",
       "4  Las Vegas  Restaurants, Mexican          56.0  "
      ]
     },
     "execution_count": 8,
     "metadata": {},
     "output_type": "execute_result"
    }
   ],
   "source": [
    "## merge the two \n",
    "df_merge = pd.merge(reviews, df_res_bus[['city','categories', 'business_id',\"review_count\"]], how = \"outer\", on =\"business_id\")\n",
    "# df_toronto.to_csv(\"merged_Toronto_reviews.csv\", index = None)\n",
    "df_merge.head()"
   ]
  },
  {
   "cell_type": "markdown",
   "metadata": {},
   "source": [
    "## Set the city:"
   ]
  },
  {
   "cell_type": "code",
   "execution_count": 9,
   "metadata": {},
   "outputs": [],
   "source": [
    "city = \"Phoenix\""
   ]
  },
  {
   "cell_type": "code",
   "execution_count": 20,
   "metadata": {},
   "outputs": [
    {
     "data": {
      "text/plain": [
       "(510982, 9)"
      ]
     },
     "execution_count": 20,
     "metadata": {},
     "output_type": "execute_result"
    }
   ],
   "source": [
    "df_city_bus_ids = df_res_bus[df_res_bus[\"city\"] == city].business_id.unique()\n",
    "reviews_city = reviews[reviews[\"business_id\"].isin(df_city_bus_ids)]\n",
    "reviews_city.shape"
   ]
  },
  {
   "cell_type": "code",
   "execution_count": 21,
   "metadata": {},
   "outputs": [
    {
     "data": {
      "text/html": [
       "<div>\n",
       "<style scoped>\n",
       "    .dataframe tbody tr th:only-of-type {\n",
       "        vertical-align: middle;\n",
       "    }\n",
       "\n",
       "    .dataframe tbody tr th {\n",
       "        vertical-align: top;\n",
       "    }\n",
       "\n",
       "    .dataframe thead th {\n",
       "        text-align: right;\n",
       "    }\n",
       "</style>\n",
       "<table border=\"1\" class=\"dataframe\">\n",
       "  <thead>\n",
       "    <tr style=\"text-align: right;\">\n",
       "      <th></th>\n",
       "      <th>review_id</th>\n",
       "      <th>user_id</th>\n",
       "      <th>business_id</th>\n",
       "      <th>stars</th>\n",
       "      <th>useful</th>\n",
       "      <th>funny</th>\n",
       "      <th>cool</th>\n",
       "      <th>text</th>\n",
       "      <th>date</th>\n",
       "      <th>city</th>\n",
       "      <th>categories</th>\n",
       "      <th>review_count</th>\n",
       "    </tr>\n",
       "  </thead>\n",
       "  <tbody>\n",
       "    <tr>\n",
       "      <th>2382</th>\n",
       "      <td>UGErdm6bt48SXTVwJIti2Q</td>\n",
       "      <td>QodunSzok4nIYFNrTSGesQ</td>\n",
       "      <td>poSV39UqEg-gpESXafS9-g</td>\n",
       "      <td>3.0</td>\n",
       "      <td>0.0</td>\n",
       "      <td>0.0</td>\n",
       "      <td>0.0</td>\n",
       "      <td>My husband and I go there once a week since la...</td>\n",
       "      <td>2018-03-04 01:03:53</td>\n",
       "      <td>Phoenix</td>\n",
       "      <td>Restaurants, American (New), Seafood, Cajun/Cr...</td>\n",
       "      <td>384.0</td>\n",
       "    </tr>\n",
       "    <tr>\n",
       "      <th>2383</th>\n",
       "      <td>aBWKb49Xfkv1946YN7_SIg</td>\n",
       "      <td>sSPbLBHcEMXaJfoO8zs1bA</td>\n",
       "      <td>poSV39UqEg-gpESXafS9-g</td>\n",
       "      <td>5.0</td>\n",
       "      <td>0.0</td>\n",
       "      <td>0.0</td>\n",
       "      <td>0.0</td>\n",
       "      <td>Amazing food, drinks, service!\\n\\nWe started w...</td>\n",
       "      <td>2016-01-17 05:33:14</td>\n",
       "      <td>Phoenix</td>\n",
       "      <td>Restaurants, American (New), Seafood, Cajun/Cr...</td>\n",
       "      <td>384.0</td>\n",
       "    </tr>\n",
       "    <tr>\n",
       "      <th>2384</th>\n",
       "      <td>jCHaWXgppmZjkOdpFltWGA</td>\n",
       "      <td>D5ywfFmwtJxLReqAYlDDmw</td>\n",
       "      <td>poSV39UqEg-gpESXafS9-g</td>\n",
       "      <td>5.0</td>\n",
       "      <td>3.0</td>\n",
       "      <td>0.0</td>\n",
       "      <td>2.0</td>\n",
       "      <td>I couldn't be more excited to have found this ...</td>\n",
       "      <td>2016-01-30 01:13:29</td>\n",
       "      <td>Phoenix</td>\n",
       "      <td>Restaurants, American (New), Seafood, Cajun/Cr...</td>\n",
       "      <td>384.0</td>\n",
       "    </tr>\n",
       "    <tr>\n",
       "      <th>2385</th>\n",
       "      <td>KvJ8yT-dODmCYe21J-Pp_A</td>\n",
       "      <td>gjoN4q-f61kwjmmU4mm1_g</td>\n",
       "      <td>poSV39UqEg-gpESXafS9-g</td>\n",
       "      <td>2.0</td>\n",
       "      <td>0.0</td>\n",
       "      <td>0.0</td>\n",
       "      <td>0.0</td>\n",
       "      <td>The craft beers are very good, but that's abou...</td>\n",
       "      <td>2016-03-30 22:28:36</td>\n",
       "      <td>Phoenix</td>\n",
       "      <td>Restaurants, American (New), Seafood, Cajun/Cr...</td>\n",
       "      <td>384.0</td>\n",
       "    </tr>\n",
       "    <tr>\n",
       "      <th>2386</th>\n",
       "      <td>f88r8XKT_rPrKfyqfwRs3w</td>\n",
       "      <td>zJOGWBbq1mt3RLbKe9XgBg</td>\n",
       "      <td>poSV39UqEg-gpESXafS9-g</td>\n",
       "      <td>4.0</td>\n",
       "      <td>0.0</td>\n",
       "      <td>0.0</td>\n",
       "      <td>0.0</td>\n",
       "      <td>Great HH and awesome catfish dinner for only $...</td>\n",
       "      <td>2017-04-19 11:40:31</td>\n",
       "      <td>Phoenix</td>\n",
       "      <td>Restaurants, American (New), Seafood, Cajun/Cr...</td>\n",
       "      <td>384.0</td>\n",
       "    </tr>\n",
       "  </tbody>\n",
       "</table>\n",
       "</div>"
      ],
      "text/plain": [
       "                   review_id                 user_id             business_id  \\\n",
       "2382  UGErdm6bt48SXTVwJIti2Q  QodunSzok4nIYFNrTSGesQ  poSV39UqEg-gpESXafS9-g   \n",
       "2383  aBWKb49Xfkv1946YN7_SIg  sSPbLBHcEMXaJfoO8zs1bA  poSV39UqEg-gpESXafS9-g   \n",
       "2384  jCHaWXgppmZjkOdpFltWGA  D5ywfFmwtJxLReqAYlDDmw  poSV39UqEg-gpESXafS9-g   \n",
       "2385  KvJ8yT-dODmCYe21J-Pp_A  gjoN4q-f61kwjmmU4mm1_g  poSV39UqEg-gpESXafS9-g   \n",
       "2386  f88r8XKT_rPrKfyqfwRs3w  zJOGWBbq1mt3RLbKe9XgBg  poSV39UqEg-gpESXafS9-g   \n",
       "\n",
       "      stars  useful  funny  cool  \\\n",
       "2382    3.0     0.0    0.0   0.0   \n",
       "2383    5.0     0.0    0.0   0.0   \n",
       "2384    5.0     3.0    0.0   2.0   \n",
       "2385    2.0     0.0    0.0   0.0   \n",
       "2386    4.0     0.0    0.0   0.0   \n",
       "\n",
       "                                                   text                 date  \\\n",
       "2382  My husband and I go there once a week since la...  2018-03-04 01:03:53   \n",
       "2383  Amazing food, drinks, service!\\n\\nWe started w...  2016-01-17 05:33:14   \n",
       "2384  I couldn't be more excited to have found this ...  2016-01-30 01:13:29   \n",
       "2385  The craft beers are very good, but that's abou...  2016-03-30 22:28:36   \n",
       "2386  Great HH and awesome catfish dinner for only $...  2017-04-19 11:40:31   \n",
       "\n",
       "         city                                         categories  review_count  \n",
       "2382  Phoenix  Restaurants, American (New), Seafood, Cajun/Cr...         384.0  \n",
       "2383  Phoenix  Restaurants, American (New), Seafood, Cajun/Cr...         384.0  \n",
       "2384  Phoenix  Restaurants, American (New), Seafood, Cajun/Cr...         384.0  \n",
       "2385  Phoenix  Restaurants, American (New), Seafood, Cajun/Cr...         384.0  \n",
       "2386  Phoenix  Restaurants, American (New), Seafood, Cajun/Cr...         384.0  "
      ]
     },
     "execution_count": 21,
     "metadata": {},
     "output_type": "execute_result"
    }
   ],
   "source": [
    "df_city_res = df_merge[df_merge[\"city\"] == city]\n",
    "df_city_res.head()"
   ]
  },
  {
   "cell_type": "markdown",
   "metadata": {},
   "source": [
    "### The review distribution is highly skewed, with a majority of users leaving only 1 review"
   ]
  },
  {
   "cell_type": "code",
   "execution_count": 22,
   "metadata": {},
   "outputs": [
    {
     "name": "stdout",
     "output_type": "stream",
     "text": [
      "(190688,)\n",
      "count    190688.000000\n",
      "mean          2.679676\n",
      "std           6.866005\n",
      "min           1.000000\n",
      "25%           1.000000\n",
      "50%           1.000000\n",
      "75%           2.000000\n",
      "max         590.000000\n",
      "Name: review_id, dtype: float64\n"
     ]
    }
   ],
   "source": [
    "## keep restaurants with more than x reviews (x as threshold):\n",
    "review_counts = reviews_city.groupby(\"user_id\")[\"review_id\"].count().sort_values(ascending = True)\n",
    "print(review_counts.shape)\n",
    "print(review_counts.describe())"
   ]
  },
  {
   "cell_type": "code",
   "execution_count": 29,
   "metadata": {},
   "outputs": [
    {
     "name": "stdout",
     "output_type": "stream",
     "text": [
      "unique user ids:\n",
      "190688\n",
      "total reviews\n",
      "510982\n",
      "time span:\n",
      "2005-03-08 22:19:43\n",
      "2019-12-13 15:50:11\n"
     ]
    }
   ],
   "source": [
    "print(\"unique user ids:\")\n",
    "print(reviews_city[\"user_id\"].nunique())\n",
    "print(\"total reviews\")\n",
    "print(len(reviews_city))\n",
    "print(\"time span:\")\n",
    "print(np.min(reviews_city[\"date\"]))\n",
    "print(np.max(reviews_city[\"date\"]))"
   ]
  },
  {
   "cell_type": "code",
   "execution_count": 14,
   "metadata": {},
   "outputs": [
    {
     "data": {
      "text/html": [
       "<div>\n",
       "<style scoped>\n",
       "    .dataframe tbody tr th:only-of-type {\n",
       "        vertical-align: middle;\n",
       "    }\n",
       "\n",
       "    .dataframe tbody tr th {\n",
       "        vertical-align: top;\n",
       "    }\n",
       "\n",
       "    .dataframe thead th {\n",
       "        text-align: right;\n",
       "    }\n",
       "</style>\n",
       "<table border=\"1\" class=\"dataframe\">\n",
       "  <thead>\n",
       "    <tr style=\"text-align: right;\">\n",
       "      <th></th>\n",
       "      <th>review_id</th>\n",
       "      <th>user_id</th>\n",
       "      <th>business_id</th>\n",
       "      <th>stars</th>\n",
       "      <th>useful</th>\n",
       "      <th>funny</th>\n",
       "      <th>cool</th>\n",
       "      <th>text</th>\n",
       "      <th>date</th>\n",
       "    </tr>\n",
       "  </thead>\n",
       "  <tbody>\n",
       "    <tr>\n",
       "      <th>8</th>\n",
       "      <td>UGErdm6bt48SXTVwJIti2Q</td>\n",
       "      <td>QodunSzok4nIYFNrTSGesQ</td>\n",
       "      <td>poSV39UqEg-gpESXafS9-g</td>\n",
       "      <td>3.0</td>\n",
       "      <td>0.0</td>\n",
       "      <td>0.0</td>\n",
       "      <td>0.0</td>\n",
       "      <td>My husband and I go there once a week since la...</td>\n",
       "      <td>2018-03-04 01:03:53</td>\n",
       "    </tr>\n",
       "    <tr>\n",
       "      <th>12</th>\n",
       "      <td>-u8Oz_iSZACGwWW_pIT4zw</td>\n",
       "      <td>UreiTV1I9i-XF6_bJhK6Iw</td>\n",
       "      <td>d_q4avZYM1sOlQP7noJKVg</td>\n",
       "      <td>4.0</td>\n",
       "      <td>0.0</td>\n",
       "      <td>0.0</td>\n",
       "      <td>1.0</td>\n",
       "      <td>Always a fun outing to come for great hot dogs...</td>\n",
       "      <td>2018-04-15 11:13:11</td>\n",
       "    </tr>\n",
       "    <tr>\n",
       "      <th>19</th>\n",
       "      <td>Qee78a9rXvSfyVhCO9EK7A</td>\n",
       "      <td>NFebN50n-oXI7xgjP-Qixw</td>\n",
       "      <td>k1c_bC3DK6mKg797vH1T8w</td>\n",
       "      <td>5.0</td>\n",
       "      <td>0.0</td>\n",
       "      <td>0.0</td>\n",
       "      <td>0.0</td>\n",
       "      <td>A very busy restaurant, make reservations, but...</td>\n",
       "      <td>2015-03-18 17:46:46</td>\n",
       "    </tr>\n",
       "    <tr>\n",
       "      <th>31</th>\n",
       "      <td>2E-1IudsdLlrvR6-gP51og</td>\n",
       "      <td>dZudYQD1T2U5RSJeJWYCLw</td>\n",
       "      <td>kBJfBVaXJtPEKLTov1hJdQ</td>\n",
       "      <td>5.0</td>\n",
       "      <td>1.0</td>\n",
       "      <td>1.0</td>\n",
       "      <td>0.0</td>\n",
       "      <td>When I'm Arizona...we Reathrey Sekong! \\n\\nFoo...</td>\n",
       "      <td>2018-03-15 19:48:59</td>\n",
       "    </tr>\n",
       "    <tr>\n",
       "      <th>32</th>\n",
       "      <td>jkVxX4ieJwVRO9n4E8tNMw</td>\n",
       "      <td>z8-Y3mHdujSZS7JcvzFP8A</td>\n",
       "      <td>vhKUBKcOm8zOLxeS3XM9iA</td>\n",
       "      <td>3.0</td>\n",
       "      <td>1.0</td>\n",
       "      <td>0.0</td>\n",
       "      <td>0.0</td>\n",
       "      <td>More than just  Pizza. This location is small ...</td>\n",
       "      <td>2009-03-01 02:20:56</td>\n",
       "    </tr>\n",
       "  </tbody>\n",
       "</table>\n",
       "</div>"
      ],
      "text/plain": [
       "                 review_id                 user_id             business_id  \\\n",
       "8   UGErdm6bt48SXTVwJIti2Q  QodunSzok4nIYFNrTSGesQ  poSV39UqEg-gpESXafS9-g   \n",
       "12  -u8Oz_iSZACGwWW_pIT4zw  UreiTV1I9i-XF6_bJhK6Iw  d_q4avZYM1sOlQP7noJKVg   \n",
       "19  Qee78a9rXvSfyVhCO9EK7A  NFebN50n-oXI7xgjP-Qixw  k1c_bC3DK6mKg797vH1T8w   \n",
       "31  2E-1IudsdLlrvR6-gP51og  dZudYQD1T2U5RSJeJWYCLw  kBJfBVaXJtPEKLTov1hJdQ   \n",
       "32  jkVxX4ieJwVRO9n4E8tNMw  z8-Y3mHdujSZS7JcvzFP8A  vhKUBKcOm8zOLxeS3XM9iA   \n",
       "\n",
       "    stars  useful  funny  cool  \\\n",
       "8     3.0     0.0    0.0   0.0   \n",
       "12    4.0     0.0    0.0   1.0   \n",
       "19    5.0     0.0    0.0   0.0   \n",
       "31    5.0     1.0    1.0   0.0   \n",
       "32    3.0     1.0    0.0   0.0   \n",
       "\n",
       "                                                 text                 date  \n",
       "8   My husband and I go there once a week since la...  2018-03-04 01:03:53  \n",
       "12  Always a fun outing to come for great hot dogs...  2018-04-15 11:13:11  \n",
       "19  A very busy restaurant, make reservations, but...  2015-03-18 17:46:46  \n",
       "31  When I'm Arizona...we Reathrey Sekong! \\n\\nFoo...  2018-03-15 19:48:59  \n",
       "32  More than just  Pizza. This location is small ...  2009-03-01 02:20:56  "
      ]
     },
     "execution_count": 14,
     "metadata": {},
     "output_type": "execute_result"
    }
   ],
   "source": [
    "reviews_city.head()"
   ]
  },
  {
   "cell_type": "code",
   "execution_count": 13,
   "metadata": {},
   "outputs": [
    {
     "data": {
      "image/png": "[encoded data removed]",
      "text/plain": [
       "<Figure size 1440x288 with 1 Axes>"
      ]
     },
     "metadata": {
      "needs_background": "light"
     },
     "output_type": "display_data"
    }
   ],
   "source": [
    "#### distribution highly skewed to the right\n",
    "plt.figure(figsize=(20,4))\n",
    "plt.hist(review_counts, bins = 100)\n",
    "plt.show()"
   ]
  },
  {
   "cell_type": "code",
   "execution_count": 38,
   "metadata": {},
   "outputs": [
    {
     "name": "stdout",
     "output_type": "stream",
     "text": [
      "               stars         useful          funny           cool\n",
      "count  262292.000000  262292.000000  262292.000000  262292.000000\n",
      "mean        3.831127       1.575210       0.709004       0.956789\n",
      "std         1.267949       3.683419       2.274797       3.146895\n",
      "min         1.000000       0.000000       0.000000       0.000000\n",
      "25%         3.000000       0.000000       0.000000       0.000000\n",
      "50%         4.000000       1.000000       0.000000       0.000000\n",
      "75%         5.000000       2.000000       1.000000       1.000000\n",
      "max         5.000000     178.000000     169.000000     160.000000\n",
      "//\n",
      "number of users:\n",
      "20481\n"
     ]
    }
   ],
   "source": [
    "def getCleanReviews(reviews, min_reviews = 5):\n",
    "    review_counts = reviews.groupby(\"user_id\")[\"review_id\"].count().sort_values()\n",
    "    return reviews.loc[reviews[\"user_id\"].isin(review_counts[review_counts >= min_reviews].index.values)]\n",
    "\n",
    "reviews_clean = getCleanReviews(reviews_city, min_reviews=5)\n",
    "print(reviews_clean.describe())\n",
    "print(\"//\")\n",
    "print(\"number of users:\")\n",
    "print(reviews_clean[\"user_id\"].nunique())\n"
   ]
  },
  {
   "cell_type": "code",
   "execution_count": 51,
   "metadata": {},
   "outputs": [],
   "source": [
    "def get_clean_df(df, min_user_review = 5, min_res_review = 1, cols = ['user_id', 'business_id', 'stars']):\n",
    "    '''Cleans the df and gets rid of the unwanted cols and also allows to filter the user and business based on the min number of reviews received'''\n",
    "    df_new = df[cols]\n",
    "    df_new.dropna(axis = 0, how = 'any', inplace = True)\n",
    "    df_new[\"business_freq\"] = df_new.groupby(cols[1])[cols[1]].transform('count')\n",
    "    df_new =  df_new[df_new['business_freq']>=min_res_review]\n",
    "    df_new['user_freq'] = df_new.groupby(cols[0])[cols[0]].transform('count')\n",
    "    df_new = df_new[df_new['user_freq']>=min_user_review]\n",
    "    return df_new\n",
    "    \n",
    "def get_sparse_matrix(df):\n",
    "    '''Converts the df into a sparse ratings matrix'''\n",
    "    unique_users = list(df['user_id'].unique())\n",
    "    unique_bus = list(df['business_id'].unique())\n",
    "    data = df['stars'].tolist()\n",
    "    row = pd.Series(pd.Categorical(df[\"user_id\"],categories=unique_users)).cat.codes\n",
    "    \n",
    "#     df['user_id'].astype('category', categories=unique_users).cat.codes\n",
    "#     col = df['business_id'].astype('category', categories=unique_bus).cat.codes\n",
    "    col = pd.Series(pd.Categorical(df[\"business_id\"], categories=unique_bus)).cat.codes\n",
    "    sparse_matrix = csr_matrix((data, (row, col)), shape=(len(unique_users), len(unique_bus)))\n",
    "    return sparse_matrix    "
   ]
  },
  {
   "cell_type": "code",
   "execution_count": 99,
   "metadata": {},
   "outputs": [
    {
     "name": "stderr",
     "output_type": "stream",
     "text": [
      "/Users/sigao/anaconda3/lib/python3.7/site-packages/ipykernel_launcher.py:4: SettingWithCopyWarning: \n",
      "A value is trying to be set on a copy of a slice from a DataFrame\n",
      "\n",
      "See the caveats in the documentation: https://pandas.pydata.org/pandas-docs/stable/user_guide/indexing.html#returning-a-view-versus-a-copy\n",
      "  after removing the cwd from sys.path.\n",
      "/Users/sigao/anaconda3/lib/python3.7/site-packages/ipykernel_launcher.py:5: SettingWithCopyWarning: \n",
      "A value is trying to be set on a copy of a slice from a DataFrame.\n",
      "Try using .loc[row_indexer,col_indexer] = value instead\n",
      "\n",
      "See the caveats in the documentation: https://pandas.pydata.org/pandas-docs/stable/user_guide/indexing.html#returning-a-view-versus-a-copy\n",
      "  \"\"\"\n"
     ]
    },
    {
     "data": {
      "text/plain": [
       "(111007, 5)"
      ]
     },
     "execution_count": 99,
     "metadata": {},
     "output_type": "execute_result"
    }
   ],
   "source": [
    "df_clean= get_clean_df(df_city_res,min_user_review= 20, min_res_review=20)\n",
    "df_clean.shape"
   ]
  },
  {
   "cell_type": "code",
   "execution_count": 100,
   "metadata": {
    "scrolled": true
   },
   "outputs": [
    {
     "name": "stdout",
     "output_type": "stream",
     "text": [
      "City:\n",
      "Phoenix\n",
      "****************************************************************************************************\n",
      "number of unique users:\n",
      "2675\n",
      "number of unique restaurants:\n",
      "2802\n",
      "total reviews:\n",
      "111007\n",
      "****************************************************************************************************\n"
     ]
    }
   ],
   "source": [
    "## Sparcity\n",
    "df_spar_matrix = get_sparse_matrix(df_clean)\n",
    "print(\"City:\")\n",
    "print(city)\n",
    "print(\"*\"*100)\n",
    "print(\"number of unique users:\")\n",
    "print(df_spar_matrix.shape[0])\n",
    "print(\"number of unique restaurants:\")\n",
    "print(df_spar_matrix.shape[1])\n",
    "print(\"total reviews:\")\n",
    "print(df_clean.shape[0])\n",
    "print(\"*\"*100)"
   ]
  },
  {
   "cell_type": "code",
   "execution_count": 101,
   "metadata": {},
   "outputs": [
    {
     "data": {
      "text/plain": [
       "0.9863313921297872"
      ]
     },
     "execution_count": 101,
     "metadata": {},
     "output_type": "execute_result"
    }
   ],
   "source": [
    "## sparcity\n",
    "sparsity_clt = 1 - df_spar_matrix.nnz/(df_spar_matrix.shape[0]*df_spar_matrix.shape[1])\n",
    "sparsity_clt\n"
   ]
  },
  {
   "cell_type": "markdown",
   "metadata": {},
   "source": [
    "## Split test-training-validation set"
   ]
  },
  {
   "cell_type": "code",
   "execution_count": 88,
   "metadata": {},
   "outputs": [],
   "source": [
    "def train_val_test_split(sparse_matrix, num_review_val = 2, num_review_test = 2):\n",
    "    '''Split the rating matrix into train ,val, and test marix that are disjoint matrices'''\n",
    "    nzrows, nzcols =  sparse_matrix.nonzero()\n",
    "    sparse_matrix_test = csr_matrix(sparse_matrix.shape)\n",
    "    sparse_matrix_val = csr_matrix(sparse_matrix.shape)\n",
    "    sparse_matrix_train = sparse_matrix.copy()\n",
    "    n_users = sparse_matrix.shape[0]\n",
    "    for u in range(n_users):\n",
    "        idx = nzcols[np.where(nzrows == u)]\n",
    "        np.random.shuffle(idx)\n",
    "        test_idx = idx[-num_review_test:]\n",
    "        val_idx = idx[-(num_review_val+num_review_test):-num_review_test]\n",
    "        train_idx = idx[:-(num_review_val+num_review_test)]\n",
    "        sparse_matrix_test[u,test_idx] = sparse_matrix[u,test_idx]\n",
    "        sparse_matrix_val[u,val_idx] = sparse_matrix[u,val_idx]\n",
    "        sparse_matrix_train[u,test_idx] = 0\n",
    "        sparse_matrix_train[u,val_idx] = 0\n",
    "    data = np.array(sparse_matrix_train[sparse_matrix_train.nonzero()])[0]\n",
    "    row = sparse_matrix_train.nonzero()[0]\n",
    "    col = sparse_matrix_train.nonzero()[1]\n",
    "    size = sparse_matrix_train.shape\n",
    "    sparse_matrix_train = csr_matrix((data,(row,col)),shape = size)\n",
    "    mult = sparse_matrix_train.multiply(sparse_matrix_val)\n",
    "    mmult = mult.multiply(sparse_matrix_test)\n",
    "    assert(mmult.nnz == 0)\n",
    "    return sparse_matrix_train, sparse_matrix_val, sparse_matrix_test"
   ]
  },
  {
   "cell_type": "code",
   "execution_count": 89,
   "metadata": {},
   "outputs": [
    {
     "name": "stderr",
     "output_type": "stream",
     "text": [
      "/Users/sigao/anaconda3/lib/python3.7/site-packages/scipy/sparse/_index.py:118: SparseEfficiencyWarning: Changing the sparsity structure of a csr_matrix is expensive. lil_matrix is more efficient.\n",
      "  self._set_arrayXarray_sparse(i, j, x)\n"
     ]
    }
   ],
   "source": [
    "df_train, df_val, df_test = train_val_test_split(df_spar_matrix)\n"
   ]
  },
  {
   "cell_type": "code",
   "execution_count": 14,
   "metadata": {},
   "outputs": [],
   "source": [
    "sparse.save_npz(\"df_clt_train.csv\",df_train )\n",
    "sparse.save_npz(\"df_clt_val.csv\",df_val )\n",
    "sparse.save_npz(\"df_clt_test.csv\",df_test )"
   ]
  },
  {
   "cell_type": "code",
   "execution_count": 15,
   "metadata": {},
   "outputs": [],
   "source": [
    "### generate user-business matrix"
   ]
  },
  {
   "cell_type": "code",
   "execution_count": 105,
   "metadata": {},
   "outputs": [
    {
     "name": "stdout",
     "output_type": "stream",
     "text": [
      "96286 5538 5538\n"
     ]
    }
   ],
   "source": [
    "print(df_train.nnz, df_val.nnz, df_test.nnz)"
   ]
  },
  {
   "cell_type": "markdown",
   "metadata": {},
   "source": [
    "### Modeling:"
   ]
  },
  {
   "cell_type": "code",
   "execution_count": 91,
   "metadata": {},
   "outputs": [],
   "source": [
    "U_, S_, Vt_ = np.linalg.svd(df_train.todense())#k = min(sm_u_10_phx_res_train.shape)-1)"
   ]
  },
  {
   "cell_type": "code",
   "execution_count": 130,
   "metadata": {},
   "outputs": [
    {
     "name": "stdout",
     "output_type": "stream",
     "text": [
      "smallest singular value =  0.5868772404360523\n",
      "largest singular value =  346.8176984178511\n"
     ]
    }
   ],
   "source": [
    "print(\"smallest singular value = \",min(S_))\n",
    "print(\"largest singular value = \",max(S_))\n",
    "S_diag = np.diag(S_)"
   ]
  },
  {
   "cell_type": "code",
   "execution_count": 123,
   "metadata": {},
   "outputs": [
    {
     "data": {
      "image/png": "[encoded data removed]",
      "text/plain": [
       "<Figure size 576x360 with 1 Axes>"
      ]
     },
     "metadata": {
      "needs_background": "light"
     },
     "output_type": "display_data"
    }
   ],
   "source": [
    "fig = plt.figure(figsize=(8,5))\n",
    "plt.plot(S_[:20], '-', linewidth=1)\n",
    "plt.title('Elbow Plot')\n",
    "# plt.xticks(np.arange(0, S_phx_res.shape[0]+1, 50), rotation='vertical')\n",
    "plt.xlabel('The n-th Principal Component')\n",
    "plt.xticks(range(1,21,3))\n",
    "plt.ylabel('Singular Values')\n",
    "plt.show()"
   ]
  },
  {
   "cell_type": "markdown",
   "metadata": {},
   "source": [
    "### Use SVD's top k singular values for estimation\n"
   ]
  },
  {
   "cell_type": "code",
   "execution_count": 128,
   "metadata": {},
   "outputs": [],
   "source": [
    "def approx_err(k, A, U, S, Vt):\n",
    "    rec_A = np.dot(U[:, :k], np.dot(S[:k,:k], Vt[:k, :]))\n",
    "    idx = np.where(A>0);\n",
    "    diff = A[idx] - rec_A[idx]\n",
    "    return np.linalg.norm(diff)**2/diff.shape[1]"
   ]
  },
  {
   "cell_type": "code",
   "execution_count": 170,
   "metadata": {},
   "outputs": [
    {
     "data": {
      "text/plain": [
       "Text(0.5, 1.0, 'Phoenix')"
      ]
     },
     "execution_count": 170,
     "metadata": {},
     "output_type": "execute_result"
    },
    {
     "data": {
      "image/png": "[encoded data removed]",
      "text/plain": [
       "<Figure size 432x288 with 1 Axes>"
      ]
     },
     "metadata": {
      "needs_background": "light"
     },
     "output_type": "display_data"
    }
   ],
   "source": [
    "k = np.linspace(2,40,20, dtype = int)\n",
    "errors_svd_val = {}\n",
    "errors_svd_train = {}\n",
    "errors_svd_test = {}\n",
    "for i in k:\n",
    "    errors_svd_val[i] =   approx_err(i, df_val.todense(),   U_, S_diag, Vt_)\n",
    "    errors_svd_test[i] =   approx_err(i, df_test.todense(),   U_, S_diag, Vt_)\n",
    "    errors_svd_train[i] = approx_err(i, df_train.todense(), U_, S_diag, Vt_)\n",
    "\n",
    "plt.plot(k,list(errors_svd_val.values()), label = 'Validation')\n",
    "plt.plot(k,list(errors_svd_train.values()), label = 'Train')\n",
    "plt.plot(k,list(errors_svd_test.values()), label = 'Test')\n",
    "plt.xlabel('k')\n",
    "plt.ylabel('MSE')\n",
    "plt.legend()\n",
    "plt.title(city)"
   ]
  },
  {
   "cell_type": "code",
   "execution_count": 201,
   "metadata": {},
   "outputs": [
    {
     "name": "stdout",
     "output_type": "stream",
     "text": [
      "Best k\n",
      "18\n"
     ]
    },
    {
     "data": {
      "image/png": "[encoded data removed]",
      "text/plain": [
       "<Figure size 432x288 with 1 Axes>"
      ]
     },
     "metadata": {
      "needs_background": "light"
     },
     "output_type": "display_data"
    }
   ],
   "source": [
    "plt.plot(k,list(errors_svd_val.values()), label = 'Validation')\n",
    "# plt.plot(k,list(errors_svd_train.values()), label = 'Train')\n",
    "plt.xlabel('k')\n",
    "plt.ylabel('MSE')\n",
    "plt.legend()\n",
    "plt.title(city)\n",
    "print(\"Best k\")\n",
    "k_opt = k[np.argmin(list(errors_svd_test.values()))]\n",
    "print( k_opt)\n"
   ]
  },
  {
   "cell_type": "code",
   "execution_count": 202,
   "metadata": {},
   "outputs": [
    {
     "name": "stdout",
     "output_type": "stream",
     "text": [
      "Best Test MSE for SVD for Restaurants in Phoenix=  17.736480009244932\n"
     ]
    }
   ],
   "source": [
    "Best_Test_MSE_SVD = approx_err(k_opt, df_test.todense(), U_, S_diag, Vt_)\n",
    "print('Best Test MSE for SVD for Restaurants in {0}= '.format(city), Best_Test_MSE_SVD)"
   ]
  },
  {
   "cell_type": "code",
   "execution_count": 169,
   "metadata": {},
   "outputs": [],
   "source": [
    "train_nnz = df_train.nonzero()\n",
    "val_nnz = df_val.nonzero()\n",
    "test_nnz = df_test.nonzero()"
   ]
  },
  {
   "cell_type": "code",
   "execution_count": 171,
   "metadata": {},
   "outputs": [],
   "source": [
    "recon_matrix_svd =np.dot(U_[:, :k_opt], np.dot(S_diag[:k_opt,:k_opt], Vt_[:k_opt, :]))\n",
    "train_preds_svd = np.ravel(recon_matrix_svd[train_nnz])\n",
    "val_preds_svd = np.ravel(recon_matrix_svd[val_nnz])\n",
    "test_preds_svd  = np.ravel(recon_matrix_svd[test_nnz])"
   ]
  },
  {
   "cell_type": "markdown",
   "metadata": {},
   "source": [
    "### SVD with bias correction"
   ]
  },
  {
   "cell_type": "code",
   "execution_count": null,
   "metadata": {},
   "outputs": [],
   "source": []
  },
  {
   "cell_type": "code",
   "execution_count": 181,
   "metadata": {},
   "outputs": [],
   "source": [
    "def find_global_user_res_bias(ratings_matrix):\n",
    "    dense_matrix = ratings_matrix.todense()\n",
    "    mask_matrix = (dense_matrix>0).astype(int)\n",
    "    user_bias = np.sum(dense_matrix, axis = 1)/np.sum(mask_matrix, axis = 1)\n",
    "    res_bias =  np.sum(dense_matrix, axis = 0)/np.sum(mask_matrix, axis = 0)\n",
    "    user_bias = np.nan_to_num(user_bias)\n",
    "    res_bias = np.nan_to_num(res_bias)\n",
    "    user_bias = user_bias.reshape(-1,1)\n",
    "    res_bias = res_bias.reshape(1,-1)\n",
    "    ratings_matrix_wo_bias = dense_matrix - np.tile(user_bias, (1,dense_matrix.shape[1]))- np.tile(res_bias, (dense_matrix.shape[0], 1))\n",
    "    return user_bias, res_bias, ratings_matrix_wo_bias"
   ]
  },
  {
   "cell_type": "code",
   "execution_count": 182,
   "metadata": {},
   "outputs": [
    {
     "name": "stderr",
     "output_type": "stream",
     "text": [
      "/Users/sigao/anaconda3/lib/python3.7/site-packages/ipykernel_launcher.py:5: RuntimeWarning: invalid value encountered in true_divide\n",
      "  \"\"\"\n"
     ]
    }
   ],
   "source": [
    "user_bias_ur, res_bias_ur, train_ur = find_global_user_res_bias(df_train)"
   ]
  },
  {
   "cell_type": "code",
   "execution_count": 183,
   "metadata": {},
   "outputs": [
    {
     "name": "stdout",
     "output_type": "stream",
     "text": [
      "smallest singular value =  0.5954441621855623\n",
      "largest singular value =  26414.95531419508\n"
     ]
    }
   ],
   "source": [
    "U_bias_ur, S_bias_ur, Vt_bias_ur = np.linalg.svd(train_ur)\n",
    "print(\"smallest singular value = \",min(S_bias_ur))\n",
    "print(\"largest singular value = \",max(S_bias_ur))\n",
    "S_bias_ur_diag = np.diag(S_bias_ur)"
   ]
  },
  {
   "cell_type": "code",
   "execution_count": 187,
   "metadata": {},
   "outputs": [
    {
     "data": {
      "image/png": "[encoded data removed]",
      "text/plain": [
       "<Figure size 576x360 with 1 Axes>"
      ]
     },
     "metadata": {
      "needs_background": "light"
     },
     "output_type": "display_data"
    }
   ],
   "source": [
    "fig = plt.figure(figsize=(8,5))\n",
    "plt.plot(S_bias_ur[:20], '-', linewidth=1)\n",
    "plt.title('Elbow Plot')\n",
    "plt.xlabel('Principal Component')\n",
    "plt.ylabel('Singular Values')\n",
    "plt.title(city)\n",
    "plt.show()\n"
   ]
  },
  {
   "cell_type": "code",
   "execution_count": 203,
   "metadata": {},
   "outputs": [
    {
     "data": {
      "text/plain": [
       "<matplotlib.legend.Legend at 0x7fa1853c4c90>"
      ]
     },
     "execution_count": 203,
     "metadata": {},
     "output_type": "execute_result"
    },
    {
     "data": {
      "image/png": "[encoded data removed]",
      "text/plain": [
       "<Figure size 432x288 with 1 Axes>"
      ]
     },
     "metadata": {
      "needs_background": "light"
     },
     "output_type": "display_data"
    }
   ],
   "source": [
    "k_wo_bias_ur = np.linspace(2,40,20, dtype = int)\n",
    "errors_svd_wo_bias_ur = {}\n",
    "df_val_bias_ur = df_val.todense() - user_bias_ur - res_bias_ur\n",
    "\n",
    "for i in k_wo_bias_ur:\n",
    "    df_val_bias_ur_rec = np.dot(U_bias_ur[:, :i], np.dot(S_bias_ur_diag[:i,:i], Vt_bias_ur[:i, :]))\n",
    "    idx_wo_bias_ur = np.where(df_val.todense()>0);\n",
    "    diff_wo_bias_ur = df_val_bias_ur[idx_wo_bias_ur] - df_val_bias_ur_rec[idx_wo_bias_ur]\n",
    "    errors_svd_wo_bias_ur[i] = np.linalg.norm(diff_wo_bias_ur)**2/diff_wo_bias_ur.shape[1]\n",
    "plt.plot(k_wo_bias_ur,list(errors_svd_wo_bias_ur.values()), label= 'Validation')\n",
    "plt.xlabel('PC')\n",
    "plt.ylabel('MSE')\n",
    "plt.legend()"
   ]
  },
  {
   "cell_type": "code",
   "execution_count": 204,
   "metadata": {},
   "outputs": [
    {
     "name": "stdout",
     "output_type": "stream",
     "text": [
      "20\n",
      "Best Test MSE for SVD for Restaurants in Phoenix=  17.736480009244932\n"
     ]
    }
   ],
   "source": [
    "k_opt2 = k_wo_bias_ur[np.argmin(list(errors_svd_wo_bias_ur.values()))]\n",
    "print( k_opt2)\n",
    "\n",
    "Best_Test_MSE_SVD_Bias_Cor = approx_err(k_opt2, df_test.todense(), S_bias_ur_diag, S_diag, Vt_bias_ur)\n",
    "print('Best Test MSE for SVD for Restaurants in {0}= '.format(city), Best_Test_MSE_SVD)"
   ]
  },
  {
   "cell_type": "markdown",
   "metadata": {},
   "source": [
    "### Cosine Similarity with correction for bias"
   ]
  },
  {
   "cell_type": "code",
   "execution_count": 205,
   "metadata": {},
   "outputs": [],
   "source": [
    "def similarity_matrix(train_matrix, between = 'users'):\n",
    "    '''Returns the cosine similarity between users or restaurants'''\n",
    "    if between == 'users':\n",
    "        similarity = train_matrix*train_matrix.transpose()\n",
    "    else:\n",
    "        similarity = train_matrix.transpose()*train_matrix\n",
    "    similarity_dense = similarity.todense() + 1e-8\n",
    "    norm_array = np.sqrt(np.diag(similarity_dense))\n",
    "    return similarity_dense/norm_array/norm_array.reshape(-1,1)"
   ]
  },
  {
   "cell_type": "code",
   "execution_count": 206,
   "metadata": {},
   "outputs": [],
   "source": [
    "def predict_topk_nobias(ratings, similarity, kind='user', k=40):\n",
    "    pred = np.zeros(ratings.shape)\n",
    "    if kind == 'user':\n",
    "        user_bias = np.mean(ratings, axis =1)\n",
    "        ratings = (ratings - np.tile(user_bias, (ratings.shape[1],1)).T).copy()\n",
    "        for i in range(ratings.shape[0]):\n",
    "            top_k_users = np.argsort(similarity[:,i])[:-k-1:-1]\n",
    "            pred[i] = np.dot(similarity[i,top_k_users],ratings[top_k_users,:])/np.sum(np.abs(similarity[i,top_k_users]))\n",
    "        pred += np.tile(user_bias,(ratings.shape[1],1)).T\n",
    "    else:\n",
    "        item_bias = np.mean(ratings, axis=0)\n",
    "        ratings = (ratings - np.tile(item_bias,(ratings.shape[0],1))).copy()\n",
    "        for j in range(ratings.shape[1]):\n",
    "            top_k_items = np.argsort(similarity[:,j])[:-k-1:-1]\n",
    "            pred[:,j] = np.dot(similarity[top_k_items,j].T,ratings[:,top_k_items].T)/np.sum(np.abs(similarity[top_k_items,j]))\n",
    "        pred += np.tile(item_bias,(ratings.shape[0],1))\n",
    "        \n",
    "    return pred"
   ]
  },
  {
   "cell_type": "code",
   "execution_count": 213,
   "metadata": {},
   "outputs": [],
   "source": [
    "def get_mse(pred, actual):\n",
    "    # Ignore zero terms.\n",
    "    pred = pred[actual.nonzero()].flatten()\n",
    "    actual = actual[actual.nonzero()].flatten()\n",
    "    return mean_squared_error(pred, actual)"
   ]
  },
  {
   "cell_type": "code",
   "execution_count": 214,
   "metadata": {},
   "outputs": [
    {
     "name": "stdout",
     "output_type": "stream",
     "text": [
      "MSE for cosine Similarity between Restaurants = 20.570061394005055\n"
     ]
    }
   ],
   "source": [
    "simi_city_res = similarity_matrix(df_train, between='res')\n",
    "simi_city_res = np.array(simi_city_res)\n",
    "preds_cosine = predict_topk_nobias(np.array(df_train.todense()),simi_city_res,kind='res', k=1)\n",
    "MSE_cosine_res = get_mse(preds_cosine, np.array(df_val.todense()))\n",
    "print(\"MSE for cosine Similarity between Restaurants =\",MSE_cosine_res)"
   ]
  },
  {
   "cell_type": "code",
   "execution_count": 219,
   "metadata": {},
   "outputs": [],
   "source": [
    "train_preds_cosine= preds_cosine[train_nnz]\n",
    "val_preds_cosine = preds_cosine[val_nnz]\n",
    "test_preds_cosine = preds_cosine[test_nnz]"
   ]
  },
  {
   "cell_type": "code",
   "execution_count": 222,
   "metadata": {},
   "outputs": [
    {
     "data": {
      "text/plain": [
       "<matplotlib.legend.Legend at 0x7fa161564950>"
      ]
     },
     "execution_count": 222,
     "metadata": {},
     "output_type": "execute_result"
    },
    {
     "data": {
      "image/png": "[encoded data removed]",
      "text/plain": [
       "<Figure size 432x288 with 1 Axes>"
      ]
     },
     "metadata": {
      "needs_background": "light"
     },
     "output_type": "display_data"
    }
   ],
   "source": [
    "errors_cs_res_val = {}\n",
    "errors_cs_res_train = {}\n",
    "k_cs = np.arange(1, 200)\n",
    "for i in k_cs:\n",
    "    preds_cs_res = predict_topk_nobias(np.array(df_train.todense()),simi_city_res,kind='res', k=i)\n",
    "    error_cs_val = get_mse(preds_cs_res, np.array(df_val.todense()))\n",
    "    error_cs_train = get_mse(preds_cs_res, np.array(df_train.todense()))\n",
    "    errors_cs_res_val[i] = error_cs_val\n",
    "    errors_cs_res_train[i] = error_cs_train\n",
    "plt.plot(k_cs,list(errors_cs_res_val.values()), label = 'Validation')\n",
    "plt.plot(k_cs,list(errors_cs_res_train.values()), label = 'Train')\n",
    "plt.xlabel('K Neighbors')\n",
    "plt.ylabel('MSE')\n",
    "plt.title('Cosine Similarity: MSE (train/Val) vs K')\n",
    "plt.legend()"
   ]
  },
  {
   "cell_type": "code",
   "execution_count": 225,
   "metadata": {},
   "outputs": [
    {
     "data": {
      "image/png": "[encoded data removed]",
      "text/plain": [
       "<Figure size 432x288 with 1 Axes>"
      ]
     },
     "metadata": {
      "needs_background": "light"
     },
     "output_type": "display_data"
    }
   ],
   "source": [
    "plt.plot(k_cs,list(errors_cs_res_val.values()), label = 'Validation')\n",
    "k_opt3 = k_cs[np.argmin(list(errors_cs_res_val.values()))]"
   ]
  },
  {
   "cell_type": "code",
   "execution_count": 226,
   "metadata": {},
   "outputs": [
    {
     "name": "stdout",
     "output_type": "stream",
     "text": [
      "Best Validation MSE for Cosine Similarity for Restaurants =  18.68783294234272\n"
     ]
    }
   ],
   "source": [
    "preds_cosine = predict_topk_nobias(np.array(df_train.todense()),simi_city_res ,kind='res', k=k_opt3)\n",
    "Best_Val_MSE_Cosine = get_mse(preds_cosine, np.array(df_val.todense()))\n",
    "print('Best Validation MSE for Cosine Similarity for Restaurants = ', Best_Val_MSE_Cosine)"
   ]
  },
  {
   "cell_type": "code",
   "execution_count": null,
   "metadata": {},
   "outputs": [],
   "source": []
  }
 ],
 "metadata": {
  "kernelspec": {
   "display_name": "Python 3",
   "language": "python",
   "name": "python3"
  },
  "language_info": {
   "codemirror_mode": {
    "name": "ipython",
    "version": 3
   },
   "file_extension": ".py",
   "mimetype": "text/x-python",
   "name": "python",
   "nbconvert_exporter": "python",
   "pygments_lexer": "ipython3",
   "version": "3.7.6"
  },
  "varInspector": {
   "cols": {
    "lenName": 16,
    "lenType": 16,
    "lenVar": 40
   },
   "kernels_config": {
    "python": {
     "delete_cmd_postfix": "",
     "delete_cmd_prefix": "del ",
     "library": "var_list.py",
     "varRefreshCmd": "print(var_dic_list())"
    },
    "r": {
     "delete_cmd_postfix": ") ",
     "delete_cmd_prefix": "rm(",
     "library": "var_list.r",
     "varRefreshCmd": "cat(var_dic_list()) "
    }
   },
   "types_to_exclude": [
    "module",
    "function",
    "builtin_function_or_method",
    "instance",
    "_Feature"
   ],
   "window_display": false
  }
 },
 "nbformat": 4,
 "nbformat_minor": 4
}
