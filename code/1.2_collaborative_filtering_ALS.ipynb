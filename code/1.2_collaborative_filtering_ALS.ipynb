{
  "nbformat": 4,
  "nbformat_minor": 0,
  "metadata": {
    "colab": {
      "name": "ALS.ipynb",
      "provenance": [],
      "collapsed_sections": []
    },
    "kernelspec": {
      "name": "python3",
      "display_name": "Python 3"
    }
  },
  "cells": [
    {
      "cell_type": "markdown",
      "metadata": {
        "id": "L-ZkJ-_sd5d5"
      },
      "source": [
        "# Yelp collaborative filtering -- ALS"
      ]
    },
    {
      "cell_type": "code",
      "metadata": {
        "id": "whv9t6d0eB-w"
      },
      "source": [
        "## preps\n",
        "import json\n",
        "import numpy as np\n",
        "import pandas as pd\n",
        "import matplotlib.pyplot as plt\n",
        "import scipy.sparse as sparse\n",
        "from scipy.sparse import csr_matrix\n",
        "%matplotlib inline\n",
        "\n",
        "from sklearn.metrics import mean_squared_error"
      ],
      "execution_count": 1,
      "outputs": []
    },
    {
      "cell_type": "code",
      "metadata": {
        "id": "I6zMZALzeEcW",
        "outputId": "10cd57fb-e064-4ba9-a8a6-e201cb8887c7",
        "colab": {
          "base_uri": "https://localhost:8080/"
        }
      },
      "source": [
        "!pwd"
      ],
      "execution_count": 2,
      "outputs": [
        {
          "output_type": "stream",
          "text": [
            "/content\n"
          ],
          "name": "stdout"
        }
      ]
    },
    {
      "cell_type": "markdown",
      "metadata": {
        "id": "MRNZTrmTe8ci"
      },
      "source": [
        "## 1. Loading Data"
      ]
    },
    {
      "cell_type": "code",
      "metadata": {
        "id": "1dRzl0VVeecv"
      },
      "source": [
        "# Load three pre-processed datasets: reviews data, business data for selected candidate cities\n",
        "\n",
        "## The restaurants in the five candidate cities\n",
        "df_res_bus = pd.read_csv(\"/content/drive/My Drive/cleaned dataset/business_data_subset.csv\", index_col= None)\n",
        "### reviews in the top ten candidate cities\n",
        "reviews = pd.read_csv(\"/content/drive/My Drive/cleaned dataset/reviews_data_subset.csv\")"
      ],
      "execution_count": 3,
      "outputs": []
    },
    {
      "cell_type": "code",
      "metadata": {
        "id": "aAndup5verCb",
        "outputId": "b3e8e2bd-f49b-4278-903c-b2d912a83f74",
        "colab": {
          "base_uri": "https://localhost:8080/",
          "height": 530
        }
      },
      "source": [
        "df_res_bus.head()"
      ],
      "execution_count": null,
      "outputs": [
        {
          "output_type": "execute_result",
          "data": {
            "text/html": [
              "<div>\n",
              "<style scoped>\n",
              "    .dataframe tbody tr th:only-of-type {\n",
              "        vertical-align: middle;\n",
              "    }\n",
              "\n",
              "    .dataframe tbody tr th {\n",
              "        vertical-align: top;\n",
              "    }\n",
              "\n",
              "    .dataframe thead th {\n",
              "        text-align: right;\n",
              "    }\n",
              "</style>\n",
              "<table border=\"1\" class=\"dataframe\">\n",
              "  <thead>\n",
              "    <tr style=\"text-align: right;\">\n",
              "      <th></th>\n",
              "      <th>business_id</th>\n",
              "      <th>business_name</th>\n",
              "      <th>address</th>\n",
              "      <th>city</th>\n",
              "      <th>state</th>\n",
              "      <th>postal_code</th>\n",
              "      <th>latitude</th>\n",
              "      <th>longitude</th>\n",
              "      <th>stars</th>\n",
              "      <th>review_count</th>\n",
              "      <th>is_open</th>\n",
              "      <th>attributes</th>\n",
              "      <th>categories</th>\n",
              "      <th>hours</th>\n",
              "    </tr>\n",
              "  </thead>\n",
              "  <tbody>\n",
              "    <tr>\n",
              "      <th>0</th>\n",
              "      <td>CsLQLiRoafpJPJSkNX2h5Q</td>\n",
              "      <td>Middle East Deli</td>\n",
              "      <td>4508 E Independence Blvd</td>\n",
              "      <td>Charlotte</td>\n",
              "      <td>NC</td>\n",
              "      <td>28205</td>\n",
              "      <td>35.194894</td>\n",
              "      <td>-80.767442</td>\n",
              "      <td>3.0</td>\n",
              "      <td>5</td>\n",
              "      <td>0</td>\n",
              "      <td>{'RestaurantsGoodForGroups': 'True', 'OutdoorS...</td>\n",
              "      <td>Food, Restaurants, Grocery, Middle Eastern</td>\n",
              "      <td>NaN</td>\n",
              "    </tr>\n",
              "    <tr>\n",
              "      <th>1</th>\n",
              "      <td>vjTVxnsQEZ34XjYNS-XUpA</td>\n",
              "      <td>Wetzel's Pretzels</td>\n",
              "      <td>4550 East Cactus Rd, #KSFC-4</td>\n",
              "      <td>Phoenix</td>\n",
              "      <td>AZ</td>\n",
              "      <td>85032</td>\n",
              "      <td>33.602822</td>\n",
              "      <td>-111.983533</td>\n",
              "      <td>4.0</td>\n",
              "      <td>10</td>\n",
              "      <td>1</td>\n",
              "      <td>{'GoodForKids': 'True', 'RestaurantsTakeOut': ...</td>\n",
              "      <td>Food, Pretzels, Bakeries, Fast Food, Restaurants</td>\n",
              "      <td>{'Monday': '10:0-21:0', 'Tuesday': '10:0-21:0'...</td>\n",
              "    </tr>\n",
              "    <tr>\n",
              "      <th>2</th>\n",
              "      <td>fnZrZlqW1Z8iWgTVDfv_MA</td>\n",
              "      <td>Carl's Jr</td>\n",
              "      <td>9595 W Tropicana Ave</td>\n",
              "      <td>Las Vegas</td>\n",
              "      <td>NV</td>\n",
              "      <td>89147</td>\n",
              "      <td>36.099738</td>\n",
              "      <td>-115.301568</td>\n",
              "      <td>2.5</td>\n",
              "      <td>15</td>\n",
              "      <td>0</td>\n",
              "      <td>{'Alcohol': \"u'none'\", 'WiFi': \"u'no'\", 'GoodF...</td>\n",
              "      <td>Mexican, Restaurants, Fast Food</td>\n",
              "      <td>NaN</td>\n",
              "    </tr>\n",
              "    <tr>\n",
              "      <th>3</th>\n",
              "      <td>rVBPQdeayMYht4Uv_FOLHg</td>\n",
              "      <td>Gourmet Burger Company</td>\n",
              "      <td>843 Kipling Avenue</td>\n",
              "      <td>Toronto</td>\n",
              "      <td>ON</td>\n",
              "      <td>M8Z 5G9</td>\n",
              "      <td>43.633291</td>\n",
              "      <td>-79.531768</td>\n",
              "      <td>3.0</td>\n",
              "      <td>13</td>\n",
              "      <td>0</td>\n",
              "      <td>{'RestaurantsPriceRange2': '2', 'RestaurantsAt...</td>\n",
              "      <td>Restaurants, Burgers, Food</td>\n",
              "      <td>NaN</td>\n",
              "    </tr>\n",
              "    <tr>\n",
              "      <th>4</th>\n",
              "      <td>fhNf_sg-XzZ3e7HEVGuOZg</td>\n",
              "      <td>Meat Chix And Wieners</td>\n",
              "      <td>6530 S Decatur Blvd</td>\n",
              "      <td>Las Vegas</td>\n",
              "      <td>NV</td>\n",
              "      <td>89118</td>\n",
              "      <td>36.071196</td>\n",
              "      <td>-115.207463</td>\n",
              "      <td>3.0</td>\n",
              "      <td>10</td>\n",
              "      <td>0</td>\n",
              "      <td>{'RestaurantsPriceRange2': '2', 'BusinessParki...</td>\n",
              "      <td>Burgers, Restaurants, American (Traditional), ...</td>\n",
              "      <td>{'Monday': '11:0-22:0', 'Tuesday': '11:0-22:0'...</td>\n",
              "    </tr>\n",
              "  </tbody>\n",
              "</table>\n",
              "</div>"
            ],
            "text/plain": [
              "              business_id  ...                                              hours\n",
              "0  CsLQLiRoafpJPJSkNX2h5Q  ...                                                NaN\n",
              "1  vjTVxnsQEZ34XjYNS-XUpA  ...  {'Monday': '10:0-21:0', 'Tuesday': '10:0-21:0'...\n",
              "2  fnZrZlqW1Z8iWgTVDfv_MA  ...                                                NaN\n",
              "3  rVBPQdeayMYht4Uv_FOLHg  ...                                                NaN\n",
              "4  fhNf_sg-XzZ3e7HEVGuOZg  ...  {'Monday': '11:0-22:0', 'Tuesday': '11:0-22:0'...\n",
              "\n",
              "[5 rows x 14 columns]"
            ]
          },
          "metadata": {
            "tags": []
          },
          "execution_count": 4
        }
      ]
    },
    {
      "cell_type": "code",
      "metadata": {
        "id": "wcsX-2rQe4fg",
        "outputId": "6623b175-6108-42f8-b7d3-bfc223c97e4e",
        "colab": {
          "base_uri": "https://localhost:8080/",
          "height": 289
        }
      },
      "source": [
        "reviews.head()"
      ],
      "execution_count": null,
      "outputs": [
        {
          "output_type": "execute_result",
          "data": {
            "text/html": [
              "<div>\n",
              "<style scoped>\n",
              "    .dataframe tbody tr th:only-of-type {\n",
              "        vertical-align: middle;\n",
              "    }\n",
              "\n",
              "    .dataframe tbody tr th {\n",
              "        vertical-align: top;\n",
              "    }\n",
              "\n",
              "    .dataframe thead th {\n",
              "        text-align: right;\n",
              "    }\n",
              "</style>\n",
              "<table border=\"1\" class=\"dataframe\">\n",
              "  <thead>\n",
              "    <tr style=\"text-align: right;\">\n",
              "      <th></th>\n",
              "      <th>review_id</th>\n",
              "      <th>user_id</th>\n",
              "      <th>business_id</th>\n",
              "      <th>stars</th>\n",
              "      <th>useful</th>\n",
              "      <th>funny</th>\n",
              "      <th>cool</th>\n",
              "      <th>text</th>\n",
              "      <th>date</th>\n",
              "    </tr>\n",
              "  </thead>\n",
              "  <tbody>\n",
              "    <tr>\n",
              "      <th>0</th>\n",
              "      <td>i6g_oA9Yf9Y31qt0wibXpw</td>\n",
              "      <td>ofKDkJKXSKZXu5xJNGiiBQ</td>\n",
              "      <td>5JxlZaqCnk1MnbgRirs40Q</td>\n",
              "      <td>1.0</td>\n",
              "      <td>0.0</td>\n",
              "      <td>0.0</td>\n",
              "      <td>0.0</td>\n",
              "      <td>Dismal, lukewarm, defrosted-tasting \"TexMex\" g...</td>\n",
              "      <td>2011-05-27 05:30:52</td>\n",
              "    </tr>\n",
              "    <tr>\n",
              "      <th>1</th>\n",
              "      <td>JA-xnyHytKiOIHl_ztnK9Q</td>\n",
              "      <td>P6apihD4ASf1vpPxHODxAQ</td>\n",
              "      <td>e_BiI4ej1CW1F0EyVLr-FQ</td>\n",
              "      <td>5.0</td>\n",
              "      <td>0.0</td>\n",
              "      <td>0.0</td>\n",
              "      <td>0.0</td>\n",
              "      <td>Most delicious authentic Italian I've had in t...</td>\n",
              "      <td>2015-02-16 06:48:47</td>\n",
              "    </tr>\n",
              "    <tr>\n",
              "      <th>2</th>\n",
              "      <td>bVTjZgRNq8ToxzvtiVrqMA</td>\n",
              "      <td>2hRe26HSCAWbFRn5WChK-Q</td>\n",
              "      <td>d4qwVw4PcN-_2mK2o1Ro1g</td>\n",
              "      <td>1.0</td>\n",
              "      <td>0.0</td>\n",
              "      <td>0.0</td>\n",
              "      <td>0.0</td>\n",
              "      <td>10pm on a super bowl Sunday and they're alread...</td>\n",
              "      <td>2015-02-02 06:28:00</td>\n",
              "    </tr>\n",
              "    <tr>\n",
              "      <th>3</th>\n",
              "      <td>UGErdm6bt48SXTVwJIti2Q</td>\n",
              "      <td>QodunSzok4nIYFNrTSGesQ</td>\n",
              "      <td>poSV39UqEg-gpESXafS9-g</td>\n",
              "      <td>3.0</td>\n",
              "      <td>0.0</td>\n",
              "      <td>0.0</td>\n",
              "      <td>0.0</td>\n",
              "      <td>My husband and I go there once a week since la...</td>\n",
              "      <td>2018-03-04 01:03:53</td>\n",
              "    </tr>\n",
              "    <tr>\n",
              "      <th>4</th>\n",
              "      <td>TeX0eOIeZb_wpo86rCedXQ</td>\n",
              "      <td>RR-2nouBn408e3djxC470g</td>\n",
              "      <td>d4qwVw4PcN-_2mK2o1Ro1g</td>\n",
              "      <td>5.0</td>\n",
              "      <td>0.0</td>\n",
              "      <td>0.0</td>\n",
              "      <td>0.0</td>\n",
              "      <td>Holy heck this place is amazing. I love their ...</td>\n",
              "      <td>2017-02-09 04:25:03</td>\n",
              "    </tr>\n",
              "  </tbody>\n",
              "</table>\n",
              "</div>"
            ],
            "text/plain": [
              "                review_id  ...                 date\n",
              "0  i6g_oA9Yf9Y31qt0wibXpw  ...  2011-05-27 05:30:52\n",
              "1  JA-xnyHytKiOIHl_ztnK9Q  ...  2015-02-16 06:48:47\n",
              "2  bVTjZgRNq8ToxzvtiVrqMA  ...  2015-02-02 06:28:00\n",
              "3  UGErdm6bt48SXTVwJIti2Q  ...  2018-03-04 01:03:53\n",
              "4  TeX0eOIeZb_wpo86rCedXQ  ...  2017-02-09 04:25:03\n",
              "\n",
              "[5 rows x 9 columns]"
            ]
          },
          "metadata": {
            "tags": []
          },
          "execution_count": 5
        }
      ]
    },
    {
      "cell_type": "code",
      "metadata": {
        "id": "4ipIZdBQfFcH",
        "outputId": "7dc8d200-a1fb-475e-e197-907a4c9a8784",
        "colab": {
          "base_uri": "https://localhost:8080/",
          "height": 476
        }
      },
      "source": [
        "## merge the two \n",
        "df_merge = pd.merge(reviews, df_res_bus[['city','categories', 'business_id',\"review_count\"]], how = \"outer\", on =\"business_id\")\n",
        "# df_toronto.to_csv(\"merged_Toronto_reviews.csv\", index = None)\n",
        "df_merge.head()"
      ],
      "execution_count": 4,
      "outputs": [
        {
          "output_type": "execute_result",
          "data": {
            "text/html": [
              "<div>\n",
              "<style scoped>\n",
              "    .dataframe tbody tr th:only-of-type {\n",
              "        vertical-align: middle;\n",
              "    }\n",
              "\n",
              "    .dataframe tbody tr th {\n",
              "        vertical-align: top;\n",
              "    }\n",
              "\n",
              "    .dataframe thead th {\n",
              "        text-align: right;\n",
              "    }\n",
              "</style>\n",
              "<table border=\"1\" class=\"dataframe\">\n",
              "  <thead>\n",
              "    <tr style=\"text-align: right;\">\n",
              "      <th></th>\n",
              "      <th>review_id</th>\n",
              "      <th>user_id</th>\n",
              "      <th>business_id</th>\n",
              "      <th>stars</th>\n",
              "      <th>useful</th>\n",
              "      <th>funny</th>\n",
              "      <th>cool</th>\n",
              "      <th>text</th>\n",
              "      <th>date</th>\n",
              "      <th>city</th>\n",
              "      <th>categories</th>\n",
              "      <th>review_count</th>\n",
              "    </tr>\n",
              "  </thead>\n",
              "  <tbody>\n",
              "    <tr>\n",
              "      <th>0</th>\n",
              "      <td>i6g_oA9Yf9Y31qt0wibXpw</td>\n",
              "      <td>ofKDkJKXSKZXu5xJNGiiBQ</td>\n",
              "      <td>5JxlZaqCnk1MnbgRirs40Q</td>\n",
              "      <td>1.0</td>\n",
              "      <td>0.0</td>\n",
              "      <td>0.0</td>\n",
              "      <td>0.0</td>\n",
              "      <td>Dismal, lukewarm, defrosted-tasting \"TexMex\" g...</td>\n",
              "      <td>2011-05-27 05:30:52</td>\n",
              "      <td>Las Vegas</td>\n",
              "      <td>Restaurants, Mexican</td>\n",
              "      <td>56.0</td>\n",
              "    </tr>\n",
              "    <tr>\n",
              "      <th>1</th>\n",
              "      <td>Q9pkOKlRbHZy1pTUkTcBnQ</td>\n",
              "      <td>m-BZLIIh5PCAKnzH0qj_0Q</td>\n",
              "      <td>5JxlZaqCnk1MnbgRirs40Q</td>\n",
              "      <td>3.0</td>\n",
              "      <td>2.0</td>\n",
              "      <td>1.0</td>\n",
              "      <td>1.0</td>\n",
              "      <td>The three stars here don't represent a real re...</td>\n",
              "      <td>2012-06-26 07:51:00</td>\n",
              "      <td>Las Vegas</td>\n",
              "      <td>Restaurants, Mexican</td>\n",
              "      <td>56.0</td>\n",
              "    </tr>\n",
              "    <tr>\n",
              "      <th>2</th>\n",
              "      <td>Y6hcNJ2bek3hSG4wm4UHKQ</td>\n",
              "      <td>PKEzKWv_FktMm2mGPjwd0Q</td>\n",
              "      <td>5JxlZaqCnk1MnbgRirs40Q</td>\n",
              "      <td>4.0</td>\n",
              "      <td>4.0</td>\n",
              "      <td>1.0</td>\n",
              "      <td>1.0</td>\n",
              "      <td>I've been here several times, but I never revi...</td>\n",
              "      <td>2011-02-15 02:35:38</td>\n",
              "      <td>Las Vegas</td>\n",
              "      <td>Restaurants, Mexican</td>\n",
              "      <td>56.0</td>\n",
              "    </tr>\n",
              "    <tr>\n",
              "      <th>3</th>\n",
              "      <td>E7Qtf8zR-e2wXFpVuaNDWQ</td>\n",
              "      <td>GdnJtqYWVSBAjya-WdN5RQ</td>\n",
              "      <td>5JxlZaqCnk1MnbgRirs40Q</td>\n",
              "      <td>2.0</td>\n",
              "      <td>2.0</td>\n",
              "      <td>0.0</td>\n",
              "      <td>0.0</td>\n",
              "      <td>I took my folks here last weekend for dinner o...</td>\n",
              "      <td>2012-05-30 18:54:30</td>\n",
              "      <td>Las Vegas</td>\n",
              "      <td>Restaurants, Mexican</td>\n",
              "      <td>56.0</td>\n",
              "    </tr>\n",
              "    <tr>\n",
              "      <th>4</th>\n",
              "      <td>Q3kju7l36U0KWfuZRL_wlw</td>\n",
              "      <td>bX_VFU48rabrU_yHNL2XZg</td>\n",
              "      <td>5JxlZaqCnk1MnbgRirs40Q</td>\n",
              "      <td>4.0</td>\n",
              "      <td>0.0</td>\n",
              "      <td>0.0</td>\n",
              "      <td>0.0</td>\n",
              "      <td>Above average in taste &amp; presentation, which i...</td>\n",
              "      <td>2012-11-07 00:05:33</td>\n",
              "      <td>Las Vegas</td>\n",
              "      <td>Restaurants, Mexican</td>\n",
              "      <td>56.0</td>\n",
              "    </tr>\n",
              "  </tbody>\n",
              "</table>\n",
              "</div>"
            ],
            "text/plain": [
              "                review_id  ... review_count\n",
              "0  i6g_oA9Yf9Y31qt0wibXpw  ...         56.0\n",
              "1  Q9pkOKlRbHZy1pTUkTcBnQ  ...         56.0\n",
              "2  Y6hcNJ2bek3hSG4wm4UHKQ  ...         56.0\n",
              "3  E7Qtf8zR-e2wXFpVuaNDWQ  ...         56.0\n",
              "4  Q3kju7l36U0KWfuZRL_wlw  ...         56.0\n",
              "\n",
              "[5 rows x 12 columns]"
            ]
          },
          "metadata": {
            "tags": []
          },
          "execution_count": 4
        }
      ]
    },
    {
      "cell_type": "markdown",
      "metadata": {
        "id": "2t6aoB__iEnl"
      },
      "source": [
        "### 1.1 Set city to Phoenix"
      ]
    },
    {
      "cell_type": "code",
      "metadata": {
        "id": "bmYRDiasiJA1"
      },
      "source": [
        "city = \"Phoenix\""
      ],
      "execution_count": 5,
      "outputs": []
    },
    {
      "cell_type": "code",
      "metadata": {
        "id": "gX-c8QTbiQ8J",
        "outputId": "4e555791-3890-47e2-a964-7b4aecbdc381",
        "colab": {
          "base_uri": "https://localhost:8080/"
        }
      },
      "source": [
        "df_city_bus_ids = df_res_bus[df_res_bus[\"city\"] == city].business_id.unique()\n",
        "reviews_city = reviews[reviews[\"business_id\"].isin(df_city_bus_ids)]\n",
        "reviews_city.shape"
      ],
      "execution_count": 6,
      "outputs": [
        {
          "output_type": "execute_result",
          "data": {
            "text/plain": [
              "(510982, 9)"
            ]
          },
          "metadata": {
            "tags": []
          },
          "execution_count": 6
        }
      ]
    },
    {
      "cell_type": "code",
      "metadata": {
        "id": "KbPRX7f5ickW",
        "outputId": "f8f31bd5-e354-42e3-8a67-9980b26ace89",
        "colab": {
          "base_uri": "https://localhost:8080/",
          "height": 459
        }
      },
      "source": [
        "df_city_res = df_merge[df_merge[\"city\"] == city]\n",
        "df_city_res.head()"
      ],
      "execution_count": 7,
      "outputs": [
        {
          "output_type": "execute_result",
          "data": {
            "text/html": [
              "<div>\n",
              "<style scoped>\n",
              "    .dataframe tbody tr th:only-of-type {\n",
              "        vertical-align: middle;\n",
              "    }\n",
              "\n",
              "    .dataframe tbody tr th {\n",
              "        vertical-align: top;\n",
              "    }\n",
              "\n",
              "    .dataframe thead th {\n",
              "        text-align: right;\n",
              "    }\n",
              "</style>\n",
              "<table border=\"1\" class=\"dataframe\">\n",
              "  <thead>\n",
              "    <tr style=\"text-align: right;\">\n",
              "      <th></th>\n",
              "      <th>review_id</th>\n",
              "      <th>user_id</th>\n",
              "      <th>business_id</th>\n",
              "      <th>stars</th>\n",
              "      <th>useful</th>\n",
              "      <th>funny</th>\n",
              "      <th>cool</th>\n",
              "      <th>text</th>\n",
              "      <th>date</th>\n",
              "      <th>city</th>\n",
              "      <th>categories</th>\n",
              "      <th>review_count</th>\n",
              "    </tr>\n",
              "  </thead>\n",
              "  <tbody>\n",
              "    <tr>\n",
              "      <th>1290</th>\n",
              "      <td>UGErdm6bt48SXTVwJIti2Q</td>\n",
              "      <td>QodunSzok4nIYFNrTSGesQ</td>\n",
              "      <td>poSV39UqEg-gpESXafS9-g</td>\n",
              "      <td>3.0</td>\n",
              "      <td>0.0</td>\n",
              "      <td>0.0</td>\n",
              "      <td>0.0</td>\n",
              "      <td>My husband and I go there once a week since la...</td>\n",
              "      <td>2018-03-04 01:03:53</td>\n",
              "      <td>Phoenix</td>\n",
              "      <td>Restaurants, American (New), Seafood, Cajun/Cr...</td>\n",
              "      <td>384.0</td>\n",
              "    </tr>\n",
              "    <tr>\n",
              "      <th>1291</th>\n",
              "      <td>aBWKb49Xfkv1946YN7_SIg</td>\n",
              "      <td>sSPbLBHcEMXaJfoO8zs1bA</td>\n",
              "      <td>poSV39UqEg-gpESXafS9-g</td>\n",
              "      <td>5.0</td>\n",
              "      <td>0.0</td>\n",
              "      <td>0.0</td>\n",
              "      <td>0.0</td>\n",
              "      <td>Amazing food, drinks, service!\\n\\nWe started w...</td>\n",
              "      <td>2016-01-17 05:33:14</td>\n",
              "      <td>Phoenix</td>\n",
              "      <td>Restaurants, American (New), Seafood, Cajun/Cr...</td>\n",
              "      <td>384.0</td>\n",
              "    </tr>\n",
              "    <tr>\n",
              "      <th>1292</th>\n",
              "      <td>jCHaWXgppmZjkOdpFltWGA</td>\n",
              "      <td>D5ywfFmwtJxLReqAYlDDmw</td>\n",
              "      <td>poSV39UqEg-gpESXafS9-g</td>\n",
              "      <td>5.0</td>\n",
              "      <td>3.0</td>\n",
              "      <td>0.0</td>\n",
              "      <td>2.0</td>\n",
              "      <td>I couldn't be more excited to have found this ...</td>\n",
              "      <td>2016-01-30 01:13:29</td>\n",
              "      <td>Phoenix</td>\n",
              "      <td>Restaurants, American (New), Seafood, Cajun/Cr...</td>\n",
              "      <td>384.0</td>\n",
              "    </tr>\n",
              "    <tr>\n",
              "      <th>1293</th>\n",
              "      <td>KvJ8yT-dODmCYe21J-Pp_A</td>\n",
              "      <td>gjoN4q-f61kwjmmU4mm1_g</td>\n",
              "      <td>poSV39UqEg-gpESXafS9-g</td>\n",
              "      <td>2.0</td>\n",
              "      <td>0.0</td>\n",
              "      <td>0.0</td>\n",
              "      <td>0.0</td>\n",
              "      <td>The craft beers are very good, but that's abou...</td>\n",
              "      <td>2016-03-30 22:28:36</td>\n",
              "      <td>Phoenix</td>\n",
              "      <td>Restaurants, American (New), Seafood, Cajun/Cr...</td>\n",
              "      <td>384.0</td>\n",
              "    </tr>\n",
              "    <tr>\n",
              "      <th>1294</th>\n",
              "      <td>f88r8XKT_rPrKfyqfwRs3w</td>\n",
              "      <td>zJOGWBbq1mt3RLbKe9XgBg</td>\n",
              "      <td>poSV39UqEg-gpESXafS9-g</td>\n",
              "      <td>4.0</td>\n",
              "      <td>0.0</td>\n",
              "      <td>0.0</td>\n",
              "      <td>0.0</td>\n",
              "      <td>Great HH and awesome catfish dinner for only $...</td>\n",
              "      <td>2017-04-19 11:40:31</td>\n",
              "      <td>Phoenix</td>\n",
              "      <td>Restaurants, American (New), Seafood, Cajun/Cr...</td>\n",
              "      <td>384.0</td>\n",
              "    </tr>\n",
              "  </tbody>\n",
              "</table>\n",
              "</div>"
            ],
            "text/plain": [
              "                   review_id  ... review_count\n",
              "1290  UGErdm6bt48SXTVwJIti2Q  ...        384.0\n",
              "1291  aBWKb49Xfkv1946YN7_SIg  ...        384.0\n",
              "1292  jCHaWXgppmZjkOdpFltWGA  ...        384.0\n",
              "1293  KvJ8yT-dODmCYe21J-Pp_A  ...        384.0\n",
              "1294  f88r8XKT_rPrKfyqfwRs3w  ...        384.0\n",
              "\n",
              "[5 rows x 12 columns]"
            ]
          },
          "metadata": {
            "tags": []
          },
          "execution_count": 7
        }
      ]
    },
    {
      "cell_type": "markdown",
      "metadata": {
        "id": "Bv_TuLkMiywP"
      },
      "source": [
        "### 1.2 filter low review users"
      ]
    },
    {
      "cell_type": "code",
      "metadata": {
        "id": "e3r67viOiluz",
        "outputId": "cf232f2e-5c16-455a-8c51-4d330cc689b6",
        "colab": {
          "base_uri": "https://localhost:8080/"
        }
      },
      "source": [
        "def getCleanReviews(reviews, min_reviews = 5):\n",
        "    review_counts = reviews.groupby(\"user_id\")[\"review_id\"].count().sort_values()\n",
        "    return reviews.loc[reviews[\"user_id\"].isin(review_counts[review_counts >= min_reviews].index.values)]\n",
        "\n",
        "reviews_clean = getCleanReviews(reviews_city, min_reviews=5)\n",
        "print(reviews_clean.describe())\n",
        "print(\"//\")\n",
        "print(\"number of users:\")\n",
        "print(reviews_clean[\"user_id\"].nunique())"
      ],
      "execution_count": 8,
      "outputs": [
        {
          "output_type": "stream",
          "text": [
            "               stars         useful          funny           cool\n",
            "count  262292.000000  262292.000000  262292.000000  262292.000000\n",
            "mean        3.831127       1.575210       0.709004       0.956789\n",
            "std         1.267949       3.683419       2.274797       3.146895\n",
            "min         1.000000       0.000000       0.000000       0.000000\n",
            "25%         3.000000       0.000000       0.000000       0.000000\n",
            "50%         4.000000       1.000000       0.000000       0.000000\n",
            "75%         5.000000       2.000000       1.000000       1.000000\n",
            "max         5.000000     178.000000     169.000000     160.000000\n",
            "//\n",
            "number of users:\n",
            "20481\n"
          ],
          "name": "stdout"
        }
      ]
    },
    {
      "cell_type": "code",
      "metadata": {
        "id": "0l0MPemhi_t3"
      },
      "source": [
        "def get_clean_df(df, min_user_review = 5, min_res_review = 1, cols = ['user_id', 'business_id', 'stars']):\n",
        "    '''Cleans the df and gets rid of the unwanted cols and also allows to filter the user and business based on the min number of reviews received'''\n",
        "    df_new = df[cols]\n",
        "    df_new.dropna(axis = 0, how = 'any', inplace = True)\n",
        "    df_new[\"business_freq\"] = df_new.groupby(cols[1])[cols[1]].transform('count')\n",
        "    df_new =  df_new[df_new['business_freq']>=min_res_review]\n",
        "    df_new['user_freq'] = df_new.groupby(cols[0])[cols[0]].transform('count')\n",
        "    df_new = df_new[df_new['user_freq']>=min_user_review]\n",
        "    return df_new\n",
        "    \n",
        "def get_sparse_matrix(df):\n",
        "    '''Converts the df into a sparse ratings matrix'''\n",
        "    unique_users = list(df['user_id'].unique())\n",
        "    unique_bus = list(df['business_id'].unique())\n",
        "    data = df['stars'].tolist()\n",
        "    row = pd.Series(pd.Categorical(df[\"user_id\"],categories=unique_users)).cat.codes\n",
        "    \n",
        "#     df['user_id'].astype('category', categories=unique_users).cat.codes\n",
        "#     col = df['business_id'].astype('category', categories=unique_bus).cat.codes\n",
        "    col = pd.Series(pd.Categorical(df[\"business_id\"], categories=unique_bus)).cat.codes\n",
        "    sparse_matrix = csr_matrix((data, (row, col)), shape=(len(unique_users), len(unique_bus)))\n",
        "    return sparse_matrix    "
      ],
      "execution_count": 9,
      "outputs": []
    },
    {
      "cell_type": "code",
      "metadata": {
        "id": "Rgb81gXKjMLW",
        "outputId": "0041e8d7-24e7-4a4d-b5f8-987568fa4df2",
        "colab": {
          "base_uri": "https://localhost:8080/"
        }
      },
      "source": [
        "df_clean= get_clean_df(df_city_res,min_user_review= 20, min_res_review=20)\n",
        "df_clean.shape"
      ],
      "execution_count": 10,
      "outputs": [
        {
          "output_type": "stream",
          "text": [
            "/usr/local/lib/python3.6/dist-packages/ipykernel_launcher.py:4: SettingWithCopyWarning: \n",
            "A value is trying to be set on a copy of a slice from a DataFrame\n",
            "\n",
            "See the caveats in the documentation: https://pandas.pydata.org/pandas-docs/stable/user_guide/indexing.html#returning-a-view-versus-a-copy\n",
            "  after removing the cwd from sys.path.\n",
            "/usr/local/lib/python3.6/dist-packages/ipykernel_launcher.py:5: SettingWithCopyWarning: \n",
            "A value is trying to be set on a copy of a slice from a DataFrame.\n",
            "Try using .loc[row_indexer,col_indexer] = value instead\n",
            "\n",
            "See the caveats in the documentation: https://pandas.pydata.org/pandas-docs/stable/user_guide/indexing.html#returning-a-view-versus-a-copy\n",
            "  \"\"\"\n"
          ],
          "name": "stderr"
        },
        {
          "output_type": "execute_result",
          "data": {
            "text/plain": [
              "(111007, 5)"
            ]
          },
          "metadata": {
            "tags": []
          },
          "execution_count": 10
        }
      ]
    },
    {
      "cell_type": "code",
      "metadata": {
        "id": "qBRbXOxojOxV",
        "outputId": "bba12277-aab1-4557-a2a6-a3ac5a988d3a",
        "colab": {
          "base_uri": "https://localhost:8080/",
          "height": 204
        }
      },
      "source": [
        "df_clean.head()"
      ],
      "execution_count": 11,
      "outputs": [
        {
          "output_type": "execute_result",
          "data": {
            "text/html": [
              "<div>\n",
              "<style scoped>\n",
              "    .dataframe tbody tr th:only-of-type {\n",
              "        vertical-align: middle;\n",
              "    }\n",
              "\n",
              "    .dataframe tbody tr th {\n",
              "        vertical-align: top;\n",
              "    }\n",
              "\n",
              "    .dataframe thead th {\n",
              "        text-align: right;\n",
              "    }\n",
              "</style>\n",
              "<table border=\"1\" class=\"dataframe\">\n",
              "  <thead>\n",
              "    <tr style=\"text-align: right;\">\n",
              "      <th></th>\n",
              "      <th>user_id</th>\n",
              "      <th>business_id</th>\n",
              "      <th>stars</th>\n",
              "      <th>business_freq</th>\n",
              "      <th>user_freq</th>\n",
              "    </tr>\n",
              "  </thead>\n",
              "  <tbody>\n",
              "    <tr>\n",
              "      <th>1292</th>\n",
              "      <td>D5ywfFmwtJxLReqAYlDDmw</td>\n",
              "      <td>poSV39UqEg-gpESXafS9-g</td>\n",
              "      <td>5.0</td>\n",
              "      <td>405</td>\n",
              "      <td>22</td>\n",
              "    </tr>\n",
              "    <tr>\n",
              "      <th>1297</th>\n",
              "      <td>CyL4Nh9VHti5oIfcWevRIg</td>\n",
              "      <td>poSV39UqEg-gpESXafS9-g</td>\n",
              "      <td>5.0</td>\n",
              "      <td>405</td>\n",
              "      <td>38</td>\n",
              "    </tr>\n",
              "    <tr>\n",
              "      <th>1302</th>\n",
              "      <td>c40DTzCb-fHY6vI03PNRLw</td>\n",
              "      <td>poSV39UqEg-gpESXafS9-g</td>\n",
              "      <td>4.0</td>\n",
              "      <td>405</td>\n",
              "      <td>65</td>\n",
              "    </tr>\n",
              "    <tr>\n",
              "      <th>1312</th>\n",
              "      <td>Q6Dcxo3_lNCzkqK7J3FL7A</td>\n",
              "      <td>poSV39UqEg-gpESXafS9-g</td>\n",
              "      <td>3.0</td>\n",
              "      <td>405</td>\n",
              "      <td>139</td>\n",
              "    </tr>\n",
              "    <tr>\n",
              "      <th>1314</th>\n",
              "      <td>Tr7YMpWd1XZdXdm35CatqA</td>\n",
              "      <td>poSV39UqEg-gpESXafS9-g</td>\n",
              "      <td>2.0</td>\n",
              "      <td>405</td>\n",
              "      <td>30</td>\n",
              "    </tr>\n",
              "  </tbody>\n",
              "</table>\n",
              "</div>"
            ],
            "text/plain": [
              "                     user_id             business_id  ...  business_freq  user_freq\n",
              "1292  D5ywfFmwtJxLReqAYlDDmw  poSV39UqEg-gpESXafS9-g  ...            405         22\n",
              "1297  CyL4Nh9VHti5oIfcWevRIg  poSV39UqEg-gpESXafS9-g  ...            405         38\n",
              "1302  c40DTzCb-fHY6vI03PNRLw  poSV39UqEg-gpESXafS9-g  ...            405         65\n",
              "1312  Q6Dcxo3_lNCzkqK7J3FL7A  poSV39UqEg-gpESXafS9-g  ...            405        139\n",
              "1314  Tr7YMpWd1XZdXdm35CatqA  poSV39UqEg-gpESXafS9-g  ...            405         30\n",
              "\n",
              "[5 rows x 5 columns]"
            ]
          },
          "metadata": {
            "tags": []
          },
          "execution_count": 11
        }
      ]
    },
    {
      "cell_type": "code",
      "metadata": {
        "id": "ETEDN1Z9jRID",
        "outputId": "50c1cf87-9a7b-434a-b730-9a6b8e3e267a",
        "colab": {
          "base_uri": "https://localhost:8080/"
        }
      },
      "source": [
        "## Sparcity\n",
        "df_spar_matrix = get_sparse_matrix(df_clean)\n",
        "print(\"City:\")\n",
        "print(city)\n",
        "print(\"*\"*100)\n",
        "print(\"number of unique users:\")\n",
        "print(df_spar_matrix.shape[0])\n",
        "print(\"number of unique restaurants:\")\n",
        "print(df_spar_matrix.shape[1])\n",
        "print(\"total reviews:\")\n",
        "print(df_clean.shape[0])\n",
        "print(\"*\"*100)"
      ],
      "execution_count": 12,
      "outputs": [
        {
          "output_type": "stream",
          "text": [
            "City:\n",
            "Phoenix\n",
            "****************************************************************************************************\n",
            "number of unique users:\n",
            "2675\n",
            "number of unique restaurants:\n",
            "2802\n",
            "total reviews:\n",
            "111007\n",
            "****************************************************************************************************\n"
          ],
          "name": "stdout"
        }
      ]
    },
    {
      "cell_type": "code",
      "metadata": {
        "id": "uG_SITkwjcLm",
        "outputId": "ad9fa9b7-0d93-4cb4-c111-a8f810f166d8",
        "colab": {
          "base_uri": "https://localhost:8080/"
        }
      },
      "source": [
        "## sparcity\n",
        "sparsity_clt = 1 - df_spar_matrix.nnz/(df_spar_matrix.shape[0]*df_spar_matrix.shape[1])\n",
        "sparsity_clt\n"
      ],
      "execution_count": 13,
      "outputs": [
        {
          "output_type": "execute_result",
          "data": {
            "text/plain": [
              "0.9863313921297872"
            ]
          },
          "metadata": {
            "tags": []
          },
          "execution_count": 13
        }
      ]
    },
    {
      "cell_type": "markdown",
      "metadata": {
        "id": "PHuJ-Ycjjt7n"
      },
      "source": [
        "### 1.3 Train-Valid-Test split"
      ]
    },
    {
      "cell_type": "code",
      "metadata": {
        "id": "qpjrsIDNjrFB"
      },
      "source": [
        "def train_val_test_split(sparse_matrix, num_review_val = 2, num_review_test = 2):\n",
        "    '''Split the rating matrix into train ,val, and test marix that are disjoint matrices'''\n",
        "    nzrows, nzcols =  sparse_matrix.nonzero()\n",
        "    sparse_matrix_test = csr_matrix(sparse_matrix.shape)\n",
        "    sparse_matrix_val = csr_matrix(sparse_matrix.shape)\n",
        "    sparse_matrix_train = sparse_matrix.copy()\n",
        "    n_users = sparse_matrix.shape[0]\n",
        "    for u in range(n_users):\n",
        "        idx = nzcols[np.where(nzrows == u)]\n",
        "        np.random.shuffle(idx)\n",
        "        test_idx = idx[-num_review_test:]\n",
        "        val_idx = idx[-(num_review_val+num_review_test):-num_review_test]\n",
        "        train_idx = idx[:-(num_review_val+num_review_test)]\n",
        "        sparse_matrix_test[u,test_idx] = sparse_matrix[u,test_idx]\n",
        "        sparse_matrix_val[u,val_idx] = sparse_matrix[u,val_idx]\n",
        "        sparse_matrix_train[u,test_idx] = 0\n",
        "        sparse_matrix_train[u,val_idx] = 0\n",
        "    data = np.array(sparse_matrix_train[sparse_matrix_train.nonzero()])[0]\n",
        "    row = sparse_matrix_train.nonzero()[0]\n",
        "    col = sparse_matrix_train.nonzero()[1]\n",
        "    size = sparse_matrix_train.shape\n",
        "    sparse_matrix_train = csr_matrix((data,(row,col)),shape = size)\n",
        "    mult = sparse_matrix_train.multiply(sparse_matrix_val)\n",
        "    mmult = mult.multiply(sparse_matrix_test)\n",
        "    assert(mmult.nnz == 0)\n",
        "    return sparse_matrix_train, sparse_matrix_val, sparse_matrix_test"
      ],
      "execution_count": 14,
      "outputs": []
    },
    {
      "cell_type": "code",
      "metadata": {
        "id": "QXDQqJGfji2W",
        "outputId": "4b6bf9a8-ad41-4096-9a19-e6e91a0277fd",
        "colab": {
          "base_uri": "https://localhost:8080/"
        }
      },
      "source": [
        "df_train, df_val, df_test = train_val_test_split(df_spar_matrix)\n"
      ],
      "execution_count": 15,
      "outputs": [
        {
          "output_type": "stream",
          "text": [
            "/usr/local/lib/python3.6/dist-packages/scipy/sparse/_index.py:118: SparseEfficiencyWarning: Changing the sparsity structure of a csr_matrix is expensive. lil_matrix is more efficient.\n",
            "  self._set_arrayXarray_sparse(i, j, x)\n"
          ],
          "name": "stderr"
        }
      ]
    },
    {
      "cell_type": "code",
      "metadata": {
        "id": "Q6mna2iUkBGW"
      },
      "source": [
        "sparse.save_npz(\"df_clt_train.csv\",df_train )\n",
        "sparse.save_npz(\"df_clt_val.csv\",df_val )\n",
        "sparse.save_npz(\"df_clt_test.csv\",df_test ) #/content/..."
      ],
      "execution_count": 16,
      "outputs": []
    },
    {
      "cell_type": "code",
      "metadata": {
        "id": "dZK346XGkS_i",
        "outputId": "c0db3199-16e8-455f-8848-30b5d81c9618",
        "colab": {
          "base_uri": "https://localhost:8080/"
        }
      },
      "source": [
        "print(df_train.nnz, df_val.nnz, df_test.nnz)"
      ],
      "execution_count": 17,
      "outputs": [
        {
          "output_type": "stream",
          "text": [
            "91751 5350 5350\n"
          ],
          "name": "stdout"
        }
      ]
    },
    {
      "cell_type": "code",
      "metadata": {
        "id": "CfQqhozGkmHE",
        "outputId": "6dfea64d-a70a-4e15-eb3c-7abd0d4e752f",
        "colab": {
          "base_uri": "https://localhost:8080/"
        }
      },
      "source": [
        "df_train"
      ],
      "execution_count": null,
      "outputs": [
        {
          "output_type": "execute_result",
          "data": {
            "text/plain": [
              "<2675x2802 sparse matrix of type '<class 'numpy.float64'>'\n",
              "\twith 91751 stored elements in Compressed Sparse Row format>"
            ]
          },
          "metadata": {
            "tags": []
          },
          "execution_count": 24
        }
      ]
    },
    {
      "cell_type": "markdown",
      "metadata": {
        "id": "dKfaRebplWQJ"
      },
      "source": [
        "## 2 Build model"
      ]
    },
    {
      "cell_type": "markdown",
      "metadata": {
        "id": "FHrabj8nlZzh"
      },
      "source": [
        "### 2.1 ALS"
      ]
    },
    {
      "cell_type": "markdown",
      "metadata": {
        "id": "VQ04PSqRpz7Q"
      },
      "source": [
        "$$\\text{User-Restaurant Rating Matrix}(N*M) = \\text{User Matrix}(N*K) * \\text{Item Matrix}(K*M)$$\n",
        "$$\\text{minimize: } L = \\sum_{i=1}^N\\sum_{j=1}^M[(R_{ij}-U_i^TV_j)^2+\\lambda(||U_i||^2+||V_j||^2)]$$\n",
        "$$\\text{fix}V_j=V_j^{(0)} $$\n",
        "$$\\Longrightarrow\\frac{\\partial{L}}{\\partial{U_i}} = 2\\sum_{j=1}^M[(V_j^{(0)T}V_j^{(0)}+\\lambda)U_i-R_{ij}V_j^{(0)}]\\text{  }$$\n",
        "$$\\Longrightarrow \\sum_{j=1}^M[(V_j^{(0)T}V_j^{(0)}+\\lambda)U_i]=\\sum_{j=1}^MR_{ij}V_j^{(0)} \\Longrightarrow (VV^T+\\lambda E)U_i = VR_i^T$$\n",
        "\n",
        "$$\\text{fix} U_i=U_i^{(0)}$$\n",
        "$$\\Longrightarrow\\frac{\\partial{L}}{\\partial{V_j}} = 2\\sum_{i=1}^N[(U_i^{(0)T}U_i^{(0)}+\\lambda)V_j-R_{ij}U_i^{(0)}]\\text{  }$$\n",
        "$$\\Longrightarrow \\sum_{i=1}^N[(U_i^{(0)T}U_i^{(0)}+\\lambda)V_j]=\\sum_{i=1}^NR_{ij}U_i^{(0)} \\Longrightarrow (UU^T+\\lambda E)V_j = UR_j^T$$\n"
      ]
    },
    {
      "cell_type": "code",
      "metadata": {
        "id": "2p78a4Nuk-Tz"
      },
      "source": [
        "def als(ratings_matrix, k=40, user_reg=0, res_reg=0, iters=10):\n",
        "    '''Performs ALS for a given ratings_matrix and returns predictions using the latent vector representation User (U x K) and Restaurant (R x K)'''\n",
        "    ratings_matrix = ratings_matrix.T\n",
        "    user_vec = np.random.rand(ratings_matrix.shape[1],k).T\n",
        "    res_vec = np.random.rand(ratings_matrix.shape[0],k).T\n",
        "    for i in range(iters):\n",
        "        for u in range(ratings_matrix.shape[1]):\n",
        "            user_vec[:,u] = np.linalg.solve(np.dot(res_vec,res_vec.T) + user_reg * np.eye(res_vec.shape[0]), np.dot(res_vec,ratings_matrix[:,u]))\n",
        "        for r in range(ratings_matrix.shape[0]):\n",
        "            res_vec[:,r] = np.linalg.solve(np.dot(user_vec,user_vec.T) + res_reg * np.eye(user_vec.shape[0]), np.dot(user_vec,ratings_matrix[r,:].T))\n",
        "        prediction = np.dot(res_vec.T, user_vec)\n",
        "#         error = np.mean((ratings_matrix - prediction)**2)\n",
        "    return np.dot(res_vec.T, user_vec).T\n"
      ],
      "execution_count": 18,
      "outputs": []
    },
    {
      "cell_type": "code",
      "metadata": {
        "id": "QXUlxY2atGWJ"
      },
      "source": [
        "def get_mse(pred, actual):\n",
        "    # Ignore zero terms.\n",
        "    pred = pred[actual.nonzero()].flatten()\n",
        "    actual = actual[actual.nonzero()].flatten()\n",
        "    return mean_squared_error(pred, actual)"
      ],
      "execution_count": 19,
      "outputs": []
    },
    {
      "cell_type": "code",
      "metadata": {
        "id": "wXb6Df7Dst-a",
        "outputId": "3ecad4c0-ecc3-49f9-a9a0-d0910ae1986b",
        "colab": {
          "base_uri": "https://localhost:8080/",
          "height": 367
        }
      },
      "source": [
        "num_features = np.linspace(1,20,5,dtype=int)\n",
        "test_error_als = []\n",
        "train_error_als = []\n",
        "for i in num_features:\n",
        "    preds_als = als(np.array(df_train.todense()), k=i, iters = 5)\n",
        "    test_err = get_mse(preds_als, np.array(df_val.todense()))\n",
        "    train_err = get_mse(preds_als, np.array(df_train.todense()))\n",
        "    test_error_als.append(test_err)\n",
        "    train_error_als.append(train_err)\n",
        "\n",
        "fig = plt.figure(figsize=(8,5))\n",
        "plt.plot(num_features,test_error_als,'b-',label = 'validation')\n",
        "plt.plot(num_features,train_error_als,'r-', label = 'training')\n",
        "plt.title('MSE vs num_features (for ALS)')\n",
        "plt.xlabel('Number of features in a feature vector')\n",
        "plt.ylabel('MSE')\n",
        "plt.legend()"
      ],
      "execution_count": 20,
      "outputs": [
        {
          "output_type": "execute_result",
          "data": {
            "text/plain": [
              "<matplotlib.legend.Legend at 0x7fab3a131390>"
            ]
          },
          "metadata": {
            "tags": []
          },
          "execution_count": 20
        },
        {
          "output_type": "display_data",
          "data": {
            "image/png": "[encoded data removed]",
            "text/plain": [
              "<Figure size 576x360 with 1 Axes>"
            ]
          },
          "metadata": {
            "tags": [],
            "needs_background": "light"
          }
        }
      ]
    },
    {
      "cell_type": "markdown",
      "metadata": {
        "id": "YpoLb5PC96Nl"
      },
      "source": [
        "tuning $\\lambda$"
      ]
    },
    {
      "cell_type": "code",
      "metadata": {
        "id": "SHoAf8YqAnrj",
        "outputId": "00788eea-3133-4e67-8415-6feef0fa8c80",
        "colab": {
          "base_uri": "https://localhost:8080/",
          "height": 283
        }
      },
      "source": [
        "plt.plot(np.log10(user_reg),list(val_error_als.values()))"
      ],
      "execution_count": 32,
      "outputs": [
        {
          "output_type": "execute_result",
          "data": {
            "text/plain": [
              "[<matplotlib.lines.Line2D at 0x7fab2f7b5cc0>]"
            ]
          },
          "metadata": {
            "tags": []
          },
          "execution_count": 32
        },
        {
          "output_type": "display_data",
          "data": {
            "image/png": "[encoded data removed]",
            "text/plain": [
              "<Figure size 432x288 with 1 Axes>"
            ]
          },
          "metadata": {
            "tags": [],
            "needs_background": "light"
          }
        }
      ]
    },
    {
      "cell_type": "code",
      "metadata": {
        "id": "NBY8jzeBsxVE",
        "outputId": "4da6d5fe-bdfa-490a-e226-72a0c5ac34ee",
        "colab": {
          "base_uri": "https://localhost:8080/",
          "height": 367
        }
      },
      "source": [
        "user_reg= np.logspace(-4,3,7)\n",
        "val_error_als = {}\n",
        "# train_error_als = {}\n",
        "fig = plt.figure(figsize=(8,5))\n",
        "for i in user_reg:\n",
        "    val_error_als[i] = []\n",
        "    preds_als = als(np.array(df_train.todense()),k=10, iters = 5, user_reg=i, res_reg=i)\n",
        "    val_err = get_mse(preds_als, np.array(df_val.todense()))\n",
        "#         train_err = get_mse(preds_als, np.array(train.todense()))\n",
        "    val_error_als[i].append(val_err)\n",
        "#         train_error_als[i].append(train_err)\n",
        "plt.plot(np.log10(user_reg),list(val_error_als.values()))\n",
        "#     plt.plot(np.log(res_reg),train_error_als[i], label = 'User_reg = '+ str(i))\n",
        "\n",
        "\n",
        "plt.title('MSE vs Regularization')\n",
        "plt.xlabel('Regularization (log Scale) (User Reg =  Res Reg)')\n",
        "plt.ylabel('MSE')"
      ],
      "execution_count": 33,
      "outputs": [
        {
          "output_type": "execute_result",
          "data": {
            "text/plain": [
              "Text(0, 0.5, 'MSE')"
            ]
          },
          "metadata": {
            "tags": []
          },
          "execution_count": 33
        },
        {
          "output_type": "display_data",
          "data": {
            "image/png": "[encoded data removed]",
            "text/plain": [
              "<Figure size 576x360 with 1 Axes>"
            ]
          },
          "metadata": {
            "tags": [],
            "needs_background": "light"
          }
        }
      ]
    },
    {
      "cell_type": "code",
      "metadata": {
        "id": "TQYVe5ittbTm"
      },
      "source": [
        ""
      ],
      "execution_count": null,
      "outputs": []
    }
  ]
}