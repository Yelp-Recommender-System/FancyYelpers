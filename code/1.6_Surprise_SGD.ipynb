{
 "cells": [
  {
   "cell_type": "code",
   "execution_count": 28,
   "metadata": {},
   "outputs": [],
   "source": [
    "import pandas as pd\n",
    "import numpy as np\n",
    "import matplotlib.pyplot as plt\n",
    "import operator"
   ]
  },
  {
   "cell_type": "code",
   "execution_count": 7,
   "metadata": {},
   "outputs": [],
   "source": [
    "from surprise import SVD\n",
    "from surprise import accuracy\n",
    "from surprise import Reader\n",
    "from surprise.model_selection import GridSearchCV\n",
    "from surprise import Dataset\n",
    "from surprise import BaselineOnly\n",
    "\n",
    "from sklearn.metrics import r2_score\n",
    "from sklearn.metrics import mean_absolute_error"
   ]
  },
  {
   "cell_type": "code",
   "execution_count": 3,
   "metadata": {},
   "outputs": [],
   "source": [
    "train_df = pd.read_pickle('../data/train_df.pkl')\n",
    "val_df = pd.read_pickle('../data/valid_df.pkl')\n",
    "test_df = pd.read_pickle('../data/test_df.pkl')"
   ]
  },
  {
   "cell_type": "code",
   "execution_count": 5,
   "metadata": {
    "scrolled": true
   },
   "outputs": [
    {
     "data": {
      "text/html": [
       "<div>\n",
       "<style scoped>\n",
       "    .dataframe tbody tr th:only-of-type {\n",
       "        vertical-align: middle;\n",
       "    }\n",
       "\n",
       "    .dataframe tbody tr th {\n",
       "        vertical-align: top;\n",
       "    }\n",
       "\n",
       "    .dataframe thead th {\n",
       "        text-align: right;\n",
       "    }\n",
       "</style>\n",
       "<table border=\"1\" class=\"dataframe\">\n",
       "  <thead>\n",
       "    <tr style=\"text-align: right;\">\n",
       "      <th></th>\n",
       "      <th>user_id</th>\n",
       "      <th>business_id</th>\n",
       "      <th>stars</th>\n",
       "    </tr>\n",
       "  </thead>\n",
       "  <tbody>\n",
       "    <tr>\n",
       "      <th>0</th>\n",
       "      <td>--2HUmLkcNHZp0xw6AMBPg</td>\n",
       "      <td>yX0pOWG_Be9TjGnm0aihVA</td>\n",
       "      <td>5.0</td>\n",
       "    </tr>\n",
       "    <tr>\n",
       "      <th>1</th>\n",
       "      <td>--2HUmLkcNHZp0xw6AMBPg</td>\n",
       "      <td>u9R0_pvEkl7QGPJYH3j1sg</td>\n",
       "      <td>5.0</td>\n",
       "    </tr>\n",
       "    <tr>\n",
       "      <th>2</th>\n",
       "      <td>--2HUmLkcNHZp0xw6AMBPg</td>\n",
       "      <td>cHdJXLlKNWixBXpDwEGb_A</td>\n",
       "      <td>5.0</td>\n",
       "    </tr>\n",
       "    <tr>\n",
       "      <th>3</th>\n",
       "      <td>--2HUmLkcNHZp0xw6AMBPg</td>\n",
       "      <td>LR_99E7tVUfxqemvcGkDzw</td>\n",
       "      <td>3.0</td>\n",
       "    </tr>\n",
       "    <tr>\n",
       "      <th>4</th>\n",
       "      <td>--2HUmLkcNHZp0xw6AMBPg</td>\n",
       "      <td>lfyg98UFNYMVk18p6LIlkw</td>\n",
       "      <td>5.0</td>\n",
       "    </tr>\n",
       "    <tr>\n",
       "      <th>...</th>\n",
       "      <td>...</td>\n",
       "      <td>...</td>\n",
       "      <td>...</td>\n",
       "    </tr>\n",
       "    <tr>\n",
       "      <th>180554</th>\n",
       "      <td>zzO9aMo33jA3pPv8SoYskw</td>\n",
       "      <td>ylxqmxh2gO1yCpQkIk6o3A</td>\n",
       "      <td>5.0</td>\n",
       "    </tr>\n",
       "    <tr>\n",
       "      <th>180555</th>\n",
       "      <td>zzO9aMo33jA3pPv8SoYskw</td>\n",
       "      <td>5eK_pgro9_LxPYDoRVJnEA</td>\n",
       "      <td>2.0</td>\n",
       "    </tr>\n",
       "    <tr>\n",
       "      <th>180556</th>\n",
       "      <td>zzO9aMo33jA3pPv8SoYskw</td>\n",
       "      <td>evdJO0v9rvVixieNEnaeJg</td>\n",
       "      <td>5.0</td>\n",
       "    </tr>\n",
       "    <tr>\n",
       "      <th>180557</th>\n",
       "      <td>zzO9aMo33jA3pPv8SoYskw</td>\n",
       "      <td>frCxZS7lPhEnQRJ3UY6m7A</td>\n",
       "      <td>5.0</td>\n",
       "    </tr>\n",
       "    <tr>\n",
       "      <th>180558</th>\n",
       "      <td>zzO9aMo33jA3pPv8SoYskw</td>\n",
       "      <td>EhplcymNbSX5TvPgGilL7Q</td>\n",
       "      <td>5.0</td>\n",
       "    </tr>\n",
       "  </tbody>\n",
       "</table>\n",
       "<p>180559 rows × 3 columns</p>\n",
       "</div>"
      ],
      "text/plain": [
       "                       user_id             business_id  stars\n",
       "0       --2HUmLkcNHZp0xw6AMBPg  yX0pOWG_Be9TjGnm0aihVA    5.0\n",
       "1       --2HUmLkcNHZp0xw6AMBPg  u9R0_pvEkl7QGPJYH3j1sg    5.0\n",
       "2       --2HUmLkcNHZp0xw6AMBPg  cHdJXLlKNWixBXpDwEGb_A    5.0\n",
       "3       --2HUmLkcNHZp0xw6AMBPg  LR_99E7tVUfxqemvcGkDzw    3.0\n",
       "4       --2HUmLkcNHZp0xw6AMBPg  lfyg98UFNYMVk18p6LIlkw    5.0\n",
       "...                        ...                     ...    ...\n",
       "180554  zzO9aMo33jA3pPv8SoYskw  ylxqmxh2gO1yCpQkIk6o3A    5.0\n",
       "180555  zzO9aMo33jA3pPv8SoYskw  5eK_pgro9_LxPYDoRVJnEA    2.0\n",
       "180556  zzO9aMo33jA3pPv8SoYskw  evdJO0v9rvVixieNEnaeJg    5.0\n",
       "180557  zzO9aMo33jA3pPv8SoYskw  frCxZS7lPhEnQRJ3UY6m7A    5.0\n",
       "180558  zzO9aMo33jA3pPv8SoYskw  EhplcymNbSX5TvPgGilL7Q    5.0\n",
       "\n",
       "[180559 rows x 3 columns]"
      ]
     },
     "execution_count": 5,
     "metadata": {},
     "output_type": "execute_result"
    }
   ],
   "source": [
    "train_df"
   ]
  },
  {
   "cell_type": "code",
   "execution_count": 17,
   "metadata": {},
   "outputs": [],
   "source": [
    "train_df.columns = ['userID', 'itemID','rating']\n",
    "val_df.columns = ['userID', 'itemID','rating']\n",
    "test_df.columns = ['userID', 'itemID','rating']"
   ]
  },
  {
   "cell_type": "code",
   "execution_count": 21,
   "metadata": {},
   "outputs": [],
   "source": [
    "reader = Reader(rating_scale = (0.0, 5.0))\n",
    "train_set = Dataset.load_from_df(train_df, reader).build_full_trainset()\n",
    "val_set = Dataset.load_from_df(val_df, reader).build_full_trainset().build_testset()\n",
    "test_set = Dataset.load_from_df(test_df, reader).build_full_trainset().build_testset()"
   ]
  },
  {
   "cell_type": "code",
   "execution_count": 9,
   "metadata": {
    "scrolled": true
   },
   "outputs": [
    {
     "data": {
      "text/plain": [
       "<surprise.trainset.Trainset at 0x7fcffc4f15e0>"
      ]
     },
     "execution_count": 9,
     "metadata": {},
     "output_type": "execute_result"
    }
   ],
   "source": [
    "train_set"
   ]
  },
  {
   "cell_type": "markdown",
   "metadata": {},
   "source": [
    "### baseline"
   ]
  },
  {
   "cell_type": "code",
   "execution_count": 25,
   "metadata": {},
   "outputs": [
    {
     "name": "stdout",
     "output_type": "stream",
     "text": [
      "Estimating biases using als...\n",
      "MSE: 1.4369\n"
     ]
    },
    {
     "data": {
      "text/plain": [
       "1.436931792432425"
      ]
     },
     "execution_count": 25,
     "metadata": {},
     "output_type": "execute_result"
    }
   ],
   "source": [
    "bsl_options = {'method': 'als','n_factors':200, 'n_epochs':30,'lr_all':0.005,'reg_all':0.1}\n",
    "bias_baseline = BaselineOnly(bsl_options)\n",
    "bias_baseline.fit(train_set)\n",
    "predictions = bias_baseline.test(val_set)\n",
    "accuracy.mse(predictions)"
   ]
  },
  {
   "cell_type": "code",
   "execution_count": 62,
   "metadata": {
    "scrolled": true
   },
   "outputs": [
    {
     "name": "stdout",
     "output_type": "stream",
     "text": [
      "Fitting n: 20, factor: 10, reg:0.1\n",
      "Estimating biases using als...\n",
      "MSE: 1.4369\n",
      "Fitting n: 20, factor: 10, reg:0.3\n",
      "Estimating biases using als...\n",
      "MSE: 1.4369\n",
      "Fitting n: 20, factor: 10, reg:0.5\n",
      "Estimating biases using als...\n",
      "MSE: 1.4369\n",
      "Fitting n: 20, factor: 20, reg:0.1\n",
      "Estimating biases using als...\n",
      "MSE: 1.4369\n",
      "Fitting n: 20, factor: 20, reg:0.3\n",
      "Estimating biases using als...\n",
      "MSE: 1.4369\n",
      "Fitting n: 20, factor: 20, reg:0.5\n",
      "Estimating biases using als...\n",
      "MSE: 1.4369\n",
      "Fitting n: 20, factor: 50, reg:0.1\n",
      "Estimating biases using als...\n",
      "MSE: 1.4369\n",
      "Fitting n: 20, factor: 50, reg:0.3\n",
      "Estimating biases using als...\n",
      "MSE: 1.4369\n",
      "Fitting n: 20, factor: 50, reg:0.5\n",
      "Estimating biases using als...\n",
      "MSE: 1.4369\n",
      "Fitting n: 30, factor: 10, reg:0.1\n",
      "Estimating biases using als...\n",
      "MSE: 1.4369\n",
      "Fitting n: 30, factor: 10, reg:0.3\n",
      "Estimating biases using als...\n",
      "MSE: 1.4369\n",
      "Fitting n: 30, factor: 10, reg:0.5\n",
      "Estimating biases using als...\n",
      "MSE: 1.4369\n",
      "Fitting n: 30, factor: 20, reg:0.1\n",
      "Estimating biases using als...\n",
      "MSE: 1.4369\n",
      "Fitting n: 30, factor: 20, reg:0.3\n",
      "Estimating biases using als...\n",
      "MSE: 1.4369\n",
      "Fitting n: 30, factor: 20, reg:0.5\n",
      "Estimating biases using als...\n",
      "MSE: 1.4369\n",
      "Fitting n: 30, factor: 50, reg:0.1\n",
      "Estimating biases using als...\n",
      "MSE: 1.4369\n",
      "Fitting n: 30, factor: 50, reg:0.3\n",
      "Estimating biases using als...\n",
      "MSE: 1.4369\n",
      "Fitting n: 30, factor: 50, reg:0.5\n",
      "Estimating biases using als...\n",
      "MSE: 1.4369\n",
      "Fitting n: 40, factor: 10, reg:0.1\n",
      "Estimating biases using als...\n",
      "MSE: 1.4369\n",
      "Fitting n: 40, factor: 10, reg:0.3\n",
      "Estimating biases using als...\n",
      "MSE: 1.4369\n",
      "Fitting n: 40, factor: 10, reg:0.5\n",
      "Estimating biases using als...\n",
      "MSE: 1.4369\n",
      "Fitting n: 40, factor: 20, reg:0.1\n",
      "Estimating biases using als...\n",
      "MSE: 1.4369\n",
      "Fitting n: 40, factor: 20, reg:0.3\n",
      "Estimating biases using als...\n",
      "MSE: 1.4369\n",
      "Fitting n: 40, factor: 20, reg:0.5\n",
      "Estimating biases using als...\n",
      "MSE: 1.4369\n",
      "Fitting n: 40, factor: 50, reg:0.1\n",
      "Estimating biases using als...\n",
      "MSE: 1.4369\n",
      "Fitting n: 40, factor: 50, reg:0.3\n",
      "Estimating biases using als...\n",
      "MSE: 1.4369\n",
      "Fitting n: 40, factor: 50, reg:0.5\n",
      "Estimating biases using als...\n",
      "MSE: 1.4369\n"
     ]
    }
   ],
   "source": [
    "MSE_tune_baseline = {}\n",
    "n_factors = [10,20,50]\n",
    "n_epochs = [20,30,40]  # the number of iteration of the SGD procedure\n",
    "# lr_all = [0.001, 0.003, 0.005] # the learning rate for all parameters\n",
    "reg_all =  [0.1, 0.3,0.5] # the regularization term for all parameters\n",
    "\n",
    "\n",
    "for n in n_epochs:\n",
    "    for factor in n_factors:\n",
    "        for reg in reg_all:\n",
    "            print('Fitting n: {0}, factor: {1}, reg:{2}'.format(n, factor,reg))\n",
    "            bsl_options = {'method': 'als','n_factors':factor, 'n_epochs':n,'lr_all':0.005,'reg_all':reg}\n",
    "            bias_baseline = BaselineOnly(bsl_options)\n",
    "            bias_baseline.fit(train_set)\n",
    "            predictions = bias_baseline.test(val_set)\n",
    "            MSE_tune_baseline[n,factor,reg] = accuracy.mse(predictions)"
   ]
  },
  {
   "cell_type": "code",
   "execution_count": 63,
   "metadata": {},
   "outputs": [
    {
     "name": "stdout",
     "output_type": "stream",
     "text": [
      "(20, 10, 0.1)\n",
      "MSE = 1.436931792125898\n"
     ]
    }
   ],
   "source": [
    "print(min(MSE_tune_baseline.items(), key=operator.itemgetter(1))[0])\n",
    "print(f\"MSE = {MSE_tune_baseline[min(MSE_tune_baseline.items(), key=operator.itemgetter(1))[0]]}\")"
   ]
  },
  {
   "cell_type": "markdown",
   "metadata": {},
   "source": [
    "#### on test data"
   ]
  },
  {
   "cell_type": "code",
   "execution_count": 48,
   "metadata": {},
   "outputs": [],
   "source": [
    "new_train_df = pd.concat([train_df,val_df])\n",
    "new_train_set = Dataset.load_from_df(new_train_df, reader).build_full_trainset()"
   ]
  },
  {
   "cell_type": "code",
   "execution_count": 77,
   "metadata": {
    "scrolled": true
   },
   "outputs": [
    {
     "name": "stdout",
     "output_type": "stream",
     "text": [
      "Estimating biases using als...\n",
      "MSE: 1.5203\n"
     ]
    },
    {
     "data": {
      "text/plain": [
       "1.5203183139363428"
      ]
     },
     "execution_count": 77,
     "metadata": {},
     "output_type": "execute_result"
    }
   ],
   "source": [
    "bsl_options = {'method': 'als','n_factors':10, 'n_epochs':20,'lr_all':0.005,'reg_all':0.1}\n",
    "bias_baseline = BaselineOnly(bsl_options)\n",
    "bias_baseline.fit(new_train_set)\n",
    "predictions = bias_baseline.test(test_set)\n",
    "accuracy.mse(predictions)"
   ]
  },
  {
   "cell_type": "code",
   "execution_count": 78,
   "metadata": {},
   "outputs": [],
   "source": [
    "baseline_predict_df = pd.DataFrame(predictions)\n",
    "baseline_predict_df = baseline_predict_df.drop([\"r_ui\",\"details\"],1)\n",
    "baseline_predict_df.columns = [\"userId\",\"itemId\",\"predict\"]"
   ]
  },
  {
   "cell_type": "code",
   "execution_count": 80,
   "metadata": {},
   "outputs": [],
   "source": [
    "baseline_predict_df.to_csv('../data/baseline_predict_df.csv')"
   ]
  },
  {
   "cell_type": "markdown",
   "metadata": {},
   "source": [
    "### biased SGD model:\n"
   ]
  },
  {
   "cell_type": "code",
   "execution_count": 26,
   "metadata": {},
   "outputs": [
    {
     "name": "stdout",
     "output_type": "stream",
     "text": [
      "MSE: 1.4836\n"
     ]
    },
    {
     "data": {
      "text/plain": [
       "1.483566559172792"
      ]
     },
     "execution_count": 26,
     "metadata": {},
     "output_type": "execute_result"
    }
   ],
   "source": [
    "bias_sgd = SVD(n_factors=200 ,n_epochs=30,lr_all=0.005,reg_all=0.02)\n",
    "bias_sgd.fit(train_set)\n",
    "predictions = bias_sgd.test(val_set)\n",
    "accuracy.mse(predictions)"
   ]
  },
  {
   "cell_type": "code",
   "execution_count": 30,
   "metadata": {},
   "outputs": [
    {
     "name": "stdout",
     "output_type": "stream",
     "text": [
      "MSE: 1.4270\n",
      "MSE: 1.4509\n",
      "MSE: 1.4618\n",
      "MSE: 1.4653\n",
      "MSE: 1.4752\n",
      "MSE: 1.4808\n"
     ]
    }
   ],
   "source": [
    "n_factors_all = [10,30,50,100,150,200]\n",
    "mse_n_factor = []\n",
    "for n in n_factors_all:\n",
    "    bias_sgd = SVD(n_factors=n ,n_epochs=30,lr_all=0.005,reg_all=0.02)\n",
    "    bias_sgd.fit(train_set)\n",
    "    predictions = bias_sgd.test(val_set)\n",
    "    mse_n_factor.append(accuracy.mse(predictions))"
   ]
  },
  {
   "cell_type": "code",
   "execution_count": 32,
   "metadata": {},
   "outputs": [
    {
     "data": {
      "text/plain": [
       "Text(0, 0.5, 'MSE')"
      ]
     },
     "execution_count": 32,
     "metadata": {},
     "output_type": "execute_result"
    },
    {
     "data": {
      "image/png": "[encoded data removed]",
      "text/plain": [
       "<Figure size 432x288 with 1 Axes>"
      ]
     },
     "metadata": {
      "needs_background": "light"
     },
     "output_type": "display_data"
    }
   ],
   "source": [
    "plt.plot(n_factors_all,mse_n_factor)\n",
    "plt.xlabel(\"n_factor\")\n",
    "plt.ylabel(\"MSE\")"
   ]
  },
  {
   "cell_type": "code",
   "execution_count": 34,
   "metadata": {},
   "outputs": [
    {
     "name": "stdout",
     "output_type": "stream",
     "text": [
      "MSE: 1.4693\n",
      "MSE: 1.4702\n",
      "MSE: 1.4816\n",
      "MSE: 1.5008\n",
      "MSE: 1.4864\n"
     ]
    }
   ],
   "source": [
    "n_epochs = [10,20,30,40,50]\n",
    "mse_n_epochs = []\n",
    "for n in n_epochs:\n",
    "    bias_sgd = SVD(n_factors=200 ,n_epochs=n,lr_all=0.005,reg_all=0.02)\n",
    "    bias_sgd.fit(train_set)\n",
    "    predictions = bias_sgd.test(val_set)\n",
    "    mse_n_epochs.append(accuracy.mse(predictions))"
   ]
  },
  {
   "cell_type": "code",
   "execution_count": 35,
   "metadata": {},
   "outputs": [
    {
     "data": {
      "text/plain": [
       "Text(0, 0.5, 'MSE')"
      ]
     },
     "execution_count": 35,
     "metadata": {},
     "output_type": "execute_result"
    },
    {
     "data": {
      "image/png": "[encoded data removed]",
      "text/plain": [
       "<Figure size 432x288 with 1 Axes>"
      ]
     },
     "metadata": {
      "needs_background": "light"
     },
     "output_type": "display_data"
    }
   ],
   "source": [
    "plt.plot(n_epochs,mse_n_epochs)\n",
    "plt.xlabel(\"n_epochs\")\n",
    "plt.ylabel(\"MSE\")"
   ]
  },
  {
   "cell_type": "code",
   "execution_count": 54,
   "metadata": {},
   "outputs": [
    {
     "name": "stdout",
     "output_type": "stream",
     "text": [
      "MSE: 1.4898\n",
      "MSE: 1.4685\n",
      "MSE: 1.4867\n",
      "MSE: 1.4989\n",
      "MSE: 1.4730\n",
      "MSE: 1.4860\n"
     ]
    },
    {
     "data": {
      "text/plain": [
       "Text(0, 0.5, 'MSE')"
      ]
     },
     "execution_count": 54,
     "metadata": {},
     "output_type": "execute_result"
    },
    {
     "data": {
      "image/png": "[encoded data removed]",
      "text/plain": [
       "<Figure size 432x288 with 1 Axes>"
      ]
     },
     "metadata": {
      "needs_background": "light"
     },
     "output_type": "display_data"
    }
   ],
   "source": [
    "lr_all = [0.001, 0.003, 0.005,0.01,0.05,0.1] \n",
    "mse_lr = []\n",
    "for lr in lr_all:\n",
    "    bias_sgd = SVD(n_factors=200 ,n_epochs=30,lr_all=lr,reg_all=0.02)\n",
    "    bias_sgd.fit(train_set)\n",
    "    predictions = bias_sgd.test(val_set)\n",
    "    mse_lr.append(accuracy.mse(predictions))\n",
    "    \n",
    "plt.plot(lr_all,mse_lr)\n",
    "plt.xlabel(\"Learning rate\")\n",
    "plt.ylabel(\"MSE\")"
   ]
  },
  {
   "cell_type": "code",
   "execution_count": 56,
   "metadata": {},
   "outputs": [
    {
     "name": "stdout",
     "output_type": "stream",
     "text": [
      "MSE: 1.4927\n",
      "MSE: 1.4497\n",
      "MSE: 1.4324\n",
      "MSE: 1.4269\n",
      "MSE: 1.4362\n"
     ]
    },
    {
     "data": {
      "text/plain": [
       "Text(0, 0.5, 'MSE')"
      ]
     },
     "execution_count": 56,
     "metadata": {},
     "output_type": "execute_result"
    },
    {
     "data": {
      "image/png": "[encoded data removed]",
      "text/plain": [
       "<Figure size 432x288 with 1 Axes>"
      ]
     },
     "metadata": {
      "needs_background": "light"
     },
     "output_type": "display_data"
    }
   ],
   "source": [
    "reg_all =  [0.02, 0.05, 0.1, 0.3, 0.5]\n",
    "mse_reg = []\n",
    "for reg in reg_all:\n",
    "    bias_sgd = SVD(n_factors=200 ,n_epochs=30,lr_all=0.005,reg_all=reg)\n",
    "    bias_sgd.fit(train_set)\n",
    "    predictions = bias_sgd.test(val_set)\n",
    "    mse_reg.append(accuracy.mse(predictions))\n",
    "    \n",
    "plt.plot(reg_all,mse_reg)\n",
    "plt.xlabel(\"Regularization\")\n",
    "plt.ylabel(\"MSE\")"
   ]
  },
  {
   "cell_type": "code",
   "execution_count": 58,
   "metadata": {
    "scrolled": true
   },
   "outputs": [
    {
     "name": "stdout",
     "output_type": "stream",
     "text": [
      "Fitting n: 20, factor: 10, reg:0.1\n",
      "MSE: 1.4195\n",
      "Fitting n: 20, factor: 10, reg:0.3\n",
      "MSE: 1.4287\n",
      "Fitting n: 20, factor: 10, reg:0.5\n",
      "MSE: 1.4416\n",
      "Fitting n: 20, factor: 20, reg:0.1\n",
      "MSE: 1.4190\n",
      "Fitting n: 20, factor: 20, reg:0.3\n",
      "MSE: 1.4298\n",
      "Fitting n: 20, factor: 20, reg:0.5\n",
      "MSE: 1.4418\n",
      "Fitting n: 20, factor: 50, reg:0.1\n",
      "MSE: 1.4226\n",
      "Fitting n: 20, factor: 50, reg:0.3\n",
      "MSE: 1.4305\n",
      "Fitting n: 20, factor: 50, reg:0.5\n",
      "MSE: 1.4422\n",
      "Fitting n: 30, factor: 10, reg:0.1\n",
      "MSE: 1.4170\n",
      "Fitting n: 30, factor: 10, reg:0.3\n",
      "MSE: 1.4234\n",
      "Fitting n: 30, factor: 10, reg:0.5\n",
      "MSE: 1.4352\n",
      "Fitting n: 30, factor: 20, reg:0.1\n",
      "MSE: 1.4178\n",
      "Fitting n: 30, factor: 20, reg:0.3\n",
      "MSE: 1.4236\n",
      "Fitting n: 30, factor: 20, reg:0.5\n",
      "MSE: 1.4353\n",
      "Fitting n: 30, factor: 50, reg:0.1\n",
      "MSE: 1.4225\n",
      "Fitting n: 30, factor: 50, reg:0.3\n",
      "MSE: 1.4237\n",
      "Fitting n: 30, factor: 50, reg:0.5\n",
      "MSE: 1.4355\n",
      "Fitting n: 40, factor: 10, reg:0.1\n",
      "MSE: 1.4203\n",
      "Fitting n: 40, factor: 10, reg:0.3\n",
      "MSE: 1.4254\n",
      "Fitting n: 40, factor: 10, reg:0.5\n",
      "MSE: 1.4354\n",
      "Fitting n: 40, factor: 20, reg:0.1\n",
      "MSE: 1.4225\n",
      "Fitting n: 40, factor: 20, reg:0.3\n",
      "MSE: 1.4253\n",
      "Fitting n: 40, factor: 20, reg:0.5\n",
      "MSE: 1.4353\n",
      "Fitting n: 40, factor: 50, reg:0.1\n",
      "MSE: 1.4261\n",
      "Fitting n: 40, factor: 50, reg:0.3\n",
      "MSE: 1.4254\n",
      "Fitting n: 40, factor: 50, reg:0.5\n",
      "MSE: 1.4353\n"
     ]
    }
   ],
   "source": [
    "MSE_tune = {}\n",
    "n_factors = [10,20,50]\n",
    "n_epochs = [20,30,40]  # the number of iteration of the SGD procedure\n",
    "# lr_all = [0.001, 0.003, 0.005] # the learning rate for all parameters\n",
    "reg_all =  [0.1, 0.3,0.5] # the regularization term for all parameters\n",
    "\n",
    "\n",
    "for n in n_epochs:\n",
    "    for factor in n_factors:\n",
    "        for reg in reg_all:\n",
    "            print('Fitting n: {0}, factor: {1}, reg:{2}'.format(n, factor,reg))\n",
    "            algo = SVD(n_epochs = n, n_factors=factor,lr_all=0.005,reg_all = reg)\n",
    "            algo.fit(train_set)\n",
    "            predictions = algo.test(val_set)\n",
    "            MSE_tune[n,factor,reg] = accuracy.mse(predictions)"
   ]
  },
  {
   "cell_type": "code",
   "execution_count": 59,
   "metadata": {},
   "outputs": [
    {
     "name": "stdout",
     "output_type": "stream",
     "text": [
      "(30, 10, 0.1)\n",
      "MSE = 1.4169747769313954\n"
     ]
    }
   ],
   "source": [
    "print(min(MSE_tune.items(), key=operator.itemgetter(1))[0])\n",
    "print(f\"MSE = {MSE_tune[min(MSE_tune.items(), key=operator.itemgetter(1))[0]]}\")"
   ]
  },
  {
   "cell_type": "markdown",
   "metadata": {},
   "source": [
    "#### on test data"
   ]
  },
  {
   "cell_type": "code",
   "execution_count": 81,
   "metadata": {
    "scrolled": false
   },
   "outputs": [
    {
     "name": "stdout",
     "output_type": "stream",
     "text": [
      "MSE: 1.4938\n"
     ]
    },
    {
     "data": {
      "text/plain": [
       "1.493840632629824"
      ]
     },
     "execution_count": 81,
     "metadata": {},
     "output_type": "execute_result"
    }
   ],
   "source": [
    "bias_sgd = SVD(n_factors=10 ,n_epochs=30,lr_all=0.005,reg_all=0.1)\n",
    "bias_sgd.fit(new_train_set)\n",
    "predictions = bias_sgd.test(test_set)\n",
    "accuracy.mse(predictions)"
   ]
  },
  {
   "cell_type": "code",
   "execution_count": 83,
   "metadata": {
    "scrolled": true
   },
   "outputs": [],
   "source": [
    "sgd_predict_df = pd.DataFrame(predictions)\n",
    "sgd_predict_df = sgd_predict_df.drop([\"r_ui\",\"details\"],1)\n",
    "sgd_predict_df.columns = [\"userId\",\"itemId\",\"predict\"]"
   ]
  },
  {
   "cell_type": "code",
   "execution_count": 85,
   "metadata": {},
   "outputs": [],
   "source": [
    "sgd_predict_df.to_csv('../data/sgd_predict_df.csv')"
   ]
  },
  {
   "cell_type": "code",
   "execution_count": 86,
   "metadata": {},
   "outputs": [
    {
     "data": {
      "text/html": [
       "<div>\n",
       "<style scoped>\n",
       "    .dataframe tbody tr th:only-of-type {\n",
       "        vertical-align: middle;\n",
       "    }\n",
       "\n",
       "    .dataframe tbody tr th {\n",
       "        vertical-align: top;\n",
       "    }\n",
       "\n",
       "    .dataframe thead th {\n",
       "        text-align: right;\n",
       "    }\n",
       "</style>\n",
       "<table border=\"1\" class=\"dataframe\">\n",
       "  <thead>\n",
       "    <tr style=\"text-align: right;\">\n",
       "      <th></th>\n",
       "      <th>uid</th>\n",
       "      <th>iid</th>\n",
       "      <th>r_ui</th>\n",
       "      <th>est</th>\n",
       "      <th>details</th>\n",
       "    </tr>\n",
       "  </thead>\n",
       "  <tbody>\n",
       "    <tr>\n",
       "      <th>0</th>\n",
       "      <td>--2HUmLkcNHZp0xw6AMBPg</td>\n",
       "      <td>APXWKd1N-COyUdncd_FdyQ</td>\n",
       "      <td>5.0</td>\n",
       "      <td>4.808096</td>\n",
       "      <td>{'was_impossible': False}</td>\n",
       "    </tr>\n",
       "    <tr>\n",
       "      <th>1</th>\n",
       "      <td>--4rAAfZnEIAKJE80aIiYg</td>\n",
       "      <td>HTaA1mo9cB1dXMwfJC6yKg</td>\n",
       "      <td>1.0</td>\n",
       "      <td>2.060438</td>\n",
       "      <td>{'was_impossible': False}</td>\n",
       "    </tr>\n",
       "    <tr>\n",
       "      <th>2</th>\n",
       "      <td>--CIuK7sUpaNzalLAlHJKA</td>\n",
       "      <td>8Zqh2jwtncA3N4fWEMTvZQ</td>\n",
       "      <td>4.0</td>\n",
       "      <td>4.425357</td>\n",
       "      <td>{'was_impossible': False}</td>\n",
       "    </tr>\n",
       "    <tr>\n",
       "      <th>3</th>\n",
       "      <td>--Nnm_506G_p8MxAOQna5w</td>\n",
       "      <td>tIOjJWfu4Dqz-FIzXHRvCg</td>\n",
       "      <td>3.0</td>\n",
       "      <td>3.756813</td>\n",
       "      <td>{'was_impossible': False}</td>\n",
       "    </tr>\n",
       "    <tr>\n",
       "      <th>4</th>\n",
       "      <td>--mUBPK_NdRNVyhDVoUIUA</td>\n",
       "      <td>W7Dt3b6H_pMIHfxn49Pkzg</td>\n",
       "      <td>1.0</td>\n",
       "      <td>3.264628</td>\n",
       "      <td>{'was_impossible': False}</td>\n",
       "    </tr>\n",
       "    <tr>\n",
       "      <th>...</th>\n",
       "      <td>...</td>\n",
       "      <td>...</td>\n",
       "      <td>...</td>\n",
       "      <td>...</td>\n",
       "      <td>...</td>\n",
       "    </tr>\n",
       "    <tr>\n",
       "      <th>19495</th>\n",
       "      <td>zy7D8MZ8NwXO8uDraQby8g</td>\n",
       "      <td>frCxZS7lPhEnQRJ3UY6m7A</td>\n",
       "      <td>4.0</td>\n",
       "      <td>4.528318</td>\n",
       "      <td>{'was_impossible': False}</td>\n",
       "    </tr>\n",
       "    <tr>\n",
       "      <th>19496</th>\n",
       "      <td>zyebSPCZLUZHapi-dSHU5Q</td>\n",
       "      <td>wfxmuA7LbKZKVLV58EiWBw</td>\n",
       "      <td>2.0</td>\n",
       "      <td>3.606343</td>\n",
       "      <td>{'was_impossible': False}</td>\n",
       "    </tr>\n",
       "    <tr>\n",
       "      <th>19497</th>\n",
       "      <td>zz8rQaQvsZFZfAu-rPhLNw</td>\n",
       "      <td>h0bxE_VmJJvKKEEm4-NFRA</td>\n",
       "      <td>4.0</td>\n",
       "      <td>3.742852</td>\n",
       "      <td>{'was_impossible': False}</td>\n",
       "    </tr>\n",
       "    <tr>\n",
       "      <th>19498</th>\n",
       "      <td>zzF17hwmlFTuOa1Yagi-eg</td>\n",
       "      <td>umrDQGRNied77aVg29_fVw</td>\n",
       "      <td>5.0</td>\n",
       "      <td>4.030512</td>\n",
       "      <td>{'was_impossible': False}</td>\n",
       "    </tr>\n",
       "    <tr>\n",
       "      <th>19499</th>\n",
       "      <td>zzO9aMo33jA3pPv8SoYskw</td>\n",
       "      <td>pDewiJY6KCcZgLxxgxg13Q</td>\n",
       "      <td>5.0</td>\n",
       "      <td>4.093804</td>\n",
       "      <td>{'was_impossible': False}</td>\n",
       "    </tr>\n",
       "  </tbody>\n",
       "</table>\n",
       "<p>19500 rows × 5 columns</p>\n",
       "</div>"
      ],
      "text/plain": [
       "                          uid                     iid  r_ui       est  \\\n",
       "0      --2HUmLkcNHZp0xw6AMBPg  APXWKd1N-COyUdncd_FdyQ   5.0  4.808096   \n",
       "1      --4rAAfZnEIAKJE80aIiYg  HTaA1mo9cB1dXMwfJC6yKg   1.0  2.060438   \n",
       "2      --CIuK7sUpaNzalLAlHJKA  8Zqh2jwtncA3N4fWEMTvZQ   4.0  4.425357   \n",
       "3      --Nnm_506G_p8MxAOQna5w  tIOjJWfu4Dqz-FIzXHRvCg   3.0  3.756813   \n",
       "4      --mUBPK_NdRNVyhDVoUIUA  W7Dt3b6H_pMIHfxn49Pkzg   1.0  3.264628   \n",
       "...                       ...                     ...   ...       ...   \n",
       "19495  zy7D8MZ8NwXO8uDraQby8g  frCxZS7lPhEnQRJ3UY6m7A   4.0  4.528318   \n",
       "19496  zyebSPCZLUZHapi-dSHU5Q  wfxmuA7LbKZKVLV58EiWBw   2.0  3.606343   \n",
       "19497  zz8rQaQvsZFZfAu-rPhLNw  h0bxE_VmJJvKKEEm4-NFRA   4.0  3.742852   \n",
       "19498  zzF17hwmlFTuOa1Yagi-eg  umrDQGRNied77aVg29_fVw   5.0  4.030512   \n",
       "19499  zzO9aMo33jA3pPv8SoYskw  pDewiJY6KCcZgLxxgxg13Q   5.0  4.093804   \n",
       "\n",
       "                         details  \n",
       "0      {'was_impossible': False}  \n",
       "1      {'was_impossible': False}  \n",
       "2      {'was_impossible': False}  \n",
       "3      {'was_impossible': False}  \n",
       "4      {'was_impossible': False}  \n",
       "...                          ...  \n",
       "19495  {'was_impossible': False}  \n",
       "19496  {'was_impossible': False}  \n",
       "19497  {'was_impossible': False}  \n",
       "19498  {'was_impossible': False}  \n",
       "19499  {'was_impossible': False}  \n",
       "\n",
       "[19500 rows x 5 columns]"
      ]
     },
     "execution_count": 86,
     "metadata": {},
     "output_type": "execute_result"
    }
   ],
   "source": [
    "pd.DataFrame(predictions)"
   ]
  },
  {
   "cell_type": "code",
   "execution_count": null,
   "metadata": {},
   "outputs": [],
   "source": []
  }
 ],
 "metadata": {
  "kernelspec": {
   "display_name": "Python 3",
   "language": "python",
   "name": "python3"
  },
  "language_info": {
   "codemirror_mode": {
    "name": "ipython",
    "version": 3
   },
   "file_extension": ".py",
   "mimetype": "text/x-python",
   "name": "python",
   "nbconvert_exporter": "python",
   "pygments_lexer": "ipython3",
   "version": "3.8.3"
  }
 },
 "nbformat": 4,
 "nbformat_minor": 4
}
