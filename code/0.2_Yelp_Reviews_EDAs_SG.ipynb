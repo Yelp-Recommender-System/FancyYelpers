{
 "cells": [
  {
   "cell_type": "code",
   "execution_count": 1,
   "metadata": {},
   "outputs": [],
   "source": [
    "## preps\n",
    "import json\n",
    "import numpy as np\n",
    "import pandas as pd\n",
    "import matplotlib.pyplot as plt\n",
    "%matplotlib inline\n",
    "\n",
    "#specify your path\n",
    "sys_path = \"/Users/sigao/Yelp/yelp_dataset\""
   ]
  },
  {
   "cell_type": "code",
   "execution_count": 2,
   "metadata": {},
   "outputs": [
    {
     "data": {
      "text/html": [
       "<div>\n",
       "<style scoped>\n",
       "    .dataframe tbody tr th:only-of-type {\n",
       "        vertical-align: middle;\n",
       "    }\n",
       "\n",
       "    .dataframe tbody tr th {\n",
       "        vertical-align: top;\n",
       "    }\n",
       "\n",
       "    .dataframe thead th {\n",
       "        text-align: right;\n",
       "    }\n",
       "</style>\n",
       "<table border=\"1\" class=\"dataframe\">\n",
       "  <thead>\n",
       "    <tr style=\"text-align: right;\">\n",
       "      <th></th>\n",
       "      <th>business_id</th>\n",
       "      <th>business_name</th>\n",
       "      <th>address</th>\n",
       "      <th>city</th>\n",
       "      <th>state</th>\n",
       "      <th>postal_code</th>\n",
       "      <th>latitude</th>\n",
       "      <th>longitude</th>\n",
       "      <th>stars</th>\n",
       "      <th>review_count</th>\n",
       "      <th>is_open</th>\n",
       "      <th>attributes</th>\n",
       "      <th>categories</th>\n",
       "      <th>hours</th>\n",
       "    </tr>\n",
       "  </thead>\n",
       "  <tbody>\n",
       "    <tr>\n",
       "      <td>0</td>\n",
       "      <td>CsLQLiRoafpJPJSkNX2h5Q</td>\n",
       "      <td>Middle East Deli</td>\n",
       "      <td>4508 E Independence Blvd</td>\n",
       "      <td>Charlotte</td>\n",
       "      <td>NC</td>\n",
       "      <td>28205</td>\n",
       "      <td>35.194894</td>\n",
       "      <td>-80.767442</td>\n",
       "      <td>3.0</td>\n",
       "      <td>5</td>\n",
       "      <td>0</td>\n",
       "      <td>{'RestaurantsGoodForGroups': 'True', 'OutdoorS...</td>\n",
       "      <td>Food, Restaurants, Grocery, Middle Eastern</td>\n",
       "      <td>NaN</td>\n",
       "    </tr>\n",
       "    <tr>\n",
       "      <td>1</td>\n",
       "      <td>vjTVxnsQEZ34XjYNS-XUpA</td>\n",
       "      <td>Wetzel's Pretzels</td>\n",
       "      <td>4550 East Cactus Rd, #KSFC-4</td>\n",
       "      <td>Phoenix</td>\n",
       "      <td>AZ</td>\n",
       "      <td>85032</td>\n",
       "      <td>33.602822</td>\n",
       "      <td>-111.983533</td>\n",
       "      <td>4.0</td>\n",
       "      <td>10</td>\n",
       "      <td>1</td>\n",
       "      <td>{'GoodForKids': 'True', 'RestaurantsTakeOut': ...</td>\n",
       "      <td>Food, Pretzels, Bakeries, Fast Food, Restaurants</td>\n",
       "      <td>{'Monday': '10:0-21:0', 'Tuesday': '10:0-21:0'...</td>\n",
       "    </tr>\n",
       "    <tr>\n",
       "      <td>2</td>\n",
       "      <td>fnZrZlqW1Z8iWgTVDfv_MA</td>\n",
       "      <td>Carl's Jr</td>\n",
       "      <td>9595 W Tropicana Ave</td>\n",
       "      <td>Las Vegas</td>\n",
       "      <td>NV</td>\n",
       "      <td>89147</td>\n",
       "      <td>36.099738</td>\n",
       "      <td>-115.301568</td>\n",
       "      <td>2.5</td>\n",
       "      <td>15</td>\n",
       "      <td>0</td>\n",
       "      <td>{'Alcohol': \"u'none'\", 'WiFi': \"u'no'\", 'GoodF...</td>\n",
       "      <td>Mexican, Restaurants, Fast Food</td>\n",
       "      <td>NaN</td>\n",
       "    </tr>\n",
       "    <tr>\n",
       "      <td>3</td>\n",
       "      <td>rVBPQdeayMYht4Uv_FOLHg</td>\n",
       "      <td>Gourmet Burger Company</td>\n",
       "      <td>843 Kipling Avenue</td>\n",
       "      <td>Toronto</td>\n",
       "      <td>ON</td>\n",
       "      <td>M8Z 5G9</td>\n",
       "      <td>43.633291</td>\n",
       "      <td>-79.531768</td>\n",
       "      <td>3.0</td>\n",
       "      <td>13</td>\n",
       "      <td>0</td>\n",
       "      <td>{'RestaurantsPriceRange2': '2', 'RestaurantsAt...</td>\n",
       "      <td>Restaurants, Burgers, Food</td>\n",
       "      <td>NaN</td>\n",
       "    </tr>\n",
       "    <tr>\n",
       "      <td>4</td>\n",
       "      <td>fhNf_sg-XzZ3e7HEVGuOZg</td>\n",
       "      <td>Meat Chix And Wieners</td>\n",
       "      <td>6530 S Decatur Blvd</td>\n",
       "      <td>Las Vegas</td>\n",
       "      <td>NV</td>\n",
       "      <td>89118</td>\n",
       "      <td>36.071196</td>\n",
       "      <td>-115.207463</td>\n",
       "      <td>3.0</td>\n",
       "      <td>10</td>\n",
       "      <td>0</td>\n",
       "      <td>{'RestaurantsPriceRange2': '2', 'BusinessParki...</td>\n",
       "      <td>Burgers, Restaurants, American (Traditional), ...</td>\n",
       "      <td>{'Monday': '11:0-22:0', 'Tuesday': '11:0-22:0'...</td>\n",
       "    </tr>\n",
       "  </tbody>\n",
       "</table>\n",
       "</div>"
      ],
      "text/plain": [
       "              business_id           business_name  \\\n",
       "0  CsLQLiRoafpJPJSkNX2h5Q        Middle East Deli   \n",
       "1  vjTVxnsQEZ34XjYNS-XUpA       Wetzel's Pretzels   \n",
       "2  fnZrZlqW1Z8iWgTVDfv_MA               Carl's Jr   \n",
       "3  rVBPQdeayMYht4Uv_FOLHg  Gourmet Burger Company   \n",
       "4  fhNf_sg-XzZ3e7HEVGuOZg   Meat Chix And Wieners   \n",
       "\n",
       "                        address       city state postal_code   latitude  \\\n",
       "0      4508 E Independence Blvd  Charlotte    NC       28205  35.194894   \n",
       "1  4550 East Cactus Rd, #KSFC-4    Phoenix    AZ       85032  33.602822   \n",
       "2          9595 W Tropicana Ave  Las Vegas    NV       89147  36.099738   \n",
       "3            843 Kipling Avenue    Toronto    ON     M8Z 5G9  43.633291   \n",
       "4           6530 S Decatur Blvd  Las Vegas    NV       89118  36.071196   \n",
       "\n",
       "    longitude  stars  review_count  is_open  \\\n",
       "0  -80.767442    3.0             5        0   \n",
       "1 -111.983533    4.0            10        1   \n",
       "2 -115.301568    2.5            15        0   \n",
       "3  -79.531768    3.0            13        0   \n",
       "4 -115.207463    3.0            10        0   \n",
       "\n",
       "                                          attributes  \\\n",
       "0  {'RestaurantsGoodForGroups': 'True', 'OutdoorS...   \n",
       "1  {'GoodForKids': 'True', 'RestaurantsTakeOut': ...   \n",
       "2  {'Alcohol': \"u'none'\", 'WiFi': \"u'no'\", 'GoodF...   \n",
       "3  {'RestaurantsPriceRange2': '2', 'RestaurantsAt...   \n",
       "4  {'RestaurantsPriceRange2': '2', 'BusinessParki...   \n",
       "\n",
       "                                          categories  \\\n",
       "0         Food, Restaurants, Grocery, Middle Eastern   \n",
       "1   Food, Pretzels, Bakeries, Fast Food, Restaurants   \n",
       "2                    Mexican, Restaurants, Fast Food   \n",
       "3                         Restaurants, Burgers, Food   \n",
       "4  Burgers, Restaurants, American (Traditional), ...   \n",
       "\n",
       "                                               hours  \n",
       "0                                                NaN  \n",
       "1  {'Monday': '10:0-21:0', 'Tuesday': '10:0-21:0'...  \n",
       "2                                                NaN  \n",
       "3                                                NaN  \n",
       "4  {'Monday': '11:0-22:0', 'Tuesday': '11:0-22:0'...  "
      ]
     },
     "execution_count": 2,
     "metadata": {},
     "output_type": "execute_result"
    }
   ],
   "source": [
    "## load toronto restaurants\n",
    "df_res_bus = pd.read_csv(\"business_data_subset.csv\", index_col= None)\n",
    "df_res_bus_ids = df_res_bus.business_id.unique()\n",
    "df_res_bus.head()\n"
   ]
  },
  {
   "cell_type": "code",
   "execution_count": 5,
   "metadata": {},
   "outputs": [
    {
     "data": {
      "text/plain": [
       "array(['CsLQLiRoafpJPJSkNX2h5Q', 'vjTVxnsQEZ34XjYNS-XUpA',\n",
       "       'fnZrZlqW1Z8iWgTVDfv_MA', ..., 'YZeUH6zYS0dq5QHLYZhUnQ',\n",
       "       'hskVqZCPqy-omm9CHi44xQ', 'SYa2j1boLF8DcGVOYfHPcA'], dtype=object)"
      ]
     },
     "execution_count": 5,
     "metadata": {},
     "output_type": "execute_result"
    }
   ],
   "source": [
    "df_res_bus.business_id.unique()"
   ]
  },
  {
   "cell_type": "code",
   "execution_count": 6,
   "metadata": {},
   "outputs": [
    {
     "name": "stdout",
     "output_type": "stream",
     "text": [
      "(24401, 14)\n",
      "AxesSubplot(0.125,0.125;0.775x0.755)\n"
     ]
    },
    {
     "data": {
      "text/plain": [
       "Text(0.5, 1.0, 'number of restaurants')"
      ]
     },
     "execution_count": 6,
     "metadata": {},
     "output_type": "execute_result"
    },
    {
     "data": {
      "image/png": "[encoded data removed]",
      "text/plain": [
       "<Figure size 432x288 with 1 Axes>"
      ]
     },
     "metadata": {
      "needs_background": "light"
     },
     "output_type": "display_data"
    }
   ],
   "source": [
    "print(df_res_bus.shape)\n",
    "print(df_res_bus.groupby([\"city\"])[\"business_id\"].size().sort_values(ascending = False).plot.bar())\n",
    "plt.title(\"number of restaurants\")"
   ]
  },
  {
   "cell_type": "code",
   "execution_count": 7,
   "metadata": {},
   "outputs": [
    {
     "name": "stdout",
     "output_type": "stream",
     "text": [
      "AxesSubplot(0.125,0.125;0.775x0.755)\n"
     ]
    },
    {
     "data": {
      "text/plain": [
       "Text(0.5, 1.0, 'median reviews per restaurant')"
      ]
     },
     "execution_count": 7,
     "metadata": {},
     "output_type": "execute_result"
    },
    {
     "data": {
      "image/png": "[encoded data removed]",
      "text/plain": [
       "<Figure size 432x288 with 1 Axes>"
      ]
     },
     "metadata": {
      "needs_background": "light"
     },
     "output_type": "display_data"
    }
   ],
   "source": [
    "print(df_res_bus.groupby([\"city\"])[\"review_count\"].median().sort_values(ascending = False).plot.bar())\n",
    "plt.title(\"median reviews per restaurant\")\n"
   ]
  },
  {
   "cell_type": "code",
   "execution_count": 8,
   "metadata": {},
   "outputs": [
    {
     "name": "stdout",
     "output_type": "stream",
     "text": [
      "********************************************************************************\n",
      "Total Reviews:\n",
      "AxesSubplot(0.125,0.125;0.775x0.755)\n",
      "********************************************************************************\n",
      "Reviews per restaurant:\n"
     ]
    },
    {
     "data": {
      "text/html": [
       "<div>\n",
       "<style scoped>\n",
       "    .dataframe tbody tr th:only-of-type {\n",
       "        vertical-align: middle;\n",
       "    }\n",
       "\n",
       "    .dataframe tbody tr th {\n",
       "        vertical-align: top;\n",
       "    }\n",
       "\n",
       "    .dataframe thead th {\n",
       "        text-align: right;\n",
       "    }\n",
       "</style>\n",
       "<table border=\"1\" class=\"dataframe\">\n",
       "  <thead>\n",
       "    <tr style=\"text-align: right;\">\n",
       "      <th></th>\n",
       "      <th>count</th>\n",
       "      <th>mean</th>\n",
       "      <th>std</th>\n",
       "      <th>min</th>\n",
       "      <th>25%</th>\n",
       "      <th>50%</th>\n",
       "      <th>75%</th>\n",
       "      <th>max</th>\n",
       "    </tr>\n",
       "    <tr>\n",
       "      <th>city</th>\n",
       "      <th></th>\n",
       "      <th></th>\n",
       "      <th></th>\n",
       "      <th></th>\n",
       "      <th></th>\n",
       "      <th></th>\n",
       "      <th></th>\n",
       "      <th></th>\n",
       "    </tr>\n",
       "  </thead>\n",
       "  <tbody>\n",
       "    <tr>\n",
       "      <th>Scottsdale</th>\n",
       "      <td>1652.0</td>\n",
       "      <td>159.851090</td>\n",
       "      <td>244.384220</td>\n",
       "      <td>3.0</td>\n",
       "      <td>21.00</td>\n",
       "      <td>72.0</td>\n",
       "      <td>186.25</td>\n",
       "      <td>2369.0</td>\n",
       "    </tr>\n",
       "    <tr>\n",
       "      <th>Las Vegas</th>\n",
       "      <td>6931.0</td>\n",
       "      <td>209.943010</td>\n",
       "      <td>470.989328</td>\n",
       "      <td>3.0</td>\n",
       "      <td>18.00</td>\n",
       "      <td>60.0</td>\n",
       "      <td>200.00</td>\n",
       "      <td>10129.0</td>\n",
       "    </tr>\n",
       "    <tr>\n",
       "      <th>Phoenix</th>\n",
       "      <td>4217.0</td>\n",
       "      <td>116.741285</td>\n",
       "      <td>220.157249</td>\n",
       "      <td>3.0</td>\n",
       "      <td>13.00</td>\n",
       "      <td>39.0</td>\n",
       "      <td>129.00</td>\n",
       "      <td>3515.0</td>\n",
       "    </tr>\n",
       "    <tr>\n",
       "      <th>Charlotte</th>\n",
       "      <td>2922.0</td>\n",
       "      <td>86.027721</td>\n",
       "      <td>142.129921</td>\n",
       "      <td>3.0</td>\n",
       "      <td>12.25</td>\n",
       "      <td>37.0</td>\n",
       "      <td>100.00</td>\n",
       "      <td>2028.0</td>\n",
       "    </tr>\n",
       "    <tr>\n",
       "      <th>Toronto</th>\n",
       "      <td>8679.0</td>\n",
       "      <td>48.450167</td>\n",
       "      <td>90.514142</td>\n",
       "      <td>3.0</td>\n",
       "      <td>7.00</td>\n",
       "      <td>19.0</td>\n",
       "      <td>52.00</td>\n",
       "      <td>2758.0</td>\n",
       "    </tr>\n",
       "  </tbody>\n",
       "</table>\n",
       "</div>"
      ],
      "text/plain": [
       "             count        mean         std  min    25%   50%     75%      max\n",
       "city                                                                         \n",
       "Scottsdale  1652.0  159.851090  244.384220  3.0  21.00  72.0  186.25   2369.0\n",
       "Las Vegas   6931.0  209.943010  470.989328  3.0  18.00  60.0  200.00  10129.0\n",
       "Phoenix     4217.0  116.741285  220.157249  3.0  13.00  39.0  129.00   3515.0\n",
       "Charlotte   2922.0   86.027721  142.129921  3.0  12.25  37.0  100.00   2028.0\n",
       "Toronto     8679.0   48.450167   90.514142  3.0   7.00  19.0   52.00   2758.0"
      ]
     },
     "execution_count": 8,
     "metadata": {},
     "output_type": "execute_result"
    },
    {
     "data": {
      "image/png": "[encoded data removed]",
      "text/plain": [
       "<Figure size 432x288 with 1 Axes>"
      ]
     },
     "metadata": {
      "needs_background": "light"
     },
     "output_type": "display_data"
    }
   ],
   "source": [
    "print(\"*\"*80)\n",
    "print(\"Total Reviews:\")\n",
    "print(df_res_bus.groupby([\"city\"])[\"review_count\"].agg(sum).sort_values(ascending = False).plot.bar())\n",
    "print(\"*\"*80)\n",
    "print(\"Reviews per restaurant:\")\n",
    "df_res_bus.groupby([\"city\"])[\"review_count\"].describe().sort_values(\"50%\", ascending = False) "
   ]
  },
  {
   "cell_type": "code",
   "execution_count": 9,
   "metadata": {},
   "outputs": [],
   "source": [
    "## Review data for restaurants\n",
    "## This will take a long time\n",
    "\n",
    "review_data_samp = []\n",
    "count = 0\n",
    "count_cap = 1e9\n",
    "\n",
    "with open(\"{0}/yelp_academic_dataset_review.json\".format(sys_path)) as f:\n",
    "    for line in f:\n",
    "        if json.loads(line)[\"business_id\"] in df_res_bus_ids:\n",
    "            review_data_samp.append(json.loads(line))\n",
    "        count+= 1\n",
    "        if count > count_cap:\n",
    "            break     \n",
    "review_df_samp = pd.DataFrame.from_dict(review_data_samp)\n",
    "review_df_samp.to_csv(\"reviews_data_subset.csv\", index=None)\n"
   ]
  },
  {
   "cell_type": "code",
   "execution_count": 10,
   "metadata": {},
   "outputs": [
    {
     "data": {
      "text/html": [
       "<div>\n",
       "<style scoped>\n",
       "    .dataframe tbody tr th:only-of-type {\n",
       "        vertical-align: middle;\n",
       "    }\n",
       "\n",
       "    .dataframe tbody tr th {\n",
       "        vertical-align: top;\n",
       "    }\n",
       "\n",
       "    .dataframe thead th {\n",
       "        text-align: right;\n",
       "    }\n",
       "</style>\n",
       "<table border=\"1\" class=\"dataframe\">\n",
       "  <thead>\n",
       "    <tr style=\"text-align: right;\">\n",
       "      <th></th>\n",
       "      <th>review_id</th>\n",
       "      <th>user_id</th>\n",
       "      <th>business_id</th>\n",
       "      <th>stars</th>\n",
       "      <th>useful</th>\n",
       "      <th>funny</th>\n",
       "      <th>cool</th>\n",
       "      <th>text</th>\n",
       "      <th>date</th>\n",
       "    </tr>\n",
       "  </thead>\n",
       "  <tbody>\n",
       "    <tr>\n",
       "      <th>0</th>\n",
       "      <td>i6g_oA9Yf9Y31qt0wibXpw</td>\n",
       "      <td>ofKDkJKXSKZXu5xJNGiiBQ</td>\n",
       "      <td>5JxlZaqCnk1MnbgRirs40Q</td>\n",
       "      <td>1.0</td>\n",
       "      <td>0</td>\n",
       "      <td>0</td>\n",
       "      <td>0</td>\n",
       "      <td>Dismal, lukewarm, defrosted-tasting \"TexMex\" g...</td>\n",
       "      <td>2011-05-27 05:30:52</td>\n",
       "    </tr>\n",
       "    <tr>\n",
       "      <th>1</th>\n",
       "      <td>JA-xnyHytKiOIHl_ztnK9Q</td>\n",
       "      <td>P6apihD4ASf1vpPxHODxAQ</td>\n",
       "      <td>e_BiI4ej1CW1F0EyVLr-FQ</td>\n",
       "      <td>5.0</td>\n",
       "      <td>0</td>\n",
       "      <td>0</td>\n",
       "      <td>0</td>\n",
       "      <td>Most delicious authentic Italian I've had in t...</td>\n",
       "      <td>2015-02-16 06:48:47</td>\n",
       "    </tr>\n",
       "    <tr>\n",
       "      <th>2</th>\n",
       "      <td>bVTjZgRNq8ToxzvtiVrqMA</td>\n",
       "      <td>2hRe26HSCAWbFRn5WChK-Q</td>\n",
       "      <td>d4qwVw4PcN-_2mK2o1Ro1g</td>\n",
       "      <td>1.0</td>\n",
       "      <td>0</td>\n",
       "      <td>0</td>\n",
       "      <td>0</td>\n",
       "      <td>10pm on a super bowl Sunday and they're alread...</td>\n",
       "      <td>2015-02-02 06:28:00</td>\n",
       "    </tr>\n",
       "    <tr>\n",
       "      <th>3</th>\n",
       "      <td>UGErdm6bt48SXTVwJIti2Q</td>\n",
       "      <td>QodunSzok4nIYFNrTSGesQ</td>\n",
       "      <td>poSV39UqEg-gpESXafS9-g</td>\n",
       "      <td>3.0</td>\n",
       "      <td>0</td>\n",
       "      <td>0</td>\n",
       "      <td>0</td>\n",
       "      <td>My husband and I go there once a week since la...</td>\n",
       "      <td>2018-03-04 01:03:53</td>\n",
       "    </tr>\n",
       "    <tr>\n",
       "      <th>4</th>\n",
       "      <td>TeX0eOIeZb_wpo86rCedXQ</td>\n",
       "      <td>RR-2nouBn408e3djxC470g</td>\n",
       "      <td>d4qwVw4PcN-_2mK2o1Ro1g</td>\n",
       "      <td>5.0</td>\n",
       "      <td>0</td>\n",
       "      <td>0</td>\n",
       "      <td>0</td>\n",
       "      <td>Holy heck this place is amazing. I love their ...</td>\n",
       "      <td>2017-02-09 04:25:03</td>\n",
       "    </tr>\n",
       "  </tbody>\n",
       "</table>\n",
       "</div>"
      ],
      "text/plain": [
       "                review_id                 user_id             business_id  \\\n",
       "0  i6g_oA9Yf9Y31qt0wibXpw  ofKDkJKXSKZXu5xJNGiiBQ  5JxlZaqCnk1MnbgRirs40Q   \n",
       "1  JA-xnyHytKiOIHl_ztnK9Q  P6apihD4ASf1vpPxHODxAQ  e_BiI4ej1CW1F0EyVLr-FQ   \n",
       "2  bVTjZgRNq8ToxzvtiVrqMA  2hRe26HSCAWbFRn5WChK-Q  d4qwVw4PcN-_2mK2o1Ro1g   \n",
       "3  UGErdm6bt48SXTVwJIti2Q  QodunSzok4nIYFNrTSGesQ  poSV39UqEg-gpESXafS9-g   \n",
       "4  TeX0eOIeZb_wpo86rCedXQ  RR-2nouBn408e3djxC470g  d4qwVw4PcN-_2mK2o1Ro1g   \n",
       "\n",
       "   stars  useful  funny  cool  \\\n",
       "0    1.0       0      0     0   \n",
       "1    5.0       0      0     0   \n",
       "2    1.0       0      0     0   \n",
       "3    3.0       0      0     0   \n",
       "4    5.0       0      0     0   \n",
       "\n",
       "                                                text                 date  \n",
       "0  Dismal, lukewarm, defrosted-tasting \"TexMex\" g...  2011-05-27 05:30:52  \n",
       "1  Most delicious authentic Italian I've had in t...  2015-02-16 06:48:47  \n",
       "2  10pm on a super bowl Sunday and they're alread...  2015-02-02 06:28:00  \n",
       "3  My husband and I go there once a week since la...  2018-03-04 01:03:53  \n",
       "4  Holy heck this place is amazing. I love their ...  2017-02-09 04:25:03  "
      ]
     },
     "execution_count": 10,
     "metadata": {},
     "output_type": "execute_result"
    }
   ],
   "source": [
    "review_df_samp.head()"
   ]
  },
  {
   "cell_type": "code",
   "execution_count": 9,
   "metadata": {},
   "outputs": [
    {
     "data": {
      "text/html": [
       "<div>\n",
       "<style scoped>\n",
       "    .dataframe tbody tr th:only-of-type {\n",
       "        vertical-align: middle;\n",
       "    }\n",
       "\n",
       "    .dataframe tbody tr th {\n",
       "        vertical-align: top;\n",
       "    }\n",
       "\n",
       "    .dataframe thead th {\n",
       "        text-align: right;\n",
       "    }\n",
       "</style>\n",
       "<table border=\"1\" class=\"dataframe\">\n",
       "  <thead>\n",
       "    <tr style=\"text-align: right;\">\n",
       "      <th></th>\n",
       "      <th>review_id</th>\n",
       "      <th>user_id</th>\n",
       "      <th>business_id</th>\n",
       "      <th>stars</th>\n",
       "      <th>useful</th>\n",
       "      <th>funny</th>\n",
       "      <th>cool</th>\n",
       "      <th>text</th>\n",
       "      <th>date</th>\n",
       "    </tr>\n",
       "  </thead>\n",
       "  <tbody>\n",
       "    <tr>\n",
       "      <th>0</th>\n",
       "      <td>i6g_oA9Yf9Y31qt0wibXpw</td>\n",
       "      <td>ofKDkJKXSKZXu5xJNGiiBQ</td>\n",
       "      <td>5JxlZaqCnk1MnbgRirs40Q</td>\n",
       "      <td>1.0</td>\n",
       "      <td>0.0</td>\n",
       "      <td>0.0</td>\n",
       "      <td>0.0</td>\n",
       "      <td>Dismal, lukewarm, defrosted-tasting \"TexMex\" g...</td>\n",
       "      <td>2011-05-27 05:30:52</td>\n",
       "    </tr>\n",
       "    <tr>\n",
       "      <th>1</th>\n",
       "      <td>JA-xnyHytKiOIHl_ztnK9Q</td>\n",
       "      <td>P6apihD4ASf1vpPxHODxAQ</td>\n",
       "      <td>e_BiI4ej1CW1F0EyVLr-FQ</td>\n",
       "      <td>5.0</td>\n",
       "      <td>0.0</td>\n",
       "      <td>0.0</td>\n",
       "      <td>0.0</td>\n",
       "      <td>Most delicious authentic Italian I've had in t...</td>\n",
       "      <td>2015-02-16 06:48:47</td>\n",
       "    </tr>\n",
       "    <tr>\n",
       "      <th>2</th>\n",
       "      <td>bVTjZgRNq8ToxzvtiVrqMA</td>\n",
       "      <td>2hRe26HSCAWbFRn5WChK-Q</td>\n",
       "      <td>d4qwVw4PcN-_2mK2o1Ro1g</td>\n",
       "      <td>1.0</td>\n",
       "      <td>0.0</td>\n",
       "      <td>0.0</td>\n",
       "      <td>0.0</td>\n",
       "      <td>10pm on a super bowl Sunday and they're alread...</td>\n",
       "      <td>2015-02-02 06:28:00</td>\n",
       "    </tr>\n",
       "    <tr>\n",
       "      <th>3</th>\n",
       "      <td>UGErdm6bt48SXTVwJIti2Q</td>\n",
       "      <td>QodunSzok4nIYFNrTSGesQ</td>\n",
       "      <td>poSV39UqEg-gpESXafS9-g</td>\n",
       "      <td>3.0</td>\n",
       "      <td>0.0</td>\n",
       "      <td>0.0</td>\n",
       "      <td>0.0</td>\n",
       "      <td>My husband and I go there once a week since la...</td>\n",
       "      <td>2018-03-04 01:03:53</td>\n",
       "    </tr>\n",
       "    <tr>\n",
       "      <th>4</th>\n",
       "      <td>TeX0eOIeZb_wpo86rCedXQ</td>\n",
       "      <td>RR-2nouBn408e3djxC470g</td>\n",
       "      <td>d4qwVw4PcN-_2mK2o1Ro1g</td>\n",
       "      <td>5.0</td>\n",
       "      <td>0.0</td>\n",
       "      <td>0.0</td>\n",
       "      <td>0.0</td>\n",
       "      <td>Holy heck this place is amazing. I love their ...</td>\n",
       "      <td>2017-02-09 04:25:03</td>\n",
       "    </tr>\n",
       "  </tbody>\n",
       "</table>\n",
       "</div>"
      ],
      "text/plain": [
       "                review_id                 user_id             business_id  \\\n",
       "0  i6g_oA9Yf9Y31qt0wibXpw  ofKDkJKXSKZXu5xJNGiiBQ  5JxlZaqCnk1MnbgRirs40Q   \n",
       "1  JA-xnyHytKiOIHl_ztnK9Q  P6apihD4ASf1vpPxHODxAQ  e_BiI4ej1CW1F0EyVLr-FQ   \n",
       "2  bVTjZgRNq8ToxzvtiVrqMA  2hRe26HSCAWbFRn5WChK-Q  d4qwVw4PcN-_2mK2o1Ro1g   \n",
       "3  UGErdm6bt48SXTVwJIti2Q  QodunSzok4nIYFNrTSGesQ  poSV39UqEg-gpESXafS9-g   \n",
       "4  TeX0eOIeZb_wpo86rCedXQ  RR-2nouBn408e3djxC470g  d4qwVw4PcN-_2mK2o1Ro1g   \n",
       "\n",
       "   stars  useful  funny  cool  \\\n",
       "0    1.0     0.0    0.0   0.0   \n",
       "1    5.0     0.0    0.0   0.0   \n",
       "2    1.0     0.0    0.0   0.0   \n",
       "3    3.0     0.0    0.0   0.0   \n",
       "4    5.0     0.0    0.0   0.0   \n",
       "\n",
       "                                                text                 date  \n",
       "0  Dismal, lukewarm, defrosted-tasting \"TexMex\" g...  2011-05-27 05:30:52  \n",
       "1  Most delicious authentic Italian I've had in t...  2015-02-16 06:48:47  \n",
       "2  10pm on a super bowl Sunday and they're alread...  2015-02-02 06:28:00  \n",
       "3  My husband and I go there once a week since la...  2018-03-04 01:03:53  \n",
       "4  Holy heck this place is amazing. I love their ...  2017-02-09 04:25:03  "
      ]
     },
     "execution_count": 9,
     "metadata": {},
     "output_type": "execute_result"
    }
   ],
   "source": [
    "reviews_df = pd.read_csv(\"reviews_data_subset.csv\")\n",
    "reviews_df.head()"
   ]
  },
  {
   "cell_type": "code",
   "execution_count": 10,
   "metadata": {},
   "outputs": [
    {
     "data": {
      "text/plain": [
       "(2982269, 9)"
      ]
     },
     "execution_count": 10,
     "metadata": {},
     "output_type": "execute_result"
    }
   ],
   "source": [
    "# User data\n",
    "reviews_df.shape"
   ]
  },
  {
   "cell_type": "code",
   "execution_count": 11,
   "metadata": {},
   "outputs": [
    {
     "data": {
      "text/html": [
       "<div>\n",
       "<style scoped>\n",
       "    .dataframe tbody tr th:only-of-type {\n",
       "        vertical-align: middle;\n",
       "    }\n",
       "\n",
       "    .dataframe tbody tr th {\n",
       "        vertical-align: top;\n",
       "    }\n",
       "\n",
       "    .dataframe thead th {\n",
       "        text-align: right;\n",
       "    }\n",
       "</style>\n",
       "<table border=\"1\" class=\"dataframe\">\n",
       "  <thead>\n",
       "    <tr style=\"text-align: right;\">\n",
       "      <th></th>\n",
       "      <th>review_id</th>\n",
       "      <th>user_id</th>\n",
       "      <th>business_id</th>\n",
       "      <th>stars</th>\n",
       "      <th>useful</th>\n",
       "      <th>funny</th>\n",
       "      <th>cool</th>\n",
       "      <th>text</th>\n",
       "      <th>date</th>\n",
       "      <th>city</th>\n",
       "      <th>categories</th>\n",
       "      <th>review_count</th>\n",
       "    </tr>\n",
       "  </thead>\n",
       "  <tbody>\n",
       "    <tr>\n",
       "      <th>0</th>\n",
       "      <td>i6g_oA9Yf9Y31qt0wibXpw</td>\n",
       "      <td>ofKDkJKXSKZXu5xJNGiiBQ</td>\n",
       "      <td>5JxlZaqCnk1MnbgRirs40Q</td>\n",
       "      <td>1.0</td>\n",
       "      <td>0.0</td>\n",
       "      <td>0.0</td>\n",
       "      <td>0.0</td>\n",
       "      <td>Dismal, lukewarm, defrosted-tasting \"TexMex\" g...</td>\n",
       "      <td>2011-05-27 05:30:52</td>\n",
       "      <td>Las Vegas</td>\n",
       "      <td>Restaurants, Mexican</td>\n",
       "      <td>56.0</td>\n",
       "    </tr>\n",
       "    <tr>\n",
       "      <th>1</th>\n",
       "      <td>Q9pkOKlRbHZy1pTUkTcBnQ</td>\n",
       "      <td>m-BZLIIh5PCAKnzH0qj_0Q</td>\n",
       "      <td>5JxlZaqCnk1MnbgRirs40Q</td>\n",
       "      <td>3.0</td>\n",
       "      <td>2.0</td>\n",
       "      <td>1.0</td>\n",
       "      <td>1.0</td>\n",
       "      <td>The three stars here don't represent a real re...</td>\n",
       "      <td>2012-06-26 07:51:00</td>\n",
       "      <td>Las Vegas</td>\n",
       "      <td>Restaurants, Mexican</td>\n",
       "      <td>56.0</td>\n",
       "    </tr>\n",
       "    <tr>\n",
       "      <th>2</th>\n",
       "      <td>Y6hcNJ2bek3hSG4wm4UHKQ</td>\n",
       "      <td>PKEzKWv_FktMm2mGPjwd0Q</td>\n",
       "      <td>5JxlZaqCnk1MnbgRirs40Q</td>\n",
       "      <td>4.0</td>\n",
       "      <td>4.0</td>\n",
       "      <td>1.0</td>\n",
       "      <td>1.0</td>\n",
       "      <td>I've been here several times, but I never revi...</td>\n",
       "      <td>2011-02-15 02:35:38</td>\n",
       "      <td>Las Vegas</td>\n",
       "      <td>Restaurants, Mexican</td>\n",
       "      <td>56.0</td>\n",
       "    </tr>\n",
       "    <tr>\n",
       "      <th>3</th>\n",
       "      <td>E7Qtf8zR-e2wXFpVuaNDWQ</td>\n",
       "      <td>GdnJtqYWVSBAjya-WdN5RQ</td>\n",
       "      <td>5JxlZaqCnk1MnbgRirs40Q</td>\n",
       "      <td>2.0</td>\n",
       "      <td>2.0</td>\n",
       "      <td>0.0</td>\n",
       "      <td>0.0</td>\n",
       "      <td>I took my folks here last weekend for dinner o...</td>\n",
       "      <td>2012-05-30 18:54:30</td>\n",
       "      <td>Las Vegas</td>\n",
       "      <td>Restaurants, Mexican</td>\n",
       "      <td>56.0</td>\n",
       "    </tr>\n",
       "    <tr>\n",
       "      <th>4</th>\n",
       "      <td>Q3kju7l36U0KWfuZRL_wlw</td>\n",
       "      <td>bX_VFU48rabrU_yHNL2XZg</td>\n",
       "      <td>5JxlZaqCnk1MnbgRirs40Q</td>\n",
       "      <td>4.0</td>\n",
       "      <td>0.0</td>\n",
       "      <td>0.0</td>\n",
       "      <td>0.0</td>\n",
       "      <td>Above average in taste &amp; presentation, which i...</td>\n",
       "      <td>2012-11-07 00:05:33</td>\n",
       "      <td>Las Vegas</td>\n",
       "      <td>Restaurants, Mexican</td>\n",
       "      <td>56.0</td>\n",
       "    </tr>\n",
       "  </tbody>\n",
       "</table>\n",
       "</div>"
      ],
      "text/plain": [
       "                review_id                 user_id             business_id  \\\n",
       "0  i6g_oA9Yf9Y31qt0wibXpw  ofKDkJKXSKZXu5xJNGiiBQ  5JxlZaqCnk1MnbgRirs40Q   \n",
       "1  Q9pkOKlRbHZy1pTUkTcBnQ  m-BZLIIh5PCAKnzH0qj_0Q  5JxlZaqCnk1MnbgRirs40Q   \n",
       "2  Y6hcNJ2bek3hSG4wm4UHKQ  PKEzKWv_FktMm2mGPjwd0Q  5JxlZaqCnk1MnbgRirs40Q   \n",
       "3  E7Qtf8zR-e2wXFpVuaNDWQ  GdnJtqYWVSBAjya-WdN5RQ  5JxlZaqCnk1MnbgRirs40Q   \n",
       "4  Q3kju7l36U0KWfuZRL_wlw  bX_VFU48rabrU_yHNL2XZg  5JxlZaqCnk1MnbgRirs40Q   \n",
       "\n",
       "   stars  useful  funny  cool  \\\n",
       "0    1.0     0.0    0.0   0.0   \n",
       "1    3.0     2.0    1.0   1.0   \n",
       "2    4.0     4.0    1.0   1.0   \n",
       "3    2.0     2.0    0.0   0.0   \n",
       "4    4.0     0.0    0.0   0.0   \n",
       "\n",
       "                                                text                 date  \\\n",
       "0  Dismal, lukewarm, defrosted-tasting \"TexMex\" g...  2011-05-27 05:30:52   \n",
       "1  The three stars here don't represent a real re...  2012-06-26 07:51:00   \n",
       "2  I've been here several times, but I never revi...  2011-02-15 02:35:38   \n",
       "3  I took my folks here last weekend for dinner o...  2012-05-30 18:54:30   \n",
       "4  Above average in taste & presentation, which i...  2012-11-07 00:05:33   \n",
       "\n",
       "        city            categories  review_count  \n",
       "0  Las Vegas  Restaurants, Mexican          56.0  \n",
       "1  Las Vegas  Restaurants, Mexican          56.0  \n",
       "2  Las Vegas  Restaurants, Mexican          56.0  \n",
       "3  Las Vegas  Restaurants, Mexican          56.0  \n",
       "4  Las Vegas  Restaurants, Mexican          56.0  "
      ]
     },
     "execution_count": 11,
     "metadata": {},
     "output_type": "execute_result"
    }
   ],
   "source": [
    "## merge the two \n",
    "df_merge = pd.merge(reviews_df, df_res_bus[['city','categories', 'business_id',\"review_count\"]], how = \"outer\", on =\"business_id\")\n",
    "df_merge.head()\n"
   ]
  },
  {
   "cell_type": "code",
   "execution_count": 12,
   "metadata": {},
   "outputs": [],
   "source": [
    "df_merge.dropna(inplace=True)"
   ]
  },
  {
   "cell_type": "code",
   "execution_count": 13,
   "metadata": {},
   "outputs": [
    {
     "data": {
      "text/plain": [
       "array(['Las Vegas', 'Scottsdale', 'Phoenix', 'Toronto', 'Charlotte'],\n",
       "      dtype=object)"
      ]
     },
     "execution_count": 13,
     "metadata": {},
     "output_type": "execute_result"
    }
   ],
   "source": [
    "df_merge.city.unique()"
   ]
  },
  {
   "cell_type": "markdown",
   "metadata": {},
   "source": [
    "###  Most users give only 1 rating..."
   ]
  },
  {
   "cell_type": "code",
   "execution_count": 14,
   "metadata": {},
   "outputs": [
    {
     "name": "stdout",
     "output_type": "stream",
     "text": [
      "users' reviews summary statistics\n"
     ]
    },
    {
     "data": {
      "text/html": [
       "<div>\n",
       "<style scoped>\n",
       "    .dataframe tbody tr th:only-of-type {\n",
       "        vertical-align: middle;\n",
       "    }\n",
       "\n",
       "    .dataframe tbody tr th {\n",
       "        vertical-align: top;\n",
       "    }\n",
       "\n",
       "    .dataframe thead tr th {\n",
       "        text-align: left;\n",
       "    }\n",
       "\n",
       "    .dataframe thead tr:last-of-type th {\n",
       "        text-align: right;\n",
       "    }\n",
       "</style>\n",
       "<table border=\"1\" class=\"dataframe\">\n",
       "  <thead>\n",
       "    <tr>\n",
       "      <th></th>\n",
       "      <th colspan=\"8\" halign=\"left\">0</th>\n",
       "    </tr>\n",
       "    <tr>\n",
       "      <th></th>\n",
       "      <th>count</th>\n",
       "      <th>mean</th>\n",
       "      <th>std</th>\n",
       "      <th>min</th>\n",
       "      <th>25%</th>\n",
       "      <th>50%</th>\n",
       "      <th>75%</th>\n",
       "      <th>max</th>\n",
       "    </tr>\n",
       "    <tr>\n",
       "      <th>city</th>\n",
       "      <th></th>\n",
       "      <th></th>\n",
       "      <th></th>\n",
       "      <th></th>\n",
       "      <th></th>\n",
       "      <th></th>\n",
       "      <th></th>\n",
       "      <th></th>\n",
       "    </tr>\n",
       "  </thead>\n",
       "  <tbody>\n",
       "    <tr>\n",
       "      <th>Charlotte</th>\n",
       "      <td>86527.0</td>\n",
       "      <td>3.008980</td>\n",
       "      <td>9.245163</td>\n",
       "      <td>1.0</td>\n",
       "      <td>1.0</td>\n",
       "      <td>1.0</td>\n",
       "      <td>2.0</td>\n",
       "      <td>510.0</td>\n",
       "    </tr>\n",
       "    <tr>\n",
       "      <th>Las Vegas</th>\n",
       "      <td>536321.0</td>\n",
       "      <td>2.803996</td>\n",
       "      <td>8.081294</td>\n",
       "      <td>1.0</td>\n",
       "      <td>1.0</td>\n",
       "      <td>1.0</td>\n",
       "      <td>2.0</td>\n",
       "      <td>1502.0</td>\n",
       "    </tr>\n",
       "    <tr>\n",
       "      <th>Phoenix</th>\n",
       "      <td>190688.0</td>\n",
       "      <td>2.679676</td>\n",
       "      <td>6.866005</td>\n",
       "      <td>1.0</td>\n",
       "      <td>1.0</td>\n",
       "      <td>1.0</td>\n",
       "      <td>2.0</td>\n",
       "      <td>590.0</td>\n",
       "    </tr>\n",
       "    <tr>\n",
       "      <th>Scottsdale</th>\n",
       "      <td>117308.0</td>\n",
       "      <td>2.340889</td>\n",
       "      <td>5.873821</td>\n",
       "      <td>1.0</td>\n",
       "      <td>1.0</td>\n",
       "      <td>1.0</td>\n",
       "      <td>2.0</td>\n",
       "      <td>684.0</td>\n",
       "    </tr>\n",
       "    <tr>\n",
       "      <th>Toronto</th>\n",
       "      <td>102616.0</td>\n",
       "      <td>4.214538</td>\n",
       "      <td>13.077260</td>\n",
       "      <td>1.0</td>\n",
       "      <td>1.0</td>\n",
       "      <td>1.0</td>\n",
       "      <td>3.0</td>\n",
       "      <td>1130.0</td>\n",
       "    </tr>\n",
       "  </tbody>\n",
       "</table>\n",
       "</div>"
      ],
      "text/plain": [
       "                   0                                                 \n",
       "               count      mean        std  min  25%  50%  75%     max\n",
       "city                                                                 \n",
       "Charlotte    86527.0  3.008980   9.245163  1.0  1.0  1.0  2.0   510.0\n",
       "Las Vegas   536321.0  2.803996   8.081294  1.0  1.0  1.0  2.0  1502.0\n",
       "Phoenix     190688.0  2.679676   6.866005  1.0  1.0  1.0  2.0   590.0\n",
       "Scottsdale  117308.0  2.340889   5.873821  1.0  1.0  1.0  2.0   684.0\n",
       "Toronto     102616.0  4.214538  13.077260  1.0  1.0  1.0  3.0  1130.0"
      ]
     },
     "execution_count": 14,
     "metadata": {},
     "output_type": "execute_result"
    }
   ],
   "source": [
    "x = df_merge.groupby([\"city\",\"user_id\"]).size().reset_index()\n",
    "print(\"users' reviews summary statistics\")\n",
    "x.groupby(\"city\").describe()"
   ]
  },
  {
   "cell_type": "code",
   "execution_count": 16,
   "metadata": {},
   "outputs": [
    {
     "data": {
      "text/plain": [
       "Text(0.5, 1.0, 'Average reviews per User')"
      ]
     },
     "execution_count": 16,
     "metadata": {},
     "output_type": "execute_result"
    },
    {
     "data": {
      "image/png": "[encoded data removed]",
      "text/plain": [
       "<Figure size 432x288 with 1 Axes>"
      ]
     },
     "metadata": {
      "needs_background": "light"
     },
     "output_type": "display_data"
    }
   ],
   "source": [
    "x.groupby(\"city\").describe()[(0, \"mean\")].sort_values(ascending = False).plot.bar()\n",
    "plt.title(\"Average reviews per User\")"
   ]
  },
  {
   "cell_type": "code",
   "execution_count": 112,
   "metadata": {},
   "outputs": [],
   "source": [
    "## Now redo the above process but now screen out restaurants with less than 20 reviews"
   ]
  },
  {
   "cell_type": "code",
   "execution_count": 17,
   "metadata": {},
   "outputs": [],
   "source": [
    "df_res_bus_clean = df_res_bus[df_res_bus[\"review_count\"]>= 20 ]"
   ]
  },
  {
   "cell_type": "code",
   "execution_count": 18,
   "metadata": {},
   "outputs": [
    {
     "name": "stdout",
     "output_type": "stream",
     "text": [
      "********************************************************************************\n",
      "Total Reviews:\n",
      "AxesSubplot(0.125,0.125;0.775x0.755)\n",
      "********************************************************************************\n",
      "Reviews per restaurant:\n"
     ]
    },
    {
     "data": {
      "text/html": [
       "<div>\n",
       "<style scoped>\n",
       "    .dataframe tbody tr th:only-of-type {\n",
       "        vertical-align: middle;\n",
       "    }\n",
       "\n",
       "    .dataframe tbody tr th {\n",
       "        vertical-align: top;\n",
       "    }\n",
       "\n",
       "    .dataframe thead th {\n",
       "        text-align: right;\n",
       "    }\n",
       "</style>\n",
       "<table border=\"1\" class=\"dataframe\">\n",
       "  <thead>\n",
       "    <tr style=\"text-align: right;\">\n",
       "      <th></th>\n",
       "      <th>count</th>\n",
       "      <th>mean</th>\n",
       "      <th>std</th>\n",
       "      <th>min</th>\n",
       "      <th>25%</th>\n",
       "      <th>50%</th>\n",
       "      <th>75%</th>\n",
       "      <th>max</th>\n",
       "    </tr>\n",
       "    <tr>\n",
       "      <th>city</th>\n",
       "      <th></th>\n",
       "      <th></th>\n",
       "      <th></th>\n",
       "      <th></th>\n",
       "      <th></th>\n",
       "      <th></th>\n",
       "      <th></th>\n",
       "      <th></th>\n",
       "    </tr>\n",
       "  </thead>\n",
       "  <tbody>\n",
       "    <tr>\n",
       "      <th>Scottsdale</th>\n",
       "      <td>1264.0</td>\n",
       "      <td>205.935127</td>\n",
       "      <td>262.705017</td>\n",
       "      <td>20.0</td>\n",
       "      <td>54.0</td>\n",
       "      <td>113.0</td>\n",
       "      <td>248.0</td>\n",
       "      <td>2369.0</td>\n",
       "    </tr>\n",
       "    <tr>\n",
       "      <th>Las Vegas</th>\n",
       "      <td>5117.0</td>\n",
       "      <td>281.154583</td>\n",
       "      <td>530.186701</td>\n",
       "      <td>20.0</td>\n",
       "      <td>49.0</td>\n",
       "      <td>111.0</td>\n",
       "      <td>296.0</td>\n",
       "      <td>10129.0</td>\n",
       "    </tr>\n",
       "    <tr>\n",
       "      <th>Phoenix</th>\n",
       "      <td>2789.0</td>\n",
       "      <td>171.827895</td>\n",
       "      <td>253.610997</td>\n",
       "      <td>20.0</td>\n",
       "      <td>40.0</td>\n",
       "      <td>87.0</td>\n",
       "      <td>197.0</td>\n",
       "      <td>3515.0</td>\n",
       "    </tr>\n",
       "    <tr>\n",
       "      <th>Charlotte</th>\n",
       "      <td>1902.0</td>\n",
       "      <td>127.252892</td>\n",
       "      <td>161.726842</td>\n",
       "      <td>20.0</td>\n",
       "      <td>39.0</td>\n",
       "      <td>73.0</td>\n",
       "      <td>151.0</td>\n",
       "      <td>2028.0</td>\n",
       "    </tr>\n",
       "    <tr>\n",
       "      <th>Toronto</th>\n",
       "      <td>4291.0</td>\n",
       "      <td>89.187602</td>\n",
       "      <td>115.178398</td>\n",
       "      <td>20.0</td>\n",
       "      <td>31.0</td>\n",
       "      <td>53.0</td>\n",
       "      <td>99.0</td>\n",
       "      <td>2758.0</td>\n",
       "    </tr>\n",
       "  </tbody>\n",
       "</table>\n",
       "</div>"
      ],
      "text/plain": [
       "             count        mean         std   min   25%    50%    75%      max\n",
       "city                                                                         \n",
       "Scottsdale  1264.0  205.935127  262.705017  20.0  54.0  113.0  248.0   2369.0\n",
       "Las Vegas   5117.0  281.154583  530.186701  20.0  49.0  111.0  296.0  10129.0\n",
       "Phoenix     2789.0  171.827895  253.610997  20.0  40.0   87.0  197.0   3515.0\n",
       "Charlotte   1902.0  127.252892  161.726842  20.0  39.0   73.0  151.0   2028.0\n",
       "Toronto     4291.0   89.187602  115.178398  20.0  31.0   53.0   99.0   2758.0"
      ]
     },
     "execution_count": 18,
     "metadata": {},
     "output_type": "execute_result"
    },
    {
     "data": {
      "image/png": "[encoded data removed]",
      "text/plain": [
       "<Figure size 432x288 with 1 Axes>"
      ]
     },
     "metadata": {
      "needs_background": "light"
     },
     "output_type": "display_data"
    }
   ],
   "source": [
    "print(\"*\"*80)\n",
    "print(\"Total Reviews:\")\n",
    "print(df_res_bus_clean.groupby([\"city\"])[\"review_count\"].agg(sum).sort_values(ascending = False).plot.bar())\n",
    "print(\"*\"*80)\n",
    "print(\"Reviews per restaurant:\")\n",
    "df_res_bus_clean.groupby([\"city\"])[\"review_count\"].describe().sort_values(\"50%\", ascending = False) "
   ]
  }
 ],
 "metadata": {
  "kernelspec": {
   "display_name": "Python 3",
   "language": "python",
   "name": "python3"
  },
  "language_info": {
   "codemirror_mode": {
    "name": "ipython",
    "version": 3
   },
   "file_extension": ".py",
   "mimetype": "text/x-python",
   "name": "python",
   "nbconvert_exporter": "python",
   "pygments_lexer": "ipython3",
   "version": "3.6.8"
  },
  "varInspector": {
   "cols": {
    "lenName": 16,
    "lenType": 16,
    "lenVar": 40
   },
   "kernels_config": {
    "python": {
     "delete_cmd_postfix": "",
     "delete_cmd_prefix": "del ",
     "library": "var_list.py",
     "varRefreshCmd": "print(var_dic_list())"
    },
    "r": {
     "delete_cmd_postfix": ") ",
     "delete_cmd_prefix": "rm(",
     "library": "var_list.r",
     "varRefreshCmd": "cat(var_dic_list()) "
    }
   },
   "types_to_exclude": [
    "module",
    "function",
    "builtin_function_or_method",
    "instance",
    "_Feature"
   ],
   "window_display": false
  }
 },
 "nbformat": 4,
 "nbformat_minor": 4
}
