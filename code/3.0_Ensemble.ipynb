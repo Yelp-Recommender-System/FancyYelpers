{
 "cells": [
  {
   "cell_type": "code",
   "execution_count": 1,
   "metadata": {},
   "outputs": [],
   "source": [
    "import pandas as pd\n",
    "import numpy as np\n",
    "\n",
    "from Data_Format_Change import long_format_to_sparse, sparse_to_long_format\n",
    "from mae_mse import get_mae, get_mse\n",
    "\n",
    "from IPython.core.interactiveshell import InteractiveShell\n",
    "InteractiveShell.ast_node_interactivity = \"all\" "
   ]
  },
  {
   "cell_type": "markdown",
   "metadata": {},
   "source": [
    "# Ensemble \n",
    "\n",
    "- Baseline model\n",
    "- SGD(funk-svd)\n",
    "- ALS(with regularization)\n",
    "- SGD(svd+bias)\n",
    "- CB\n",
    "- tf-idf cos"
   ]
  },
  {
   "cell_type": "markdown",
   "metadata": {},
   "source": [
    "# Baseline Model"
   ]
  },
  {
   "cell_type": "code",
   "execution_count": null,
   "metadata": {},
   "outputs": [],
   "source": [
    "baseline_long_format = pd.read_csv('../data/baseline_predict_df.csv')\n",
    "baseline_long_format = baseline_long_format.loc[ : , ~baseline_long_format.columns.str.contains('Unnamed')]\n",
    "baseline_sparse = long_format_to_sparse(baseline_long_format, 'prediction')\n",
    "baseline_sparse"
   ]
  },
  {
   "cell_type": "markdown",
   "metadata": {},
   "source": [
    "# MF Model"
   ]
  },
  {
   "cell_type": "code",
   "execution_count": null,
   "metadata": {},
   "outputs": [],
   "source": [
    "# np.save('../data/test_prediction_CF_ALS.npy', prediction)\n",
    "cf_als_sparse = np.load('../data/test_prediction_CF_ALS.npy')\n",
    "cf_als_sparse\n",
    "rows = np.nonzero(valid_sparse_matrix)[0]\n",
    "cols = np.nonzero(valid_sparse_matrix)[1]\n",
    "cf_als_test = np.zeros(shape=(len(user_id_lst), len(busi_id_lst)))\n",
    "loc_zip = zip(rows, cols)\n",
    "for loc in loc_zip:\n",
    "    cf_als_test[loc] = cf_als_sparse[loc]\n",
    "cf_als_test"
   ]
  },
  {
   "cell_type": "code",
   "execution_count": null,
   "metadata": {},
   "outputs": [],
   "source": [
    "cf_sgd_sparse = np.load('../data/test_prediction_CF_SGD.npy')\n",
    "cf_sgd_sparse\n",
    "rows = np.nonzero(valid_sparse_matrix)[0]\n",
    "cols = np.nonzero(valid_sparse_matrix)[1]\n",
    "cf_sgd_test = np.zeros(shape=(len(user_id_lst), len(busi_id_lst)))\n",
    "loc_zip = zip(rows, cols)\n",
    "for loc in loc_zip:\n",
    "    cf_sgd_test[loc] = cf_sgd_sparse[loc]\n",
    "cf_sgd_test"
   ]
  },
  {
   "cell_type": "markdown",
   "metadata": {},
   "source": [
    "# CB Model"
   ]
  },
  {
   "cell_type": "code",
   "execution_count": null,
   "metadata": {},
   "outputs": [],
   "source": [
    "nlp_long_format = pd.read_csv('../data/Predictions_CB_bus.csv')\n",
    "nlp_sparse = long_format_to_sparse(nlp_long_format, 'prediction_ratings')\n",
    "nlp_sparse"
   ]
  },
  {
   "cell_type": "code",
   "execution_count": null,
   "metadata": {},
   "outputs": [],
   "source": [
    "cb_tfidf_long_format = pd.read_csv('../data/Predictions_CB_tfidf.csv')\n",
    "cb_tfidf_sparse = long_format_to_sparse(cb_tfidf_long_format, 'prediction_ratings')\n",
    "cb_tfidf_sparse"
   ]
  },
  {
   "cell_type": "code",
   "execution_count": null,
   "metadata": {},
   "outputs": [],
   "source": [
    "cb_lsi_long_format = pd.read_csv('../data/Predictions_CB_LSI.csv')\n",
    "cb_lsi_long_format.head()\n",
    "cb_lsi_sparse = long_format_to_sparse(cb_lsi_long_format, 'pred_lsi')\n",
    "cb_lsi_sparse"
   ]
  },
  {
   "cell_type": "markdown",
   "metadata": {},
   "source": [
    "# Get MAE&MSE "
   ]
  },
  {
   "cell_type": "code",
   "execution_count": null,
   "metadata": {},
   "outputs": [],
   "source": [
    "baseline_mse = get_mse(baseline_sparse, valid_sparse_matrix)\n",
    "baseline_mse\n",
    "baseline_mae = get_mae(baseline_sparse, valid_sparse_matrix)\n",
    "baseline_mae"
   ]
  },
  {
   "cell_type": "code",
   "execution_count": null,
   "metadata": {},
   "outputs": [],
   "source": [
    "cf_als_mse = get_mse(cf_als_test, valid_sparse_matrix)\n",
    "cf_als_mse\n",
    "cf_als_mae = get_mae(cf_als_test, valid_sparse_matrix)\n",
    "cf_als_mae \n",
    "\n",
    "cf_sgd_mse = get_mse(cf_sgd_sparse, valid_sparse_matrix)\n",
    "cf_sgd_mse\n",
    "cf_sgd_mae = get_mae(cf_sgd_sparse, valid_sparse_matrix)\n",
    "cf_sgd_mae"
   ]
  },
  {
   "cell_type": "code",
   "execution_count": null,
   "metadata": {},
   "outputs": [],
   "source": [
    "nlp_mse = get_mse(nlp_sparse, valid_sparse_matrix)\n",
    "nlp_mse\n",
    "nlp_mae = get_mae(nlp_sparse, valid_sparse_matrix)\n",
    "nlp_mae\n",
    "\n",
    "cb_tfidf_mse = get_mse(cb_tfidf_sparse, valid_sparse_matrix)\n",
    "cb_tfidf_mse\n",
    "cb_tfidf_mae = get_mae(cb_tfidf_sparse, valid_sparse_matrix)\n",
    "cb_tfidf_mae\n",
    "\n",
    "cb_lsi_mse = get_mse(cb_lsi_sparse, valid_sparse_matrix)\n",
    "cb_lsi_mse\n",
    "cb_lsi_mae = get_mae(cb_lsi_sparse, valid_sparse_matrix)\n",
    "cb_lsi_mae"
   ]
  },
  {
   "cell_type": "markdown",
   "metadata": {},
   "source": [
    "# Weight Each Model Based on MSE"
   ]
  },
  {
   "cell_type": "code",
   "execution_count": null,
   "metadata": {},
   "outputs": [],
   "source": [
    "baseline = 1/ baseline_mse\n",
    "cf_als = 1/ cf_als_mse\n",
    "cf_sgd = 1/ cf_sgd_mse\n",
    "nlp = 1/ nlp_mse\n",
    "cb_tfidf = 1/ cb_tfidf_mse\n",
    "cb_lsi = 1/cb_lsi_mse\n",
    "\n",
    "\n",
    "all_ =   baseline + cf_als + cf_sgd + nlp + cb_tfidf + cb_lsi \n",
    "\n",
    "baseline = baseline/ all_\n",
    "cf_als = cf_als/ all_\n",
    "cf_sgd = cf_sgd/ all_\n",
    "nlp = nlp / all_\n",
    "cb_tfidf = cb_tfidf/ all_\n",
    "cb_lsi = cb_lsi/ all_"
   ]
  },
  {
   "cell_type": "markdown",
   "metadata": {},
   "source": [
    "# Get the Ensemble Matrix"
   ]
  },
  {
   "cell_type": "code",
   "execution_count": null,
   "metadata": {},
   "outputs": [],
   "source": [
    "ensemble_matrix =  baseline * baseline_sparse \\\n",
    "+ cf_als * cf_als_sparse +  cf_sgd * cf_sgd_sparse \\\n",
    "+ nlp * nlp_sparse + cb_tfidf * cb_tfidf_sparse + cb_lsi * cb_lsi_sparse\n",
    "\n",
    "ensemble_mse = get_mse(ensemble_matrix, valid_sparse_matrix)\n",
    "ensemble_mse\n",
    "\n",
    "ensemble_mae = get_mae(cf_sgd_sparse, valid_sparse_matrix)\n",
    "ensemble_mae\n",
    "\n",
    "np.save('../data/ensemble_matrix.npy', ensemble_matrix)"
   ]
  },
  {
   "cell_type": "markdown",
   "metadata": {},
   "source": [
    "# Generate the full matrix of ensemble"
   ]
  },
  {
   "cell_type": "code",
   "execution_count": null,
   "metadata": {},
   "outputs": [],
   "source": [
    "#Baseline model\n",
    "baseline_long_full = pd.read_csv('../data/baseline_predict_df.csv')\n",
    "baseline_long_full = baseline_long_full.loc[ : , ~baseline_long_full.columns.str.contains('Unnamed')]\n",
    "baseline_long_full.head(2)\n",
    "baseline_full_sparse = long_format_to_sparse(baseline_long_full, 'prediction')\n",
    "baseline_full_sparse\n",
    "\n",
    "# ALS\n",
    "cf_als_sparse = np.load('../data/test_prediction_CF_ALS.npy')\n",
    "cf_als_sparse\n",
    "# SGD\n",
    "cf_sgd_sparse = np.load('../data/test_prediction_CF_SGD.npy')\n",
    "cf_sgd_sparse\n",
    "\n",
    "# RA model\n",
    "cb_ra_sparse = np.load('../data/pred_matrix.npy')\n",
    "cb_ra_sparse\n",
    "# NLP model\n",
    "cb_nlp_sparse = np.load('../data/pred_matrix_nlp.npy')\n",
    "cb_nlp_sparse"
   ]
  },
  {
   "cell_type": "code",
   "execution_count": null,
   "metadata": {},
   "outputs": [],
   "source": [
    "nlp = 1/ nlp_mse\n",
    "cb_tfidf = 1/ cb_tfidf_mse\n",
    "cf_als = 1/ cf_als_mse\n",
    "cf_sgd = 1/ cf_sgd_mse\n",
    "baseline_ = 1/ baseline_mse_\n",
    "\n",
    "all_ = baseline_  + cf_als +  cf_sgd + nlp + cb_tfidf \n",
    "\n",
    "baseline_ = baseline_/ all_\n",
    "cf_als = cf_als/ all_\n",
    "cf_sgd = cf_sgd/ all_\n",
    "nlp = nlp/ all_\n",
    "cb_tfidf = cb_tfidf/ all_\n",
    "\n",
    "ensemble_full_matrix =  \n",
    "baseline_ * baseline_full_sparse \\\n",
    "+cf_als * cf_als_sparse + cf_sgd * cf_sgd_sparse \\\n",
    "+ nlp * cb_ra_sparse + cb_tfidf * cb_nlp_sparse"
   ]
  }
 ],
 "metadata": {
  "kernelspec": {
   "display_name": "Python 3",
   "language": "python",
   "name": "python3"
  },
  "language_info": {
   "codemirror_mode": {
    "name": "ipython",
    "version": 3
   },
   "file_extension": ".py",
   "mimetype": "text/x-python",
   "name": "python",
   "nbconvert_exporter": "python",
   "pygments_lexer": "ipython3",
   "version": "3.7.6"
  }
 },
 "nbformat": 4,
 "nbformat_minor": 4
}
