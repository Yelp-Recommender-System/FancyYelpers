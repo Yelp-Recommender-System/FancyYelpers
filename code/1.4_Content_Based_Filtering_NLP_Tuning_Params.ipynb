{
 "cells": [
  {
   "cell_type": "code",
   "execution_count": 1,
   "metadata": {
    "scrolled": true
   },
   "outputs": [],
   "source": [
    "import pandas as pd\n",
    "import numpy as np\n",
    "import matplotlib.pyplot as plt\n",
    "\n",
    "from IPython.core.interactiveshell import InteractiveShell\n",
    "InteractiveShell.ast_node_interactivity = \"all\"\n",
    "\n",
    "import os\n",
    "import re, string, unicodedata\n",
    "import nltk\n",
    "import contractions\n",
    "import inflect\n",
    "\n",
    "import lime\n",
    "from lime import lime_text\n",
    "from lime.lime_text import LimeTextExplainer\n",
    "\n",
    "import re\n",
    "\n",
    "from wordcloud import WordCloud, STOPWORDS\n",
    "\n",
    "import nltk\n",
    "# import contractions\n",
    "import inflect\n",
    "from nltk import word_tokenize, sent_tokenize\n",
    "from nltk.corpus import stopwords\n",
    "from nltk import SnowballStemmer\n",
    "from nltk.stem import LancasterStemmer, WordNetLemmatizer\n",
    "\n",
    "\n",
    "from sklearn import metrics\n",
    "from sklearn.model_selection import train_test_split\n",
    "# from keras.preprocessing.sequence import pad_sequences\n",
    "\n",
    "from sklearn.metrics import confusion_matrix, classification_report\n",
    "from sklearn.feature_extraction.text import TfidfVectorizer\n",
    "from sklearn.decomposition import TruncatedSVD\n",
    "from sklearn.metrics.pairwise import cosine_similarity\n",
    "from sklearn.metrics import mean_squared_error\n",
    "from sklearn.metrics import mean_absolute_error\n",
    "from sklearn.metrics.pairwise import euclidean_distances\n",
    "from sklearn.preprocessing import StandardScaler\n",
    "%matplotlib inline\n",
    "from sklearn.preprocessing import OneHotEncoder\n",
    "\n",
    "import scipy\n",
    "\n",
    "from gensim import corpora\n",
    "from gensim import corpora\n",
    "from gensim.similarities.docsim import Similarity\n",
    "from gensim import corpora, models, similarities\n",
    "\n",
    "import pickle\n",
    "import time"
   ]
  },
  {
   "cell_type": "code",
   "execution_count": null,
   "metadata": {},
   "outputs": [],
   "source": []
  },
  {
   "cell_type": "markdown",
   "metadata": {},
   "source": [
    "# Read Train Split and Validation Data"
   ]
  },
  {
   "cell_type": "code",
   "execution_count": 2,
   "metadata": {},
   "outputs": [],
   "source": [
    "rev_busi_Pho= pd.read_csv('../data/filtered_reviews_in_Phonex.csv', parse_dates=[\"date\"])\n",
    "\n",
    "train_df  = pickle.load(open('../data/train_df.pkl', \"rb\"))\n",
    "valid_df = pickle.load(open('../data/valid_df.pkl', \"rb\"))\n",
    "test_df = pickle.load(open('../data/test_df.pkl', \"rb\"))"
   ]
  },
  {
   "cell_type": "code",
   "execution_count": 3,
   "metadata": {},
   "outputs": [
    {
     "data": {
      "text/html": [
       "<div>\n",
       "<style scoped>\n",
       "    .dataframe tbody tr th:only-of-type {\n",
       "        vertical-align: middle;\n",
       "    }\n",
       "\n",
       "    .dataframe tbody tr th {\n",
       "        vertical-align: top;\n",
       "    }\n",
       "\n",
       "    .dataframe thead th {\n",
       "        text-align: right;\n",
       "    }\n",
       "</style>\n",
       "<table border=\"1\" class=\"dataframe\">\n",
       "  <thead>\n",
       "    <tr style=\"text-align: right;\">\n",
       "      <th></th>\n",
       "      <th>user_id</th>\n",
       "      <th>business_id</th>\n",
       "      <th>stars</th>\n",
       "      <th>review_id</th>\n",
       "      <th>text</th>\n",
       "    </tr>\n",
       "  </thead>\n",
       "  <tbody>\n",
       "    <tr>\n",
       "      <th>0</th>\n",
       "      <td>--2HUmLkcNHZp0xw6AMBPg</td>\n",
       "      <td>yX0pOWG_Be9TjGnm0aihVA</td>\n",
       "      <td>5.0</td>\n",
       "      <td>tfi5EOpqZw637p3AJtOUMg</td>\n",
       "      <td>Obsessed with their chicken salad and sweet fr...</td>\n",
       "    </tr>\n",
       "  </tbody>\n",
       "</table>\n",
       "</div>"
      ],
      "text/plain": [
       "                  user_id             business_id  stars  \\\n",
       "0  --2HUmLkcNHZp0xw6AMBPg  yX0pOWG_Be9TjGnm0aihVA    5.0   \n",
       "\n",
       "                review_id                                               text  \n",
       "0  tfi5EOpqZw637p3AJtOUMg  Obsessed with their chicken salad and sweet fr...  "
      ]
     },
     "execution_count": 3,
     "metadata": {},
     "output_type": "execute_result"
    }
   ],
   "source": [
    "train_df = train_df.merge(rev_busi_Pho[[\"review_id\", \"user_id\", \"business_id\", \"text\"]], how = \"left\", on = [\"user_id\", \"business_id\"])\n",
    "valid_df = valid_df.merge(rev_busi_Pho[[\"review_id\", \"user_id\", \"business_id\", \"text\"]], how = \"left\", on = [\"user_id\", \"business_id\"])\n",
    "test_df  = test_df.merge(rev_busi_Pho[[\"review_id\", \"user_id\", \"business_id\", \"text\"]], how = \"left\", on = [\"user_id\", \"business_id\"])\n",
    "\n",
    "train_df.head(1)"
   ]
  },
  {
   "cell_type": "code",
   "execution_count": 4,
   "metadata": {},
   "outputs": [
    {
     "data": {
      "text/plain": [
       "(180559, 5)"
      ]
     },
     "execution_count": 4,
     "metadata": {},
     "output_type": "execute_result"
    },
    {
     "data": {
      "text/plain": [
       "(19500, 5)"
      ]
     },
     "execution_count": 4,
     "metadata": {},
     "output_type": "execute_result"
    },
    {
     "data": {
      "text/plain": [
       "(19500, 5)"
      ]
     },
     "execution_count": 4,
     "metadata": {},
     "output_type": "execute_result"
    }
   ],
   "source": [
    "train_df.shape\n",
    "valid_df.shape\n",
    "test_df.shape"
   ]
  },
  {
   "cell_type": "code",
   "execution_count": 5,
   "metadata": {
    "scrolled": true
   },
   "outputs": [
    {
     "name": "stdout",
     "output_type": "stream",
     "text": [
      "unique users in training set: 19683\n",
      "unique businesses in training set: 1728\n",
      "unique users in test set: 19500\n",
      "unique businesses in test set: 1672\n"
     ]
    }
   ],
   "source": [
    "print(\"unique users in training set:\", train_df[\"user_id\"].nunique())\n",
    "print(\"unique businesses in training set:\", train_df[\"business_id\"].nunique())\n",
    "print(\"unique users in test set:\", test_df[\"user_id\"].nunique())\n",
    "print(\"unique businesses in test set:\", test_df[\"business_id\"].nunique())"
   ]
  },
  {
   "cell_type": "markdown",
   "metadata": {},
   "source": [
    "# Content-based Model, NLP"
   ]
  },
  {
   "cell_type": "markdown",
   "metadata": {},
   "source": [
    "### - Combine reviews of each business_id as its document "
   ]
  },
  {
   "cell_type": "code",
   "execution_count": 6,
   "metadata": {
    "scrolled": true
   },
   "outputs": [
    {
     "data": {
      "text/html": [
       "<div>\n",
       "<style scoped>\n",
       "    .dataframe tbody tr th:only-of-type {\n",
       "        vertical-align: middle;\n",
       "    }\n",
       "\n",
       "    .dataframe tbody tr th {\n",
       "        vertical-align: top;\n",
       "    }\n",
       "\n",
       "    .dataframe thead th {\n",
       "        text-align: right;\n",
       "    }\n",
       "</style>\n",
       "<table border=\"1\" class=\"dataframe\">\n",
       "  <thead>\n",
       "    <tr style=\"text-align: right;\">\n",
       "      <th></th>\n",
       "      <th>user_id</th>\n",
       "      <th>business_id</th>\n",
       "      <th>stars</th>\n",
       "      <th>review_id</th>\n",
       "      <th>text</th>\n",
       "    </tr>\n",
       "  </thead>\n",
       "  <tbody>\n",
       "    <tr>\n",
       "      <th>0</th>\n",
       "      <td>--2HUmLkcNHZp0xw6AMBPg</td>\n",
       "      <td>yX0pOWG_Be9TjGnm0aihVA</td>\n",
       "      <td>5.0</td>\n",
       "      <td>tfi5EOpqZw637p3AJtOUMg</td>\n",
       "      <td>Obsessed with their chicken salad and sweet fr...</td>\n",
       "    </tr>\n",
       "  </tbody>\n",
       "</table>\n",
       "</div>"
      ],
      "text/plain": [
       "                  user_id             business_id  stars  \\\n",
       "0  --2HUmLkcNHZp0xw6AMBPg  yX0pOWG_Be9TjGnm0aihVA    5.0   \n",
       "\n",
       "                review_id                                               text  \n",
       "0  tfi5EOpqZw637p3AJtOUMg  Obsessed with their chicken salad and sweet fr...  "
      ]
     },
     "execution_count": 6,
     "metadata": {},
     "output_type": "execute_result"
    },
    {
     "data": {
      "text/plain": [
       "1728"
      ]
     },
     "execution_count": 6,
     "metadata": {},
     "output_type": "execute_result"
    },
    {
     "data": {
      "text/html": [
       "<div>\n",
       "<style scoped>\n",
       "    .dataframe tbody tr th:only-of-type {\n",
       "        vertical-align: middle;\n",
       "    }\n",
       "\n",
       "    .dataframe tbody tr th {\n",
       "        vertical-align: top;\n",
       "    }\n",
       "\n",
       "    .dataframe thead th {\n",
       "        text-align: right;\n",
       "    }\n",
       "</style>\n",
       "<table border=\"1\" class=\"dataframe\">\n",
       "  <thead>\n",
       "    <tr style=\"text-align: right;\">\n",
       "      <th></th>\n",
       "      <th>business_id</th>\n",
       "      <th>text</th>\n",
       "    </tr>\n",
       "  </thead>\n",
       "  <tbody>\n",
       "    <tr>\n",
       "      <th>0</th>\n",
       "      <td>-050d_XIor1NpCuWkbIVaQ</td>\n",
       "      <td>Great Food. Great Coffee. Great Service. Amazi...</td>\n",
       "    </tr>\n",
       "  </tbody>\n",
       "</table>\n",
       "</div>"
      ],
      "text/plain": [
       "              business_id                                               text\n",
       "0  -050d_XIor1NpCuWkbIVaQ  Great Food. Great Coffee. Great Service. Amazi..."
      ]
     },
     "execution_count": 6,
     "metadata": {},
     "output_type": "execute_result"
    }
   ],
   "source": [
    "train_df.head(1)\n",
    "text_train_df = train_df.groupby([\"business_id\"])[\"text\"].apply(lambda x: x.str.cat()).reset_index()\n",
    "len(text_train_df)\n",
    "text_train_df.head(1)"
   ]
  },
  {
   "cell_type": "markdown",
   "metadata": {},
   "source": [
    "### - Generate Wordcloud"
   ]
  },
  {
   "cell_type": "code",
   "execution_count": 7,
   "metadata": {},
   "outputs": [],
   "source": [
    "# gather all words together\n",
    "all_text = \"\"\n",
    "all_snippets = text_train_df[\"text\"].values\n",
    "\n",
    "for snippet in all_snippets:\n",
    "    all_text += snippet\n",
    "\n",
    "# plot Wordcloud\n",
    "wordcloud = WordCloud(stopwords=STOPWORDS, background_color='white',width=6000,height=6000).generate(all_text)\n",
    "plt.figure(figsize = (10,10))\n",
    "plt.imshow(wordcloud)\n",
    "plt.axis(\"off\")\n",
    "plt.show()"
   ]
  },
  {
   "cell_type": "markdown",
   "metadata": {},
   "source": [
    "### - Text Prepocessing"
   ]
  },
  {
   "cell_type": "code",
   "execution_count": 6,
   "metadata": {},
   "outputs": [],
   "source": [
    "def remove_punctuation(words):\n",
    "    \"\"\"Remove punctuation from list of tokenized words\"\"\"\n",
    "    new_words = []\n",
    "    for word in words:\n",
    "        new_word = re.sub(r'[^\\w\\s]', '', word)\n",
    "        if new_word != '':\n",
    "            new_words.append(new_word)\n",
    "            \n",
    "    return new_words\n",
    "\n",
    "def remove_special(words):\n",
    "    \"\"\"Remove special signs like &*\"\"\"\n",
    "    new_words = []\n",
    "    for word in words:\n",
    "        new_word = re.sub(r'[-,$()#+&*]', '', word)\n",
    "        if new_word != '':\n",
    "            new_words.append(new_word)\n",
    "            \n",
    "    return new_words\n",
    "\n",
    "def replace_numbers(words):\n",
    "    \"\"\"Replace all interger occurrences in list of tokenized words with textual representation\"\"\"\n",
    "    p = inflect.engine()\n",
    "    new_words = []\n",
    "    for word in words:\n",
    "        if word.isdigit():\n",
    "            new_word = p.number_to_words(word)\n",
    "            new_words.append(new_word)\n",
    "        else:\n",
    "            new_words.append(word)\n",
    "            \n",
    "    return new_words\n",
    "\n",
    "def remove_stopwords(words):\n",
    "    \"\"\"Remove stop words from list of tokenized words\"\"\"  \n",
    "    stopwords = nltk.corpus.stopwords.words('english')\n",
    "    myStopWords = []\n",
    "    stopwords.extend(myStopWords)\n",
    "    new_words = []\n",
    "    for word in words:\n",
    "        if word not in stopwords:\n",
    "            new_words.append(word)\n",
    "            \n",
    "    return new_words\n",
    "\n",
    "def to_lowercase(words):\n",
    "    \"\"\"Convert words to lowercase\"\"\"\n",
    "    new_words=[]\n",
    "    for word in words:\n",
    "        new_words.append(word.lower())\n",
    "        \n",
    "    return new_words\n",
    "\n",
    "def stem_words(words):\n",
    "    \"\"\"Stem words in list of tokenized words\"\"\"\n",
    "    stemmer = LancasterStemmer()\n",
    "    stemmer = SnowballStemmer('english')\n",
    "    stems = []\n",
    "    for word in words:\n",
    "        stem = stemmer.stem(word)\n",
    "        stems.append(stem)\n",
    "        \n",
    "    return stems\n",
    "\n",
    "def lemmatize_verbs(words):\n",
    "    \"\"\"Lemmatize verbs in list of tokenized words\"\"\"\n",
    "    lemmatizer = WordNetLemmatizer()\n",
    "    lemmas = []\n",
    "    for word in words:\n",
    "        lemma = lemmatizer.lemmatize(word, pos='v')\n",
    "        lemmas.append(lemma)\n",
    "        \n",
    "    return lemmas\n",
    "\n",
    "def normalize_lemmatize(words):\n",
    "    words = remove_special(words)\n",
    "    words = to_lowercase(words)\n",
    "    words = remove_punctuation(words)\n",
    "    words = replace_numbers(words)\n",
    "    words = remove_stopwords(words)\n",
    "    words = stem_words(words)\n",
    "    words = lemmatize_verbs(words)\n",
    "    \n",
    "    return words\n"
   ]
  },
  {
   "cell_type": "code",
   "execution_count": 7,
   "metadata": {
    "scrolled": true
   },
   "outputs": [],
   "source": [
    "def get_processed(sample):\n",
    "    processed = pd.DataFrame(data=[],columns = ['business_id', 'text'])\n",
    "    new_texts = []\n",
    "\n",
    "    for i in range(0, len(sample)):\n",
    "        business_id = sample['business_id'].iloc[i]\n",
    "        words = nltk.word_tokenize(sample['text'].iloc[i])\n",
    "        text = ' '.join(normalize_lemmatize(words))\n",
    "        dfnew = pd.DataFrame([[business_id, text]], columns=['business_id', 'text'])\n",
    "        new_texts.append(text)\n",
    "        processed = processed.append(dfnew,ignore_index = True)\n",
    "\n",
    "    return processed\n"
   ]
  },
  {
   "cell_type": "code",
   "execution_count": 9,
   "metadata": {},
   "outputs": [],
   "source": [
    "# This takes lots of time, \n",
    "# You may just read_pickle here after the initial run\n",
    "\n",
    "# df_texts_train = get_processed(text_train_df)\n",
    "# df_texts_train.to_pickle('../data/text_train_df.pkl')\n",
    "\n",
    "df_texts_train = pickle.load(open('../data/text_train_df.pkl', \"rb\"))\n"
   ]
  },
  {
   "cell_type": "markdown",
   "metadata": {},
   "source": [
    "### - Cosine Similarity"
   ]
  },
  {
   "cell_type": "code",
   "execution_count": null,
   "metadata": {},
   "outputs": [],
   "source": []
  },
  {
   "cell_type": "code",
   "execution_count": 10,
   "metadata": {},
   "outputs": [],
   "source": [
    "def get_tfidf_matrix(processed):\n",
    "    '''\n",
    "    get the Tf-Idf matrix of processed texts for business reviews\n",
    "    \n",
    "    '''\n",
    "    TV = TfidfVectorizer(stop_words = \"english\")\n",
    "    processed[\"text\"] = processed[\"text\"].fillna('')\n",
    "    tfidf_matrix = TV.fit_transform((processed[\"text\"]))\n",
    "    \n",
    "    return tfidf_matrix\n",
    "\n",
    "def get_cos_sim_matrix(tfidf_matrix, n):\n",
    "    '''\n",
    "    use truncated SVD to reduce dimensions to n \n",
    "    @n: the dimensions to keep\n",
    "    '''\n",
    "    SVD = TruncatedSVD(n_components = n , random_state = 42) # 42 is the ultimate answer to everything\n",
    "    tfidf_truncated = SVD.fit_transform(tfidf_matrix)\n",
    "    cosine_sim = cosine_similarity(tfidf_truncated, tfidf_truncated)\n",
    "    \n",
    "    return cosine_sim\n"
   ]
  },
  {
   "cell_type": "markdown",
   "metadata": {},
   "source": [
    "### - Dimension Reduction"
   ]
  },
  {
   "cell_type": "code",
   "execution_count": 120,
   "metadata": {},
   "outputs": [
    {
     "data": {
      "text/plain": [
       "<BarContainer object of 1727 artists>"
      ]
     },
     "execution_count": 120,
     "metadata": {},
     "output_type": "execute_result"
    },
    {
     "data": {
      "image/png": "[encoded data removed]",
      "text/plain": [
       "<Figure size 432x288 with 1 Axes>"
      ]
     },
     "metadata": {
      "needs_background": "light"
     },
     "output_type": "display_data"
    },
    {
     "data": {
      "text/plain": [
       "[<matplotlib.lines.Line2D at 0x7ff82c752c90>]"
      ]
     },
     "execution_count": 120,
     "metadata": {},
     "output_type": "execute_result"
    },
    {
     "data": {
      "image/png": "[encoded data removed]",
      "text/plain": [
       "<Figure size 432x288 with 1 Axes>"
      ]
     },
     "metadata": {
      "needs_background": "light"
     },
     "output_type": "display_data"
    }
   ],
   "source": [
    "tfidf_matrix = get_tfidf_matrix(df_texts_train)\n",
    "u, s, vt  = scipy.sparse.linalg.svds(tfidf_matrix, k = tfidf_matrix.shape[0]-1)\n",
    "plt.bar(range(len(s)),s)\n",
    "plt.show()\n",
    "\n",
    "plt.plot(range(len(s))[:100], np.cumsum(sorted((s**2 / sum(s**2)),reverse = True)[:100]), \"r\" )\n",
    "plt.show()"
   ]
  },
  {
   "cell_type": "code",
   "execution_count": 123,
   "metadata": {},
   "outputs": [
    {
     "data": {
      "text/plain": [
       "array([ 0.1161252 ,  0.1192119 ,  0.13759906, ...,  6.88350887,\n",
       "        8.06597853, 20.98211441])"
      ]
     },
     "execution_count": 123,
     "metadata": {},
     "output_type": "execute_result"
    }
   ],
   "source": []
  },
  {
   "cell_type": "code",
   "execution_count": 131,
   "metadata": {},
   "outputs": [
    {
     "data": {
      "text/plain": [
       "array([20.98211441,  8.06597853,  6.88350887, ...,  0.13759906,\n",
       "        0.1192119 ,  0.1161252 ])"
      ]
     },
     "execution_count": 131,
     "metadata": {},
     "output_type": "execute_result"
    }
   ],
   "source": [
    "np.sort(s)[::-1]"
   ]
  },
  {
   "cell_type": "code",
   "execution_count": 135,
   "metadata": {},
   "outputs": [
    {
     "data": {
      "text/plain": [
       "<BarContainer object of 50 artists>"
      ]
     },
     "execution_count": 135,
     "metadata": {},
     "output_type": "execute_result"
    },
    {
     "data": {
      "text/plain": [
       "[<matplotlib.lines.Line2D at 0x7ff82cf19090>]"
      ]
     },
     "execution_count": 135,
     "metadata": {},
     "output_type": "execute_result"
    },
    {
     "data": {
      "text/plain": [
       "Text(0.5, 1.0, 'Singular values of restaurant features')"
      ]
     },
     "execution_count": 135,
     "metadata": {},
     "output_type": "execute_result"
    },
    {
     "data": {
      "text/plain": [
       "Text(0.5, 0, 'Dimension')"
      ]
     },
     "execution_count": 135,
     "metadata": {},
     "output_type": "execute_result"
    },
    {
     "data": {
      "text/plain": [
       "Text(0, 0.5, 'Singular values')"
      ]
     },
     "execution_count": 135,
     "metadata": {},
     "output_type": "execute_result"
    },
    {
     "data": {
      "text/plain": [
       "<matplotlib.legend.Legend at 0x7ff82d049890>"
      ]
     },
     "execution_count": 135,
     "metadata": {},
     "output_type": "execute_result"
    },
    {
     "data": {
      "image/png": "[encoded data removed]",
      "text/plain": [
       "<Figure size 432x288 with 1 Axes>"
      ]
     },
     "metadata": {
      "needs_background": "light"
     },
     "output_type": "display_data"
    }
   ],
   "source": [
    "# u, s, vt  = np.linalg.svd(bus_df_subset.iloc[:,:])\n",
    "plt.bar(range(50),np.sort(s)[::-1][:50])\n",
    "plt.plot([20 for i in np.linspace(0,20,10)], np.linspace(0,20,10),\"r\", label = \"cut-off point\")\n",
    "plt.title(\"Singular values of restaurant features\")\n",
    "plt.xlabel(\"Dimension\")\n",
    "plt.ylabel(\"Singular values\")\n",
    "plt.legend(loc = \"best\")\n",
    "plt.show()"
   ]
  },
  {
   "cell_type": "markdown",
   "metadata": {},
   "source": [
    "### - From plots above, here we choose n=20 as dimensions to keep"
   ]
  },
  {
   "cell_type": "code",
   "execution_count": 145,
   "metadata": {},
   "outputs": [
    {
     "data": {
      "text/plain": [
       "array([0.25477565, 0.29242639, 0.31984713, 0.34098176, 0.35868284,\n",
       "       0.37490348, 0.38859348, 0.40163766, 0.41279492, 0.42381338,\n",
       "       0.43318138, 0.4422956 , 0.45075388, 0.45889689, 0.46643746,\n",
       "       0.47343711, 0.48030357, 0.48657994, 0.49250794, 0.49798258,\n",
       "       0.50274537, 0.50737858, 0.5116934 , 0.51570585, 0.51952977,\n",
       "       0.52316857, 0.52670849, 0.53015597, 0.53340892, 0.53652741,\n",
       "       0.53950106, 0.54240082, 0.54526104, 0.54802343, 0.55059968,\n",
       "       0.5530765 , 0.55543922, 0.55772968, 0.56001719, 0.56224383,\n",
       "       0.56444233, 0.56653124, 0.56860263, 0.57064209, 0.57260433,\n",
       "       0.57454025, 0.57642692, 0.57830659, 0.58014366, 0.58192524])"
      ]
     },
     "execution_count": 145,
     "metadata": {},
     "output_type": "execute_result"
    }
   ],
   "source": [
    "np.cumsum(np.sort(s)[::-1]**2/np.sum(np.sort(s)[::-1]**2))[:50]"
   ]
  },
  {
   "cell_type": "code",
   "execution_count": 143,
   "metadata": {},
   "outputs": [
    {
     "data": {
      "text/plain": [
       "[<matplotlib.lines.Line2D at 0x7ff82d458c50>]"
      ]
     },
     "execution_count": 143,
     "metadata": {},
     "output_type": "execute_result"
    },
    {
     "data": {
      "text/plain": [
       "[<matplotlib.lines.Line2D at 0x7ff82d4653d0>]"
      ]
     },
     "execution_count": 143,
     "metadata": {},
     "output_type": "execute_result"
    },
    {
     "data": {
      "text/plain": [
       "Text(0.5, 1.0, 'Singular values of restaurant features')"
      ]
     },
     "execution_count": 143,
     "metadata": {},
     "output_type": "execute_result"
    },
    {
     "data": {
      "text/plain": [
       "Text(0.5, 0, 'Dimension')"
      ]
     },
     "execution_count": 143,
     "metadata": {},
     "output_type": "execute_result"
    },
    {
     "data": {
      "text/plain": [
       "Text(0, 0.5, 'Singular values')"
      ]
     },
     "execution_count": 143,
     "metadata": {},
     "output_type": "execute_result"
    },
    {
     "data": {
      "text/plain": [
       "<matplotlib.legend.Legend at 0x7ff82d338250>"
      ]
     },
     "execution_count": 143,
     "metadata": {},
     "output_type": "execute_result"
    },
    {
     "data": {
      "image/png": "[encoded data removed]",
      "text/plain": [
       "<Figure size 432x288 with 1 Axes>"
      ]
     },
     "metadata": {
      "needs_background": "light"
     },
     "output_type": "display_data"
    }
   ],
   "source": [
    "plt.plot(range(50), np.cumsum(np.sort(s)[::-1]**2/np.sum(np.sort(s)[::-1]**2))[:50] )\n",
    "plt.plot([20 for i in np.linspace(0,1,10)], np.linspace(0,1,10),\"r\", label = \"cut-off point\")\n",
    "plt.title(\"Singular values of restaurant features\")\n",
    "plt.xlabel(\"Dimension\")\n",
    "plt.ylabel(\"Singular values\")\n",
    "plt.legend(loc = \"best\")\n",
    "plt.show()"
   ]
  },
  {
   "cell_type": "code",
   "execution_count": 11,
   "metadata": {},
   "outputs": [
    {
     "data": {
      "text/html": [
       "<div>\n",
       "<style scoped>\n",
       "    .dataframe tbody tr th:only-of-type {\n",
       "        vertical-align: middle;\n",
       "    }\n",
       "\n",
       "    .dataframe tbody tr th {\n",
       "        vertical-align: top;\n",
       "    }\n",
       "\n",
       "    .dataframe thead th {\n",
       "        text-align: right;\n",
       "    }\n",
       "</style>\n",
       "<table border=\"1\" class=\"dataframe\">\n",
       "  <thead>\n",
       "    <tr style=\"text-align: right;\">\n",
       "      <th></th>\n",
       "      <th>-050d_XIor1NpCuWkbIVaQ</th>\n",
       "      <th>-0WegMt6Cy966qlDKhu6jA</th>\n",
       "      <th>-0tgMGl7D9B10YjSN2ujLA</th>\n",
       "      <th>-1UMR00eXtwaeh59pEiDjA</th>\n",
       "      <th>-45kMvS7h38CGaWugPY0rg</th>\n",
       "      <th>-8JaNeG3etLgOVyg2gOIiA</th>\n",
       "      <th>-9eNGMp8XiygI8t8QFuFWw</th>\n",
       "      <th>-A9sm-E6uQxWTJ_MuyOzFw</th>\n",
       "      <th>-Bdw-5H5C4AYSMGnAvmnzw</th>\n",
       "      <th>-BxWyEIQ6wypT-37MzZizQ</th>\n",
       "      <th>...</th>\n",
       "      <th>zSicVxnJHV8indit0oFuNw</th>\n",
       "      <th>zU63bs3Ofe8y1peOgOFJaA</th>\n",
       "      <th>zYZPpOqo_2YrLJLOmjlgPQ</th>\n",
       "      <th>zaBk2imYnk7rG7IdOMhRmA</th>\n",
       "      <th>zbrFk-4ejesAJD8EwcdHxg</th>\n",
       "      <th>zc1sur_MxkKkD6P8gYXQbg</th>\n",
       "      <th>zidkKI_N1OPxsiddTOQH_Q</th>\n",
       "      <th>znH36RmIAI4wcHy9WiEO5Q</th>\n",
       "      <th>zrTGcb83AsfyVTMrsCa65A</th>\n",
       "      <th>zwmps5SXn30g-f5wqg_r9A</th>\n",
       "    </tr>\n",
       "  </thead>\n",
       "  <tbody>\n",
       "    <tr>\n",
       "      <th>-050d_XIor1NpCuWkbIVaQ</th>\n",
       "      <td>1.0</td>\n",
       "      <td>0.580148</td>\n",
       "      <td>0.577455</td>\n",
       "      <td>0.958394</td>\n",
       "      <td>0.691951</td>\n",
       "      <td>0.557193</td>\n",
       "      <td>0.649372</td>\n",
       "      <td>0.327343</td>\n",
       "      <td>0.719355</td>\n",
       "      <td>0.641419</td>\n",
       "      <td>...</td>\n",
       "      <td>0.969567</td>\n",
       "      <td>0.569617</td>\n",
       "      <td>0.38946</td>\n",
       "      <td>0.250388</td>\n",
       "      <td>0.529521</td>\n",
       "      <td>0.988208</td>\n",
       "      <td>0.342962</td>\n",
       "      <td>0.565981</td>\n",
       "      <td>0.662767</td>\n",
       "      <td>0.516715</td>\n",
       "    </tr>\n",
       "  </tbody>\n",
       "</table>\n",
       "<p>1 rows × 1728 columns</p>\n",
       "</div>"
      ],
      "text/plain": [
       "                        -050d_XIor1NpCuWkbIVaQ  -0WegMt6Cy966qlDKhu6jA  \\\n",
       "-050d_XIor1NpCuWkbIVaQ                     1.0                0.580148   \n",
       "\n",
       "                        -0tgMGl7D9B10YjSN2ujLA  -1UMR00eXtwaeh59pEiDjA  \\\n",
       "-050d_XIor1NpCuWkbIVaQ                0.577455                0.958394   \n",
       "\n",
       "                        -45kMvS7h38CGaWugPY0rg  -8JaNeG3etLgOVyg2gOIiA  \\\n",
       "-050d_XIor1NpCuWkbIVaQ                0.691951                0.557193   \n",
       "\n",
       "                        -9eNGMp8XiygI8t8QFuFWw  -A9sm-E6uQxWTJ_MuyOzFw  \\\n",
       "-050d_XIor1NpCuWkbIVaQ                0.649372                0.327343   \n",
       "\n",
       "                        -Bdw-5H5C4AYSMGnAvmnzw  -BxWyEIQ6wypT-37MzZizQ  ...  \\\n",
       "-050d_XIor1NpCuWkbIVaQ                0.719355                0.641419  ...   \n",
       "\n",
       "                        zSicVxnJHV8indit0oFuNw  zU63bs3Ofe8y1peOgOFJaA  \\\n",
       "-050d_XIor1NpCuWkbIVaQ                0.969567                0.569617   \n",
       "\n",
       "                        zYZPpOqo_2YrLJLOmjlgPQ  zaBk2imYnk7rG7IdOMhRmA  \\\n",
       "-050d_XIor1NpCuWkbIVaQ                 0.38946                0.250388   \n",
       "\n",
       "                        zbrFk-4ejesAJD8EwcdHxg  zc1sur_MxkKkD6P8gYXQbg  \\\n",
       "-050d_XIor1NpCuWkbIVaQ                0.529521                0.988208   \n",
       "\n",
       "                        zidkKI_N1OPxsiddTOQH_Q  znH36RmIAI4wcHy9WiEO5Q  \\\n",
       "-050d_XIor1NpCuWkbIVaQ                0.342962                0.565981   \n",
       "\n",
       "                        zrTGcb83AsfyVTMrsCa65A  zwmps5SXn30g-f5wqg_r9A  \n",
       "-050d_XIor1NpCuWkbIVaQ                0.662767                0.516715  \n",
       "\n",
       "[1 rows x 1728 columns]"
      ]
     },
     "execution_count": 11,
     "metadata": {},
     "output_type": "execute_result"
    },
    {
     "data": {
      "text/plain": [
       "(1728, 1728)"
      ]
     },
     "execution_count": 11,
     "metadata": {},
     "output_type": "execute_result"
    }
   ],
   "source": [
    "tfidf_matrix = get_tfidf_matrix(df_texts_train)\n",
    "cosine_sim = get_cos_sim_matrix(tfidf_matrix, 20)\n",
    "df_sim = pd.DataFrame(cosine_sim, index=df_texts_train['business_id'].values, columns=df_texts_train['business_id'].values)\n",
    "df_sim.head(1)\n",
    "cosine_sim.shape"
   ]
  },
  {
   "cell_type": "code",
   "execution_count": 14,
   "metadata": {},
   "outputs": [],
   "source": [
    "# plt.figure()\n",
    "# plt.hist(cosine_sim.flatten(), bins = 100)\n",
    "# plt.show()"
   ]
  },
  {
   "cell_type": "code",
   "execution_count": 12,
   "metadata": {},
   "outputs": [],
   "source": [
    "def get_recommendation_cos(reviews, business_id, user_id, df_sim, k):\n",
    "    '''get the business_id_array that shows top_k greatest similarity to the specific business_id'''\n",
    "    user_bids = reviews[reviews['user_id']==user_id]['business_id'].values\n",
    "    df_user = df_sim.loc[df_sim.index.isin(user_bids), df_sim.columns == business_id]\n",
    "    df_user_topk = df_user.sort_values(df_user.columns[0], ascending = False).iloc[:k]\n",
    "    \n",
    "    return np.array(df_user_topk.index.values)\n",
    "\n",
    "\n",
    "def predict_rating(reviews, user_id, business_ids):\n",
    "    '''predict the avg of the user's rating on business in business_ids'''\n",
    "    scores = reviews.loc[(reviews.user_id == user_id) & (reviews.business_id.isin(business_ids))][\"stars\"].values\n",
    "    \n",
    "    return np.mean(scores)\n",
    "\n",
    "\n",
    "def get_results_cos(reviews, reviews_test, business_id, user_id, df_sim, k):\n",
    "    '''\n",
    "    prediction on the business_id：avg the ratings on top_k business that shows similarity to the business_id\n",
    "    actual on the business_id: the true rating \n",
    "    '''\n",
    "    actual = reviews_test.loc[(reviews_test.user_id==user_id) & (reviews_test.business_id==business_id)]['stars'].values[0]\n",
    "    business_ids = get_recommendation_cos(reviews, business_id, user_id, df_sim, k)\n",
    "    prediction = predict_rating(reviews, user_id, business_ids)\n",
    "    \n",
    "    return actual, prediction\n",
    "\n",
    "def get_review_processed(processed, reviews):\n",
    "    reviews_processed = reviews.loc[reviews.business_id.isin(processed.business_id)]\\\n",
    "                                                       .reset_index()\\\n",
    "                                                       .drop(columns=['index'])\n",
    "    return reviews_processed"
   ]
  },
  {
   "cell_type": "code",
   "execution_count": 13,
   "metadata": {},
   "outputs": [
    {
     "data": {
      "text/html": [
       "<div>\n",
       "<style scoped>\n",
       "    .dataframe tbody tr th:only-of-type {\n",
       "        vertical-align: middle;\n",
       "    }\n",
       "\n",
       "    .dataframe tbody tr th {\n",
       "        vertical-align: top;\n",
       "    }\n",
       "\n",
       "    .dataframe thead th {\n",
       "        text-align: right;\n",
       "    }\n",
       "</style>\n",
       "<table border=\"1\" class=\"dataframe\">\n",
       "  <thead>\n",
       "    <tr style=\"text-align: right;\">\n",
       "      <th></th>\n",
       "      <th>user_id</th>\n",
       "      <th>business_id</th>\n",
       "      <th>stars</th>\n",
       "      <th>review_id</th>\n",
       "      <th>text</th>\n",
       "    </tr>\n",
       "  </thead>\n",
       "  <tbody>\n",
       "    <tr>\n",
       "      <th>0</th>\n",
       "      <td>--2HUmLkcNHZp0xw6AMBPg</td>\n",
       "      <td>yX0pOWG_Be9TjGnm0aihVA</td>\n",
       "      <td>5.0</td>\n",
       "      <td>tfi5EOpqZw637p3AJtOUMg</td>\n",
       "      <td>Obsessed with their chicken salad and sweet fr...</td>\n",
       "    </tr>\n",
       "    <tr>\n",
       "      <th>1</th>\n",
       "      <td>--2HUmLkcNHZp0xw6AMBPg</td>\n",
       "      <td>u9R0_pvEkl7QGPJYH3j1sg</td>\n",
       "      <td>5.0</td>\n",
       "      <td>_FcKYC5R81v6SbSeaWxHNA</td>\n",
       "      <td>This place is INCREDIBLE.  We just bought a ho...</td>\n",
       "    </tr>\n",
       "    <tr>\n",
       "      <th>2</th>\n",
       "      <td>--2HUmLkcNHZp0xw6AMBPg</td>\n",
       "      <td>cHdJXLlKNWixBXpDwEGb_A</td>\n",
       "      <td>5.0</td>\n",
       "      <td>wK3roBOGrakzjoX_o5nmBw</td>\n",
       "      <td>Pretty decent for something a little different...</td>\n",
       "    </tr>\n",
       "    <tr>\n",
       "      <th>3</th>\n",
       "      <td>--2HUmLkcNHZp0xw6AMBPg</td>\n",
       "      <td>LR_99E7tVUfxqemvcGkDzw</td>\n",
       "      <td>3.0</td>\n",
       "      <td>_d9cfYYjzuJwhLe5egMLIQ</td>\n",
       "      <td>This place has pretty decent food but their se...</td>\n",
       "    </tr>\n",
       "    <tr>\n",
       "      <th>4</th>\n",
       "      <td>--2HUmLkcNHZp0xw6AMBPg</td>\n",
       "      <td>lfyg98UFNYMVk18p6LIlkw</td>\n",
       "      <td>5.0</td>\n",
       "      <td>_yreTg27A_fsPb8uulhKtg</td>\n",
       "      <td>Love this place.  Amazing food, great selectio...</td>\n",
       "    </tr>\n",
       "  </tbody>\n",
       "</table>\n",
       "</div>"
      ],
      "text/plain": [
       "                  user_id             business_id  stars  \\\n",
       "0  --2HUmLkcNHZp0xw6AMBPg  yX0pOWG_Be9TjGnm0aihVA    5.0   \n",
       "1  --2HUmLkcNHZp0xw6AMBPg  u9R0_pvEkl7QGPJYH3j1sg    5.0   \n",
       "2  --2HUmLkcNHZp0xw6AMBPg  cHdJXLlKNWixBXpDwEGb_A    5.0   \n",
       "3  --2HUmLkcNHZp0xw6AMBPg  LR_99E7tVUfxqemvcGkDzw    3.0   \n",
       "4  --2HUmLkcNHZp0xw6AMBPg  lfyg98UFNYMVk18p6LIlkw    5.0   \n",
       "\n",
       "                review_id                                               text  \n",
       "0  tfi5EOpqZw637p3AJtOUMg  Obsessed with their chicken salad and sweet fr...  \n",
       "1  _FcKYC5R81v6SbSeaWxHNA  This place is INCREDIBLE.  We just bought a ho...  \n",
       "2  wK3roBOGrakzjoX_o5nmBw  Pretty decent for something a little different...  \n",
       "3  _d9cfYYjzuJwhLe5egMLIQ  This place has pretty decent food but their se...  \n",
       "4  _yreTg27A_fsPb8uulhKtg  Love this place.  Amazing food, great selectio...  "
      ]
     },
     "execution_count": 13,
     "metadata": {},
     "output_type": "execute_result"
    }
   ],
   "source": [
    "reviews_processed = get_review_processed(df_texts_train, train_df)\n",
    "reviews_processed.head()"
   ]
  },
  {
   "cell_type": "code",
   "execution_count": 14,
   "metadata": {},
   "outputs": [],
   "source": [
    "def CB_NLP_predict(reviews, reviews_test, df_sim, k = 5):\n",
    "    '''\n",
    "    based on test_df \n",
    "    get a dataframe with each user on each business's true ratings and prediction ratings\n",
    "    @k: int, top k similar businesses\n",
    "    '''\n",
    "    user_id_sample = reviews_test['user_id'].values\n",
    "    busi_id_sample = reviews_test['business_id'].values\n",
    "    \n",
    "    actual = []\n",
    "    predictions = []\n",
    "    \n",
    "    for i in range(len(reviews_test)):\n",
    "        try:\n",
    "            act, pred = get_results_cos(reviews, reviews_test, busi_id_sample[i], user_id_sample[i], df_sim, k)\n",
    "            actual.append(act)\n",
    "            predictions.append(pred)\n",
    "            \n",
    "        except:\n",
    "            actual.append(np.nan)\n",
    "            predictions.append(np.nan)\n",
    "            \n",
    "    return pd.DataFrame({\"user_id\": user_id_sample,\n",
    "                         \"business_id\": busi_id_sample,\n",
    "                         \"true_ratings\": actual,\n",
    "                         \"prediction_ratings\":  predictions                        \n",
    "                        })"
   ]
  },
  {
   "cell_type": "markdown",
   "metadata": {},
   "source": [
    "### - Tuning parameters k"
   ]
  },
  {
   "cell_type": "code",
   "execution_count": 20,
   "metadata": {},
   "outputs": [
    {
     "name": "stdout",
     "output_type": "stream",
     "text": [
      "time elapsed: (seconds)\n",
      "4312.54\n"
     ]
    },
    {
     "data": {
      "text/plain": [
       "<matplotlib.axes._subplots.AxesSubplot at 0x7ff958623710>"
      ]
     },
     "execution_count": 20,
     "metadata": {},
     "output_type": "execute_result"
    },
    {
     "name": "stdout",
     "output_type": "stream",
     "text": [
      "optimal k (nearest neighbors):\n",
      "     ks  sample_size      rmse       mae\n",
      "4  45.0      19500.0  1.338007  1.004968\n"
     ]
    },
    {
     "data": {
      "image/png": "[encoded data removed]",
      "text/plain": [
       "<Figure size 432x288 with 1 Axes>"
      ]
     },
     "metadata": {
      "needs_background": "light"
     },
     "output_type": "display_data"
    }
   ],
   "source": [
    "# # run this may take 2527.366 seconds\n",
    "# # the result of this process:\n",
    "# # optimal k (nearest neighbors): 3   35.0\n",
    "\n",
    "\n",
    "t0 = time.time()\n",
    "df_pred_results = pd.DataFrame(columns= [\"ks\", \"sample_size\", \"rmse\", \"mae\"])\n",
    "sample_sizes = [len(valid_df)]\n",
    "ks = [5, 15, 25, 35, 45, 55]\n",
    "\n",
    "for sample_size in sample_sizes:\n",
    "    for k in ks:\n",
    "        valid = CB_NLP_predict(train_df, valid_df.sample(n = sample_size, random_state = 12), df_sim, k)\n",
    "        rmse = mean_squared_error(valid.dropna().prediction_ratings, valid.dropna().true_ratings)**0.5\n",
    "        mae =  mean_absolute_error(valid.dropna().prediction_ratings, valid.dropna().true_ratings)**0.5\n",
    "        df_pred_results = df_pred_results.append({\"ks\": k, \"sample_size\": sample_size,\n",
    "                                                  \"rmse\": rmse, \"mae\": mae}, ignore_index = True)\n",
    "t1 = time.time()\n",
    "print(\"time elapsed: (seconds)\")\n",
    "print(np.round(t1 - t0,3))\n",
    "\n",
    "df_pred_results[df_pred_results[\"sample_size\"] == sample_size].plot(\"ks\", \"rmse\")\n",
    "print(\"optimal k (nearest neighbors):\")\n",
    "print(df_pred_results.loc[df_pred_results[\"rmse\"] == np.min(df_pred_results.rmse),])\n",
    "\n",
    "# df_pred_results.to_csv(\"Content_Based_Filtering_Cosine_Evaluation.csv\",index = False)"
   ]
  },
  {
   "cell_type": "code",
   "execution_count": 22,
   "metadata": {},
   "outputs": [],
   "source": [
    "df_pred_results.to_csv(\"Content_Based_Filtering_Cosine_Evaluation2.csv\",index = False)"
   ]
  },
  {
   "cell_type": "code",
   "execution_count": 119,
   "metadata": {},
   "outputs": [
    {
     "data": {
      "text/plain": [
       "<matplotlib.axes._subplots.AxesSubplot at 0x7ff93a9e5210>"
      ]
     },
     "execution_count": 119,
     "metadata": {},
     "output_type": "execute_result"
    },
    {
     "name": "stdout",
     "output_type": "stream",
     "text": [
      "optimal k (nearest neighbors):\n",
      "     ks  sample_size      rmse       mae\n",
      "4  45.0      19500.0  1.338007  1.004968\n"
     ]
    },
    {
     "data": {
      "image/png": "[encoded data removed]",
      "text/plain": [
       "<Figure size 432x288 with 1 Axes>"
      ]
     },
     "metadata": {
      "needs_background": "light"
     },
     "output_type": "display_data"
    }
   ],
   "source": [
    "df_pred_results[df_pred_results[\"sample_size\"] == sample_size].plot(\"ks\", \"rmse\")\n",
    "print(\"optimal k (nearest neighbors):\")\n",
    "print(df_pred_results.loc[df_pred_results[\"rmse\"] == np.min(df_pred_results.rmse),])\n",
    "\n"
   ]
  },
  {
   "cell_type": "code",
   "execution_count": 170,
   "metadata": {},
   "outputs": [
    {
     "data": {
      "text/plain": [
       "0    1.837703\n",
       "1    1.793311\n",
       "2    1.791299\n",
       "3    1.790662\n",
       "4    1.790263\n",
       "5    1.790323\n",
       "Name: rmse, dtype: float64"
      ]
     },
     "execution_count": 170,
     "metadata": {},
     "output_type": "execute_result"
    }
   ],
   "source": [
    "np.round(df_pred_results[\"rmse\"]**2,10)"
   ]
  },
  {
   "cell_type": "code",
   "execution_count": 171,
   "metadata": {},
   "outputs": [
    {
     "data": {
      "text/plain": [
       "<Figure size 432x288 with 0 Axes>"
      ]
     },
     "execution_count": 171,
     "metadata": {},
     "output_type": "execute_result"
    },
    {
     "data": {
      "text/plain": [
       "[<matplotlib.lines.Line2D at 0x7ff7b6b58ad0>]"
      ]
     },
     "execution_count": 171,
     "metadata": {},
     "output_type": "execute_result"
    },
    {
     "data": {
      "text/plain": [
       "[<matplotlib.lines.Line2D at 0x7ff7b6d28b90>]"
      ]
     },
     "execution_count": 171,
     "metadata": {},
     "output_type": "execute_result"
    },
    {
     "data": {
      "text/plain": [
       "<matplotlib.legend.Legend at 0x7ff7b6d21910>"
      ]
     },
     "execution_count": 171,
     "metadata": {},
     "output_type": "execute_result"
    },
    {
     "data": {
      "text/plain": [
       "Text(0.5, 0, 'k')"
      ]
     },
     "execution_count": 171,
     "metadata": {},
     "output_type": "execute_result"
    },
    {
     "data": {
      "text/plain": [
       "Text(0, 0.5, 'MSE')"
      ]
     },
     "execution_count": 171,
     "metadata": {},
     "output_type": "execute_result"
    },
    {
     "data": {
      "text/plain": [
       "Text(0.5, 1.0, 'Content Based Model (Tf-idf): k vs MSE')"
      ]
     },
     "execution_count": 171,
     "metadata": {},
     "output_type": "execute_result"
    },
    {
     "data": {
      "image/png": "[encoded data removed]",
      "text/plain": [
       "<Figure size 432x288 with 1 Axes>"
      ]
     },
     "metadata": {
      "needs_background": "light"
     },
     "output_type": "display_data"
    }
   ],
   "source": [
    "optimal = df_pred_results.loc[df_pred_results[\"rmse\"] == np.min(df_pred_results.rmse),]\n",
    "plt.figure()\n",
    "plt.plot(df_pred_results[\"ks\"][1:], np.round(df_pred_results[\"rmse\"]**2,10)[1:10], label = \"MSE\")\n",
    "plt.plot(optimal[\"ks\"], np.round(optimal[\"rmse\"]**2,10), \"ro\", label = \"Optimal k: {}\".format(45))\n",
    "plt.legend()\n",
    "plt.xlabel(\"k\")\n",
    "plt.ylabel(\"MSE\")\n",
    "plt.title(\"Content Based Model (Tf-idf): k vs MSE\")"
   ]
  },
  {
   "cell_type": "markdown",
   "metadata": {},
   "source": [
    "## LSI Model"
   ]
  },
  {
   "cell_type": "markdown",
   "metadata": {},
   "source": [
    "### - 2 parameters to tune: n topics and k nearest businesses"
   ]
  },
  {
   "cell_type": "code",
   "execution_count": 16,
   "metadata": {},
   "outputs": [],
   "source": [
    "def get_lsi(processed, reviews, user_id, n_topics):\n",
    "    '''\n",
    "    get the lsi model for user_id\n",
    "    '''\n",
    "    user_bids = reviews[reviews['user_id']==user_id]['business_id'].values\n",
    "    processed_user = processed.loc[processed.business_id.isin(user_bids)]\n",
    "    documents = list(processed_user['text'].values)\n",
    "    texts = [[word for word in document.split(' ')] for document in documents]\n",
    "    dictionary = corpora.Dictionary(texts)\n",
    "    corpus = [dictionary.doc2bow(text) for text in texts] \n",
    "\n",
    "    lsi = models.LsiModel(corpus, id2word=dictionary, num_topics=n_topics)\n",
    "    \n",
    "    return lsi, dictionary, corpus"
   ]
  },
  {
   "cell_type": "code",
   "execution_count": null,
   "metadata": {},
   "outputs": [],
   "source": [
    "# #### Dont run this cell !!!\n",
    "\n",
    "# df_lsi = pd.DataFrame(columns = [\"user_id\",\"n_topic\", \"lsi\", \"dictionary\"])\n",
    "# n_topics = [10,20,50,80,100,150]\n",
    "\n",
    "# for n_topic in n_topics:\n",
    "#     for i in range(len(test_df)):\n",
    "#         lsi, dictionary, corpus = get_lsi(df_texts_train, train_df, user_id_sample[i], n_topic)\n",
    "#         df_lsi = df_lsi.append({\"user_id\": test_df.user_id[i],\n",
    "#                                 \"n_topic\": n_topic,\n",
    "#                                 \"lsi\": lsi,\n",
    "#                                 \"dictionary\": dictionary}, ignore_index = True)"
   ]
  },
  {
   "cell_type": "code",
   "execution_count": 17,
   "metadata": {},
   "outputs": [],
   "source": [
    "# def get_recommendation_lsi(processed, reviews, df_lsi, business_id, user_id, k, n_topics):\n",
    "#     lsi = df_lsi[(df_lsi[\"n_topic\"] == n_topics) & (df_lsi[\"user_id\"] == user_id)][\"lsi\"][0]\n",
    "#     dictionary = df_lsi[(df_lsi[\"n_topic\"] == n_topics) & (df_lsi[\"user_id\"] == user_id)][\"dictionary\"][0]\n",
    "#     user_bids = reviews[reviews['user_id']==user_id]['business_id'].values\n",
    "#     processed_user = processed.loc[processed.business_id.isin(user_bids)]\n",
    "#     documents = list(processed_user['text'].values)\n",
    "#     texts = [[word for word in document.split(' ')] for document in documents]\n",
    "#     corpus = [dictionary.doc2bow(text) for text in texts] \n",
    "    \n",
    "#     doc = processed['text'].loc[processed.business_id==business_id].values[0]\n",
    "#     vec_bow = dictionary.doc2bow(doc.lower().split())\n",
    "#     vec_lsi = lsi[vec_bow]\n",
    "#     index = similarities.MatrixSimilarity(lsi[corpus])\n",
    "#     sims = list(index[vec_lsi])\n",
    "#     results = list(zip(user_bids, sims))\n",
    "#     results_ordered = np.array(sorted(results, key=lambda x: x[1], reverse=True))\n",
    "#     results_topk = results_ordered[:k]\n",
    "    \n",
    "#     return results_topk[:,0]\n",
    "\n",
    "# def get_results_lsi(processed,reviews,reviews_test, df_lsi ,business_id,user_id,k,n_topics):\n",
    "#     actual = reviews_test.loc[(reviews_test.user_id==user_id) & (reviews_test.business_id==business_id)]['stars'].values[0]\n",
    "#     business_ids = get_recommendation_lsi(processed,reviews,df_lsi ,business_id,user_id,k,n_topics)\n",
    "#     prediction = predict_rating(reviews, user_id, business_ids)\n",
    "    \n",
    "#     return actual, prediction"
   ]
  },
  {
   "cell_type": "code",
   "execution_count": 18,
   "metadata": {},
   "outputs": [],
   "source": [
    "def get_recommendation_lsi(processed,reviews,business_id,user_id,k,n_topics):\n",
    "    user_bids = reviews[reviews['user_id']==user_id]['business_id'].values\n",
    "    processed_user = processed.loc[processed.business_id.isin(user_bids)]\n",
    "    documents = list(processed_user['text'].values)\n",
    "    texts = [[word for word in document.split(' ')] for document in documents]\n",
    "    dictionary = corpora.Dictionary(texts)\n",
    "    corpus = [dictionary.doc2bow(text) for text in texts] \n",
    "\n",
    "    lsi = models.LsiModel(corpus, id2word=dictionary, num_topics=n_topics)\n",
    "    doc = processed['text'].loc[processed.business_id==business_id].values[0]\n",
    "    vec_bow = dictionary.doc2bow(doc.lower().split())\n",
    "    vec_lsi = lsi[vec_bow]\n",
    "    index = similarities.MatrixSimilarity(lsi[corpus])\n",
    "    sims = list(index[vec_lsi])\n",
    "    results = list(zip(user_bids, sims))\n",
    "    results_ordered = np.array(sorted(results, key=lambda x: x[1], reverse=True))\n",
    "    results_topk = results_ordered[:k]\n",
    "    \n",
    "    return results_topk[:,0]\n",
    "\n",
    "def get_results_lsi(processed,reviews,reviews_test ,business_id,user_id,k,n_topics):\n",
    "    actual = reviews_test.loc[(reviews_test.user_id==user_id) & (reviews_test.business_id==business_id)]['stars'].values[0]\n",
    "    business_ids = get_recommendation_lsi(processed,reviews,business_id,user_id,k,n_topics)\n",
    "    prediction = predict_rating(reviews, user_id, business_ids)\n",
    "    return actual, prediction\n",
    "\n",
    "def CB_LSI_predict(df_texts_train, reviews, reviews_test, k = 5, n_topics = 100):\n",
    "    uid_sample = reviews_test['user_id'].values\n",
    "    bid_sample = reviews_test['business_id'].values\n",
    "    actual_lsi = []\n",
    "    predictions_lsi = []\n",
    "    for i in range(len(reviews_test)):\n",
    "        try:\n",
    "            act, pred = get_results_lsi(df_texts_train, reviews, reviews_test, bid_sample[i],uid_sample[i], k, n_topics)\n",
    "            predictions_lsi.append(pred)\n",
    "            actual_lsi.append(act)\n",
    "\n",
    "        except:\n",
    "            predictions_lsi.append(np.nan)\n",
    "            actual_lsi.append(np.nan)\n",
    "            \n",
    "    return pd.DataFrame({\"user_id\": uid_sample,\n",
    "                         \"business_id\": bid_sample,\n",
    "                         \"ratings\": actual_lsi,\n",
    "                         \"pred_lsi\":  predictions_lsi                       \n",
    "                        })"
   ]
  },
  {
   "cell_type": "code",
   "execution_count": 19,
   "metadata": {},
   "outputs": [],
   "source": []
  },
  {
   "cell_type": "code",
   "execution_count": null,
   "metadata": {},
   "outputs": [],
   "source": [
    "t0 = time.time()\n",
    "df_pred_results_lsi = pd.DataFrame(columns= [\"ks\",\"n_topics\",\"sample_size\", \"rmse\", \"mae\"])\n",
    "# sample_sizes = [100]\n",
    "ks = [20,40,50]\n",
    "n_topics = [20,50,80,100,120]\n",
    "\n",
    "# for sample_size in sample_sizes:\n",
    "for k in ks:\n",
    "    for n_topic in n_topics:\n",
    "        test = CB_LSI_predict(df_texts_train,train_df, test_df, k = k, n_topics = n_topic)\n",
    "        rmse = mean_squared_error(test.dropna().pred_lsi, test.dropna().ratings)**0.5\n",
    "        mae = mean_absolute_error(test.dropna().pred_lsi, test.dropna().ratings)\n",
    "        df_pred_results_lsi = df_pred_results_lsi.append({\"ks\": k, \"n_topics\": n_topic,\"sample_size\": len(test_df),\n",
    "                                \"rmse\": rmse, \"mae\": mae}, ignore_index = True)\n",
    "t1=  time.time()\n",
    "print(\"time elapsed: (seconds)\")\n",
    "print(np.round(t1- t0,3))"
   ]
  },
  {
   "cell_type": "code",
   "execution_count": 172,
   "metadata": {},
   "outputs": [
    {
     "ename": "NameError",
     "evalue": "name 'df_pred_results_lsi' is not defined",
     "output_type": "error",
     "traceback": [
      "\u001b[0;31m---------------------------------------------------------------------------\u001b[0m",
      "\u001b[0;31mNameError\u001b[0m                                 Traceback (most recent call last)",
      "\u001b[0;32m<ipython-input-172-c0a99cd9663e>\u001b[0m in \u001b[0;36m<module>\u001b[0;34m\u001b[0m\n\u001b[0;32m----> 1\u001b[0;31m \u001b[0mdf_pred_results_lsi\u001b[0m\u001b[0;34m\u001b[0m\u001b[0;34m\u001b[0m\u001b[0m\n\u001b[0m",
      "\u001b[0;31mNameError\u001b[0m: name 'df_pred_results_lsi' is not defined"
     ]
    }
   ],
   "source": [
    "df_pred_results_lsi"
   ]
  },
  {
   "cell_type": "code",
   "execution_count": null,
   "metadata": {},
   "outputs": [],
   "source": [
    "df_pred_results_lsi[df_pred_results_lsi[\"n_topics\"] == 120].plot(\"ks\", \"rmse\")"
   ]
  },
  {
   "cell_type": "code",
   "execution_count": null,
   "metadata": {},
   "outputs": [],
   "source": [
    "df_pred_results_lsi[df_pred_results_lsi[\"ks\"] == 40].plot(\"n_topics\", \"rmse\")"
   ]
  },
  {
   "cell_type": "code",
   "execution_count": null,
   "metadata": {},
   "outputs": [],
   "source": [
    "mean_squared_error(test.dropna().pred_lsi, test.dropna().ratings)**0.5"
   ]
  },
  {
   "cell_type": "code",
   "execution_count": null,
   "metadata": {},
   "outputs": [],
   "source": [
    "df_pred_results_lsi"
   ]
  },
  {
   "cell_type": "code",
   "execution_count": null,
   "metadata": {},
   "outputs": [],
   "source": [
    "%timeit get_results_lsi(df_texts_train, train_df, test_df, bid_sample[0], uid_sample[0], 30,10)"
   ]
  },
  {
   "cell_type": "code",
   "execution_count": null,
   "metadata": {},
   "outputs": [],
   "source": [
    "# experiement\n",
    "uid_sample = test_df['user_id'].values\n",
    "bid_sample = test_df['business_id'].values\n",
    "act, pred = get_results_lsi(df_texts_train, train_df, \n",
    "                                test_df, \n",
    "                                bid_sample[0], \n",
    "                                uid_sample[0], \n",
    "                                30,\n",
    "                                20)"
   ]
  },
  {
   "cell_type": "code",
   "execution_count": null,
   "metadata": {},
   "outputs": [],
   "source": [
    "act, pred"
   ]
  },
  {
   "cell_type": "code",
   "execution_count": null,
   "metadata": {},
   "outputs": [],
   "source": []
  },
  {
   "cell_type": "code",
   "execution_count": null,
   "metadata": {},
   "outputs": [],
   "source": []
  },
  {
   "cell_type": "markdown",
   "metadata": {},
   "source": [
    "# Content-Based Filtering (Cosine Similarity)"
   ]
  },
  {
   "cell_type": "markdown",
   "metadata": {},
   "source": [
    "### This model leverages business non-reviews features to generate the similarity matrix"
   ]
  },
  {
   "cell_type": "markdown",
   "metadata": {},
   "source": [
    "### Data Cleaning "
   ]
  },
  {
   "cell_type": "code",
   "execution_count": 20,
   "metadata": {},
   "outputs": [],
   "source": [
    "busi = pd.read_csv('../data/business_data_subset.csv')"
   ]
  },
  {
   "cell_type": "code",
   "execution_count": 21,
   "metadata": {},
   "outputs": [
    {
     "data": {
      "text/html": [
       "<div>\n",
       "<style scoped>\n",
       "    .dataframe tbody tr th:only-of-type {\n",
       "        vertical-align: middle;\n",
       "    }\n",
       "\n",
       "    .dataframe tbody tr th {\n",
       "        vertical-align: top;\n",
       "    }\n",
       "\n",
       "    .dataframe thead th {\n",
       "        text-align: right;\n",
       "    }\n",
       "</style>\n",
       "<table border=\"1\" class=\"dataframe\">\n",
       "  <thead>\n",
       "    <tr style=\"text-align: right;\">\n",
       "      <th></th>\n",
       "      <th>business_id</th>\n",
       "      <th>business_name</th>\n",
       "      <th>address</th>\n",
       "      <th>city</th>\n",
       "      <th>state</th>\n",
       "      <th>postal_code</th>\n",
       "      <th>latitude</th>\n",
       "      <th>longitude</th>\n",
       "      <th>stars</th>\n",
       "      <th>review_count</th>\n",
       "      <th>is_open</th>\n",
       "      <th>attributes</th>\n",
       "      <th>categories</th>\n",
       "      <th>hours</th>\n",
       "    </tr>\n",
       "  </thead>\n",
       "  <tbody>\n",
       "    <tr>\n",
       "      <th>0</th>\n",
       "      <td>CsLQLiRoafpJPJSkNX2h5Q</td>\n",
       "      <td>Middle East Deli</td>\n",
       "      <td>4508 E Independence Blvd</td>\n",
       "      <td>Charlotte</td>\n",
       "      <td>NC</td>\n",
       "      <td>28205</td>\n",
       "      <td>35.194894</td>\n",
       "      <td>-80.767442</td>\n",
       "      <td>3.0</td>\n",
       "      <td>5</td>\n",
       "      <td>0</td>\n",
       "      <td>{'RestaurantsGoodForGroups': 'True', 'OutdoorS...</td>\n",
       "      <td>Food, Restaurants, Grocery, Middle Eastern</td>\n",
       "      <td>NaN</td>\n",
       "    </tr>\n",
       "  </tbody>\n",
       "</table>\n",
       "</div>"
      ],
      "text/plain": [
       "              business_id     business_name                   address  \\\n",
       "0  CsLQLiRoafpJPJSkNX2h5Q  Middle East Deli  4508 E Independence Blvd   \n",
       "\n",
       "        city state postal_code   latitude  longitude  stars  review_count  \\\n",
       "0  Charlotte    NC       28205  35.194894 -80.767442    3.0             5   \n",
       "\n",
       "   is_open                                         attributes  \\\n",
       "0        0  {'RestaurantsGoodForGroups': 'True', 'OutdoorS...   \n",
       "\n",
       "                                   categories hours  \n",
       "0  Food, Restaurants, Grocery, Middle Eastern   NaN  "
      ]
     },
     "execution_count": 21,
     "metadata": {},
     "output_type": "execute_result"
    }
   ],
   "source": [
    "busi.head(1)"
   ]
  },
  {
   "cell_type": "markdown",
   "metadata": {},
   "source": [
    "### Change dict attribute to dummy variables"
   ]
  },
  {
   "cell_type": "code",
   "execution_count": 22,
   "metadata": {},
   "outputs": [],
   "source": [
    "def convert_dict_into_dummy(data,feature):\n",
    "    \"\"\"\n",
    "    First change feature values from str to dict, then create variables according to dict keys.\n",
    "    return: dataframe with dict keys as columns\n",
    "    \"\"\"\n",
    "    col_index = data.columns.get_loc(feature)\n",
    "    get_dict = pd.Series(data.iloc[:,col_index].replace(np.nan,\"None\")).apply(eval)\n",
    "    dummy_df = get_dict.replace(\"None\",np.nan).replace(\"nan\",np.nan).apply(pd.Series)\n",
    "    return dummy_df"
   ]
  },
  {
   "cell_type": "code",
   "execution_count": 23,
   "metadata": {},
   "outputs": [
    {
     "data": {
      "text/html": [
       "<div>\n",
       "<style scoped>\n",
       "    .dataframe tbody tr th:only-of-type {\n",
       "        vertical-align: middle;\n",
       "    }\n",
       "\n",
       "    .dataframe tbody tr th {\n",
       "        vertical-align: top;\n",
       "    }\n",
       "\n",
       "    .dataframe thead th {\n",
       "        text-align: right;\n",
       "    }\n",
       "</style>\n",
       "<table border=\"1\" class=\"dataframe\">\n",
       "  <thead>\n",
       "    <tr style=\"text-align: right;\">\n",
       "      <th></th>\n",
       "      <th>RestaurantsGoodForGroups</th>\n",
       "      <th>OutdoorSeating</th>\n",
       "      <th>BusinessAcceptsCreditCards</th>\n",
       "      <th>RestaurantsTakeOut</th>\n",
       "      <th>GoodForKids</th>\n",
       "      <th>BusinessParking</th>\n",
       "      <th>RestaurantsPriceRange2</th>\n",
       "      <th>RestaurantsReservations</th>\n",
       "      <th>RestaurantsAttire</th>\n",
       "      <th>BikeParking</th>\n",
       "      <th>...</th>\n",
       "      <th>BYOBCorkage</th>\n",
       "      <th>CoatCheck</th>\n",
       "      <th>Corkage</th>\n",
       "      <th>BYOB</th>\n",
       "      <th>AgesAllowed</th>\n",
       "      <th>RestaurantsCounterService</th>\n",
       "      <th>DietaryRestrictions</th>\n",
       "      <th>Open24Hours</th>\n",
       "      <th>AcceptsInsurance</th>\n",
       "      <th>HairSpecializesIn</th>\n",
       "    </tr>\n",
       "  </thead>\n",
       "  <tbody>\n",
       "    <tr>\n",
       "      <th>0</th>\n",
       "      <td>True</td>\n",
       "      <td>False</td>\n",
       "      <td>True</td>\n",
       "      <td>True</td>\n",
       "      <td>True</td>\n",
       "      <td>{'garage': False, 'street': False, 'validated'...</td>\n",
       "      <td>1</td>\n",
       "      <td>False</td>\n",
       "      <td>u'casual'</td>\n",
       "      <td>NaN</td>\n",
       "      <td>...</td>\n",
       "      <td>NaN</td>\n",
       "      <td>NaN</td>\n",
       "      <td>NaN</td>\n",
       "      <td>NaN</td>\n",
       "      <td>NaN</td>\n",
       "      <td>NaN</td>\n",
       "      <td>NaN</td>\n",
       "      <td>NaN</td>\n",
       "      <td>NaN</td>\n",
       "      <td>NaN</td>\n",
       "    </tr>\n",
       "  </tbody>\n",
       "</table>\n",
       "<p>1 rows × 39 columns</p>\n",
       "</div>"
      ],
      "text/plain": [
       "  RestaurantsGoodForGroups OutdoorSeating BusinessAcceptsCreditCards  \\\n",
       "0                     True          False                       True   \n",
       "\n",
       "  RestaurantsTakeOut GoodForKids  \\\n",
       "0               True        True   \n",
       "\n",
       "                                     BusinessParking RestaurantsPriceRange2  \\\n",
       "0  {'garage': False, 'street': False, 'validated'...                      1   \n",
       "\n",
       "  RestaurantsReservations RestaurantsAttire BikeParking  ... BYOBCorkage  \\\n",
       "0                   False         u'casual'         NaN  ...         NaN   \n",
       "\n",
       "  CoatCheck Corkage BYOB AgesAllowed RestaurantsCounterService  \\\n",
       "0       NaN     NaN  NaN         NaN                       NaN   \n",
       "\n",
       "  DietaryRestrictions Open24Hours AcceptsInsurance HairSpecializesIn  \n",
       "0                 NaN         NaN              NaN               NaN  \n",
       "\n",
       "[1 rows x 39 columns]"
      ]
     },
     "execution_count": 23,
     "metadata": {},
     "output_type": "execute_result"
    }
   ],
   "source": [
    "attr = convert_dict_into_dummy(busi,\"attributes\")\n",
    "attr.head(1)"
   ]
  },
  {
   "cell_type": "code",
   "execution_count": 24,
   "metadata": {},
   "outputs": [
    {
     "data": {
      "text/html": [
       "<div>\n",
       "<style scoped>\n",
       "    .dataframe tbody tr th:only-of-type {\n",
       "        vertical-align: middle;\n",
       "    }\n",
       "\n",
       "    .dataframe tbody tr th {\n",
       "        vertical-align: top;\n",
       "    }\n",
       "\n",
       "    .dataframe thead th {\n",
       "        text-align: right;\n",
       "    }\n",
       "</style>\n",
       "<table border=\"1\" class=\"dataframe\">\n",
       "  <thead>\n",
       "    <tr style=\"text-align: right;\">\n",
       "      <th></th>\n",
       "      <th>romantic</th>\n",
       "      <th>intimate</th>\n",
       "      <th>touristy</th>\n",
       "      <th>hipster</th>\n",
       "      <th>divey</th>\n",
       "      <th>classy</th>\n",
       "      <th>trendy</th>\n",
       "      <th>upscale</th>\n",
       "      <th>casual</th>\n",
       "    </tr>\n",
       "  </thead>\n",
       "  <tbody>\n",
       "    <tr>\n",
       "      <th>0</th>\n",
       "      <td>NaN</td>\n",
       "      <td>NaN</td>\n",
       "      <td>NaN</td>\n",
       "      <td>NaN</td>\n",
       "      <td>NaN</td>\n",
       "      <td>NaN</td>\n",
       "      <td>NaN</td>\n",
       "      <td>NaN</td>\n",
       "      <td>NaN</td>\n",
       "    </tr>\n",
       "  </tbody>\n",
       "</table>\n",
       "</div>"
      ],
      "text/plain": [
       "  romantic intimate touristy hipster divey classy trendy upscale casual\n",
       "0      NaN      NaN      NaN     NaN   NaN    NaN    NaN     NaN    NaN"
      ]
     },
     "execution_count": 24,
     "metadata": {},
     "output_type": "execute_result"
    }
   ],
   "source": [
    "ambience = convert_dict_into_dummy(attr,\"Ambience\")\n",
    "ambience.head(1)"
   ]
  },
  {
   "cell_type": "code",
   "execution_count": 25,
   "metadata": {},
   "outputs": [],
   "source": [
    "# change column name\n",
    "ambience.columns = [\"Ambience_\"+i for i in ambience.columns.tolist()]\n",
    "# concat\n",
    "attr = pd.concat([attr.drop(['Ambience'],1),ambience],axis=1)"
   ]
  },
  {
   "cell_type": "markdown",
   "metadata": {},
   "source": [
    "### Good for Meal; late nights"
   ]
  },
  {
   "cell_type": "code",
   "execution_count": 26,
   "metadata": {},
   "outputs": [
    {
     "data": {
      "text/html": [
       "<div>\n",
       "<style scoped>\n",
       "    .dataframe tbody tr th:only-of-type {\n",
       "        vertical-align: middle;\n",
       "    }\n",
       "\n",
       "    .dataframe tbody tr th {\n",
       "        vertical-align: top;\n",
       "    }\n",
       "\n",
       "    .dataframe thead th {\n",
       "        text-align: right;\n",
       "    }\n",
       "</style>\n",
       "<table border=\"1\" class=\"dataframe\">\n",
       "  <thead>\n",
       "    <tr style=\"text-align: right;\">\n",
       "      <th></th>\n",
       "      <th>dessert</th>\n",
       "      <th>latenight</th>\n",
       "      <th>lunch</th>\n",
       "      <th>dinner</th>\n",
       "      <th>brunch</th>\n",
       "      <th>breakfast</th>\n",
       "    </tr>\n",
       "  </thead>\n",
       "  <tbody>\n",
       "    <tr>\n",
       "      <th>0</th>\n",
       "      <td>NaN</td>\n",
       "      <td>NaN</td>\n",
       "      <td>NaN</td>\n",
       "      <td>NaN</td>\n",
       "      <td>NaN</td>\n",
       "      <td>NaN</td>\n",
       "    </tr>\n",
       "    <tr>\n",
       "      <th>1</th>\n",
       "      <td>NaN</td>\n",
       "      <td>NaN</td>\n",
       "      <td>NaN</td>\n",
       "      <td>NaN</td>\n",
       "      <td>NaN</td>\n",
       "      <td>NaN</td>\n",
       "    </tr>\n",
       "    <tr>\n",
       "      <th>2</th>\n",
       "      <td>NaN</td>\n",
       "      <td>NaN</td>\n",
       "      <td>NaN</td>\n",
       "      <td>NaN</td>\n",
       "      <td>NaN</td>\n",
       "      <td>NaN</td>\n",
       "    </tr>\n",
       "    <tr>\n",
       "      <th>3</th>\n",
       "      <td>NaN</td>\n",
       "      <td>NaN</td>\n",
       "      <td>NaN</td>\n",
       "      <td>NaN</td>\n",
       "      <td>NaN</td>\n",
       "      <td>NaN</td>\n",
       "    </tr>\n",
       "    <tr>\n",
       "      <th>4</th>\n",
       "      <td>NaN</td>\n",
       "      <td>NaN</td>\n",
       "      <td>NaN</td>\n",
       "      <td>NaN</td>\n",
       "      <td>NaN</td>\n",
       "      <td>NaN</td>\n",
       "    </tr>\n",
       "  </tbody>\n",
       "</table>\n",
       "</div>"
      ],
      "text/plain": [
       "  dessert latenight lunch dinner brunch breakfast\n",
       "0     NaN       NaN   NaN    NaN    NaN       NaN\n",
       "1     NaN       NaN   NaN    NaN    NaN       NaN\n",
       "2     NaN       NaN   NaN    NaN    NaN       NaN\n",
       "3     NaN       NaN   NaN    NaN    NaN       NaN\n",
       "4     NaN       NaN   NaN    NaN    NaN       NaN"
      ]
     },
     "execution_count": 26,
     "metadata": {},
     "output_type": "execute_result"
    }
   ],
   "source": [
    "goodformeal = convert_dict_into_dummy(attr,\"GoodForMeal\")\n",
    "goodformeal.head(5)"
   ]
  },
  {
   "cell_type": "markdown",
   "metadata": {},
   "source": [
    "### Change dict into boolean variable"
   ]
  },
  {
   "cell_type": "code",
   "execution_count": 27,
   "metadata": {},
   "outputs": [],
   "source": [
    "def convert_dict_into_boolean(data,feature,new_name):\n",
    "    \"\"\"\n",
    "    For some features that have many nan, but still have several values,\n",
    "    convert it into boolean.\n",
    "    \"\"\"\n",
    "    col_index = data.columns.get_loc(feature)\n",
    "    data[new_name] = False\n",
    "    for i in range(len(data)):\n",
    "        if pd.isna(data.iloc[i,col_index]):\n",
    "            continue\n",
    "        elif \"True\" in  data.iloc[i,col_index]:\n",
    "            data.loc[i,new_name] = True\n",
    "    \n",
    "    return data"
   ]
  },
  {
   "cell_type": "code",
   "execution_count": 28,
   "metadata": {},
   "outputs": [],
   "source": [
    "attr = convert_dict_into_boolean(attr,\"BusinessParking\",\"Parking\")\n",
    "attr = attr.drop(\"BusinessParking\",axis=1)\n",
    "\n",
    "attr = convert_dict_into_boolean(attr,\"Music\",\"music\")\n",
    "attr = attr.drop(\"Music\",axis=1)"
   ]
  },
  {
   "cell_type": "markdown",
   "metadata": {},
   "source": [
    "### hours"
   ]
  },
  {
   "cell_type": "code",
   "execution_count": 29,
   "metadata": {},
   "outputs": [
    {
     "data": {
      "text/html": [
       "<div>\n",
       "<style scoped>\n",
       "    .dataframe tbody tr th:only-of-type {\n",
       "        vertical-align: middle;\n",
       "    }\n",
       "\n",
       "    .dataframe tbody tr th {\n",
       "        vertical-align: top;\n",
       "    }\n",
       "\n",
       "    .dataframe thead th {\n",
       "        text-align: right;\n",
       "    }\n",
       "</style>\n",
       "<table border=\"1\" class=\"dataframe\">\n",
       "  <thead>\n",
       "    <tr style=\"text-align: right;\">\n",
       "      <th></th>\n",
       "      <th>Monday</th>\n",
       "      <th>Tuesday</th>\n",
       "      <th>Wednesday</th>\n",
       "      <th>Thursday</th>\n",
       "      <th>Friday</th>\n",
       "      <th>Saturday</th>\n",
       "      <th>Sunday</th>\n",
       "    </tr>\n",
       "  </thead>\n",
       "  <tbody>\n",
       "    <tr>\n",
       "      <th>0</th>\n",
       "      <td>False</td>\n",
       "      <td>False</td>\n",
       "      <td>False</td>\n",
       "      <td>False</td>\n",
       "      <td>False</td>\n",
       "      <td>False</td>\n",
       "      <td>False</td>\n",
       "    </tr>\n",
       "    <tr>\n",
       "      <th>1</th>\n",
       "      <td>True</td>\n",
       "      <td>True</td>\n",
       "      <td>True</td>\n",
       "      <td>True</td>\n",
       "      <td>True</td>\n",
       "      <td>True</td>\n",
       "      <td>True</td>\n",
       "    </tr>\n",
       "    <tr>\n",
       "      <th>2</th>\n",
       "      <td>False</td>\n",
       "      <td>False</td>\n",
       "      <td>False</td>\n",
       "      <td>False</td>\n",
       "      <td>False</td>\n",
       "      <td>False</td>\n",
       "      <td>False</td>\n",
       "    </tr>\n",
       "    <tr>\n",
       "      <th>3</th>\n",
       "      <td>False</td>\n",
       "      <td>False</td>\n",
       "      <td>False</td>\n",
       "      <td>False</td>\n",
       "      <td>False</td>\n",
       "      <td>False</td>\n",
       "      <td>False</td>\n",
       "    </tr>\n",
       "    <tr>\n",
       "      <th>4</th>\n",
       "      <td>True</td>\n",
       "      <td>True</td>\n",
       "      <td>True</td>\n",
       "      <td>True</td>\n",
       "      <td>True</td>\n",
       "      <td>True</td>\n",
       "      <td>True</td>\n",
       "    </tr>\n",
       "  </tbody>\n",
       "</table>\n",
       "</div>"
      ],
      "text/plain": [
       "   Monday  Tuesday  Wednesday  Thursday  Friday  Saturday  Sunday\n",
       "0   False    False      False     False   False     False   False\n",
       "1    True     True       True      True    True      True    True\n",
       "2   False    False      False     False   False     False   False\n",
       "3   False    False      False     False   False     False   False\n",
       "4    True     True       True      True    True      True    True"
      ]
     },
     "execution_count": 29,
     "metadata": {},
     "output_type": "execute_result"
    }
   ],
   "source": [
    "hours = convert_dict_into_dummy(busi,\"hours\")\n",
    "hours.notnull().head()"
   ]
  },
  {
   "cell_type": "markdown",
   "metadata": {},
   "source": [
    "### Finally, concatenate to form final business features"
   ]
  },
  {
   "cell_type": "code",
   "execution_count": 30,
   "metadata": {},
   "outputs": [
    {
     "data": {
      "text/html": [
       "<div>\n",
       "<style scoped>\n",
       "    .dataframe tbody tr th:only-of-type {\n",
       "        vertical-align: middle;\n",
       "    }\n",
       "\n",
       "    .dataframe tbody tr th {\n",
       "        vertical-align: top;\n",
       "    }\n",
       "\n",
       "    .dataframe thead th {\n",
       "        text-align: right;\n",
       "    }\n",
       "</style>\n",
       "<table border=\"1\" class=\"dataframe\">\n",
       "  <thead>\n",
       "    <tr style=\"text-align: right;\">\n",
       "      <th></th>\n",
       "      <th>business_id</th>\n",
       "      <th>business_name</th>\n",
       "      <th>address</th>\n",
       "      <th>city</th>\n",
       "      <th>state</th>\n",
       "      <th>postal_code</th>\n",
       "      <th>latitude</th>\n",
       "      <th>longitude</th>\n",
       "      <th>stars</th>\n",
       "      <th>review_count</th>\n",
       "      <th>...</th>\n",
       "      <th>Ambience_casual</th>\n",
       "      <th>Parking</th>\n",
       "      <th>music</th>\n",
       "      <th>Monday</th>\n",
       "      <th>Tuesday</th>\n",
       "      <th>Wednesday</th>\n",
       "      <th>Thursday</th>\n",
       "      <th>Friday</th>\n",
       "      <th>Saturday</th>\n",
       "      <th>Sunday</th>\n",
       "    </tr>\n",
       "  </thead>\n",
       "  <tbody>\n",
       "    <tr>\n",
       "      <th>0</th>\n",
       "      <td>CsLQLiRoafpJPJSkNX2h5Q</td>\n",
       "      <td>Middle East Deli</td>\n",
       "      <td>4508 E Independence Blvd</td>\n",
       "      <td>Charlotte</td>\n",
       "      <td>NC</td>\n",
       "      <td>28205</td>\n",
       "      <td>35.194894</td>\n",
       "      <td>-80.767442</td>\n",
       "      <td>3.0</td>\n",
       "      <td>5</td>\n",
       "      <td>...</td>\n",
       "      <td>NaN</td>\n",
       "      <td>False</td>\n",
       "      <td>False</td>\n",
       "      <td>False</td>\n",
       "      <td>False</td>\n",
       "      <td>False</td>\n",
       "      <td>False</td>\n",
       "      <td>False</td>\n",
       "      <td>False</td>\n",
       "      <td>False</td>\n",
       "    </tr>\n",
       "  </tbody>\n",
       "</table>\n",
       "<p>1 rows × 66 columns</p>\n",
       "</div>"
      ],
      "text/plain": [
       "              business_id     business_name                   address  \\\n",
       "0  CsLQLiRoafpJPJSkNX2h5Q  Middle East Deli  4508 E Independence Blvd   \n",
       "\n",
       "        city state postal_code   latitude  longitude  stars  review_count  \\\n",
       "0  Charlotte    NC       28205  35.194894 -80.767442    3.0             5   \n",
       "\n",
       "   ...  Ambience_casual Parking  music Monday Tuesday Wednesday Thursday  \\\n",
       "0  ...              NaN   False  False  False   False     False    False   \n",
       "\n",
       "  Friday Saturday Sunday  \n",
       "0  False    False  False  \n",
       "\n",
       "[1 rows x 66 columns]"
      ]
     },
     "execution_count": 30,
     "metadata": {},
     "output_type": "execute_result"
    }
   ],
   "source": [
    "bus_df = pd.concat([busi.drop(['attributes','hours'],1),attr,hours.notnull()],axis=1)\n",
    "bus_df.head(1)"
   ]
  },
  {
   "cell_type": "markdown",
   "metadata": {},
   "source": [
    "### Data cleaning"
   ]
  },
  {
   "cell_type": "code",
   "execution_count": 31,
   "metadata": {},
   "outputs": [],
   "source": [
    "def delete_u(data,feature):\n",
    "    col_index = data.columns.get_loc(feature)\n",
    "    values = data.iloc[:,col_index].value_counts().index\n",
    "#     print(values)\n",
    "    for i in values:\n",
    "        if i == \"None\":\n",
    "            data.iloc[:,col_index].replace(\"None\",np.nan,inplace=True)\n",
    "        else:\n",
    "            data.iloc[:,col_index].replace(i,i.split(\"'\")[1],inplace=True)\n",
    "            # for Alcohol\n",
    "            data.iloc[:,col_index].replace(\"none\",np.nan,inplace=True)\n",
    "    return data                         "
   ]
  },
  {
   "cell_type": "code",
   "execution_count": 32,
   "metadata": {},
   "outputs": [],
   "source": [
    "for feature in [\"RestaurantsAttire\",\"Alcohol\",\"NoiseLevel\",\"Smoking\",\"WiFi\"]:\n",
    "#     print(feature)\n",
    "    bus_df = delete_u(bus_df,feature)"
   ]
  },
  {
   "cell_type": "code",
   "execution_count": 33,
   "metadata": {},
   "outputs": [
    {
     "data": {
      "text/html": [
       "<div>\n",
       "<style scoped>\n",
       "    .dataframe tbody tr th:only-of-type {\n",
       "        vertical-align: middle;\n",
       "    }\n",
       "\n",
       "    .dataframe tbody tr th {\n",
       "        vertical-align: top;\n",
       "    }\n",
       "\n",
       "    .dataframe thead th {\n",
       "        text-align: right;\n",
       "    }\n",
       "</style>\n",
       "<table border=\"1\" class=\"dataframe\">\n",
       "  <thead>\n",
       "    <tr style=\"text-align: right;\">\n",
       "      <th></th>\n",
       "      <th>business_id</th>\n",
       "      <th>business_name</th>\n",
       "      <th>address</th>\n",
       "      <th>city</th>\n",
       "      <th>state</th>\n",
       "      <th>postal_code</th>\n",
       "      <th>latitude</th>\n",
       "      <th>longitude</th>\n",
       "      <th>stars</th>\n",
       "      <th>review_count</th>\n",
       "      <th>...</th>\n",
       "      <th>Ambience_casual</th>\n",
       "      <th>Parking</th>\n",
       "      <th>music</th>\n",
       "      <th>Monday</th>\n",
       "      <th>Tuesday</th>\n",
       "      <th>Wednesday</th>\n",
       "      <th>Thursday</th>\n",
       "      <th>Friday</th>\n",
       "      <th>Saturday</th>\n",
       "      <th>Sunday</th>\n",
       "    </tr>\n",
       "  </thead>\n",
       "  <tbody>\n",
       "    <tr>\n",
       "      <th>0</th>\n",
       "      <td>CsLQLiRoafpJPJSkNX2h5Q</td>\n",
       "      <td>Middle East Deli</td>\n",
       "      <td>4508 E Independence Blvd</td>\n",
       "      <td>Charlotte</td>\n",
       "      <td>NC</td>\n",
       "      <td>28205</td>\n",
       "      <td>35.194894</td>\n",
       "      <td>-80.767442</td>\n",
       "      <td>3.0</td>\n",
       "      <td>5</td>\n",
       "      <td>...</td>\n",
       "      <td>NaN</td>\n",
       "      <td>False</td>\n",
       "      <td>False</td>\n",
       "      <td>False</td>\n",
       "      <td>False</td>\n",
       "      <td>False</td>\n",
       "      <td>False</td>\n",
       "      <td>False</td>\n",
       "      <td>False</td>\n",
       "      <td>False</td>\n",
       "    </tr>\n",
       "  </tbody>\n",
       "</table>\n",
       "<p>1 rows × 66 columns</p>\n",
       "</div>"
      ],
      "text/plain": [
       "              business_id     business_name                   address  \\\n",
       "0  CsLQLiRoafpJPJSkNX2h5Q  Middle East Deli  4508 E Independence Blvd   \n",
       "\n",
       "        city state postal_code   latitude  longitude  stars  review_count  \\\n",
       "0  Charlotte    NC       28205  35.194894 -80.767442    3.0             5   \n",
       "\n",
       "   ...  Ambience_casual Parking  music Monday Tuesday Wednesday Thursday  \\\n",
       "0  ...              NaN   False  False  False   False     False    False   \n",
       "\n",
       "  Friday Saturday Sunday  \n",
       "0  False    False  False  \n",
       "\n",
       "[1 rows x 66 columns]"
      ]
     },
     "execution_count": 33,
     "metadata": {},
     "output_type": "execute_result"
    }
   ],
   "source": [
    "bus_df.head(1)"
   ]
  },
  {
   "cell_type": "code",
   "execution_count": 34,
   "metadata": {},
   "outputs": [
    {
     "data": {
      "text/plain": [
       "casual    18700\n",
       "dressy      647\n",
       "formal       32\n",
       "Name: RestaurantsAttire, dtype: int64"
      ]
     },
     "execution_count": 34,
     "metadata": {},
     "output_type": "execute_result"
    }
   ],
   "source": [
    "bus_df[\"RestaurantsAttire\"].value_counts()"
   ]
  },
  {
   "cell_type": "markdown",
   "metadata": {},
   "source": [
    "### Drop non-related columns"
   ]
  },
  {
   "cell_type": "code",
   "execution_count": 35,
   "metadata": {},
   "outputs": [],
   "source": [
    "bus_df = bus_df.drop([\"DietaryRestrictions\", \"BYOB\", \"GoodForMeal\", \"AgesAllowed\",\"Open24Hours\",\"AcceptsInsurance\",\n",
    "                      \"HairSpecializesIn\",\"BYOBCorkage\"],axis=1)"
   ]
  },
  {
   "cell_type": "code",
   "execution_count": 36,
   "metadata": {},
   "outputs": [],
   "source": [
    "bus_df = bus_df.replace('True',True)\n",
    "bus_df = bus_df.replace('False',False)\n",
    "bus_df = bus_df.replace('None', np.nan)\n",
    "bus_df = bus_df.replace('nan', np.nan)"
   ]
  },
  {
   "cell_type": "code",
   "execution_count": 37,
   "metadata": {},
   "outputs": [
    {
     "data": {
      "text/plain": [
       "(24401, 58)"
      ]
     },
     "execution_count": 37,
     "metadata": {},
     "output_type": "execute_result"
    }
   ],
   "source": [
    "bus_df.shape"
   ]
  },
  {
   "cell_type": "code",
   "execution_count": 38,
   "metadata": {},
   "outputs": [
    {
     "data": {
      "text/plain": [
       "(1728, 58)"
      ]
     },
     "execution_count": 38,
     "metadata": {},
     "output_type": "execute_result"
    }
   ],
   "source": [
    "bus_df_subset = bus_df[bus_df.business_id.isin(rev_busi_Pho[\"business_id\"].unique())]\n",
    "bus_df_subset.shape"
   ]
  },
  {
   "cell_type": "code",
   "execution_count": 39,
   "metadata": {},
   "outputs": [
    {
     "data": {
      "text/html": [
       "<div>\n",
       "<style scoped>\n",
       "    .dataframe tbody tr th:only-of-type {\n",
       "        vertical-align: middle;\n",
       "    }\n",
       "\n",
       "    .dataframe tbody tr th {\n",
       "        vertical-align: top;\n",
       "    }\n",
       "\n",
       "    .dataframe thead th {\n",
       "        text-align: right;\n",
       "    }\n",
       "</style>\n",
       "<table border=\"1\" class=\"dataframe\">\n",
       "  <thead>\n",
       "    <tr style=\"text-align: right;\">\n",
       "      <th></th>\n",
       "      <th>business_id</th>\n",
       "      <th>business_name</th>\n",
       "      <th>address</th>\n",
       "      <th>city</th>\n",
       "      <th>state</th>\n",
       "      <th>postal_code</th>\n",
       "      <th>latitude</th>\n",
       "      <th>longitude</th>\n",
       "      <th>stars</th>\n",
       "      <th>review_count</th>\n",
       "      <th>...</th>\n",
       "      <th>Ambience_casual</th>\n",
       "      <th>Parking</th>\n",
       "      <th>music</th>\n",
       "      <th>Monday</th>\n",
       "      <th>Tuesday</th>\n",
       "      <th>Wednesday</th>\n",
       "      <th>Thursday</th>\n",
       "      <th>Friday</th>\n",
       "      <th>Saturday</th>\n",
       "      <th>Sunday</th>\n",
       "    </tr>\n",
       "  </thead>\n",
       "  <tbody>\n",
       "    <tr>\n",
       "      <th>53</th>\n",
       "      <td>lpQziF9QCVZQRkxac1xzcw</td>\n",
       "      <td>Bonus Round</td>\n",
       "      <td>24 W Camelback Rd, Ste DE</td>\n",
       "      <td>Phoenix</td>\n",
       "      <td>AZ</td>\n",
       "      <td>85013</td>\n",
       "      <td>33.509785</td>\n",
       "      <td>-112.075741</td>\n",
       "      <td>4.0</td>\n",
       "      <td>123</td>\n",
       "      <td>...</td>\n",
       "      <td>True</td>\n",
       "      <td>True</td>\n",
       "      <td>False</td>\n",
       "      <td>True</td>\n",
       "      <td>True</td>\n",
       "      <td>True</td>\n",
       "      <td>True</td>\n",
       "      <td>True</td>\n",
       "      <td>True</td>\n",
       "      <td>True</td>\n",
       "    </tr>\n",
       "  </tbody>\n",
       "</table>\n",
       "<p>1 rows × 58 columns</p>\n",
       "</div>"
      ],
      "text/plain": [
       "               business_id business_name                    address     city  \\\n",
       "53  lpQziF9QCVZQRkxac1xzcw   Bonus Round  24 W Camelback Rd, Ste DE  Phoenix   \n",
       "\n",
       "   state postal_code   latitude   longitude  stars  review_count  ...  \\\n",
       "53    AZ       85013  33.509785 -112.075741    4.0           123  ...   \n",
       "\n",
       "    Ambience_casual Parking  music Monday Tuesday Wednesday Thursday Friday  \\\n",
       "53             True    True  False   True    True      True     True   True   \n",
       "\n",
       "   Saturday Sunday  \n",
       "53     True   True  \n",
       "\n",
       "[1 rows x 58 columns]"
      ]
     },
     "execution_count": 39,
     "metadata": {},
     "output_type": "execute_result"
    }
   ],
   "source": [
    "bus_df_subset.head(1)"
   ]
  },
  {
   "cell_type": "code",
   "execution_count": 40,
   "metadata": {},
   "outputs": [
    {
     "data": {
      "text/plain": [
       "Index(['RestaurantsGoodForGroups', 'OutdoorSeating',\n",
       "       'BusinessAcceptsCreditCards', 'RestaurantsTakeOut', 'GoodForKids',\n",
       "       'RestaurantsPriceRange2', 'RestaurantsReservations',\n",
       "       'RestaurantsAttire', 'BikeParking', 'Alcohol', 'RestaurantsDelivery',\n",
       "       'HasTV', 'WiFi', 'Caters', 'NoiseLevel', 'RestaurantsTableService',\n",
       "       'DriveThru', 'DogsAllowed', 'ByAppointmentOnly', 'WheelchairAccessible',\n",
       "       'HappyHour', 'BusinessAcceptsBitcoin', 'BestNights', 'GoodForDancing',\n",
       "       'Smoking', 'CoatCheck', 'Corkage', 'RestaurantsCounterService',\n",
       "       'Ambience_romantic', 'Ambience_intimate', 'Ambience_touristy',\n",
       "       'Ambience_hipster', 'Ambience_divey', 'Ambience_classy',\n",
       "       'Ambience_trendy', 'Ambience_upscale', 'Ambience_casual', 'Parking',\n",
       "       'music', 'Monday', 'Tuesday', 'Wednesday', 'Thursday', 'Friday',\n",
       "       'Saturday', 'Sunday'],\n",
       "      dtype='object')"
      ]
     },
     "execution_count": 40,
     "metadata": {},
     "output_type": "execute_result"
    }
   ],
   "source": [
    "features_ind = bus_df_subset.columns.get_loc(\"RestaurantsGoodForGroups\")\n",
    "features = bus_df_subset.columns[features_ind:]\n",
    "features\n",
    "bus_df_subset = bus_df_subset.set_index(\"business_id\").filter(features)"
   ]
  },
  {
   "cell_type": "code",
   "execution_count": 41,
   "metadata": {},
   "outputs": [
    {
     "data": {
      "text/html": [
       "<div>\n",
       "<style scoped>\n",
       "    .dataframe tbody tr th:only-of-type {\n",
       "        vertical-align: middle;\n",
       "    }\n",
       "\n",
       "    .dataframe tbody tr th {\n",
       "        vertical-align: top;\n",
       "    }\n",
       "\n",
       "    .dataframe thead th {\n",
       "        text-align: right;\n",
       "    }\n",
       "</style>\n",
       "<table border=\"1\" class=\"dataframe\">\n",
       "  <thead>\n",
       "    <tr style=\"text-align: right;\">\n",
       "      <th></th>\n",
       "      <th>RestaurantsGoodForGroups</th>\n",
       "      <th>OutdoorSeating</th>\n",
       "      <th>BusinessAcceptsCreditCards</th>\n",
       "      <th>RestaurantsTakeOut</th>\n",
       "      <th>GoodForKids</th>\n",
       "      <th>RestaurantsPriceRange2</th>\n",
       "      <th>RestaurantsReservations</th>\n",
       "      <th>RestaurantsAttire</th>\n",
       "      <th>BikeParking</th>\n",
       "      <th>Alcohol</th>\n",
       "      <th>...</th>\n",
       "      <th>Ambience_casual</th>\n",
       "      <th>Parking</th>\n",
       "      <th>music</th>\n",
       "      <th>Monday</th>\n",
       "      <th>Tuesday</th>\n",
       "      <th>Wednesday</th>\n",
       "      <th>Thursday</th>\n",
       "      <th>Friday</th>\n",
       "      <th>Saturday</th>\n",
       "      <th>Sunday</th>\n",
       "    </tr>\n",
       "    <tr>\n",
       "      <th>business_id</th>\n",
       "      <th></th>\n",
       "      <th></th>\n",
       "      <th></th>\n",
       "      <th></th>\n",
       "      <th></th>\n",
       "      <th></th>\n",
       "      <th></th>\n",
       "      <th></th>\n",
       "      <th></th>\n",
       "      <th></th>\n",
       "      <th></th>\n",
       "      <th></th>\n",
       "      <th></th>\n",
       "      <th></th>\n",
       "      <th></th>\n",
       "      <th></th>\n",
       "      <th></th>\n",
       "      <th></th>\n",
       "      <th></th>\n",
       "      <th></th>\n",
       "      <th></th>\n",
       "    </tr>\n",
       "  </thead>\n",
       "  <tbody>\n",
       "    <tr>\n",
       "      <th>lpQziF9QCVZQRkxac1xzcw</th>\n",
       "      <td>True</td>\n",
       "      <td>False</td>\n",
       "      <td>True</td>\n",
       "      <td>True</td>\n",
       "      <td>False</td>\n",
       "      <td>2</td>\n",
       "      <td>True</td>\n",
       "      <td>casual</td>\n",
       "      <td>True</td>\n",
       "      <td>full_bar</td>\n",
       "      <td>...</td>\n",
       "      <td>True</td>\n",
       "      <td>True</td>\n",
       "      <td>False</td>\n",
       "      <td>True</td>\n",
       "      <td>True</td>\n",
       "      <td>True</td>\n",
       "      <td>True</td>\n",
       "      <td>True</td>\n",
       "      <td>True</td>\n",
       "      <td>True</td>\n",
       "    </tr>\n",
       "  </tbody>\n",
       "</table>\n",
       "<p>1 rows × 46 columns</p>\n",
       "</div>"
      ],
      "text/plain": [
       "                       RestaurantsGoodForGroups OutdoorSeating  \\\n",
       "business_id                                                      \n",
       "lpQziF9QCVZQRkxac1xzcw                     True          False   \n",
       "\n",
       "                       BusinessAcceptsCreditCards RestaurantsTakeOut  \\\n",
       "business_id                                                            \n",
       "lpQziF9QCVZQRkxac1xzcw                       True               True   \n",
       "\n",
       "                       GoodForKids RestaurantsPriceRange2  \\\n",
       "business_id                                                 \n",
       "lpQziF9QCVZQRkxac1xzcw       False                      2   \n",
       "\n",
       "                       RestaurantsReservations RestaurantsAttire BikeParking  \\\n",
       "business_id                                                                    \n",
       "lpQziF9QCVZQRkxac1xzcw                    True            casual        True   \n",
       "\n",
       "                         Alcohol  ... Ambience_casual Parking  music Monday  \\\n",
       "business_id                       ...                                         \n",
       "lpQziF9QCVZQRkxac1xzcw  full_bar  ...            True    True  False   True   \n",
       "\n",
       "                       Tuesday Wednesday Thursday Friday Saturday Sunday  \n",
       "business_id                                                               \n",
       "lpQziF9QCVZQRkxac1xzcw    True      True     True   True     True   True  \n",
       "\n",
       "[1 rows x 46 columns]"
      ]
     },
     "execution_count": 41,
     "metadata": {},
     "output_type": "execute_result"
    }
   ],
   "source": [
    "bus_df_subset.head(1)\n"
   ]
  },
  {
   "cell_type": "markdown",
   "metadata": {},
   "source": [
    "\n",
    "### Impute Missing Values"
   ]
  },
  {
   "cell_type": "code",
   "execution_count": 42,
   "metadata": {},
   "outputs": [],
   "source": [
    "bus_df_subset = bus_df_subset.fillna(False)\n",
    "bus_df_subset = bus_df_subset * 1"
   ]
  },
  {
   "cell_type": "code",
   "execution_count": 43,
   "metadata": {},
   "outputs": [
    {
     "data": {
      "text/html": [
       "<div>\n",
       "<style scoped>\n",
       "    .dataframe tbody tr th:only-of-type {\n",
       "        vertical-align: middle;\n",
       "    }\n",
       "\n",
       "    .dataframe tbody tr th {\n",
       "        vertical-align: top;\n",
       "    }\n",
       "\n",
       "    .dataframe thead th {\n",
       "        text-align: right;\n",
       "    }\n",
       "</style>\n",
       "<table border=\"1\" class=\"dataframe\">\n",
       "  <thead>\n",
       "    <tr style=\"text-align: right;\">\n",
       "      <th></th>\n",
       "      <th>RestaurantsGoodForGroups</th>\n",
       "      <th>OutdoorSeating</th>\n",
       "      <th>BusinessAcceptsCreditCards</th>\n",
       "      <th>RestaurantsTakeOut</th>\n",
       "      <th>GoodForKids</th>\n",
       "      <th>RestaurantsPriceRange2</th>\n",
       "      <th>RestaurantsReservations</th>\n",
       "      <th>RestaurantsAttire</th>\n",
       "      <th>BikeParking</th>\n",
       "      <th>Alcohol</th>\n",
       "      <th>...</th>\n",
       "      <th>Ambience_casual</th>\n",
       "      <th>Parking</th>\n",
       "      <th>music</th>\n",
       "      <th>Monday</th>\n",
       "      <th>Tuesday</th>\n",
       "      <th>Wednesday</th>\n",
       "      <th>Thursday</th>\n",
       "      <th>Friday</th>\n",
       "      <th>Saturday</th>\n",
       "      <th>Sunday</th>\n",
       "    </tr>\n",
       "    <tr>\n",
       "      <th>business_id</th>\n",
       "      <th></th>\n",
       "      <th></th>\n",
       "      <th></th>\n",
       "      <th></th>\n",
       "      <th></th>\n",
       "      <th></th>\n",
       "      <th></th>\n",
       "      <th></th>\n",
       "      <th></th>\n",
       "      <th></th>\n",
       "      <th></th>\n",
       "      <th></th>\n",
       "      <th></th>\n",
       "      <th></th>\n",
       "      <th></th>\n",
       "      <th></th>\n",
       "      <th></th>\n",
       "      <th></th>\n",
       "      <th></th>\n",
       "      <th></th>\n",
       "      <th></th>\n",
       "    </tr>\n",
       "  </thead>\n",
       "  <tbody>\n",
       "    <tr>\n",
       "      <th>lpQziF9QCVZQRkxac1xzcw</th>\n",
       "      <td>1</td>\n",
       "      <td>0</td>\n",
       "      <td>1</td>\n",
       "      <td>1</td>\n",
       "      <td>0</td>\n",
       "      <td>2</td>\n",
       "      <td>1</td>\n",
       "      <td>casual</td>\n",
       "      <td>1</td>\n",
       "      <td>full_bar</td>\n",
       "      <td>...</td>\n",
       "      <td>1</td>\n",
       "      <td>1</td>\n",
       "      <td>0</td>\n",
       "      <td>1</td>\n",
       "      <td>1</td>\n",
       "      <td>1</td>\n",
       "      <td>1</td>\n",
       "      <td>1</td>\n",
       "      <td>1</td>\n",
       "      <td>1</td>\n",
       "    </tr>\n",
       "  </tbody>\n",
       "</table>\n",
       "<p>1 rows × 46 columns</p>\n",
       "</div>"
      ],
      "text/plain": [
       "                        RestaurantsGoodForGroups  OutdoorSeating  \\\n",
       "business_id                                                        \n",
       "lpQziF9QCVZQRkxac1xzcw                         1               0   \n",
       "\n",
       "                        BusinessAcceptsCreditCards  RestaurantsTakeOut  \\\n",
       "business_id                                                              \n",
       "lpQziF9QCVZQRkxac1xzcw                           1                   1   \n",
       "\n",
       "                        GoodForKids RestaurantsPriceRange2  \\\n",
       "business_id                                                  \n",
       "lpQziF9QCVZQRkxac1xzcw            0                      2   \n",
       "\n",
       "                        RestaurantsReservations RestaurantsAttire  \\\n",
       "business_id                                                         \n",
       "lpQziF9QCVZQRkxac1xzcw                        1            casual   \n",
       "\n",
       "                        BikeParking   Alcohol  ...  Ambience_casual  Parking  \\\n",
       "business_id                                    ...                             \n",
       "lpQziF9QCVZQRkxac1xzcw            1  full_bar  ...                1        1   \n",
       "\n",
       "                       music  Monday Tuesday  Wednesday  Thursday  Friday  \\\n",
       "business_id                                                                 \n",
       "lpQziF9QCVZQRkxac1xzcw     0       1       1          1         1       1   \n",
       "\n",
       "                        Saturday  Sunday  \n",
       "business_id                               \n",
       "lpQziF9QCVZQRkxac1xzcw         1       1  \n",
       "\n",
       "[1 rows x 46 columns]"
      ]
     },
     "execution_count": 43,
     "metadata": {},
     "output_type": "execute_result"
    }
   ],
   "source": [
    "bus_df_subset.head(1)"
   ]
  },
  {
   "cell_type": "code",
   "execution_count": 44,
   "metadata": {},
   "outputs": [],
   "source": [
    "feature_dtypes = []\n",
    "for i in features:\n",
    "#     print(i)\n",
    "    type_to_convert = type(bus_df_subset[i].iloc[0])\n",
    "#     print(type_to_convert)\n",
    "    bus_df_subset[i] = bus_df_subset[i].astype(type_to_convert)"
   ]
  },
  {
   "cell_type": "code",
   "execution_count": 45,
   "metadata": {},
   "outputs": [],
   "source": [
    "## Drop columns that remain objects\n",
    "col_index = bus_df_subset.columns[bus_df_subset.dtypes != \"object\"]\n",
    "bus_df_subset = bus_df_subset[col_index]"
   ]
  },
  {
   "cell_type": "code",
   "execution_count": 46,
   "metadata": {},
   "outputs": [],
   "source": [
    "bus_df_subset = busi[[\"business_id\",\"latitude\", \"longitude\", \"stars\", \"review_count\", \"is_open\"]].set_index(\"business_id\").merge(\\\n",
    "                      bus_df_subset,  left_index = True, right_index = True )                                                                                                       \n"
   ]
  },
  {
   "cell_type": "markdown",
   "metadata": {},
   "source": [
    "### Standardize non-boolean variables"
   ]
  },
  {
   "cell_type": "code",
   "execution_count": 52,
   "metadata": {},
   "outputs": [],
   "source": [
    "scaler = StandardScaler()\n",
    "vars_to_scale = [\"latitude\", \"longitude\", \"stars\",\"review_count\"]\n",
    "bus_df_subset[vars_to_scale] = scaler.fit_transform(bus_df_subset[vars_to_scale])\n",
    "# bus_df_subset.to_csv(\"../data/business_subset_cleaned.csv\")\n"
   ]
  },
  {
   "cell_type": "code",
   "execution_count": 28,
   "metadata": {},
   "outputs": [
    {
     "data": {
      "text/html": [
       "<div>\n",
       "<style scoped>\n",
       "    .dataframe tbody tr th:only-of-type {\n",
       "        vertical-align: middle;\n",
       "    }\n",
       "\n",
       "    .dataframe tbody tr th {\n",
       "        vertical-align: top;\n",
       "    }\n",
       "\n",
       "    .dataframe thead th {\n",
       "        text-align: right;\n",
       "    }\n",
       "</style>\n",
       "<table border=\"1\" class=\"dataframe\">\n",
       "  <thead>\n",
       "    <tr style=\"text-align: right;\">\n",
       "      <th></th>\n",
       "      <th>latitude</th>\n",
       "      <th>longitude</th>\n",
       "      <th>stars</th>\n",
       "      <th>review_count</th>\n",
       "      <th>is_open</th>\n",
       "      <th>RestaurantsGoodForGroups</th>\n",
       "      <th>OutdoorSeating</th>\n",
       "      <th>BusinessAcceptsCreditCards</th>\n",
       "      <th>RestaurantsTakeOut</th>\n",
       "      <th>GoodForKids</th>\n",
       "      <th>...</th>\n",
       "      <th>Ambience_casual</th>\n",
       "      <th>Parking</th>\n",
       "      <th>music</th>\n",
       "      <th>Monday</th>\n",
       "      <th>Tuesday</th>\n",
       "      <th>Wednesday</th>\n",
       "      <th>Thursday</th>\n",
       "      <th>Friday</th>\n",
       "      <th>Saturday</th>\n",
       "      <th>Sunday</th>\n",
       "    </tr>\n",
       "    <tr>\n",
       "      <th>business_id</th>\n",
       "      <th></th>\n",
       "      <th></th>\n",
       "      <th></th>\n",
       "      <th></th>\n",
       "      <th></th>\n",
       "      <th></th>\n",
       "      <th></th>\n",
       "      <th></th>\n",
       "      <th></th>\n",
       "      <th></th>\n",
       "      <th></th>\n",
       "      <th></th>\n",
       "      <th></th>\n",
       "      <th></th>\n",
       "      <th></th>\n",
       "      <th></th>\n",
       "      <th></th>\n",
       "      <th></th>\n",
       "      <th></th>\n",
       "      <th></th>\n",
       "      <th></th>\n",
       "    </tr>\n",
       "  </thead>\n",
       "  <tbody>\n",
       "    <tr>\n",
       "      <th>lpQziF9QCVZQRkxac1xzcw</th>\n",
       "      <td>-0.155783</td>\n",
       "      <td>-0.475781</td>\n",
       "      <td>0.426501</td>\n",
       "      <td>-0.446236</td>\n",
       "      <td>1</td>\n",
       "      <td>1</td>\n",
       "      <td>0</td>\n",
       "      <td>1</td>\n",
       "      <td>1</td>\n",
       "      <td>0</td>\n",
       "      <td>...</td>\n",
       "      <td>1</td>\n",
       "      <td>1</td>\n",
       "      <td>0</td>\n",
       "      <td>1</td>\n",
       "      <td>1</td>\n",
       "      <td>1</td>\n",
       "      <td>1</td>\n",
       "      <td>1</td>\n",
       "      <td>1</td>\n",
       "      <td>1</td>\n",
       "    </tr>\n",
       "  </tbody>\n",
       "</table>\n",
       "<p>1 rows × 44 columns</p>\n",
       "</div>"
      ],
      "text/plain": [
       "                        latitude  longitude     stars  review_count  is_open  \\\n",
       "business_id                                                                    \n",
       "lpQziF9QCVZQRkxac1xzcw -0.155783  -0.475781  0.426501     -0.446236        1   \n",
       "\n",
       "                        RestaurantsGoodForGroups  OutdoorSeating  \\\n",
       "business_id                                                        \n",
       "lpQziF9QCVZQRkxac1xzcw                         1               0   \n",
       "\n",
       "                        BusinessAcceptsCreditCards  RestaurantsTakeOut  \\\n",
       "business_id                                                              \n",
       "lpQziF9QCVZQRkxac1xzcw                           1                   1   \n",
       "\n",
       "                        GoodForKids  ...  Ambience_casual  Parking  music  \\\n",
       "business_id                          ...                                    \n",
       "lpQziF9QCVZQRkxac1xzcw            0  ...                1        1      0   \n",
       "\n",
       "                        Monday  Tuesday  Wednesday  Thursday  Friday  \\\n",
       "business_id                                                            \n",
       "lpQziF9QCVZQRkxac1xzcw       1        1          1         1       1   \n",
       "\n",
       "                        Saturday  Sunday  \n",
       "business_id                               \n",
       "lpQziF9QCVZQRkxac1xzcw         1       1  \n",
       "\n",
       "[1 rows x 44 columns]"
      ]
     },
     "execution_count": 28,
     "metadata": {},
     "output_type": "execute_result"
    }
   ],
   "source": [
    "bus_df_subset = pd.read_csv(\"../data/business_subset_cleaned.csv\", index_col= \"business_id\")\n",
    "bus_df_subset.head(1)"
   ]
  },
  {
   "cell_type": "code",
   "execution_count": 103,
   "metadata": {},
   "outputs": [
    {
     "data": {
      "text/plain": [
       "44"
      ]
     },
     "execution_count": 103,
     "metadata": {},
     "output_type": "execute_result"
    }
   ],
   "source": [
    "len(bus_df_subset.columns)"
   ]
  },
  {
   "cell_type": "code",
   "execution_count": 13,
   "metadata": {},
   "outputs": [
    {
     "data": {
      "text/html": [
       "<div>\n",
       "<style scoped>\n",
       "    .dataframe tbody tr th:only-of-type {\n",
       "        vertical-align: middle;\n",
       "    }\n",
       "\n",
       "    .dataframe tbody tr th {\n",
       "        vertical-align: top;\n",
       "    }\n",
       "\n",
       "    .dataframe thead th {\n",
       "        text-align: right;\n",
       "    }\n",
       "</style>\n",
       "<table border=\"1\" class=\"dataframe\">\n",
       "  <thead>\n",
       "    <tr style=\"text-align: right;\">\n",
       "      <th></th>\n",
       "      <th>latitude</th>\n",
       "      <th>longitude</th>\n",
       "      <th>stars</th>\n",
       "      <th>review_count</th>\n",
       "      <th>is_open</th>\n",
       "      <th>RestaurantsGoodForGroups</th>\n",
       "      <th>OutdoorSeating</th>\n",
       "      <th>BusinessAcceptsCreditCards</th>\n",
       "      <th>RestaurantsTakeOut</th>\n",
       "      <th>GoodForKids</th>\n",
       "      <th>...</th>\n",
       "      <th>Ambience_casual</th>\n",
       "      <th>Parking</th>\n",
       "      <th>music</th>\n",
       "      <th>Monday</th>\n",
       "      <th>Tuesday</th>\n",
       "      <th>Wednesday</th>\n",
       "      <th>Thursday</th>\n",
       "      <th>Friday</th>\n",
       "      <th>Saturday</th>\n",
       "      <th>Sunday</th>\n",
       "    </tr>\n",
       "    <tr>\n",
       "      <th>business_id</th>\n",
       "      <th></th>\n",
       "      <th></th>\n",
       "      <th></th>\n",
       "      <th></th>\n",
       "      <th></th>\n",
       "      <th></th>\n",
       "      <th></th>\n",
       "      <th></th>\n",
       "      <th></th>\n",
       "      <th></th>\n",
       "      <th></th>\n",
       "      <th></th>\n",
       "      <th></th>\n",
       "      <th></th>\n",
       "      <th></th>\n",
       "      <th></th>\n",
       "      <th></th>\n",
       "      <th></th>\n",
       "      <th></th>\n",
       "      <th></th>\n",
       "      <th></th>\n",
       "    </tr>\n",
       "  </thead>\n",
       "  <tbody>\n",
       "    <tr>\n",
       "      <th>lpQziF9QCVZQRkxac1xzcw</th>\n",
       "      <td>-0.155783</td>\n",
       "      <td>-0.475781</td>\n",
       "      <td>0.426501</td>\n",
       "      <td>-0.446236</td>\n",
       "      <td>1</td>\n",
       "      <td>1</td>\n",
       "      <td>0</td>\n",
       "      <td>1</td>\n",
       "      <td>1</td>\n",
       "      <td>0</td>\n",
       "      <td>...</td>\n",
       "      <td>1</td>\n",
       "      <td>1</td>\n",
       "      <td>0</td>\n",
       "      <td>1</td>\n",
       "      <td>1</td>\n",
       "      <td>1</td>\n",
       "      <td>1</td>\n",
       "      <td>1</td>\n",
       "      <td>1</td>\n",
       "      <td>1</td>\n",
       "    </tr>\n",
       "  </tbody>\n",
       "</table>\n",
       "<p>1 rows × 44 columns</p>\n",
       "</div>"
      ],
      "text/plain": [
       "                        latitude  longitude     stars  review_count  is_open  \\\n",
       "business_id                                                                    \n",
       "lpQziF9QCVZQRkxac1xzcw -0.155783  -0.475781  0.426501     -0.446236        1   \n",
       "\n",
       "                        RestaurantsGoodForGroups  OutdoorSeating  \\\n",
       "business_id                                                        \n",
       "lpQziF9QCVZQRkxac1xzcw                         1               0   \n",
       "\n",
       "                        BusinessAcceptsCreditCards  RestaurantsTakeOut  \\\n",
       "business_id                                                              \n",
       "lpQziF9QCVZQRkxac1xzcw                           1                   1   \n",
       "\n",
       "                        GoodForKids  ...  Ambience_casual  Parking  music  \\\n",
       "business_id                          ...                                    \n",
       "lpQziF9QCVZQRkxac1xzcw            0  ...                1        1      0   \n",
       "\n",
       "                        Monday  Tuesday  Wednesday  Thursday  Friday  \\\n",
       "business_id                                                            \n",
       "lpQziF9QCVZQRkxac1xzcw       1        1          1         1       1   \n",
       "\n",
       "                        Saturday  Sunday  \n",
       "business_id                               \n",
       "lpQziF9QCVZQRkxac1xzcw         1       1  \n",
       "\n",
       "[1 rows x 44 columns]"
      ]
     },
     "execution_count": 13,
     "metadata": {},
     "output_type": "execute_result"
    },
    {
     "data": {
      "text/plain": [
       "(1728, 44)"
      ]
     },
     "execution_count": 13,
     "metadata": {},
     "output_type": "execute_result"
    }
   ],
   "source": [
    "bus_df_subset.head(1)\n",
    "bus_df_subset.shape"
   ]
  },
  {
   "cell_type": "markdown",
   "metadata": {},
   "source": [
    "## Content based Filtering (Euclidean similarity)"
   ]
  },
  {
   "cell_type": "markdown",
   "metadata": {},
   "source": [
    "### Calculate truncated SVD and use reduced data to calculate similarity"
   ]
  },
  {
   "cell_type": "code",
   "execution_count": 49,
   "metadata": {},
   "outputs": [
    {
     "data": {
      "text/plain": [
       "<BarContainer object of 44 artists>"
      ]
     },
     "execution_count": 49,
     "metadata": {},
     "output_type": "execute_result"
    },
    {
     "data": {
      "image/png": "[encoded data removed]",
      "text/plain": [
       "<Figure size 432x288 with 1 Axes>"
      ]
     },
     "metadata": {
      "needs_background": "light"
     },
     "output_type": "display_data"
    }
   ],
   "source": [
    "u, s, vt  = np.linalg.svd(bus_df_subset.iloc[:,:])\n",
    "plt.bar(range(len(s)),s)\n",
    "plt.show()\n"
   ]
  },
  {
   "cell_type": "code",
   "execution_count": 146,
   "metadata": {},
   "outputs": [
    {
     "data": {
      "text/plain": [
       "<BarContainer object of 44 artists>"
      ]
     },
     "execution_count": 146,
     "metadata": {},
     "output_type": "execute_result"
    },
    {
     "data": {
      "text/plain": [
       "[<matplotlib.lines.Line2D at 0x7ff82d4fb7d0>]"
      ]
     },
     "execution_count": 146,
     "metadata": {},
     "output_type": "execute_result"
    },
    {
     "data": {
      "text/plain": [
       "Text(0.5, 1.0, 'Singular values of restaurant features')"
      ]
     },
     "execution_count": 146,
     "metadata": {},
     "output_type": "execute_result"
    },
    {
     "data": {
      "text/plain": [
       "Text(0.5, 0, 'Dimension')"
      ]
     },
     "execution_count": 146,
     "metadata": {},
     "output_type": "execute_result"
    },
    {
     "data": {
      "text/plain": [
       "Text(0, 0.5, 'Singular values')"
      ]
     },
     "execution_count": 146,
     "metadata": {},
     "output_type": "execute_result"
    },
    {
     "data": {
      "text/plain": [
       "<matplotlib.legend.Legend at 0x7ff82d4658d0>"
      ]
     },
     "execution_count": 146,
     "metadata": {},
     "output_type": "execute_result"
    },
    {
     "data": {
      "image/png": "[encoded data removed]",
      "text/plain": [
       "<Figure size 432x288 with 1 Axes>"
      ]
     },
     "metadata": {
      "needs_background": "light"
     },
     "output_type": "display_data"
    }
   ],
   "source": [
    "u, s, vt  = np.linalg.svd(bus_df_subset.iloc[:,:])\n",
    "plt.bar(range(len(s)),s)\n",
    "plt.plot([10 for i in np.linspace(0,150,10)], np.linspace(0,150,10),\"r\", label = \"cut-off point\")\n",
    "plt.title(\"Singular values of restaurant features\")\n",
    "plt.xlabel(\"Dimension\")\n",
    "plt.ylabel(\"Singular values\")\n",
    "plt.legend(loc = \"best\")\n",
    "plt.show()"
   ]
  },
  {
   "cell_type": "code",
   "execution_count": 149,
   "metadata": {},
   "outputs": [
    {
     "data": {
      "text/plain": [
       "array([0.65611801, 0.72135899, 0.77086239, 0.81148973, 0.84739164,\n",
       "       0.86647742, 0.88110888, 0.89351775, 0.90494873, 0.91512764])"
      ]
     },
     "execution_count": 149,
     "metadata": {},
     "output_type": "execute_result"
    }
   ],
   "source": [
    "np.cumsum(s**2/np.sum(s**2))[:10]"
   ]
  },
  {
   "cell_type": "markdown",
   "metadata": {},
   "source": [
    "### Choose top 10 singular values based on the above chart"
   ]
  },
  {
   "cell_type": "code",
   "execution_count": 26,
   "metadata": {},
   "outputs": [],
   "source": [
    "def get_euclidean_sim(business, n_components):\n",
    "    \n",
    "    SVD = TruncatedSVD(n_components = n_components , random_state = 42) # 42 is the ultimate answer to everything\n",
    "    bus_truncated = SVD.fit_transform(business)\n",
    "    \n",
    "    eucl_dist = euclidean_distances(bus_truncated)\n",
    "    eucl_sim = 1/np.exp(eucl_dist)\n",
    "    return eucl_sim\n",
    "    \n",
    "    \n",
    "def get_buscosine_sim(business,n_components):\n",
    "    SVD = TruncatedSVD(n_components = n_components , random_state = 42) # 42 is the ultimate answer to everything\n",
    "    bus_truncated = SVD.fit_transform(business)\n",
    "    \n",
    "    cosine_sim = cosine_similarity(bus_truncated, bus_truncated)\n",
    "    return cosine_sim"
   ]
  },
  {
   "cell_type": "markdown",
   "metadata": {},
   "source": [
    "### * the two types of similarity measures yield materially different distributions, to be tested for which is better"
   ]
  },
  {
   "cell_type": "code",
   "execution_count": 29,
   "metadata": {},
   "outputs": [
    {
     "data": {
      "text/plain": [
       "(1728, 1728)"
      ]
     },
     "execution_count": 29,
     "metadata": {},
     "output_type": "execute_result"
    }
   ],
   "source": [
    "eucl_sim = get_euclidean_sim(bus_df_subset, 10)\n",
    "df_eucl_sim = pd.DataFrame(eucl_sim, index= bus_df_subset.index.values, columns=bus_df_subset.index.values)\n",
    "\n",
    "bus_cos_sim = get_buscosine_sim(bus_df_subset, 10)\n",
    "df_cos_sim  = pd.DataFrame(bus_cos_sim, index= bus_df_subset.index.values, columns=bus_df_subset.index.values)\n",
    "bus_cos_sim.shape"
   ]
  },
  {
   "cell_type": "markdown",
   "metadata": {},
   "source": [
    "### Tuning optimal values for k (neighbors), also test the two similarity measures"
   ]
  },
  {
   "cell_type": "code",
   "execution_count": 38,
   "metadata": {},
   "outputs": [
    {
     "name": "stdout",
     "output_type": "stream",
     "text": [
      "time elapsed: (seconds)\n",
      "4269.55\n"
     ]
    },
    {
     "data": {
      "text/plain": [
       "<matplotlib.axes._subplots.AxesSubplot at 0x7ff9457732d0>"
      ]
     },
     "execution_count": 38,
     "metadata": {},
     "output_type": "execute_result"
    },
    {
     "name": "stdout",
     "output_type": "stream",
     "text": [
      "optimal k (nearest neighbors):\n",
      "   ks similarity sample_size      rmse       mae\n",
      "1  15        cos       19500  1.336647  1.008416\n"
     ]
    },
    {
     "data": {
      "image/png": "[encoded data removed]",
      "text/plain": [
       "<Figure size 432x288 with 1 Axes>"
      ]
     },
     "metadata": {
      "needs_background": "light"
     },
     "output_type": "display_data"
    }
   ],
   "source": [
    "t0 = time.time()\n",
    "df_pred_results_bus = pd.DataFrame(columns= [\"ks\", \"similarity\", \"sample_size\", \"rmse\", \"mae\"])\n",
    "sample_sizes = [len(valid_df)]\n",
    "ks = [5,15,25, 35, 45, 55]\n",
    "similarity = [\"cos\" ]\n",
    "\n",
    "for sim in similarity:\n",
    "    if sim == \"eucl\":\n",
    "        df_bus_sim = df_eucl_sim.copy()\n",
    "    else:\n",
    "        df_bus_sim = df_cos_sim.copy()\n",
    "    \n",
    "    for sample_size in sample_sizes:\n",
    "        for k in ks:\n",
    "            valid = CB_NLP_predict(train_df, valid_df.sample(n = sample_size, random_state = 12), df_bus_sim, k)\n",
    "            rmse = mean_squared_error(valid.dropna().prediction_ratings, valid.dropna().true_ratings)**0.5\n",
    "            mae = mean_absolute_error(valid.dropna().prediction_ratings, valid.dropna().true_ratings)\n",
    "            df_pred_results_bus = df_pred_results_bus.append({\"ks\": k, \"similarity\": sim,  \"sample_size\": sample_size,\n",
    "                                                      \"rmse\": rmse, \"mae\": mae}, ignore_index = True)\n",
    "t1 = time.time()\n",
    "print(\"time elapsed: (seconds)\")\n",
    "print(np.round(t1 - t0,3))\n",
    "\n",
    "df_pred_results_bus[(df_pred_results_bus[\"sample_size\"] == sample_size) &(df_pred_results_bus[\"similarity\"] == \"cos\")].plot(\"ks\", \"rmse\")\n",
    "print(\"optimal k (nearest neighbors):\")\n",
    "print(df_pred_results_bus.loc[df_pred_results_bus[\"rmse\"] == np.min(df_pred_results_bus.rmse) ,])\n",
    "\n",
    "df_pred_results_bus.to_csv(\"Content_Based_Filtering_Bus_nonNLP_Evaluation.csv\",index = False)"
   ]
  },
  {
   "cell_type": "code",
   "execution_count": 160,
   "metadata": {},
   "outputs": [
    {
     "data": {
      "text/plain": [
       "<matplotlib.axes._subplots.AxesSubplot at 0x7ff7b557a0d0>"
      ]
     },
     "execution_count": 160,
     "metadata": {},
     "output_type": "execute_result"
    }
   ],
   "source": [
    "optimal"
   ]
  },
  {
   "cell_type": "code",
   "execution_count": 167,
   "metadata": {},
   "outputs": [
    {
     "data": {
      "text/plain": [
       "<Figure size 432x288 with 0 Axes>"
      ]
     },
     "execution_count": 167,
     "metadata": {},
     "output_type": "execute_result"
    },
    {
     "data": {
      "text/plain": [
       "[<matplotlib.lines.Line2D at 0x7ff7b5fbcbd0>]"
      ]
     },
     "execution_count": 167,
     "metadata": {},
     "output_type": "execute_result"
    },
    {
     "data": {
      "text/plain": [
       "[<matplotlib.lines.Line2D at 0x7ff7b60cb290>]"
      ]
     },
     "execution_count": 167,
     "metadata": {},
     "output_type": "execute_result"
    },
    {
     "data": {
      "text/plain": [
       "<matplotlib.legend.Legend at 0x7ff7b5f69e90>"
      ]
     },
     "execution_count": 167,
     "metadata": {},
     "output_type": "execute_result"
    },
    {
     "data": {
      "text/plain": [
       "Text(0.5, 0, 'k')"
      ]
     },
     "execution_count": 167,
     "metadata": {},
     "output_type": "execute_result"
    },
    {
     "data": {
      "text/plain": [
       "Text(0, 0.5, 'MSE')"
      ]
     },
     "execution_count": 167,
     "metadata": {},
     "output_type": "execute_result"
    },
    {
     "data": {
      "text/plain": [
       "Text(0.5, 1.0, 'Content Based Model (Tf-idf): k vs MSE')"
      ]
     },
     "execution_count": 167,
     "metadata": {},
     "output_type": "execute_result"
    },
    {
     "data": {
      "image/png": "[encoded data removed]",
      "text/plain": [
       "<Figure size 432x288 with 1 Axes>"
      ]
     },
     "metadata": {
      "needs_background": "light"
     },
     "output_type": "display_data"
    }
   ],
   "source": [
    "optimal = df_pred_results_bus.loc[df_pred_results_bus[\"rmse\"] == np.min(df_pred_results_bus.rmse),]\n",
    "plt.figure()\n",
    "plt.plot(df_pred_results_bus[\"ks\"], df_pred_results_bus[\"rmse\"]**2, label = \"MSE\")\n",
    "plt.plot(optimal[\"ks\"], optimal[\"rmse\"]**2, \"ro\", label = \"Optimal k: {}\".format(15))\n",
    "plt.legend()\n",
    "plt.xlabel(\"k\")\n",
    "plt.ylabel(\"MSE\")\n",
    "plt.title(\"Content Based Model (Tf-idf): k vs MSE\")"
   ]
  },
  {
   "cell_type": "code",
   "execution_count": 478,
   "metadata": {},
   "outputs": [
    {
     "data": {
      "text/plain": [
       "30000"
      ]
     },
     "execution_count": 478,
     "metadata": {},
     "output_type": "execute_result"
    }
   ],
   "source": [
    "## the optimal parameter is k = 15, sim = cos"
   ]
  },
  {
   "cell_type": "code",
   "execution_count": 41,
   "metadata": {},
   "outputs": [
    {
     "data": {
      "text/html": [
       "<div>\n",
       "<style scoped>\n",
       "    .dataframe tbody tr th:only-of-type {\n",
       "        vertical-align: middle;\n",
       "    }\n",
       "\n",
       "    .dataframe tbody tr th {\n",
       "        vertical-align: top;\n",
       "    }\n",
       "\n",
       "    .dataframe thead th {\n",
       "        text-align: right;\n",
       "    }\n",
       "</style>\n",
       "<table border=\"1\" class=\"dataframe\">\n",
       "  <thead>\n",
       "    <tr style=\"text-align: right;\">\n",
       "      <th></th>\n",
       "      <th>ks</th>\n",
       "      <th>similarity</th>\n",
       "      <th>sample_size</th>\n",
       "      <th>rmse</th>\n",
       "      <th>mae</th>\n",
       "    </tr>\n",
       "  </thead>\n",
       "  <tbody>\n",
       "    <tr>\n",
       "      <th>0</th>\n",
       "      <td>5</td>\n",
       "      <td>cos</td>\n",
       "      <td>19500</td>\n",
       "      <td>1.341487</td>\n",
       "      <td>1.005257</td>\n",
       "    </tr>\n",
       "    <tr>\n",
       "      <th>1</th>\n",
       "      <td>15</td>\n",
       "      <td>cos</td>\n",
       "      <td>19500</td>\n",
       "      <td>1.336647</td>\n",
       "      <td>1.008416</td>\n",
       "    </tr>\n",
       "    <tr>\n",
       "      <th>2</th>\n",
       "      <td>25</td>\n",
       "      <td>cos</td>\n",
       "      <td>19500</td>\n",
       "      <td>1.337193</td>\n",
       "      <td>1.008973</td>\n",
       "    </tr>\n",
       "    <tr>\n",
       "      <th>3</th>\n",
       "      <td>35</td>\n",
       "      <td>cos</td>\n",
       "      <td>19500</td>\n",
       "      <td>1.337476</td>\n",
       "      <td>1.009342</td>\n",
       "    </tr>\n",
       "    <tr>\n",
       "      <th>4</th>\n",
       "      <td>45</td>\n",
       "      <td>cos</td>\n",
       "      <td>19500</td>\n",
       "      <td>1.337827</td>\n",
       "      <td>1.009672</td>\n",
       "    </tr>\n",
       "    <tr>\n",
       "      <th>5</th>\n",
       "      <td>55</td>\n",
       "      <td>cos</td>\n",
       "      <td>19500</td>\n",
       "      <td>1.337920</td>\n",
       "      <td>1.009770</td>\n",
       "    </tr>\n",
       "  </tbody>\n",
       "</table>\n",
       "</div>"
      ],
      "text/plain": [
       "   ks similarity  sample_size      rmse       mae\n",
       "0   5        cos        19500  1.341487  1.005257\n",
       "1  15        cos        19500  1.336647  1.008416\n",
       "2  25        cos        19500  1.337193  1.008973\n",
       "3  35        cos        19500  1.337476  1.009342\n",
       "4  45        cos        19500  1.337827  1.009672\n",
       "5  55        cos        19500  1.337920  1.009770"
      ]
     },
     "execution_count": 41,
     "metadata": {},
     "output_type": "execute_result"
    }
   ],
   "source": [
    "df_pred_results_bus = pd.read_csv(\"Content_Based_Filtering_Bus_nonNLP_Evaluation.csv\")\n",
    "df_pred_results_bus"
   ]
  },
  {
   "cell_type": "markdown",
   "metadata": {},
   "source": [
    "# Mixture Model"
   ]
  },
  {
   "cell_type": "markdown",
   "metadata": {},
   "source": [
    "- Add additional similarity matrix on top of the cosine similarity matrix\n",
    "\n",
    "- Extracte additional information for the business dataset\n",
    "\n",
    "- Compute the similarity between different businesses based on the numerical variables available in the business dataset. For example, stars, review_count etc.\n",
    "\n",
    "- The new matrix is a linear combination of the cosine similarity matrix and the additional matrix, with both matrices multiplied by a factor $\\lambda$ and $1-\\lambda$\n",
    "\n",
    "- The next step would be finding out the optimal value of $\\lambda$, which is defaulted as 0.5"
   ]
  },
  {
   "cell_type": "code",
   "execution_count": 43,
   "metadata": {},
   "outputs": [],
   "source": [
    "def get_mix_sim_matrix(cosine_sim, bus_cos_sim, lmbda = 0.5, ):\n",
    "    mixed_sim = np.add(cosine_sim*lmbda, bus_cos_sim*(1-lmbda)) # assume equally weighted\n",
    "\n",
    "    return mixed_sim\n",
    "\n",
    "def get_mix_sim_df(df_tfidf_sim, df_bus_sim, lmbda = 0.5):\n",
    "    df_tfidf_pivot = pd.melt(df_tfidf_sim.reset_index(), id_vars = \"index\" , value_vars = df_tfidf_sim.columns.values)\n",
    "    df_bus_pivot = pd.melt(df_bus_sim.reset_index(), id_vars = \"index\" , value_vars = df_bus_sim.columns.values)\n",
    "    \n",
    "    df_merge = pd.merge(df_tfidf_pivot, df_bus_pivot, on = [\"index\", \"variable\"])\n",
    "    df_merge[\"value\"] = (lmbda) * df_merge[\"value_x\"] + (1-lmbda) * df_merge[\"value_y\"]\n",
    "    \n",
    "    df_mixed_sim = pd.pivot(df_merge, index=\"index\", columns=\"variable\", values =\"value\")\n",
    "    return df_mixed_sim"
   ]
  },
  {
   "cell_type": "code",
   "execution_count": 22,
   "metadata": {},
   "outputs": [
    {
     "data": {
      "text/plain": [
       "(1728, 1728)"
      ]
     },
     "execution_count": 22,
     "metadata": {},
     "output_type": "execute_result"
    }
   ],
   "source": [
    "# mixed_sim = get_mix_sim_matrix(cosine_sim,bus_cos_sim , 0.5)\n",
    "# mixed_sim.shape"
   ]
  },
  {
   "cell_type": "markdown",
   "metadata": {},
   "source": [
    "## Tuning $\\lambda$ "
   ]
  },
  {
   "cell_type": "code",
   "execution_count": 96,
   "metadata": {},
   "outputs": [
    {
     "name": "stdout",
     "output_type": "stream",
     "text": [
      "18\n",
      "22\n",
      "30\n",
      "37\n",
      "42\n",
      "time elapsed: (seconds)\n",
      "3659.714\n"
     ]
    }
   ],
   "source": [
    "t0 = time.time()\n",
    "df_pred_results_mixed = pd.DataFrame(columns= [\"ks\", \"lmbda\", \"sample_size\", \"rmse\", \"mae\"])\n",
    "sample_sizes = [len(valid_df)]\n",
    "lmbdas = [0.1, 0.25, 0.5, 0.75, 0.9]\n",
    "\n",
    "for lmbda in lmbdas:\n",
    "    df_mixed_sim = get_mix_sim_matrix(df_sim, df_cos_sim , lmbda)\n",
    "    k = np.int(lmbda * 45 + (1-lmbda) * 15)\n",
    "    print(k)\n",
    "    for sample_size in sample_sizes:         \n",
    "        valid = CB_NLP_predict(train_df, valid_df.sample(n = sample_size, random_state = 12), df_mixed_sim, k)\n",
    "        rmse = mean_squared_error(valid.dropna().prediction_ratings, valid.dropna().true_ratings)**0.5\n",
    "        mae = mean_absolute_error(valid.dropna().prediction_ratings, valid.dropna().true_ratings)\n",
    "        df_pred_results_mixed = df_pred_results_mixed.append({\"ks\": k, \"lmbda\": lmbda,  \"sample_size\": sample_size,\n",
    "                                                      \"rmse\": rmse, \"mae\": mae}, ignore_index = True)\n",
    "t1 = time.time()\n",
    "print(\"time elapsed: (seconds)\")\n",
    "print(np.round(t1 - t0,3))"
   ]
  },
  {
   "cell_type": "code",
   "execution_count": 101,
   "metadata": {},
   "outputs": [
    {
     "data": {
      "text/plain": [
       "<matplotlib.axes._subplots.AxesSubplot at 0x7ff93a095290>"
      ]
     },
     "execution_count": 101,
     "metadata": {},
     "output_type": "execute_result"
    },
    {
     "name": "stdout",
     "output_type": "stream",
     "text": [
      "     ks  lmbda  sample_size      rmse       mae\n",
      "3  37.0   0.75      19500.0  1.338139  1.010202\n"
     ]
    },
    {
     "data": {
      "text/html": [
       "<div>\n",
       "<style scoped>\n",
       "    .dataframe tbody tr th:only-of-type {\n",
       "        vertical-align: middle;\n",
       "    }\n",
       "\n",
       "    .dataframe tbody tr th {\n",
       "        vertical-align: top;\n",
       "    }\n",
       "\n",
       "    .dataframe thead th {\n",
       "        text-align: right;\n",
       "    }\n",
       "</style>\n",
       "<table border=\"1\" class=\"dataframe\">\n",
       "  <thead>\n",
       "    <tr style=\"text-align: right;\">\n",
       "      <th></th>\n",
       "      <th>ks</th>\n",
       "      <th>lmbda</th>\n",
       "      <th>sample_size</th>\n",
       "      <th>rmse</th>\n",
       "      <th>mae</th>\n",
       "    </tr>\n",
       "  </thead>\n",
       "  <tbody>\n",
       "    <tr>\n",
       "      <th>0</th>\n",
       "      <td>18.0</td>\n",
       "      <td>0.10</td>\n",
       "      <td>19500.0</td>\n",
       "      <td>1.339109</td>\n",
       "      <td>1.010907</td>\n",
       "    </tr>\n",
       "    <tr>\n",
       "      <th>1</th>\n",
       "      <td>22.0</td>\n",
       "      <td>0.25</td>\n",
       "      <td>19500.0</td>\n",
       "      <td>1.338506</td>\n",
       "      <td>1.010376</td>\n",
       "    </tr>\n",
       "    <tr>\n",
       "      <th>2</th>\n",
       "      <td>30.0</td>\n",
       "      <td>0.50</td>\n",
       "      <td>19500.0</td>\n",
       "      <td>1.338230</td>\n",
       "      <td>1.010252</td>\n",
       "    </tr>\n",
       "    <tr>\n",
       "      <th>3</th>\n",
       "      <td>37.0</td>\n",
       "      <td>0.75</td>\n",
       "      <td>19500.0</td>\n",
       "      <td>1.338139</td>\n",
       "      <td>1.010202</td>\n",
       "    </tr>\n",
       "    <tr>\n",
       "      <th>4</th>\n",
       "      <td>42.0</td>\n",
       "      <td>0.90</td>\n",
       "      <td>19500.0</td>\n",
       "      <td>1.338144</td>\n",
       "      <td>1.010132</td>\n",
       "    </tr>\n",
       "  </tbody>\n",
       "</table>\n",
       "</div>"
      ],
      "text/plain": [
       "     ks  lmbda  sample_size      rmse       mae\n",
       "0  18.0   0.10      19500.0  1.339109  1.010907\n",
       "1  22.0   0.25      19500.0  1.338506  1.010376\n",
       "2  30.0   0.50      19500.0  1.338230  1.010252\n",
       "3  37.0   0.75      19500.0  1.338139  1.010202\n",
       "4  42.0   0.90      19500.0  1.338144  1.010132"
      ]
     },
     "execution_count": 101,
     "metadata": {},
     "output_type": "execute_result"
    },
    {
     "data": {
      "image/png": "[encoded data removed]",
      "text/plain": [
       "<Figure size 432x288 with 1 Axes>"
      ]
     },
     "metadata": {
      "needs_background": "light"
     },
     "output_type": "display_data"
    }
   ],
   "source": [
    "df_pred_results_mixed[(df_pred_results_mixed[\"sample_size\"] == sample_size ) ].plot(\"lmbda\", \"rmse\")\n",
    "print(df_pred_results_mixed.loc[df_pred_results_mixed[\"rmse\"] == np.min(df_pred_results_mixed.rmse) ,])\n",
    "df_pred_results_mixed.to_csv(\"Content_Based_Filtering_Bus_Mixed_Evaluation.csv\",index = False)\n",
    "df_pred_results_mixed"
   ]
  },
  {
   "cell_type": "code",
   "execution_count": 27,
   "metadata": {
    "scrolled": false
   },
   "outputs": [],
   "source": []
  }
 ],
 "metadata": {
  "kernelspec": {
   "display_name": "Python 3",
   "language": "python",
   "name": "python3"
  },
  "language_info": {
   "codemirror_mode": {
    "name": "ipython",
    "version": 3
   },
   "file_extension": ".py",
   "mimetype": "text/x-python",
   "name": "python",
   "nbconvert_exporter": "python",
   "pygments_lexer": "ipython3",
   "version": "3.7.6"
  },
  "varInspector": {
   "cols": {
    "lenName": 16,
    "lenType": 16,
    "lenVar": 40
   },
   "kernels_config": {
    "python": {
     "delete_cmd_postfix": "",
     "delete_cmd_prefix": "del ",
     "library": "var_list.py",
     "varRefreshCmd": "print(var_dic_list())"
    },
    "r": {
     "delete_cmd_postfix": ") ",
     "delete_cmd_prefix": "rm(",
     "library": "var_list.r",
     "varRefreshCmd": "cat(var_dic_list()) "
    }
   },
   "types_to_exclude": [
    "module",
    "function",
    "builtin_function_or_method",
    "instance",
    "_Feature"
   ],
   "window_display": false
  }
 },
 "nbformat": 4,
 "nbformat_minor": 4
}
