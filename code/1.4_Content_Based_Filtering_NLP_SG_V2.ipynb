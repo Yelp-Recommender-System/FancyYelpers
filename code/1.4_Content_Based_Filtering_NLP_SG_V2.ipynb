{
 "cells": [
  {
   "cell_type": "code",
   "execution_count": 101,
   "metadata": {},
   "outputs": [],
   "source": [
    "import pandas as pd\n",
    "import numpy as np\n",
    "import matplotlib.pyplot as plt\n",
    "\n",
    "import os\n",
    "import re, string, unicodedata\n",
    "import nltk\n",
    "import contractions\n",
    "import inflect\n",
    "\n",
    "import lime\n",
    "from lime import lime_text\n",
    "from lime.lime_text import LimeTextExplainer\n",
    "\n",
    "import re\n",
    "\n",
    "from wordcloud import WordCloud, STOPWORDS\n",
    "\n",
    "import nltk\n",
    "# import contractions\n",
    "import inflect\n",
    "from nltk import word_tokenize, sent_tokenize\n",
    "from nltk.corpus import stopwords\n",
    "from nltk import SnowballStemmer\n",
    "from nltk.stem import LancasterStemmer, WordNetLemmatizer\n",
    "\n",
    "\n",
    "from sklearn import metrics\n",
    "from sklearn.model_selection import train_test_split\n",
    "# from keras.preprocessing.sequence import pad_sequences\n",
    "\n",
    "from sklearn.metrics import confusion_matrix, classification_report\n",
    "from sklearn.feature_extraction.text import TfidfVectorizer\n",
    "from sklearn.decomposition import TruncatedSVD\n",
    "from sklearn.metrics.pairwise import cosine_similarity\n",
    "from sklearn.metrics import mean_squared_error\n",
    "from sklearn.metrics import mean_absolute_error\n",
    "from sklearn.metrics.pairwise import euclidean_distances\n",
    "from sklearn.preprocessing import StandardScaler\n",
    "%matplotlib inline\n",
    "\n",
    "import scipy\n",
    "\n",
    "from gensim import corpora\n",
    "from gensim import corpora\n",
    "from gensim.similarities.docsim import Similarity\n",
    "from gensim import corpora, models, similarities\n",
    "\n",
    "import pickle\n",
    "import time"
   ]
  },
  {
   "cell_type": "markdown",
   "metadata": {},
   "source": [
    "## Read Train Split and Validation Data"
   ]
  },
  {
   "cell_type": "code",
   "execution_count": 14,
   "metadata": {},
   "outputs": [],
   "source": [
    "# sys_path = \"/Users/sigao/Yelp/yelp_dataset/\"\n",
    "## Reviews\n",
    "rev_busi_Pho= pd.read_csv('../data/filtered_reviews_in_Phonex.csv', parse_dates=[\"date\"])\n",
    "## Read training and test sets\n",
    "train_df  = pickle.load(open('../data/train_df.pkl', \"rb\"))\n",
    "# valid_df.to_pickle('../data/valid_df.pkl')\n",
    "test_df = pickle.load(open('../data/test_df.pkl', \"rb\"))"
   ]
  },
  {
   "cell_type": "code",
   "execution_count": 15,
   "metadata": {},
   "outputs": [
    {
     "data": {
      "text/html": [
       "<div>\n",
       "<style scoped>\n",
       "    .dataframe tbody tr th:only-of-type {\n",
       "        vertical-align: middle;\n",
       "    }\n",
       "\n",
       "    .dataframe tbody tr th {\n",
       "        vertical-align: top;\n",
       "    }\n",
       "\n",
       "    .dataframe thead th {\n",
       "        text-align: right;\n",
       "    }\n",
       "</style>\n",
       "<table border=\"1\" class=\"dataframe\">\n",
       "  <thead>\n",
       "    <tr style=\"text-align: right;\">\n",
       "      <th></th>\n",
       "      <th>Unnamed: 0</th>\n",
       "      <th>review_id</th>\n",
       "      <th>user_id</th>\n",
       "      <th>business_id</th>\n",
       "      <th>stars</th>\n",
       "      <th>date</th>\n",
       "      <th>text</th>\n",
       "      <th>business_name</th>\n",
       "      <th>city</th>\n",
       "      <th>state</th>\n",
       "      <th>categories</th>\n",
       "    </tr>\n",
       "  </thead>\n",
       "  <tbody>\n",
       "    <tr>\n",
       "      <td>0</td>\n",
       "      <td>1</td>\n",
       "      <td>aBWKb49Xfkv1946YN7_SIg</td>\n",
       "      <td>sSPbLBHcEMXaJfoO8zs1bA</td>\n",
       "      <td>poSV39UqEg-gpESXafS9-g</td>\n",
       "      <td>5.0</td>\n",
       "      <td>2016-01-17 05:33:14</td>\n",
       "      <td>Amazing food, drinks, service!\\n\\nWe started w...</td>\n",
       "      <td>Angry Crab Shack</td>\n",
       "      <td>Phoenix</td>\n",
       "      <td>AZ</td>\n",
       "      <td>Restaurants, American (New), Seafood, Cajun/Cr...</td>\n",
       "    </tr>\n",
       "  </tbody>\n",
       "</table>\n",
       "</div>"
      ],
      "text/plain": [
       "   Unnamed: 0               review_id                 user_id  \\\n",
       "0           1  aBWKb49Xfkv1946YN7_SIg  sSPbLBHcEMXaJfoO8zs1bA   \n",
       "\n",
       "              business_id  stars                date  \\\n",
       "0  poSV39UqEg-gpESXafS9-g    5.0 2016-01-17 05:33:14   \n",
       "\n",
       "                                                text     business_name  \\\n",
       "0  Amazing food, drinks, service!\\n\\nWe started w...  Angry Crab Shack   \n",
       "\n",
       "      city state                                         categories  \n",
       "0  Phoenix    AZ  Restaurants, American (New), Seafood, Cajun/Cr...  "
      ]
     },
     "execution_count": 15,
     "metadata": {},
     "output_type": "execute_result"
    }
   ],
   "source": [
    "rev_busi_Pho.head(1)"
   ]
  },
  {
   "cell_type": "code",
   "execution_count": 16,
   "metadata": {},
   "outputs": [
    {
     "name": "stdout",
     "output_type": "stream",
     "text": [
      "(217228, 5)\n",
      "(20433, 5)\n"
     ]
    }
   ],
   "source": [
    "## merge review data:\n",
    "train_df = train_df.merge(rev_busi_Pho[[\"review_id\", \"user_id\", \"business_id\", \"text\"]], how = \"left\", on = [\"user_id\", \"business_id\"])\n",
    "test_df  = test_df.merge(rev_busi_Pho[[\"review_id\", \"user_id\", \"business_id\", \"text\"]], how = \"left\", on = [\"user_id\", \"business_id\"])\n",
    "print(train_df.shape)\n",
    "print(test_df.shape)"
   ]
  },
  {
   "cell_type": "code",
   "execution_count": 6,
   "metadata": {},
   "outputs": [
    {
     "data": {
      "text/html": [
       "<div>\n",
       "<style scoped>\n",
       "    .dataframe tbody tr th:only-of-type {\n",
       "        vertical-align: middle;\n",
       "    }\n",
       "\n",
       "    .dataframe tbody tr th {\n",
       "        vertical-align: top;\n",
       "    }\n",
       "\n",
       "    .dataframe thead th {\n",
       "        text-align: right;\n",
       "    }\n",
       "</style>\n",
       "<table border=\"1\" class=\"dataframe\">\n",
       "  <thead>\n",
       "    <tr style=\"text-align: right;\">\n",
       "      <th></th>\n",
       "      <th>user_id</th>\n",
       "      <th>business_id</th>\n",
       "      <th>stars</th>\n",
       "      <th>review_id</th>\n",
       "      <th>text</th>\n",
       "    </tr>\n",
       "  </thead>\n",
       "  <tbody>\n",
       "    <tr>\n",
       "      <th>0</th>\n",
       "      <td>--2HUmLkcNHZp0xw6AMBPg</td>\n",
       "      <td>zidkKI_N1OPxsiddTOQH_Q</td>\n",
       "      <td>5.0</td>\n",
       "      <td>CqP0d_bAjPOjHtte5gTSvg</td>\n",
       "      <td>Good BBQ in the valley.  Nice selection of sau...</td>\n",
       "    </tr>\n",
       "  </tbody>\n",
       "</table>\n",
       "</div>"
      ],
      "text/plain": [
       "                  user_id             business_id  stars  \\\n",
       "0  --2HUmLkcNHZp0xw6AMBPg  zidkKI_N1OPxsiddTOQH_Q    5.0   \n",
       "\n",
       "                review_id                                               text  \n",
       "0  CqP0d_bAjPOjHtte5gTSvg  Good BBQ in the valley.  Nice selection of sau...  "
      ]
     },
     "execution_count": 6,
     "metadata": {},
     "output_type": "execute_result"
    }
   ],
   "source": [
    "train_df.head(1)"
   ]
  },
  {
   "cell_type": "code",
   "execution_count": 17,
   "metadata": {},
   "outputs": [
    {
     "name": "stdout",
     "output_type": "stream",
     "text": [
      "unique users in training set: 20472\n",
      "unique businesses in training set: 1781\n",
      "unique users in test set: 20433\n",
      "unique businesses in test set: 1101\n"
     ]
    }
   ],
   "source": [
    "print(\"unique users in training set:\", train_df[\"user_id\"].nunique() )\n",
    "print(\"unique businesses in training set:\", train_df[\"business_id\"].nunique() )\n",
    "print(\"unique users in test set:\", test_df[\"user_id\"].nunique() )\n",
    "print(\"unique businesses in test set:\", test_df[\"business_id\"].nunique())"
   ]
  },
  {
   "cell_type": "markdown",
   "metadata": {},
   "source": [
    "## Content-based Model, NLP"
   ]
  },
  {
   "cell_type": "markdown",
   "metadata": {},
   "source": [
    "### Collate texts for each business for training and test sets"
   ]
  },
  {
   "cell_type": "code",
   "execution_count": 18,
   "metadata": {},
   "outputs": [
    {
     "name": "stdout",
     "output_type": "stream",
     "text": [
      "1781\n"
     ]
    },
    {
     "data": {
      "text/html": [
       "<div>\n",
       "<style scoped>\n",
       "    .dataframe tbody tr th:only-of-type {\n",
       "        vertical-align: middle;\n",
       "    }\n",
       "\n",
       "    .dataframe tbody tr th {\n",
       "        vertical-align: top;\n",
       "    }\n",
       "\n",
       "    .dataframe thead th {\n",
       "        text-align: right;\n",
       "    }\n",
       "</style>\n",
       "<table border=\"1\" class=\"dataframe\">\n",
       "  <thead>\n",
       "    <tr style=\"text-align: right;\">\n",
       "      <th></th>\n",
       "      <th>business_id</th>\n",
       "      <th>text</th>\n",
       "    </tr>\n",
       "  </thead>\n",
       "  <tbody>\n",
       "    <tr>\n",
       "      <td>0</td>\n",
       "      <td>-050d_XIor1NpCuWkbIVaQ</td>\n",
       "      <td>Great Food. Great Coffee. Great Service. Amazi...</td>\n",
       "    </tr>\n",
       "    <tr>\n",
       "      <td>1</td>\n",
       "      <td>-0WegMt6Cy966qlDKhu6jA</td>\n",
       "      <td>I really enjoy a well placed sports bar...lite...</td>\n",
       "    </tr>\n",
       "    <tr>\n",
       "      <td>2</td>\n",
       "      <td>-0tgMGl7D9B10YjSN2ujLA</td>\n",
       "      <td>Neighborhood bar. Comfortable and reasonable i...</td>\n",
       "    </tr>\n",
       "    <tr>\n",
       "      <td>3</td>\n",
       "      <td>-1UMR00eXtwaeh59pEiDjA</td>\n",
       "      <td>Well I say they're doing a great job transform...</td>\n",
       "    </tr>\n",
       "    <tr>\n",
       "      <td>4</td>\n",
       "      <td>-45kMvS7h38CGaWugPY0rg</td>\n",
       "      <td>Roland's was developed by Chris Bianco from Pi...</td>\n",
       "    </tr>\n",
       "    <tr>\n",
       "      <td>...</td>\n",
       "      <td>...</td>\n",
       "      <td>...</td>\n",
       "    </tr>\n",
       "    <tr>\n",
       "      <td>1776</td>\n",
       "      <td>zc1sur_MxkKkD6P8gYXQbg</td>\n",
       "      <td>Food was good and the price was right. We almo...</td>\n",
       "    </tr>\n",
       "    <tr>\n",
       "      <td>1777</td>\n",
       "      <td>zidkKI_N1OPxsiddTOQH_Q</td>\n",
       "      <td>Good BBQ in the valley.  Nice selection of sau...</td>\n",
       "    </tr>\n",
       "    <tr>\n",
       "      <td>1778</td>\n",
       "      <td>znH36RmIAI4wcHy9WiEO5Q</td>\n",
       "      <td>I had a great experience at this relatively ne...</td>\n",
       "    </tr>\n",
       "    <tr>\n",
       "      <td>1779</td>\n",
       "      <td>zrTGcb83AsfyVTMrsCa65A</td>\n",
       "      <td>It's not bad. It's not great either. Came last...</td>\n",
       "    </tr>\n",
       "    <tr>\n",
       "      <td>1780</td>\n",
       "      <td>zwmps5SXn30g-f5wqg_r9A</td>\n",
       "      <td>Despite other reviews, I liked this place. It'...</td>\n",
       "    </tr>\n",
       "  </tbody>\n",
       "</table>\n",
       "<p>1781 rows × 2 columns</p>\n",
       "</div>"
      ],
      "text/plain": [
       "                 business_id  \\\n",
       "0     -050d_XIor1NpCuWkbIVaQ   \n",
       "1     -0WegMt6Cy966qlDKhu6jA   \n",
       "2     -0tgMGl7D9B10YjSN2ujLA   \n",
       "3     -1UMR00eXtwaeh59pEiDjA   \n",
       "4     -45kMvS7h38CGaWugPY0rg   \n",
       "...                      ...   \n",
       "1776  zc1sur_MxkKkD6P8gYXQbg   \n",
       "1777  zidkKI_N1OPxsiddTOQH_Q   \n",
       "1778  znH36RmIAI4wcHy9WiEO5Q   \n",
       "1779  zrTGcb83AsfyVTMrsCa65A   \n",
       "1780  zwmps5SXn30g-f5wqg_r9A   \n",
       "\n",
       "                                                   text  \n",
       "0     Great Food. Great Coffee. Great Service. Amazi...  \n",
       "1     I really enjoy a well placed sports bar...lite...  \n",
       "2     Neighborhood bar. Comfortable and reasonable i...  \n",
       "3     Well I say they're doing a great job transform...  \n",
       "4     Roland's was developed by Chris Bianco from Pi...  \n",
       "...                                                 ...  \n",
       "1776  Food was good and the price was right. We almo...  \n",
       "1777  Good BBQ in the valley.  Nice selection of sau...  \n",
       "1778  I had a great experience at this relatively ne...  \n",
       "1779  It's not bad. It's not great either. Came last...  \n",
       "1780  Despite other reviews, I liked this place. It'...  \n",
       "\n",
       "[1781 rows x 2 columns]"
      ]
     },
     "execution_count": 18,
     "metadata": {},
     "output_type": "execute_result"
    }
   ],
   "source": [
    "# reviews_subset[\"review_count2\"] = reviews_subset.groupby(\"business_id\")[\"review_id\"].transform(len)\n",
    "df_revtexts_train = train_df.groupby([\"business_id\"])[\"text\"].apply(lambda x: x.str.cat()).reset_index()\n",
    "print(len(df_revtexts_train))\n",
    "df_revtexts_train\n",
    "## test set :\n",
    "# df_revtexts_test = test_df.groupby([\"business_id\"])[\"text\"].apply(lambda x: x.str.cat()).reset_index()\n",
    "# print(len(df_revtexts_test))"
   ]
  },
  {
   "cell_type": "markdown",
   "metadata": {},
   "source": [
    "### Generate Wordcloud"
   ]
  },
  {
   "cell_type": "code",
   "execution_count": 13,
   "metadata": {},
   "outputs": [
    {
     "data": {
      "image/png": "[encoded data removed]",
      "text/plain": [
       "<Figure size 720x720 with 1 Axes>"
      ]
     },
     "metadata": {
      "needs_background": "light"
     },
     "output_type": "display_data"
    }
   ],
   "source": [
    "all_text = \"\"\n",
    "all_snippets = df_revtexts_train[\"text\"].values\n",
    "for snippet in all_snippets:\n",
    "    all_text += snippet\n",
    "wordcloud = WordCloud(stopwords=STOPWORDS,background_color='white',width=6000,height=6000).generate(all_text)\n",
    "plt.figure(figsize = (10,10))\n",
    "plt.imshow(wordcloud)\n",
    "plt.axis(\"off\")\n",
    "plt.show()"
   ]
  },
  {
   "cell_type": "markdown",
   "metadata": {},
   "source": [
    "## Test Prepocessing"
   ]
  },
  {
   "cell_type": "code",
   "execution_count": 19,
   "metadata": {},
   "outputs": [],
   "source": [
    "## Util functions\n",
    "def remove_punctuation(words):\n",
    "    \"\"\"Remove punctuation from list of tokenized words\"\"\"\n",
    "    new_words = []\n",
    "    for word in words:\n",
    "        new_word = re.sub(r'[^\\w\\s]', '', word)\n",
    "        if new_word != '':\n",
    "            new_words.append(new_word)\n",
    "    return new_words\n",
    "\n",
    "def remove_special(words):\n",
    "    \"\"\"Remove special signs like &*\"\"\"\n",
    "    new_words = []\n",
    "    for word in words:\n",
    "        new_word = re.sub(r'[-,$()#+&*]', '', word)\n",
    "        if new_word != '':\n",
    "            new_words.append(new_word)\n",
    "    return new_words\n",
    "\n",
    "def replace_numbers(words):\n",
    "    \"\"\"Replace all interger occurrences in list of tokenized words with textual representation\"\"\"\n",
    "    p = inflect.engine()\n",
    "    new_words = []\n",
    "    for word in words:\n",
    "        if word.isdigit():\n",
    "            new_word = p.number_to_words(word)\n",
    "            new_words.append(new_word)\n",
    "        else:\n",
    "            new_words.append(word)\n",
    "    return new_words\n",
    "\n",
    "def remove_stopwords(words):\n",
    "    \"\"\"Remove stop words from list of tokenized words\"\"\"  \n",
    "    stopwords = nltk.corpus.stopwords.words('english')\n",
    "    myStopWords = []\n",
    "    stopwords.extend(myStopWords)\n",
    "    new_words = []\n",
    "    for word in words:\n",
    "        if word not in stopwords:\n",
    "            new_words.append(word)\n",
    "    return new_words\n",
    "\n",
    "def to_lowercase(words):\n",
    "    \"\"\"Convert words to lowercase\"\"\"\n",
    "    new_words=[]\n",
    "    for word in words:\n",
    "        new_words.append(word.lower())\n",
    "    return new_words\n",
    "\n",
    "def stem_words(words):\n",
    "    \"\"\"Stem words in list of tokenized words\"\"\"\n",
    "    stemmer = LancasterStemmer()\n",
    "    stemmer = SnowballStemmer('english')\n",
    "    stems = []\n",
    "    for word in words:\n",
    "        stem = stemmer.stem(word)\n",
    "        stems.append(stem)\n",
    "    return stems\n",
    "\n",
    "def lemmatize_verbs(words):\n",
    "    \"\"\"Lemmatize verbs in list of tokenized words\"\"\"\n",
    "    lemmatizer = WordNetLemmatizer()\n",
    "    lemmas = []\n",
    "    for word in words:\n",
    "        lemma = lemmatizer.lemmatize(word, pos='v')\n",
    "        lemmas.append(lemma)\n",
    "    return lemmas\n",
    "\n",
    "def normalize_lemmatize(words):\n",
    "    words = remove_special(words)\n",
    "    words = to_lowercase(words)\n",
    "    words = remove_punctuation(words)\n",
    "    words = replace_numbers(words)\n",
    "    words = remove_stopwords(words)\n",
    "    words = stem_words(words)\n",
    "    words = lemmatize_verbs(words)\n",
    "    return words"
   ]
  },
  {
   "cell_type": "code",
   "execution_count": 20,
   "metadata": {},
   "outputs": [
    {
     "name": "stderr",
     "output_type": "stream",
     "text": [
      "[nltk_data] Downloading package wordnet to /Users/xli/nltk_data...\n",
      "[nltk_data]   Unzipping corpora/wordnet.zip.\n",
      "[nltk_data] Downloading package punkt to /Users/xli/nltk_data...\n",
      "[nltk_data]   Unzipping tokenizers/punkt.zip.\n",
      "[nltk_data] Downloading package stopwords to /Users/xli/nltk_data...\n",
      "[nltk_data]   Unzipping corpora/stopwords.zip.\n"
     ]
    }
   ],
   "source": [
    "nltk.download('wordnet')\n",
    "nltk.download('punkt')\n",
    "nltk.download('stopwords')\n",
    "def get_processed(sample):\n",
    "    processed = pd.DataFrame(data=[],columns = ['business_id', 'text'])\n",
    "    new_texts = []\n",
    "\n",
    "    for i in range(0, len(sample)):\n",
    "        business_id = sample['business_id'].iloc[i]\n",
    "        words = nltk.word_tokenize(sample['text'].iloc[i])\n",
    "        text = ' '.join(normalize_lemmatize(words))\n",
    "        dfnew = pd.DataFrame([[business_id, text]], columns=['business_id', 'text'])\n",
    "        new_texts.append(text)\n",
    "        processed = processed.append(dfnew,ignore_index = True)\n",
    "    return processed"
   ]
  },
  {
   "cell_type": "code",
   "execution_count": 21,
   "metadata": {},
   "outputs": [],
   "source": [
    "df_texts_train = get_processed(df_revtexts_train)\n",
    "# df_texts_test = get_processed(df_revtexts_test)\n",
    "df_texts_train.to_pickle('../data/df_texts_train.pkl')"
   ]
  },
  {
   "cell_type": "markdown",
   "metadata": {},
   "source": [
    "## Cosine Similarity"
   ]
  },
  {
   "cell_type": "code",
   "execution_count": 49,
   "metadata": {},
   "outputs": [],
   "source": [
    "def get_tfidf_matrix(processed):\n",
    "    TV = TfidfVectorizer(stop_words = \"english\")\n",
    "    processed[\"text\"] = processed[\"text\"].fillna('')\n",
    "    tfidf_matrix = TV.fit_transform((processed[\"text\"]))\n",
    "    return tfidf_matrix\n",
    "\n",
    "def get_cos_sim_matrix(tfidf_matrix, n):\n",
    "    ## use truncated SVD to reduce dimensions\n",
    "    SVD = TruncatedSVD(n_components = n , random_state = 42) # 42 is the ultimate answer to everything\n",
    "    tfidf_truncated = SVD.fit_transform(tfidf_matrix)\n",
    "    cosine_sim = cosine_similarity(tfidf_truncated, tfidf_truncated)\n",
    "    return cosine_sim"
   ]
  },
  {
   "cell_type": "code",
   "execution_count": 203,
   "metadata": {},
   "outputs": [
    {
     "data": {
      "text/plain": [
       "<BarContainer object of 1780 artists>"
      ]
     },
     "execution_count": 203,
     "metadata": {},
     "output_type": "execute_result"
    },
    {
     "data": {
      "image/png": "[encoded data removed]",
      "text/plain": [
       "<Figure size 432x288 with 1 Axes>"
      ]
     },
     "metadata": {
      "needs_background": "light"
     },
     "output_type": "display_data"
    }
   ],
   "source": [
    "## Choose the number of singular values to truncate the sparse tfidf matrix:\n",
    "tfidf_matrix = get_tfidf_matrix(df_texts_train)\n",
    "u, s, vt  = scipy.sparse.linalg.svds(tfidf_matrix, k = tfidf_matrix.shape[0]-1)\n",
    "plt.bar(range(len(s)),s)\n"
   ]
  },
  {
   "cell_type": "code",
   "execution_count": 270,
   "metadata": {},
   "outputs": [
    {
     "data": {
      "text/plain": [
       "[<matplotlib.lines.Line2D at 0x7ff6a6cb0050>]"
      ]
     },
     "execution_count": 270,
     "metadata": {},
     "output_type": "execute_result"
    },
    {
     "data": {
      "image/png": "[encoded data removed]",
      "text/plain": [
       "<Figure size 432x288 with 1 Axes>"
      ]
     },
     "metadata": {
      "needs_background": "light"
     },
     "output_type": "display_data"
    }
   ],
   "source": [
    "# plt.bar(range(len(s))[:100], sorted((s**2 / sum(s**2)),reverse = True)[:100])\n",
    "plt.plot(range(len(s))[:100], np.cumsum(sorted((s**2 / sum(s**2)),reverse = True)[:100]), \"r\" )"
   ]
  },
  {
   "cell_type": "markdown",
   "metadata": {},
   "source": [
    "## *Based on the above plot, we choose the first 20 singular values, i.e. n = 20 "
   ]
  },
  {
   "cell_type": "code",
   "execution_count": 214,
   "metadata": {},
   "outputs": [
    {
     "data": {
      "text/plain": [
       "(1781, 1781)"
      ]
     },
     "execution_count": 214,
     "metadata": {},
     "output_type": "execute_result"
    }
   ],
   "source": [
    "tfidf_matrix = get_tfidf_matrix(df_texts_train)\n",
    "cosine_sim = get_cos_sim_matrix(tfidf_matrix, 20)\n",
    "df_sim = pd.DataFrame(cosine_sim, index=df_texts_train['business_id'], columns=df_texts_train['business_id'])\n",
    "cosine_sim.shape"
   ]
  },
  {
   "cell_type": "code",
   "execution_count": 215,
   "metadata": {},
   "outputs": [
    {
     "data": {
      "image/png": "[encoded data removed]",
      "text/plain": [
       "<Figure size 432x288 with 1 Axes>"
      ]
     },
     "metadata": {
      "needs_background": "light"
     },
     "output_type": "display_data"
    }
   ],
   "source": [
    "plt.figure()\n",
    "plt.hist(cosine_sim.flatten(), bins = 100)\n",
    "plt.show()"
   ]
  },
  {
   "cell_type": "code",
   "execution_count": 242,
   "metadata": {},
   "outputs": [],
   "source": [
    "def get_recommendation_cos(reviews, business_id, user_id, df_sim, k):\n",
    "#     df_sim = pd.DataFrame(cosine_sim, index=processed['business_id'], columns=processed['business_id'])\n",
    "    user_bids = reviews[reviews['user_id']==user_id]['business_id'].values\n",
    "    df_user = df_sim.loc[df_sim.index.isin(user_bids), df_sim.columns == business_id]\n",
    "    df_user_topk = df_user.sort_values(df_user.columns[0], ascending = False).iloc[:k]\n",
    "    return np.array(df_user_topk.index.values)\n",
    "\n",
    "def get_results_cos(reviews, reviews_test, business_id,user_id,df_sim,k):\n",
    "    actual = reviews_test.loc[(reviews_test.user_id==user_id) & (reviews_test.business_id==business_id)]['stars'].values[0]\n",
    "    business_ids = get_recommendation_cos(reviews,business_id,user_id,df_sim,k)\n",
    "#     print(business_ids)\n",
    "    prediction = predict_rating(reviews, user_id, business_ids)\n",
    "    return actual, prediction\n",
    "\n",
    "# def get_review_processed(processed, reviews):\n",
    "#     reviews_processed = reviews.loc[reviews.business_id.isin(processed.business_id)]\\\n",
    "#                            .reset_index().drop(columns=['index'])\n",
    "#     return reviews_processed"
   ]
  },
  {
   "cell_type": "code",
   "execution_count": 22,
   "metadata": {},
   "outputs": [],
   "source": [
    "def predict_rating(reviews, user_id, business_ids):\n",
    "    scores = reviews.loc[(reviews.user_id == user_id) & (reviews.business_id.isin(business_ids))][\"stars\"].values\n",
    "    return np.mean(scores)"
   ]
  },
  {
   "cell_type": "code",
   "execution_count": 268,
   "metadata": {},
   "outputs": [],
   "source": [
    "### Now collate the modelling into a function left with parameters to tune:\n",
    "\n",
    "# parameters: n (top n singular values to perform truncated SVD), k (top k similar businesses) \n",
    "def CB_NLP_cosine(train_df, reviews, n = 20):\n",
    "    tfidf_matrix = get_tfidf_matrix(reviews)\n",
    "    cosine_sim = get_cos_sim_matrix(tfidf_matrix, n)\n",
    "    df_sim = pd.DataFrame(cosine_sim, index=df_texts_train['business_id'], columns=df_texts_train['business_id'])\n",
    "    return df_sim\n",
    "\n",
    "def CB_NLP_predict(reviews, reviews_test, df_sim, k = 5):\n",
    "    uid_sample = reviews_test['user_id'].values\n",
    "    bid_sample = reviews_test['business_id'].values\n",
    "    actual_cos = []\n",
    "    predictions_cos = []\n",
    "    for i in range(len(reviews_test)):\n",
    "        try:\n",
    "            act, pred = get_results_cos(reviews, reviews_test, bid_sample[i],uid_sample[i], df_sim, k)\n",
    "            predictions_cos.append(pred)\n",
    "            actual_cos.append(act)\n",
    "        except:\n",
    "            predictions_cos.append(np.nan)\n",
    "            actual_cos.append(np.nan)\n",
    "#     print(actual_cos)\n",
    "    return pd.DataFrame({\"user_id\": uid_sample,\n",
    "                         \"business_id\": bid_sample,\n",
    "                         \"ratings\": actual_cos,\n",
    "                         \"pred\":  predictions_cos                        \n",
    "                        })"
   ]
  },
  {
   "cell_type": "markdown",
   "metadata": {},
   "source": [
    "### Tuning parameters k"
   ]
  },
  {
   "cell_type": "code",
   "execution_count": 321,
   "metadata": {},
   "outputs": [
    {
     "name": "stdout",
     "output_type": "stream",
     "text": [
      "time elapsed: (seconds)\n",
      "5591.132\n"
     ]
    }
   ],
   "source": [
    "t0 = time.time()\n",
    "df_pred_results = pd.DataFrame(columns= [\"ks\", \"sample_size\", \"rmse\", \"mae\"])\n",
    "sample_sizes = [len(test_df)]\n",
    "ks = [5,10,15,20,30,40]\n",
    "\n",
    "for sample_size in sample_sizes:\n",
    "    for k in ks:\n",
    "        test = CB_NLP_predict(train_df, test_df.sample(n = sample_size, random_state = 12), df_sim, k)\n",
    "        rmse = mean_squared_error(test.dropna().pred, test.dropna().ratings)**0.5\n",
    "        mae = mean_absolute_error(test.dropna().pred, test.dropna().ratings)**0.5\n",
    "        df_pred_results = df_pred_results.append({\"ks\": k, \"sample_size\": sample_size,\n",
    "                                \"rmse\": rmse, \"mae\": mae           \n",
    "        }, ignore_index = True)\n",
    "\n",
    "t1=  time.time()\n",
    "print(\"time elapsed: (seconds)\")\n",
    "print(np.round(t1- t0,3))"
   ]
  },
  {
   "cell_type": "code",
   "execution_count": 326,
   "metadata": {},
   "outputs": [
    {
     "name": "stdout",
     "output_type": "stream",
     "text": [
      "optimal k (nearest neighbors):\n",
      "4    30.0\n",
      "Name: ks, dtype: float64\n"
     ]
    },
    {
     "data": {
      "image/png": "[encoded data removed]",
      "text/plain": [
       "<Figure size 432x288 with 1 Axes>"
      ]
     },
     "metadata": {
      "needs_background": "light"
     },
     "output_type": "display_data"
    }
   ],
   "source": [
    "df_pred_results[df_pred_results[\"sample_size\"] == sample_size].plot(\"ks\", \"rmse\")\n",
    "print(\"optimal k (nearest neighbors):\")\n",
    "print(df_pred_results.loc[df_pred_results[\"rmse\"] == np.min(df_pred_results.rmse) ,\"ks\"])\n",
    "# choose 30?\n"
   ]
  },
  {
   "cell_type": "code",
   "execution_count": 323,
   "metadata": {},
   "outputs": [],
   "source": [
    "df_pred_resultsults.to_csv(\"Content_Based_Filtering_Cosine_Evaluation.csv\",index = False)"
   ]
  },
  {
   "cell_type": "markdown",
   "metadata": {},
   "source": [
    "## LSI Model"
   ]
  },
  {
   "cell_type": "markdown",
   "metadata": {},
   "source": [
    "#### 2 parameters to tune: n_topics and k nearest businesses"
   ]
  },
  {
   "cell_type": "code",
   "execution_count": null,
   "metadata": {},
   "outputs": [],
   "source": [
    "#### Dont run this cell !!!\n",
    "\n",
    "def get_lsi(processed, reviews, user_id, n_topics):\n",
    "    user_bids = reviews[reviews['user_id']==user_id]['business_id'].values\n",
    "    processed_user = processed.loc[processed.business_id.isin(user_bids)]\n",
    "    documents = list(processed_user['text'].values)\n",
    "    texts = [[word for word in document.split(' ')] for document in documents]\n",
    "    dictionary = corpora.Dictionary(texts)\n",
    "    corpus = [dictionary.doc2bow(text) for text in texts] \n",
    "\n",
    "    lsi = models.LsiModel(corpus, id2word=dictionary, num_topics=n_topics)\n",
    "    return lsi, dictionary, corpus\n",
    "\n",
    "df_lsi = pd.DataFrame(columns = [\"user_id\",\"n_topic\", \"lsi\", \"dictionary\"])\n",
    "n_topics = [10,20,50,80,100,150]\n",
    "\n",
    "for n_topic in n_topics:\n",
    "#     count = 0 \n",
    "    for i in range(len(test_df)):\n",
    "#         print(i) \n",
    "#         count += 1\n",
    "        lsi, dictionary, corpus = get_lsi(df_texts_train, train_df, uid_sample[i], n_topic)\n",
    "        df_lsi = df_lsi.append({\"user_id\": test_df.user_id[i],\n",
    "                            \"n_topic\": n_topic,\n",
    "                            \"lsi\": lsi,\n",
    "                            \"dictionary\": dictionary\n",
    "                           }, ignore_index = True)\n",
    "#         if count >= 3:\n",
    "#             break\n",
    "\n",
    "def get_recommendation_lsi(processed,reviews, df_lsi, business_id,user_id,k,n_topics):\n",
    "#     user_bids = reviews[reviews['user_id']==user_id]['business_id'].values\n",
    "#     processed_user = processed.loc[processed.business_id.isin(user_bids)]\n",
    "#     documents = list(processed_user['text'].values)\n",
    "#     texts = [[word for word in document.split(' ')] for document in documents]\n",
    "#     dictionary = corpora.Dictionary(texts)\n",
    "#     corpus = [dictionary.doc2bow(text) for text in texts] \n",
    "    \n",
    "    lsi = df_lsi[(df_lsi[\"n_topic\"] == n_topics) & (df_lsi[\"user_id\"] == user_id)][\"lsi\"][0]\n",
    "    dictionary = df_lsi[(df_lsi[\"n_topic\"] == n_topics) & (df_lsi[\"user_id\"] == user_id)][\"dictionary\"][0]\n",
    "\n",
    "\n",
    "    user_bids = reviews[reviews['user_id']==user_id]['business_id'].values\n",
    "    processed_user = processed.loc[processed.business_id.isin(user_bids)]\n",
    "    documents = list(processed_user['text'].values)\n",
    "    texts = [[word for word in document.split(' ')] for document in documents]\n",
    "    corpus = [dictionary.doc2bow(text) for text in texts] \n",
    "    \n",
    "    #     lsi = models.LsiModel(corpus, id2word=dictionary, num_topics=n_topics)\n",
    "    doc = processed['text'].loc[processed.business_id==business_id].values[0]\n",
    "    vec_bow = dictionary.doc2bow(doc.lower().split())\n",
    "    vec_lsi = lsi[vec_bow]\n",
    "    index = similarities.MatrixSimilarity(lsi[corpus])\n",
    "    sims = list(index[vec_lsi])\n",
    "    results = list(zip(user_bids, sims))\n",
    "    results_ordered = np.array(sorted(results, key=lambda x: x[1], reverse=True))\n",
    "    results_topk = results_ordered[:k]\n",
    "    return results_topk[:,0]\n",
    "\n",
    "def get_results_lsi(processed,reviews,reviews_test, df_lsi ,business_id,user_id,k,n_topics):\n",
    "    actual = reviews_test.loc[(reviews_test.user_id==user_id) & (reviews_test.business_id==business_id)]['stars'].values[0]\n",
    "    business_ids = get_recommendation_lsi(processed,reviews,df_lsi ,business_id,user_id,k,n_topics)\n",
    "    prediction = predict_rating(reviews, user_id, business_ids)\n",
    "    return actual, prediction\n",
    "\n"
   ]
  },
  {
   "cell_type": "code",
   "execution_count": null,
   "metadata": {},
   "outputs": [],
   "source": [
    "def get_recommendation_lsi(processed,reviews,business_id,user_id,k,n_topics):\n",
    "    user_bids = reviews[reviews['user_id']==user_id]['business_id'].values\n",
    "    processed_user = processed.loc[processed.business_id.isin(user_bids)]\n",
    "    documents = list(processed_user['text'].values)\n",
    "    texts = [[word for word in document.split(' ')] for document in documents]\n",
    "    dictionary = corpora.Dictionary(texts)\n",
    "    corpus = [dictionary.doc2bow(text) for text in texts] \n",
    "\n",
    "    lsi = models.LsiModel(corpus, id2word=dictionary, num_topics=n_topics)\n",
    "    doc = processed['text'].loc[processed.business_id==business_id].values[0]\n",
    "    vec_bow = dictionary.doc2bow(doc.lower().split())\n",
    "    vec_lsi = lsi[vec_bow]\n",
    "    index = similarities.MatrixSimilarity(lsi[corpus])\n",
    "    sims = list(index[vec_lsi])\n",
    "    results = list(zip(user_bids, sims))\n",
    "    results_ordered = np.array(sorted(results, key=lambda x: x[1], reverse=True))\n",
    "    results_topk = results_ordered[:k]\n",
    "    return results_topk[:,0]\n",
    "\n",
    "def get_results_lsi(processed,reviews,reviews_test ,business_id,user_id,k,n_topics):\n",
    "    actual = reviews_test.loc[(reviews_test.user_id==user_id) & (reviews_test.business_id==business_id)]['stars'].values[0]\n",
    "    business_ids = get_recommendation_lsi(processed,reviews,business_id,user_id,k,n_topics)\n",
    "    prediction = predict_rating(reviews, user_id, business_ids)\n",
    "    return actual, prediction\n",
    "\n",
    "# def get_coverage_lsi(processed,reviews,n_topics):\n",
    "#     reviews_processed = get_review_processed(processed, reviews)\n",
    "#     uid_sample = reviews_processed['user_id'].values\n",
    "#     bid_sample = reviews_processed['business_id'].values\n",
    "#     all_bids = reviews_processed['business_id'].unique()\n",
    "#     pred_bids = []\n",
    "\n",
    "#     for i in range(len(reviews_processed)):\n",
    "#         try:\n",
    "#             business_ids = get_recommendation_lsi(processed,\n",
    "#                                             reviews_processed,\n",
    "#                                             bid_sample[i],\n",
    "#                                             uid_sample[i],\n",
    "#                                             5,\n",
    "#                                             n_topics)\n",
    "#             pred_bids += list(business_ids)\n",
    "#         except:\n",
    "#             next\n",
    "#     pred_bids = np.array(list(set(pred_bids)))\n",
    "#     return len(pred_bids)/len(all_bids)"
   ]
  },
  {
   "cell_type": "code",
   "execution_count": null,
   "metadata": {},
   "outputs": [],
   "source": [
    "def CB_LSI_predict(df_texts_train, reviews, reviews_test, k = 5, n_topics = 100):\n",
    "    uid_sample = reviews_test['user_id'].values\n",
    "    bid_sample = reviews_test['business_id'].values\n",
    "    actual_lsi = []\n",
    "    predictions_lsi = []\n",
    "    for i in range(len(reviews_test)):\n",
    "        try:\n",
    "            act, pred = get_results_lsi(df_texts_train, reviews, reviews_test, bid_sample[i],uid_sample[i], k, n_topics)\n",
    "            predictions_lsi.append(pred)\n",
    "            actual_lsi.append(act)\n",
    "#             print(act)\n",
    "#             print(pred)\n",
    "        except:\n",
    "            predictions_lsi.append(np.nan)\n",
    "            actual_lsi.append(np.nan)\n",
    "#     print(actual_cos)\n",
    "    return pd.DataFrame({\"user_id\": uid_sample,\n",
    "                         \"business_id\": bid_sample,\n",
    "                         \"ratings\": actual_lsi,\n",
    "                         \"pred_lsi\":  predictions_lsi                       \n",
    "                        })"
   ]
  },
  {
   "cell_type": "code",
   "execution_count": null,
   "metadata": {},
   "outputs": [],
   "source": [
    "t0 = time.time()\n",
    "df_pred_results_lsi = pd.DataFrame(columns= [\"ks\",\"n_topics\",\"sample_size\", \"rmse\", \"mae\"])\n",
    "# sample_sizes = [100]\n",
    "ks = [40]\n",
    "n_topics = [20,50,80,100]\n",
    "\n",
    "# for sample_size in sample_sizes:\n",
    "for k in ks:\n",
    "    for n_topic in n_topics:\n",
    "        test = CB_LSI_predict(df_texts_train,train_df, test_df, k = k, n_topics = n_topic)\n",
    "        rmse = mean_squared_error(test.dropna().pred_lsi, test.dropna().ratings)**0.5\n",
    "        mae = mean_absolute_error(test.dropna().pred_lsi, test.dropna().ratings)**0.5\n",
    "        df_pred_results_lsi = df_pred_results_lsi.append({\"ks\": k, \"n_topics\": n_topic,\"sample_size\": len(test_df),\n",
    "                                \"rmse\": rmse, \"mae\": mae}, ignore_index = True)\n",
    "t1=  time.time()\n",
    "print(\"time elapsed: (seconds)\")\n",
    "print(np.round(t1- t0,3))"
   ]
  },
  {
   "cell_type": "code",
   "execution_count": 58,
   "metadata": {},
   "outputs": [
    {
     "data": {
      "text/html": [
       "<div>\n",
       "<style scoped>\n",
       "    .dataframe tbody tr th:only-of-type {\n",
       "        vertical-align: middle;\n",
       "    }\n",
       "\n",
       "    .dataframe tbody tr th {\n",
       "        vertical-align: top;\n",
       "    }\n",
       "\n",
       "    .dataframe thead th {\n",
       "        text-align: right;\n",
       "    }\n",
       "</style>\n",
       "<table border=\"1\" class=\"dataframe\">\n",
       "  <thead>\n",
       "    <tr style=\"text-align: right;\">\n",
       "      <th></th>\n",
       "      <th>ks</th>\n",
       "      <th>n_topics</th>\n",
       "      <th>sample_size</th>\n",
       "      <th>rmse</th>\n",
       "      <th>mae</th>\n",
       "    </tr>\n",
       "  </thead>\n",
       "  <tbody>\n",
       "    <tr>\n",
       "      <td>0</td>\n",
       "      <td>40.0</td>\n",
       "      <td>20.0</td>\n",
       "      <td>20433.0</td>\n",
       "      <td>1.165239</td>\n",
       "      <td>0.914670</td>\n",
       "    </tr>\n",
       "    <tr>\n",
       "      <td>1</td>\n",
       "      <td>40.0</td>\n",
       "      <td>50.0</td>\n",
       "      <td>20433.0</td>\n",
       "      <td>1.165827</td>\n",
       "      <td>0.915209</td>\n",
       "    </tr>\n",
       "    <tr>\n",
       "      <td>2</td>\n",
       "      <td>40.0</td>\n",
       "      <td>80.0</td>\n",
       "      <td>20433.0</td>\n",
       "      <td>1.166328</td>\n",
       "      <td>0.915811</td>\n",
       "    </tr>\n",
       "    <tr>\n",
       "      <td>3</td>\n",
       "      <td>40.0</td>\n",
       "      <td>100.0</td>\n",
       "      <td>20433.0</td>\n",
       "      <td>1.166328</td>\n",
       "      <td>0.915811</td>\n",
       "    </tr>\n",
       "  </tbody>\n",
       "</table>\n",
       "</div>"
      ],
      "text/plain": [
       "     ks  n_topics  sample_size      rmse       mae\n",
       "0  40.0      20.0      20433.0  1.165239  0.914670\n",
       "1  40.0      50.0      20433.0  1.165827  0.915209\n",
       "2  40.0      80.0      20433.0  1.166328  0.915811\n",
       "3  40.0     100.0      20433.0  1.166328  0.915811"
      ]
     },
     "execution_count": 58,
     "metadata": {},
     "output_type": "execute_result"
    }
   ],
   "source": [
    "df_pred_results_lsi"
   ]
  },
  {
   "cell_type": "code",
   "execution_count": 90,
   "metadata": {},
   "outputs": [
    {
     "data": {
      "text/plain": [
       "<matplotlib.axes._subplots.AxesSubplot at 0x7fa5803d5b10>"
      ]
     },
     "execution_count": 90,
     "metadata": {},
     "output_type": "execute_result"
    },
    {
     "data": {
      "image/png": "[encoded data removed]",
      "text/plain": [
       "<Figure size 432x288 with 1 Axes>"
      ]
     },
     "metadata": {
      "needs_background": "light"
     },
     "output_type": "display_data"
    }
   ],
   "source": [
    "df_pred_results_lsi[df_pred_results_lsi[\"n_topics\"] == 120].plot(\"ks\", \"rmse\")\n"
   ]
  },
  {
   "cell_type": "code",
   "execution_count": 59,
   "metadata": {},
   "outputs": [
    {
     "data": {
      "text/plain": [
       "<matplotlib.axes._subplots.AxesSubplot at 0x7fd968d2ca58>"
      ]
     },
     "execution_count": 59,
     "metadata": {},
     "output_type": "execute_result"
    },
    {
     "data": {
      "image/png": "[encoded data removed]",
      "text/plain": [
       "<Figure size 432x288 with 1 Axes>"
      ]
     },
     "metadata": {
      "needs_background": "light"
     },
     "output_type": "display_data"
    }
   ],
   "source": [
    "df_pred_results_lsi[df_pred_results_lsi[\"ks\"] == 40].plot(\"n_topics\", \"rmse\")"
   ]
  },
  {
   "cell_type": "code",
   "execution_count": 349,
   "metadata": {},
   "outputs": [
    {
     "data": {
      "text/plain": [
       "0.0"
      ]
     },
     "execution_count": 349,
     "metadata": {},
     "output_type": "execute_result"
    }
   ],
   "source": [
    "mean_squared_error(test.dropna().pred_lsi, test.dropna().ratings)**0.5"
   ]
  },
  {
   "cell_type": "code",
   "execution_count": 333,
   "metadata": {},
   "outputs": [
    {
     "data": {
      "text/html": [
       "<div>\n",
       "<style scoped>\n",
       "    .dataframe tbody tr th:only-of-type {\n",
       "        vertical-align: middle;\n",
       "    }\n",
       "\n",
       "    .dataframe tbody tr th {\n",
       "        vertical-align: top;\n",
       "    }\n",
       "\n",
       "    .dataframe thead th {\n",
       "        text-align: right;\n",
       "    }\n",
       "</style>\n",
       "<table border=\"1\" class=\"dataframe\">\n",
       "  <thead>\n",
       "    <tr style=\"text-align: right;\">\n",
       "      <th></th>\n",
       "      <th>ks</th>\n",
       "      <th>n_topics</th>\n",
       "      <th>sample_size</th>\n",
       "      <th>rmse</th>\n",
       "      <th>mae</th>\n",
       "    </tr>\n",
       "  </thead>\n",
       "  <tbody>\n",
       "    <tr>\n",
       "      <th>0</th>\n",
       "      <td>10.0</td>\n",
       "      <td>10.0</td>\n",
       "      <td>50.0</td>\n",
       "      <td>0.0</td>\n",
       "      <td>0.0</td>\n",
       "    </tr>\n",
       "    <tr>\n",
       "      <th>1</th>\n",
       "      <td>10.0</td>\n",
       "      <td>50.0</td>\n",
       "      <td>50.0</td>\n",
       "      <td>0.0</td>\n",
       "      <td>0.0</td>\n",
       "    </tr>\n",
       "    <tr>\n",
       "      <th>2</th>\n",
       "      <td>10.0</td>\n",
       "      <td>100.0</td>\n",
       "      <td>50.0</td>\n",
       "      <td>0.0</td>\n",
       "      <td>0.0</td>\n",
       "    </tr>\n",
       "    <tr>\n",
       "      <th>3</th>\n",
       "      <td>10.0</td>\n",
       "      <td>200.0</td>\n",
       "      <td>50.0</td>\n",
       "      <td>0.0</td>\n",
       "      <td>0.0</td>\n",
       "    </tr>\n",
       "  </tbody>\n",
       "</table>\n",
       "</div>"
      ],
      "text/plain": [
       "     ks  n_topics  sample_size  rmse  mae\n",
       "0  10.0      10.0         50.0   0.0  0.0\n",
       "1  10.0      50.0         50.0   0.0  0.0\n",
       "2  10.0     100.0         50.0   0.0  0.0\n",
       "3  10.0     200.0         50.0   0.0  0.0"
      ]
     },
     "execution_count": 333,
     "metadata": {},
     "output_type": "execute_result"
    }
   ],
   "source": [
    "df_pred_results_lsi"
   ]
  },
  {
   "cell_type": "code",
   "execution_count": 34,
   "metadata": {},
   "outputs": [
    {
     "name": "stdout",
     "output_type": "stream",
     "text": [
      "651 ms ± 37.8 ms per loop (mean ± std. dev. of 7 runs, 1 loop each)\n"
     ]
    }
   ],
   "source": [
    "%timeit get_results_lsi(df_texts_train, train_df, test_df, bid_sample[0], uid_sample[0], 30,10)"
   ]
  },
  {
   "cell_type": "code",
   "execution_count": 55,
   "metadata": {},
   "outputs": [],
   "source": [
    "# experiement\n",
    "uid_sample = test_df['user_id'].values\n",
    "bid_sample = test_df['business_id'].values\n",
    "act, pred = get_results_lsi(df_texts_train, train_df, \n",
    "                                test_df, \n",
    "                                bid_sample[0], \n",
    "                                uid_sample[0], \n",
    "                                30,\n",
    "                                20)"
   ]
  },
  {
   "cell_type": "code",
   "execution_count": 54,
   "metadata": {},
   "outputs": [
    {
     "data": {
      "text/plain": [
       "(5.0, 4.633333333333334)"
      ]
     },
     "execution_count": 54,
     "metadata": {},
     "output_type": "execute_result"
    }
   ],
   "source": [
    "act, pred"
   ]
  },
  {
   "cell_type": "code",
   "execution_count": null,
   "metadata": {},
   "outputs": [],
   "source": []
  },
  {
   "cell_type": "code",
   "execution_count": null,
   "metadata": {},
   "outputs": [],
   "source": []
  },
  {
   "cell_type": "code",
   "execution_count": null,
   "metadata": {},
   "outputs": [],
   "source": []
  },
  {
   "cell_type": "code",
   "execution_count": null,
   "metadata": {},
   "outputs": [],
   "source": []
  },
  {
   "cell_type": "code",
   "execution_count": null,
   "metadata": {},
   "outputs": [],
   "source": []
  },
  {
   "cell_type": "code",
   "execution_count": null,
   "metadata": {},
   "outputs": [],
   "source": []
  },
  {
   "cell_type": "code",
   "execution_count": null,
   "metadata": {},
   "outputs": [],
   "source": []
  },
  {
   "cell_type": "code",
   "execution_count": null,
   "metadata": {},
   "outputs": [],
   "source": []
  },
  {
   "cell_type": "code",
   "execution_count": null,
   "metadata": {},
   "outputs": [],
   "source": []
  },
  {
   "cell_type": "code",
   "execution_count": null,
   "metadata": {},
   "outputs": [],
   "source": []
  },
  {
   "cell_type": "code",
   "execution_count": null,
   "metadata": {},
   "outputs": [],
   "source": []
  }
 ],
 "metadata": {
  "kernelspec": {
   "display_name": "Python 3",
   "language": "python",
   "name": "python3"
  },
  "language_info": {
   "codemirror_mode": {
    "name": "ipython",
    "version": 3
   },
   "file_extension": ".py",
   "mimetype": "text/x-python",
   "name": "python",
   "nbconvert_exporter": "python",
   "pygments_lexer": "ipython3",
   "version": "3.7.6"
  },
  "varInspector": {
   "cols": {
    "lenName": 16,
    "lenType": 16,
    "lenVar": 40
   },
   "kernels_config": {
    "python": {
     "delete_cmd_postfix": "",
     "delete_cmd_prefix": "del ",
     "library": "var_list.py",
     "varRefreshCmd": "print(var_dic_list())"
    },
    "r": {
     "delete_cmd_postfix": ") ",
     "delete_cmd_prefix": "rm(",
     "library": "var_list.r",
     "varRefreshCmd": "cat(var_dic_list()) "
    }
   },
   "types_to_exclude": [
    "module",
    "function",
    "builtin_function_or_method",
    "instance",
    "_Feature"
   ],
   "window_display": false
  }
 },
 "nbformat": 4,
 "nbformat_minor": 4
}
