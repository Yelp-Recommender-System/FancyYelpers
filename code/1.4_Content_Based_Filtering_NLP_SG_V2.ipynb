{
 "cells": [
  {
   "cell_type": "code",
   "execution_count": 1,
   "metadata": {
    "scrolled": true
   },
   "outputs": [],
   "source": [
    "import pandas as pd\n",
    "import numpy as np\n",
    "import matplotlib.pyplot as plt\n",
    "\n",
    "from IPython.core.interactiveshell import InteractiveShell\n",
    "InteractiveShell.ast_node_interactivity = \"all\"\n",
    "\n",
    "import os\n",
    "import re, string, unicodedata\n",
    "import nltk\n",
    "import contractions\n",
    "import inflect\n",
    "\n",
    "import lime\n",
    "from lime import lime_text\n",
    "from lime.lime_text import LimeTextExplainer\n",
    "\n",
    "import re\n",
    "\n",
    "from wordcloud import WordCloud, STOPWORDS\n",
    "\n",
    "import nltk\n",
    "# import contractions\n",
    "import inflect\n",
    "from nltk import word_tokenize, sent_tokenize\n",
    "from nltk.corpus import stopwords\n",
    "from nltk import SnowballStemmer\n",
    "from nltk.stem import LancasterStemmer, WordNetLemmatizer\n",
    "\n",
    "\n",
    "from sklearn import metrics\n",
    "from sklearn.model_selection import train_test_split\n",
    "# from keras.preprocessing.sequence import pad_sequences\n",
    "\n",
    "from sklearn.metrics import confusion_matrix, classification_report\n",
    "from sklearn.feature_extraction.text import TfidfVectorizer\n",
    "from sklearn.decomposition import TruncatedSVD\n",
    "from sklearn.metrics.pairwise import cosine_similarity\n",
    "from sklearn.metrics import mean_squared_error\n",
    "from sklearn.metrics import mean_absolute_error\n",
    "from sklearn.metrics.pairwise import euclidean_distances\n",
    "from sklearn.preprocessing import StandardScaler\n",
    "%matplotlib inline\n",
    "\n",
    "import scipy\n",
    "\n",
    "from gensim import corpora\n",
    "from gensim import corpora\n",
    "from gensim.similarities.docsim import Similarity\n",
    "from gensim import corpora, models, similarities\n",
    "\n",
    "import pickle\n",
    "import time"
   ]
  },
  {
   "cell_type": "code",
   "execution_count": null,
   "metadata": {},
   "outputs": [],
   "source": []
  },
  {
   "cell_type": "markdown",
   "metadata": {},
   "source": [
    "# Read Train Split and Validation Data"
   ]
  },
  {
   "cell_type": "code",
   "execution_count": 2,
   "metadata": {},
   "outputs": [],
   "source": [
    "rev_busi_Pho= pd.read_csv('../data/filtered_reviews_in_Phonex.csv', parse_dates=[\"date\"])\n",
    "\n",
    "train_df  = pickle.load(open('../data/train_df.pkl', \"rb\"))\n",
    "valid_df = pickle.load(open('../data/valid_df.pkl', \"rb\"))\n",
    "test_df = pickle.load(open('../data/test_df.pkl', \"rb\"))"
   ]
  },
  {
   "cell_type": "code",
   "execution_count": 3,
   "metadata": {},
   "outputs": [
    {
     "data": {
      "text/html": [
       "<div>\n",
       "<style scoped>\n",
       "    .dataframe tbody tr th:only-of-type {\n",
       "        vertical-align: middle;\n",
       "    }\n",
       "\n",
       "    .dataframe tbody tr th {\n",
       "        vertical-align: top;\n",
       "    }\n",
       "\n",
       "    .dataframe thead th {\n",
       "        text-align: right;\n",
       "    }\n",
       "</style>\n",
       "<table border=\"1\" class=\"dataframe\">\n",
       "  <thead>\n",
       "    <tr style=\"text-align: right;\">\n",
       "      <th></th>\n",
       "      <th>user_id</th>\n",
       "      <th>business_id</th>\n",
       "      <th>stars</th>\n",
       "      <th>review_id</th>\n",
       "      <th>text</th>\n",
       "    </tr>\n",
       "  </thead>\n",
       "  <tbody>\n",
       "    <tr>\n",
       "      <th>0</th>\n",
       "      <td>--2HUmLkcNHZp0xw6AMBPg</td>\n",
       "      <td>yX0pOWG_Be9TjGnm0aihVA</td>\n",
       "      <td>5.0</td>\n",
       "      <td>tfi5EOpqZw637p3AJtOUMg</td>\n",
       "      <td>Obsessed with their chicken salad and sweet fr...</td>\n",
       "    </tr>\n",
       "  </tbody>\n",
       "</table>\n",
       "</div>"
      ],
      "text/plain": [
       "                  user_id             business_id  stars  \\\n",
       "0  --2HUmLkcNHZp0xw6AMBPg  yX0pOWG_Be9TjGnm0aihVA    5.0   \n",
       "\n",
       "                review_id                                               text  \n",
       "0  tfi5EOpqZw637p3AJtOUMg  Obsessed with their chicken salad and sweet fr...  "
      ]
     },
     "execution_count": 3,
     "metadata": {},
     "output_type": "execute_result"
    }
   ],
   "source": [
    "train_df = train_df.merge(rev_busi_Pho[[\"review_id\", \"user_id\", \"business_id\", \"text\"]], how = \"left\", on = [\"user_id\", \"business_id\"])\n",
    "valid_df = valid_df.merge(rev_busi_Pho[[\"review_id\", \"user_id\", \"business_id\", \"text\"]], how = \"left\", on = [\"user_id\", \"business_id\"])\n",
    "test_df  = test_df.merge(rev_busi_Pho[[\"review_id\", \"user_id\", \"business_id\", \"text\"]], how = \"left\", on = [\"user_id\", \"business_id\"])\n",
    "\n",
    "train_df.head(1)"
   ]
  },
  {
   "cell_type": "code",
   "execution_count": 4,
   "metadata": {},
   "outputs": [
    {
     "data": {
      "text/plain": [
       "(180559, 5)"
      ]
     },
     "execution_count": 4,
     "metadata": {},
     "output_type": "execute_result"
    },
    {
     "data": {
      "text/plain": [
       "(19500, 5)"
      ]
     },
     "execution_count": 4,
     "metadata": {},
     "output_type": "execute_result"
    },
    {
     "data": {
      "text/plain": [
       "(19500, 5)"
      ]
     },
     "execution_count": 4,
     "metadata": {},
     "output_type": "execute_result"
    }
   ],
   "source": [
    "train_df.shape\n",
    "valid_df.shape\n",
    "test_df.shape"
   ]
  },
  {
   "cell_type": "code",
   "execution_count": 5,
   "metadata": {
    "scrolled": true
   },
   "outputs": [
    {
     "name": "stdout",
     "output_type": "stream",
     "text": [
      "unique users in training set: 19683\n",
      "unique businesses in training set: 1728\n",
      "unique users in test set: 19500\n",
      "unique businesses in test set: 1672\n"
     ]
    }
   ],
   "source": [
    "print(\"unique users in training set:\", train_df[\"user_id\"].nunique())\n",
    "print(\"unique businesses in training set:\", train_df[\"business_id\"].nunique())\n",
    "print(\"unique users in test set:\", test_df[\"user_id\"].nunique())\n",
    "print(\"unique businesses in test set:\", test_df[\"business_id\"].nunique())"
   ]
  },
  {
   "cell_type": "code",
   "execution_count": null,
   "metadata": {},
   "outputs": [],
   "source": []
  },
  {
   "cell_type": "markdown",
   "metadata": {},
   "source": [
    "# Content-based Model, NLP"
   ]
  },
  {
   "cell_type": "markdown",
   "metadata": {},
   "source": [
    "### - Combine reviews of each business_id as its document "
   ]
  },
  {
   "cell_type": "code",
   "execution_count": 6,
   "metadata": {
    "scrolled": true
   },
   "outputs": [
    {
     "data": {
      "text/html": [
       "<div>\n",
       "<style scoped>\n",
       "    .dataframe tbody tr th:only-of-type {\n",
       "        vertical-align: middle;\n",
       "    }\n",
       "\n",
       "    .dataframe tbody tr th {\n",
       "        vertical-align: top;\n",
       "    }\n",
       "\n",
       "    .dataframe thead th {\n",
       "        text-align: right;\n",
       "    }\n",
       "</style>\n",
       "<table border=\"1\" class=\"dataframe\">\n",
       "  <thead>\n",
       "    <tr style=\"text-align: right;\">\n",
       "      <th></th>\n",
       "      <th>user_id</th>\n",
       "      <th>business_id</th>\n",
       "      <th>stars</th>\n",
       "      <th>review_id</th>\n",
       "      <th>text</th>\n",
       "    </tr>\n",
       "  </thead>\n",
       "  <tbody>\n",
       "    <tr>\n",
       "      <th>0</th>\n",
       "      <td>--2HUmLkcNHZp0xw6AMBPg</td>\n",
       "      <td>yX0pOWG_Be9TjGnm0aihVA</td>\n",
       "      <td>5.0</td>\n",
       "      <td>tfi5EOpqZw637p3AJtOUMg</td>\n",
       "      <td>Obsessed with their chicken salad and sweet fr...</td>\n",
       "    </tr>\n",
       "  </tbody>\n",
       "</table>\n",
       "</div>"
      ],
      "text/plain": [
       "                  user_id             business_id  stars  \\\n",
       "0  --2HUmLkcNHZp0xw6AMBPg  yX0pOWG_Be9TjGnm0aihVA    5.0   \n",
       "\n",
       "                review_id                                               text  \n",
       "0  tfi5EOpqZw637p3AJtOUMg  Obsessed with their chicken salad and sweet fr...  "
      ]
     },
     "execution_count": 6,
     "metadata": {},
     "output_type": "execute_result"
    },
    {
     "data": {
      "text/plain": [
       "1728"
      ]
     },
     "execution_count": 6,
     "metadata": {},
     "output_type": "execute_result"
    },
    {
     "data": {
      "text/html": [
       "<div>\n",
       "<style scoped>\n",
       "    .dataframe tbody tr th:only-of-type {\n",
       "        vertical-align: middle;\n",
       "    }\n",
       "\n",
       "    .dataframe tbody tr th {\n",
       "        vertical-align: top;\n",
       "    }\n",
       "\n",
       "    .dataframe thead th {\n",
       "        text-align: right;\n",
       "    }\n",
       "</style>\n",
       "<table border=\"1\" class=\"dataframe\">\n",
       "  <thead>\n",
       "    <tr style=\"text-align: right;\">\n",
       "      <th></th>\n",
       "      <th>business_id</th>\n",
       "      <th>text</th>\n",
       "    </tr>\n",
       "  </thead>\n",
       "  <tbody>\n",
       "    <tr>\n",
       "      <th>0</th>\n",
       "      <td>-050d_XIor1NpCuWkbIVaQ</td>\n",
       "      <td>Great Food. Great Coffee. Great Service. Amazi...</td>\n",
       "    </tr>\n",
       "  </tbody>\n",
       "</table>\n",
       "</div>"
      ],
      "text/plain": [
       "              business_id                                               text\n",
       "0  -050d_XIor1NpCuWkbIVaQ  Great Food. Great Coffee. Great Service. Amazi..."
      ]
     },
     "execution_count": 6,
     "metadata": {},
     "output_type": "execute_result"
    }
   ],
   "source": [
    "train_df.head(1)\n",
    "text_train_df = train_df.groupby([\"business_id\"])[\"text\"].apply(lambda x: x.str.cat()).reset_index()\n",
    "len(text_train_df)\n",
    "text_train_df.head(1)"
   ]
  },
  {
   "cell_type": "markdown",
   "metadata": {},
   "source": [
    "### - Generate Wordcloud"
   ]
  },
  {
   "cell_type": "code",
   "execution_count": 7,
   "metadata": {},
   "outputs": [],
   "source": [
    "# # gather all words together\n",
    "# all_text = \"\"\n",
    "# all_snippets = text_train_df[\"text\"].values\n",
    "\n",
    "# for snippet in all_snippets:\n",
    "#     all_text += snippet\n",
    "\n",
    "# # plot Wordcloud\n",
    "# wordcloud = WordCloud(stopwords=STOPWORDS, background_color='white',width=6000,height=6000).generate(all_text)\n",
    "# plt.figure(figsize = (10,10))\n",
    "# plt.imshow(wordcloud)\n",
    "# plt.axis(\"off\")\n",
    "# plt.show()"
   ]
  },
  {
   "cell_type": "markdown",
   "metadata": {},
   "source": [
    "### - Text Prepocessing"
   ]
  },
  {
   "cell_type": "code",
   "execution_count": 8,
   "metadata": {},
   "outputs": [],
   "source": [
    "def remove_punctuation(words):\n",
    "    \"\"\"Remove punctuation from list of tokenized words\"\"\"\n",
    "    new_words = []\n",
    "    for word in words:\n",
    "        new_word = re.sub(r'[^\\w\\s]', '', word)\n",
    "        if new_word != '':\n",
    "            new_words.append(new_word)\n",
    "            \n",
    "    return new_words\n",
    "\n",
    "def remove_special(words):\n",
    "    \"\"\"Remove special signs like &*\"\"\"\n",
    "    new_words = []\n",
    "    for word in words:\n",
    "        new_word = re.sub(r'[-,$()#+&*]', '', word)\n",
    "        if new_word != '':\n",
    "            new_words.append(new_word)\n",
    "            \n",
    "    return new_words\n",
    "\n",
    "def replace_numbers(words):\n",
    "    \"\"\"Replace all interger occurrences in list of tokenized words with textual representation\"\"\"\n",
    "    p = inflect.engine()\n",
    "    new_words = []\n",
    "    for word in words:\n",
    "        if word.isdigit():\n",
    "            new_word = p.number_to_words(word)\n",
    "            new_words.append(new_word)\n",
    "        else:\n",
    "            new_words.append(word)\n",
    "            \n",
    "    return new_words\n",
    "\n",
    "def remove_stopwords(words):\n",
    "    \"\"\"Remove stop words from list of tokenized words\"\"\"  \n",
    "    stopwords = nltk.corpus.stopwords.words('english')\n",
    "    myStopWords = []\n",
    "    stopwords.extend(myStopWords)\n",
    "    new_words = []\n",
    "    for word in words:\n",
    "        if word not in stopwords:\n",
    "            new_words.append(word)\n",
    "            \n",
    "    return new_words\n",
    "\n",
    "def to_lowercase(words):\n",
    "    \"\"\"Convert words to lowercase\"\"\"\n",
    "    new_words=[]\n",
    "    for word in words:\n",
    "        new_words.append(word.lower())\n",
    "        \n",
    "    return new_words\n",
    "\n",
    "def stem_words(words):\n",
    "    \"\"\"Stem words in list of tokenized words\"\"\"\n",
    "    stemmer = LancasterStemmer()\n",
    "    stemmer = SnowballStemmer('english')\n",
    "    stems = []\n",
    "    for word in words:\n",
    "        stem = stemmer.stem(word)\n",
    "        stems.append(stem)\n",
    "        \n",
    "    return stems\n",
    "\n",
    "def lemmatize_verbs(words):\n",
    "    \"\"\"Lemmatize verbs in list of tokenized words\"\"\"\n",
    "    lemmatizer = WordNetLemmatizer()\n",
    "    lemmas = []\n",
    "    for word in words:\n",
    "        lemma = lemmatizer.lemmatize(word, pos='v')\n",
    "        lemmas.append(lemma)\n",
    "        \n",
    "    return lemmas\n",
    "\n",
    "def normalize_lemmatize(words):\n",
    "    words = remove_special(words)\n",
    "    words = to_lowercase(words)\n",
    "    words = remove_punctuation(words)\n",
    "    words = replace_numbers(words)\n",
    "    words = remove_stopwords(words)\n",
    "    words = stem_words(words)\n",
    "    words = lemmatize_verbs(words)\n",
    "    \n",
    "    return words\n"
   ]
  },
  {
   "cell_type": "code",
   "execution_count": 9,
   "metadata": {
    "scrolled": true
   },
   "outputs": [],
   "source": [
    "def get_processed(sample):\n",
    "    processed = pd.DataFrame(data=[],columns = ['business_id', 'text'])\n",
    "    new_texts = []\n",
    "\n",
    "    for i in range(0, len(sample)):\n",
    "        business_id = sample['business_id'].iloc[i]\n",
    "        words = nltk.word_tokenize(sample['text'].iloc[i])\n",
    "        text = ' '.join(normalize_lemmatize(words))\n",
    "        dfnew = pd.DataFrame([[business_id, text]], columns=['business_id', 'text'])\n",
    "        new_texts.append(text)\n",
    "        processed = processed.append(dfnew,ignore_index = True)\n",
    "\n",
    "    return processed\n"
   ]
  },
  {
   "cell_type": "code",
   "execution_count": 10,
   "metadata": {},
   "outputs": [],
   "source": [
    "df_texts_train = get_processed(text_train_df)\n",
    "df_texts_train.to_pickle('../data/text_train_df.pkl')"
   ]
  },
  {
   "cell_type": "markdown",
   "metadata": {},
   "source": [
    "### - Cosine Similarity"
   ]
  },
  {
   "cell_type": "code",
   "execution_count": 11,
   "metadata": {},
   "outputs": [],
   "source": [
    "def get_tfidf_matrix(processed):\n",
    "    '''\n",
    "    get the Tf-Idf matrix of processed\n",
    "    \n",
    "    '''\n",
    "    TV = TfidfVectorizer(stop_words = \"english\")\n",
    "    processed[\"text\"] = processed[\"text\"].fillna('')\n",
    "    tfidf_matrix = TV.fit_transform((processed[\"text\"]))\n",
    "    \n",
    "    return tfidf_matrix\n",
    "\n",
    "def get_cos_sim_matrix(tfidf_matrix, n):\n",
    "    '''\n",
    "    use truncated SVD to reduce dimensions to n \n",
    "    @n: the left dimensions \n",
    "    '''\n",
    "    SVD = TruncatedSVD(n_components = n , random_state = 42) # 42 is the ultimate answer to everything\n",
    "    tfidf_truncated = SVD.fit_transform(tfidf_matrix)\n",
    "    cosine_sim = cosine_similarity(tfidf_truncated, tfidf_truncated)\n",
    "    \n",
    "    return cosine_sim\n",
    "\n"
   ]
  },
  {
   "cell_type": "markdown",
   "metadata": {},
   "source": [
    "### - Dimension Reduction"
   ]
  },
  {
   "cell_type": "code",
   "execution_count": 12,
   "metadata": {},
   "outputs": [
    {
     "data": {
      "text/plain": [
       "<BarContainer object of 1727 artists>"
      ]
     },
     "execution_count": 12,
     "metadata": {},
     "output_type": "execute_result"
    },
    {
     "data": {
      "image/png": "[encoded data removed]",
      "text/plain": [
       "<Figure size 432x288 with 1 Axes>"
      ]
     },
     "metadata": {
      "needs_background": "light"
     },
     "output_type": "display_data"
    },
    {
     "data": {
      "text/plain": [
       "[<matplotlib.lines.Line2D at 0x7ff7e66dbb50>]"
      ]
     },
     "execution_count": 12,
     "metadata": {},
     "output_type": "execute_result"
    },
    {
     "data": {
      "image/png": "[encoded data removed]",
      "text/plain": [
       "<Figure size 432x288 with 1 Axes>"
      ]
     },
     "metadata": {
      "needs_background": "light"
     },
     "output_type": "display_data"
    }
   ],
   "source": [
    "tfidf_matrix = get_tfidf_matrix(text_train_df)\n",
    "u, s, vt  = scipy.sparse.linalg.svds(tfidf_matrix, k = tfidf_matrix.shape[0]-1)\n",
    "plt.bar(range(len(s)),s)\n",
    "plt.show()\n",
    "\n",
    "plt.plot(range(len(s))[:100], np.cumsum(sorted((s**2 / sum(s**2)),reverse = True)[:100]), \"r\" )\n",
    "plt.show()"
   ]
  },
  {
   "cell_type": "code",
   "execution_count": 13,
   "metadata": {},
   "outputs": [
    {
     "data": {
      "text/html": [
       "<div>\n",
       "<style scoped>\n",
       "    .dataframe tbody tr th:only-of-type {\n",
       "        vertical-align: middle;\n",
       "    }\n",
       "\n",
       "    .dataframe tbody tr th {\n",
       "        vertical-align: top;\n",
       "    }\n",
       "\n",
       "    .dataframe thead th {\n",
       "        text-align: right;\n",
       "    }\n",
       "</style>\n",
       "<table border=\"1\" class=\"dataframe\">\n",
       "  <thead>\n",
       "    <tr style=\"text-align: right;\">\n",
       "      <th>business_id</th>\n",
       "      <th>-050d_XIor1NpCuWkbIVaQ</th>\n",
       "      <th>-0WegMt6Cy966qlDKhu6jA</th>\n",
       "      <th>-0tgMGl7D9B10YjSN2ujLA</th>\n",
       "      <th>-1UMR00eXtwaeh59pEiDjA</th>\n",
       "      <th>-45kMvS7h38CGaWugPY0rg</th>\n",
       "      <th>-8JaNeG3etLgOVyg2gOIiA</th>\n",
       "      <th>-9eNGMp8XiygI8t8QFuFWw</th>\n",
       "      <th>-A9sm-E6uQxWTJ_MuyOzFw</th>\n",
       "      <th>-Bdw-5H5C4AYSMGnAvmnzw</th>\n",
       "      <th>-BxWyEIQ6wypT-37MzZizQ</th>\n",
       "      <th>...</th>\n",
       "      <th>zSicVxnJHV8indit0oFuNw</th>\n",
       "      <th>zU63bs3Ofe8y1peOgOFJaA</th>\n",
       "      <th>zYZPpOqo_2YrLJLOmjlgPQ</th>\n",
       "      <th>zaBk2imYnk7rG7IdOMhRmA</th>\n",
       "      <th>zbrFk-4ejesAJD8EwcdHxg</th>\n",
       "      <th>zc1sur_MxkKkD6P8gYXQbg</th>\n",
       "      <th>zidkKI_N1OPxsiddTOQH_Q</th>\n",
       "      <th>znH36RmIAI4wcHy9WiEO5Q</th>\n",
       "      <th>zrTGcb83AsfyVTMrsCa65A</th>\n",
       "      <th>zwmps5SXn30g-f5wqg_r9A</th>\n",
       "    </tr>\n",
       "    <tr>\n",
       "      <th>business_id</th>\n",
       "      <th></th>\n",
       "      <th></th>\n",
       "      <th></th>\n",
       "      <th></th>\n",
       "      <th></th>\n",
       "      <th></th>\n",
       "      <th></th>\n",
       "      <th></th>\n",
       "      <th></th>\n",
       "      <th></th>\n",
       "      <th></th>\n",
       "      <th></th>\n",
       "      <th></th>\n",
       "      <th></th>\n",
       "      <th></th>\n",
       "      <th></th>\n",
       "      <th></th>\n",
       "      <th></th>\n",
       "      <th></th>\n",
       "      <th></th>\n",
       "      <th></th>\n",
       "    </tr>\n",
       "  </thead>\n",
       "  <tbody>\n",
       "    <tr>\n",
       "      <th>-050d_XIor1NpCuWkbIVaQ</th>\n",
       "      <td>1.0</td>\n",
       "      <td>0.529566</td>\n",
       "      <td>0.53278</td>\n",
       "      <td>0.949796</td>\n",
       "      <td>0.660216</td>\n",
       "      <td>0.478488</td>\n",
       "      <td>0.584917</td>\n",
       "      <td>0.262599</td>\n",
       "      <td>0.64382</td>\n",
       "      <td>0.589876</td>\n",
       "      <td>...</td>\n",
       "      <td>0.966908</td>\n",
       "      <td>0.509607</td>\n",
       "      <td>0.321309</td>\n",
       "      <td>0.210434</td>\n",
       "      <td>0.458903</td>\n",
       "      <td>0.983822</td>\n",
       "      <td>0.282168</td>\n",
       "      <td>0.494805</td>\n",
       "      <td>0.609763</td>\n",
       "      <td>0.457363</td>\n",
       "    </tr>\n",
       "  </tbody>\n",
       "</table>\n",
       "<p>1 rows × 1728 columns</p>\n",
       "</div>"
      ],
      "text/plain": [
       "business_id             -050d_XIor1NpCuWkbIVaQ  -0WegMt6Cy966qlDKhu6jA  \\\n",
       "business_id                                                              \n",
       "-050d_XIor1NpCuWkbIVaQ                     1.0                0.529566   \n",
       "\n",
       "business_id             -0tgMGl7D9B10YjSN2ujLA  -1UMR00eXtwaeh59pEiDjA  \\\n",
       "business_id                                                              \n",
       "-050d_XIor1NpCuWkbIVaQ                 0.53278                0.949796   \n",
       "\n",
       "business_id             -45kMvS7h38CGaWugPY0rg  -8JaNeG3etLgOVyg2gOIiA  \\\n",
       "business_id                                                              \n",
       "-050d_XIor1NpCuWkbIVaQ                0.660216                0.478488   \n",
       "\n",
       "business_id             -9eNGMp8XiygI8t8QFuFWw  -A9sm-E6uQxWTJ_MuyOzFw  \\\n",
       "business_id                                                              \n",
       "-050d_XIor1NpCuWkbIVaQ                0.584917                0.262599   \n",
       "\n",
       "business_id             -Bdw-5H5C4AYSMGnAvmnzw  -BxWyEIQ6wypT-37MzZizQ  ...  \\\n",
       "business_id                                                             ...   \n",
       "-050d_XIor1NpCuWkbIVaQ                 0.64382                0.589876  ...   \n",
       "\n",
       "business_id             zSicVxnJHV8indit0oFuNw  zU63bs3Ofe8y1peOgOFJaA  \\\n",
       "business_id                                                              \n",
       "-050d_XIor1NpCuWkbIVaQ                0.966908                0.509607   \n",
       "\n",
       "business_id             zYZPpOqo_2YrLJLOmjlgPQ  zaBk2imYnk7rG7IdOMhRmA  \\\n",
       "business_id                                                              \n",
       "-050d_XIor1NpCuWkbIVaQ                0.321309                0.210434   \n",
       "\n",
       "business_id             zbrFk-4ejesAJD8EwcdHxg  zc1sur_MxkKkD6P8gYXQbg  \\\n",
       "business_id                                                              \n",
       "-050d_XIor1NpCuWkbIVaQ                0.458903                0.983822   \n",
       "\n",
       "business_id             zidkKI_N1OPxsiddTOQH_Q  znH36RmIAI4wcHy9WiEO5Q  \\\n",
       "business_id                                                              \n",
       "-050d_XIor1NpCuWkbIVaQ                0.282168                0.494805   \n",
       "\n",
       "business_id             zrTGcb83AsfyVTMrsCa65A  zwmps5SXn30g-f5wqg_r9A  \n",
       "business_id                                                             \n",
       "-050d_XIor1NpCuWkbIVaQ                0.609763                0.457363  \n",
       "\n",
       "[1 rows x 1728 columns]"
      ]
     },
     "execution_count": 13,
     "metadata": {},
     "output_type": "execute_result"
    },
    {
     "data": {
      "text/plain": [
       "(1728, 1728)"
      ]
     },
     "execution_count": 13,
     "metadata": {},
     "output_type": "execute_result"
    }
   ],
   "source": [
    "tfidf_matrix = get_tfidf_matrix(text_train_df)\n",
    "cosine_sim = get_cos_sim_matrix(tfidf_matrix, 20)\n",
    "df_sim = pd.DataFrame(cosine_sim, index=text_train_df['business_id'], columns=text_train_df['business_id'])\n",
    "df_sim.head(1)\n",
    "cosine_sim.shape"
   ]
  },
  {
   "cell_type": "code",
   "execution_count": 14,
   "metadata": {},
   "outputs": [
    {
     "data": {
      "text/plain": [
       "<Figure size 432x288 with 0 Axes>"
      ]
     },
     "execution_count": 14,
     "metadata": {},
     "output_type": "execute_result"
    },
    {
     "data": {
      "text/plain": [
       "(array([4.0000e+00, 0.0000e+00, 2.0000e+00, 4.0000e+00, 1.0000e+01,\n",
       "        1.0000e+01, 2.0000e+01, 5.2000e+01, 2.6200e+02, 9.8000e+02,\n",
       "        1.9700e+03, 3.1640e+03, 4.4100e+03, 5.7740e+03, 7.2940e+03,\n",
       "        8.8580e+03, 1.0790e+04, 1.3054e+04, 1.4396e+04, 1.6962e+04,\n",
       "        1.8600e+04, 1.9764e+04, 2.1506e+04, 2.3638e+04, 2.6212e+04,\n",
       "        2.9348e+04, 3.1886e+04, 3.4552e+04, 3.7374e+04, 4.0048e+04,\n",
       "        4.2494e+04, 4.4926e+04, 4.6380e+04, 4.7990e+04, 4.9768e+04,\n",
       "        5.0714e+04, 5.1652e+04, 5.1700e+04, 5.1574e+04, 5.1356e+04,\n",
       "        5.1102e+04, 5.0346e+04, 5.0720e+04, 5.0378e+04, 5.0464e+04,\n",
       "        5.0396e+04, 5.0268e+04, 5.0576e+04, 5.0956e+04, 5.1042e+04,\n",
       "        5.1898e+04, 5.1046e+04, 5.1068e+04, 5.0944e+04, 5.0716e+04,\n",
       "        5.0012e+04, 4.9272e+04, 4.9162e+04, 4.9038e+04, 4.8190e+04,\n",
       "        4.7184e+04, 4.7050e+04, 4.6450e+04, 4.5874e+04, 4.5136e+04,\n",
       "        4.4002e+04, 4.2466e+04, 4.1618e+04, 4.0346e+04, 3.9356e+04,\n",
       "        3.7986e+04, 3.5908e+04, 3.4794e+04, 3.3976e+04, 3.2560e+04,\n",
       "        3.1122e+04, 2.9806e+04, 2.9136e+04, 2.7596e+04, 2.6638e+04,\n",
       "        2.5432e+04, 2.4430e+04, 2.2932e+04, 2.2370e+04, 2.1498e+04,\n",
       "        2.0778e+04, 2.0142e+04, 1.9596e+04, 1.8322e+04, 1.7736e+04,\n",
       "        1.6964e+04, 1.6686e+04, 1.5578e+04, 1.5194e+04, 1.4694e+04,\n",
       "        1.3994e+04, 1.3520e+04, 1.3396e+04, 1.3344e+04, 1.3282e+04]),\n",
       " array([-4.26768807e-02, -3.22501119e-02, -2.18233431e-02, -1.13965743e-02,\n",
       "        -9.69805501e-04,  9.45696331e-03,  1.98837321e-02,  3.03105009e-02,\n",
       "         4.07372697e-02,  5.11640385e-02,  6.15908073e-02,  7.20175762e-02,\n",
       "         8.24443450e-02,  9.28711138e-02,  1.03297883e-01,  1.13724651e-01,\n",
       "         1.24151420e-01,  1.34578189e-01,  1.45004958e-01,  1.55431727e-01,\n",
       "         1.65858495e-01,  1.76285264e-01,  1.86712033e-01,  1.97138802e-01,\n",
       "         2.07565571e-01,  2.17992339e-01,  2.28419108e-01,  2.38845877e-01,\n",
       "         2.49272646e-01,  2.59699415e-01,  2.70126183e-01,  2.80552952e-01,\n",
       "         2.90979721e-01,  3.01406490e-01,  3.11833259e-01,  3.22260028e-01,\n",
       "         3.32686796e-01,  3.43113565e-01,  3.53540334e-01,  3.63967103e-01,\n",
       "         3.74393872e-01,  3.84820640e-01,  3.95247409e-01,  4.05674178e-01,\n",
       "         4.16100947e-01,  4.26527716e-01,  4.36954484e-01,  4.47381253e-01,\n",
       "         4.57808022e-01,  4.68234791e-01,  4.78661560e-01,  4.89088328e-01,\n",
       "         4.99515097e-01,  5.09941866e-01,  5.20368635e-01,  5.30795404e-01,\n",
       "         5.41222172e-01,  5.51648941e-01,  5.62075710e-01,  5.72502479e-01,\n",
       "         5.82929248e-01,  5.93356017e-01,  6.03782785e-01,  6.14209554e-01,\n",
       "         6.24636323e-01,  6.35063092e-01,  6.45489861e-01,  6.55916629e-01,\n",
       "         6.66343398e-01,  6.76770167e-01,  6.87196936e-01,  6.97623705e-01,\n",
       "         7.08050473e-01,  7.18477242e-01,  7.28904011e-01,  7.39330780e-01,\n",
       "         7.49757549e-01,  7.60184317e-01,  7.70611086e-01,  7.81037855e-01,\n",
       "         7.91464624e-01,  8.01891393e-01,  8.12318161e-01,  8.22744930e-01,\n",
       "         8.33171699e-01,  8.43598468e-01,  8.54025237e-01,  8.64452006e-01,\n",
       "         8.74878774e-01,  8.85305543e-01,  8.95732312e-01,  9.06159081e-01,\n",
       "         9.16585850e-01,  9.27012618e-01,  9.37439387e-01,  9.47866156e-01,\n",
       "         9.58292925e-01,  9.68719694e-01,  9.79146462e-01,  9.89573231e-01,\n",
       "         1.00000000e+00]),\n",
       " <a list of 100 Patch objects>)"
      ]
     },
     "execution_count": 14,
     "metadata": {},
     "output_type": "execute_result"
    },
    {
     "data": {
      "image/png": "[encoded data removed]",
      "text/plain": [
       "<Figure size 432x288 with 1 Axes>"
      ]
     },
     "metadata": {
      "needs_background": "light"
     },
     "output_type": "display_data"
    }
   ],
   "source": [
    "plt.figure()\n",
    "plt.hist(cosine_sim.flatten(), bins = 100)\n",
    "plt.show()"
   ]
  },
  {
   "cell_type": "code",
   "execution_count": 15,
   "metadata": {
    "scrolled": true
   },
   "outputs": [
    {
     "data": {
      "text/html": [
       "<div>\n",
       "<style scoped>\n",
       "    .dataframe tbody tr th:only-of-type {\n",
       "        vertical-align: middle;\n",
       "    }\n",
       "\n",
       "    .dataframe tbody tr th {\n",
       "        vertical-align: top;\n",
       "    }\n",
       "\n",
       "    .dataframe thead th {\n",
       "        text-align: right;\n",
       "    }\n",
       "</style>\n",
       "<table border=\"1\" class=\"dataframe\">\n",
       "  <thead>\n",
       "    <tr style=\"text-align: right;\">\n",
       "      <th></th>\n",
       "      <th>user_id</th>\n",
       "      <th>business_id</th>\n",
       "      <th>stars</th>\n",
       "      <th>review_id</th>\n",
       "      <th>text</th>\n",
       "    </tr>\n",
       "  </thead>\n",
       "  <tbody>\n",
       "    <tr>\n",
       "      <th>0</th>\n",
       "      <td>--2HUmLkcNHZp0xw6AMBPg</td>\n",
       "      <td>yX0pOWG_Be9TjGnm0aihVA</td>\n",
       "      <td>5.0</td>\n",
       "      <td>tfi5EOpqZw637p3AJtOUMg</td>\n",
       "      <td>Obsessed with their chicken salad and sweet fr...</td>\n",
       "    </tr>\n",
       "  </tbody>\n",
       "</table>\n",
       "</div>"
      ],
      "text/plain": [
       "                  user_id             business_id  stars  \\\n",
       "0  --2HUmLkcNHZp0xw6AMBPg  yX0pOWG_Be9TjGnm0aihVA    5.0   \n",
       "\n",
       "                review_id                                               text  \n",
       "0  tfi5EOpqZw637p3AJtOUMg  Obsessed with their chicken salad and sweet fr...  "
      ]
     },
     "execution_count": 15,
     "metadata": {},
     "output_type": "execute_result"
    }
   ],
   "source": [
    "train_df.head(1)"
   ]
  },
  {
   "cell_type": "code",
   "execution_count": 41,
   "metadata": {},
   "outputs": [],
   "source": [
    "def get_recommendation_cos(reviews, business_id, user_id, df_sim, k):\n",
    "    '''get the business_id_array that shows top_k greatest similarity to the specific business_id'''\n",
    "    user_bids = reviews[reviews['user_id']==user_id]['business_id'].values\n",
    "    df_user = df_sim.loc[df_sim.index.isin(user_bids), df_sim.columns == business_id]\n",
    "    df_user_topk = df_user.sort_values(df_user.columns[0], ascending = False).iloc[:k]\n",
    "    \n",
    "    return np.array(df_user_topk.index.values)\n",
    "\n",
    "\n",
    "def predict_rating(reviews, user_id, business_ids):\n",
    "    '''predict the avg of the user's rating on business in business_ids'''\n",
    "    scores = reviews.loc[(reviews.user_id == user_id) & (reviews.business_id.isin(business_ids))][\"stars\"].values\n",
    "    \n",
    "    return np.mean(scores)\n",
    "\n",
    "\n",
    "def get_results_cos(reviews, reviews_test, business_id, user_id, df_sim, k):\n",
    "    '''\n",
    "    prediction on the business_id：avg the ratings on top_k business that shows similarity to the business_id\n",
    "    actual on the business_id: the true rating \n",
    "    '''\n",
    "    actual = reviews_test.loc[(reviews_test.user_id==user_id) & (reviews_test.business_id==business_id)]['stars'].values[0]\n",
    "    business_ids = get_recommendation_cos(reviews, business_id, user_id, df_sim, k)\n",
    "    prediction = predict_rating(reviews, user_id, business_ids)\n",
    "    \n",
    "    return actual, prediction\n",
    "\n",
    "def get_review_processed(processed, reviews):\n",
    "    reviews_processed = reviews.loc[reviews.business_id.isin(processed.business_id)]\\\n",
    "                                                       .reset_index()\\\n",
    "                                                       .drop(columns=['index'])\n",
    "    return reviews_processed"
   ]
  },
  {
   "cell_type": "code",
   "execution_count": 42,
   "metadata": {},
   "outputs": [
    {
     "data": {
      "text/html": [
       "<div>\n",
       "<style scoped>\n",
       "    .dataframe tbody tr th:only-of-type {\n",
       "        vertical-align: middle;\n",
       "    }\n",
       "\n",
       "    .dataframe tbody tr th {\n",
       "        vertical-align: top;\n",
       "    }\n",
       "\n",
       "    .dataframe thead th {\n",
       "        text-align: right;\n",
       "    }\n",
       "</style>\n",
       "<table border=\"1\" class=\"dataframe\">\n",
       "  <thead>\n",
       "    <tr style=\"text-align: right;\">\n",
       "      <th></th>\n",
       "      <th>user_id</th>\n",
       "      <th>business_id</th>\n",
       "      <th>stars</th>\n",
       "      <th>review_id</th>\n",
       "      <th>text</th>\n",
       "    </tr>\n",
       "  </thead>\n",
       "  <tbody>\n",
       "    <tr>\n",
       "      <th>0</th>\n",
       "      <td>--2HUmLkcNHZp0xw6AMBPg</td>\n",
       "      <td>yX0pOWG_Be9TjGnm0aihVA</td>\n",
       "      <td>5.0</td>\n",
       "      <td>tfi5EOpqZw637p3AJtOUMg</td>\n",
       "      <td>Obsessed with their chicken salad and sweet fr...</td>\n",
       "    </tr>\n",
       "    <tr>\n",
       "      <th>1</th>\n",
       "      <td>--2HUmLkcNHZp0xw6AMBPg</td>\n",
       "      <td>u9R0_pvEkl7QGPJYH3j1sg</td>\n",
       "      <td>5.0</td>\n",
       "      <td>_FcKYC5R81v6SbSeaWxHNA</td>\n",
       "      <td>This place is INCREDIBLE.  We just bought a ho...</td>\n",
       "    </tr>\n",
       "    <tr>\n",
       "      <th>2</th>\n",
       "      <td>--2HUmLkcNHZp0xw6AMBPg</td>\n",
       "      <td>cHdJXLlKNWixBXpDwEGb_A</td>\n",
       "      <td>5.0</td>\n",
       "      <td>wK3roBOGrakzjoX_o5nmBw</td>\n",
       "      <td>Pretty decent for something a little different...</td>\n",
       "    </tr>\n",
       "    <tr>\n",
       "      <th>3</th>\n",
       "      <td>--2HUmLkcNHZp0xw6AMBPg</td>\n",
       "      <td>LR_99E7tVUfxqemvcGkDzw</td>\n",
       "      <td>3.0</td>\n",
       "      <td>_d9cfYYjzuJwhLe5egMLIQ</td>\n",
       "      <td>This place has pretty decent food but their se...</td>\n",
       "    </tr>\n",
       "    <tr>\n",
       "      <th>4</th>\n",
       "      <td>--2HUmLkcNHZp0xw6AMBPg</td>\n",
       "      <td>lfyg98UFNYMVk18p6LIlkw</td>\n",
       "      <td>5.0</td>\n",
       "      <td>_yreTg27A_fsPb8uulhKtg</td>\n",
       "      <td>Love this place.  Amazing food, great selectio...</td>\n",
       "    </tr>\n",
       "  </tbody>\n",
       "</table>\n",
       "</div>"
      ],
      "text/plain": [
       "                  user_id             business_id  stars  \\\n",
       "0  --2HUmLkcNHZp0xw6AMBPg  yX0pOWG_Be9TjGnm0aihVA    5.0   \n",
       "1  --2HUmLkcNHZp0xw6AMBPg  u9R0_pvEkl7QGPJYH3j1sg    5.0   \n",
       "2  --2HUmLkcNHZp0xw6AMBPg  cHdJXLlKNWixBXpDwEGb_A    5.0   \n",
       "3  --2HUmLkcNHZp0xw6AMBPg  LR_99E7tVUfxqemvcGkDzw    3.0   \n",
       "4  --2HUmLkcNHZp0xw6AMBPg  lfyg98UFNYMVk18p6LIlkw    5.0   \n",
       "\n",
       "                review_id                                               text  \n",
       "0  tfi5EOpqZw637p3AJtOUMg  Obsessed with their chicken salad and sweet fr...  \n",
       "1  _FcKYC5R81v6SbSeaWxHNA  This place is INCREDIBLE.  We just bought a ho...  \n",
       "2  wK3roBOGrakzjoX_o5nmBw  Pretty decent for something a little different...  \n",
       "3  _d9cfYYjzuJwhLe5egMLIQ  This place has pretty decent food but their se...  \n",
       "4  _yreTg27A_fsPb8uulhKtg  Love this place.  Amazing food, great selectio...  "
      ]
     },
     "execution_count": 42,
     "metadata": {},
     "output_type": "execute_result"
    }
   ],
   "source": [
    "reviews_processed = get_review_processed(df_texts_train, train_df)\n",
    "reviews_processed.head()"
   ]
  },
  {
   "cell_type": "code",
   "execution_count": 18,
   "metadata": {},
   "outputs": [],
   "source": [
    "def CB_NLP_predict(reviews, reviews_test, df_sim, k = 5):\n",
    "    '''\n",
    "    based on test_df \n",
    "    get a dataframe with each user on each business's true ratings and prediction ratings\n",
    "    @k: int, top k similar businesses\n",
    "    '''\n",
    "    user_id_sample = reviews_test['user_id'].values\n",
    "    busi_id_sample = reviews_test['business_id'].values\n",
    "    \n",
    "    actual = []\n",
    "    predictions = []\n",
    "    \n",
    "    for i in range(len(reviews_test)):\n",
    "        try:\n",
    "            act, pred = get_results_cos(reviews, reviews_test, busi_id_sample[i], user_id_sample[i], df_sim, k)\n",
    "            actual.append(act)\n",
    "            predictions.append(pred)\n",
    "            \n",
    "        except:\n",
    "            actual.append(np.nan)\n",
    "            predictions.append(np.nan)\n",
    "            \n",
    "    return pd.DataFrame({\"user_id\": user_id_sample,\n",
    "                         \"business_id\": busi_id_sample,\n",
    "                         \"true_ratings\": actual,\n",
    "                         \"prediction_ratings\":  predictions                        \n",
    "                        })"
   ]
  },
  {
   "cell_type": "markdown",
   "metadata": {},
   "source": [
    "### - Tuning parameters k"
   ]
  },
  {
   "cell_type": "code",
   "execution_count": 19,
   "metadata": {},
   "outputs": [
    {
     "data": {
      "text/html": [
       "<div>\n",
       "<style scoped>\n",
       "    .dataframe tbody tr th:only-of-type {\n",
       "        vertical-align: middle;\n",
       "    }\n",
       "\n",
       "    .dataframe tbody tr th {\n",
       "        vertical-align: top;\n",
       "    }\n",
       "\n",
       "    .dataframe thead th {\n",
       "        text-align: right;\n",
       "    }\n",
       "</style>\n",
       "<table border=\"1\" class=\"dataframe\">\n",
       "  <thead>\n",
       "    <tr style=\"text-align: right;\">\n",
       "      <th></th>\n",
       "      <th>user_id</th>\n",
       "      <th>business_id</th>\n",
       "      <th>stars</th>\n",
       "      <th>review_id</th>\n",
       "      <th>text</th>\n",
       "    </tr>\n",
       "  </thead>\n",
       "  <tbody>\n",
       "    <tr>\n",
       "      <th>0</th>\n",
       "      <td>--2HUmLkcNHZp0xw6AMBPg</td>\n",
       "      <td>lRL7x-HMBscWyELxEVq85w</td>\n",
       "      <td>5.0</td>\n",
       "      <td>QoXopP3TkAFmhT9-N07umQ</td>\n",
       "      <td>I really enjoyed this place they have a really...</td>\n",
       "    </tr>\n",
       "    <tr>\n",
       "      <th>1</th>\n",
       "      <td>--4rAAfZnEIAKJE80aIiYg</td>\n",
       "      <td>ElWzx5_fU8S2G45OnM-HpA</td>\n",
       "      <td>2.0</td>\n",
       "      <td>aUP_1NZa4dn9oLQUZerNfQ</td>\n",
       "      <td>Not impressed at all. We came for dinner on a ...</td>\n",
       "    </tr>\n",
       "    <tr>\n",
       "      <th>2</th>\n",
       "      <td>--CIuK7sUpaNzalLAlHJKA</td>\n",
       "      <td>j-3kj1ZCKINyqRVHbWHv3Q</td>\n",
       "      <td>5.0</td>\n",
       "      <td>4NTe_Ivl_T-bclmWVLWNew</td>\n",
       "      <td>So look, I'm simple when it comes to BBQ. I do...</td>\n",
       "    </tr>\n",
       "  </tbody>\n",
       "</table>\n",
       "</div>"
      ],
      "text/plain": [
       "                  user_id             business_id  stars  \\\n",
       "0  --2HUmLkcNHZp0xw6AMBPg  lRL7x-HMBscWyELxEVq85w    5.0   \n",
       "1  --4rAAfZnEIAKJE80aIiYg  ElWzx5_fU8S2G45OnM-HpA    2.0   \n",
       "2  --CIuK7sUpaNzalLAlHJKA  j-3kj1ZCKINyqRVHbWHv3Q    5.0   \n",
       "\n",
       "                review_id                                               text  \n",
       "0  QoXopP3TkAFmhT9-N07umQ  I really enjoyed this place they have a really...  \n",
       "1  aUP_1NZa4dn9oLQUZerNfQ  Not impressed at all. We came for dinner on a ...  \n",
       "2  4NTe_Ivl_T-bclmWVLWNew  So look, I'm simple when it comes to BBQ. I do...  "
      ]
     },
     "execution_count": 19,
     "metadata": {},
     "output_type": "execute_result"
    }
   ],
   "source": [
    "valid_df.head(3)"
   ]
  },
  {
   "cell_type": "code",
   "execution_count": 20,
   "metadata": {},
   "outputs": [
    {
     "name": "stdout",
     "output_type": "stream",
     "text": [
      "time elapsed: (seconds)\n",
      "2527.366\n"
     ]
    }
   ],
   "source": [
    "t0 = time.time()\n",
    "df_pred_results = pd.DataFrame(columns= [\"ks\", \"sample_size\", \"rmse\", \"mae\"])\n",
    "sample_sizes = [len(valid_df)]\n",
    "ks = [5,15,25,35]\n",
    "\n",
    "for sample_size in sample_sizes:\n",
    "    for k in ks:\n",
    "        valid = CB_NLP_predict(train_df, valid_df.sample(n = sample_size, random_state = 12), df_sim, k)\n",
    "        rmse = mean_squared_error(valid.dropna().prediction_ratings, valid.dropna().true_ratings)**0.5\n",
    "        mae = mean_absolute_error(valid.dropna().prediction_ratings, valid.dropna().true_ratings)**0.5\n",
    "        df_pred_results = df_pred_results.append({\"ks\": k, \"sample_size\": sample_size,\n",
    "                                                  \"rmse\": rmse, \"mae\": mae}, ignore_index = True)\n",
    "t1 = time.time()\n",
    "print(\"time elapsed: (seconds)\")\n",
    "print(np.round(t1 - t0,3))"
   ]
  },
  {
   "cell_type": "code",
   "execution_count": 21,
   "metadata": {},
   "outputs": [
    {
     "data": {
      "text/plain": [
       "<matplotlib.axes._subplots.AxesSubplot at 0x7ff731090650>"
      ]
     },
     "execution_count": 21,
     "metadata": {},
     "output_type": "execute_result"
    },
    {
     "name": "stdout",
     "output_type": "stream",
     "text": [
      "optimal k (nearest neighbors):\n",
      "3    35.0\n",
      "Name: ks, dtype: float64\n"
     ]
    },
    {
     "data": {
      "image/png": "[encoded data removed]",
      "text/plain": [
       "<Figure size 432x288 with 1 Axes>"
      ]
     },
     "metadata": {
      "needs_background": "light"
     },
     "output_type": "display_data"
    }
   ],
   "source": [
    "df_pred_results[df_pred_results[\"sample_size\"] == sample_size].plot(\"ks\", \"rmse\")\n",
    "print(\"optimal k (nearest neighbors):\")\n",
    "print(df_pred_results.loc[df_pred_results[\"rmse\"] == np.min(df_pred_results.rmse) ,\"ks\"])"
   ]
  },
  {
   "cell_type": "code",
   "execution_count": 23,
   "metadata": {},
   "outputs": [],
   "source": [
    "df_pred_results.to_csv(\"Content_Based_Filtering_Cosine_Evaluation.csv\",index = False)"
   ]
  },
  {
   "cell_type": "code",
   "execution_count": null,
   "metadata": {},
   "outputs": [],
   "source": []
  },
  {
   "cell_type": "code",
   "execution_count": null,
   "metadata": {},
   "outputs": [],
   "source": []
  },
  {
   "cell_type": "code",
   "execution_count": null,
   "metadata": {},
   "outputs": [],
   "source": []
  },
  {
   "cell_type": "code",
   "execution_count": null,
   "metadata": {},
   "outputs": [],
   "source": []
  },
  {
   "cell_type": "markdown",
   "metadata": {},
   "source": [
    "## LSI Model"
   ]
  },
  {
   "cell_type": "markdown",
   "metadata": {},
   "source": [
    "### - 2 parameters to tune: n topics and k nearest businesses"
   ]
  },
  {
   "cell_type": "code",
   "execution_count": null,
   "metadata": {},
   "outputs": [],
   "source": [
    "def get_lsi(processed, reviews, user_id, n_topics):\n",
    "    '''\n",
    "    get the lsi model for user_id\n",
    "    '''\n",
    "    user_bids = reviews[reviews['user_id']==user_id]['business_id'].values\n",
    "    processed_user = processed.loc[processed.business_id.isin(user_bids)]\n",
    "    documents = list(processed_user['text'].values)\n",
    "    texts = [[word for word in document.split(' ')] for document in documents]\n",
    "    dictionary = corpora.Dictionary(texts)\n",
    "    corpus = [dictionary.doc2bow(text) for text in texts] \n",
    "\n",
    "    lsi = models.LsiModel(corpus, id2word=dictionary, num_topics=n_topics)\n",
    "    \n",
    "    return lsi, dictionary, corpus"
   ]
  },
  {
   "cell_type": "code",
   "execution_count": null,
   "metadata": {},
   "outputs": [],
   "source": [
    "#### Dont run this cell !!!\n",
    "\n",
    "df_lsi = pd.DataFrame(columns = [\"user_id\",\"n_topic\", \"lsi\", \"dictionary\"])\n",
    "n_topics = [10,20,50,80,100,150]\n",
    "\n",
    "for n_topic in n_topics:\n",
    "    for i in range(len(test_df)):\n",
    "        lsi, dictionary, corpus = get_lsi(df_texts_train, train_df, user_id_sample[i], n_topic)\n",
    "        df_lsi = df_lsi.append({\"user_id\": test_df.user_id[i],\n",
    "                                \"n_topic\": n_topic,\n",
    "                                \"lsi\": lsi,\n",
    "                                \"dictionary\": dictionary}, ignore_index = True)"
   ]
  },
  {
   "cell_type": "code",
   "execution_count": null,
   "metadata": {},
   "outputs": [],
   "source": [
    "def get_recommendation_lsi(processed, reviews, df_lsi, business_id, user_id, k, n_topics):\n",
    "    lsi = df_lsi[(df_lsi[\"n_topic\"] == n_topics) & (df_lsi[\"user_id\"] == user_id)][\"lsi\"][0]\n",
    "    dictionary = df_lsi[(df_lsi[\"n_topic\"] == n_topics) & (df_lsi[\"user_id\"] == user_id)][\"dictionary\"][0]\n",
    "    user_bids = reviews[reviews['user_id']==user_id]['business_id'].values\n",
    "    processed_user = processed.loc[processed.business_id.isin(user_bids)]\n",
    "    documents = list(processed_user['text'].values)\n",
    "    texts = [[word for word in document.split(' ')] for document in documents]\n",
    "    corpus = [dictionary.doc2bow(text) for text in texts] \n",
    "    \n",
    "    doc = processed['text'].loc[processed.business_id==business_id].values[0]\n",
    "    vec_bow = dictionary.doc2bow(doc.lower().split())\n",
    "    vec_lsi = lsi[vec_bow]\n",
    "    index = similarities.MatrixSimilarity(lsi[corpus])\n",
    "    sims = list(index[vec_lsi])\n",
    "    results = list(zip(user_bids, sims))\n",
    "    results_ordered = np.array(sorted(results, key=lambda x: x[1], reverse=True))\n",
    "    results_topk = results_ordered[:k]\n",
    "    \n",
    "    return results_topk[:,0]\n",
    "\n",
    "def get_results_lsi(processed,reviews,reviews_test, df_lsi ,business_id,user_id,k,n_topics):\n",
    "    actual = reviews_test.loc[(reviews_test.user_id==user_id) & (reviews_test.business_id==business_id)]['stars'].values[0]\n",
    "    business_ids = get_recommendation_lsi(processed,reviews,df_lsi ,business_id,user_id,k,n_topics)\n",
    "    prediction = predict_rating(reviews, user_id, business_ids)\n",
    "    \n",
    "    return actual, prediction"
   ]
  },
  {
   "cell_type": "code",
   "execution_count": null,
   "metadata": {},
   "outputs": [],
   "source": [
    "def get_recommendation_lsi(processed,reviews,business_id,user_id,k,n_topics):\n",
    "    user_bids = reviews[reviews['user_id']==user_id]['business_id'].values\n",
    "    processed_user = processed.loc[processed.business_id.isin(user_bids)]\n",
    "    documents = list(processed_user['text'].values)\n",
    "    texts = [[word for word in document.split(' ')] for document in documents]\n",
    "    dictionary = corpora.Dictionary(texts)\n",
    "    corpus = [dictionary.doc2bow(text) for text in texts] \n",
    "\n",
    "    lsi = models.LsiModel(corpus, id2word=dictionary, num_topics=n_topics)\n",
    "    doc = processed['text'].loc[processed.business_id==business_id].values[0]\n",
    "    vec_bow = dictionary.doc2bow(doc.lower().split())\n",
    "    vec_lsi = lsi[vec_bow]\n",
    "    index = similarities.MatrixSimilarity(lsi[corpus])\n",
    "    sims = list(index[vec_lsi])\n",
    "    results = list(zip(user_bids, sims))\n",
    "    results_ordered = np.array(sorted(results, key=lambda x: x[1], reverse=True))\n",
    "    results_topk = results_ordered[:k]\n",
    "    \n",
    "    return results_topk[:,0]\n",
    "\n",
    "def get_results_lsi(processed,reviews,reviews_test ,business_id,user_id,k,n_topics):\n",
    "    actual = reviews_test.loc[(reviews_test.user_id==user_id) & (reviews_test.business_id==business_id)]['stars'].values[0]\n",
    "    business_ids = get_recommendation_lsi(processed,reviews,business_id,user_id,k,n_topics)\n",
    "    prediction = predict_rating(reviews, user_id, business_ids)\n",
    "    \n",
    "    return actual, prediction"
   ]
  },
  {
   "cell_type": "code",
   "execution_count": null,
   "metadata": {},
   "outputs": [],
   "source": [
    "def CB_LSI_predict(df_texts_train, reviews, reviews_test, k = 5, n_topics = 100):\n",
    "    uid_sample = reviews_test['user_id'].values\n",
    "    bid_sample = reviews_test['business_id'].values\n",
    "    actual_lsi = []\n",
    "    predictions_lsi = []\n",
    "    for i in range(len(reviews_test)):\n",
    "        try:\n",
    "            act, pred = get_results_lsi(df_texts_train, reviews, reviews_test, bid_sample[i],uid_sample[i], k, n_topics)\n",
    "            predictions_lsi.append(pred)\n",
    "            actual_lsi.append(act)\n",
    "\n",
    "        except:\n",
    "            predictions_lsi.append(np.nan)\n",
    "            actual_lsi.append(np.nan)\n",
    "            \n",
    "    return pd.DataFrame({\"user_id\": uid_sample,\n",
    "                         \"business_id\": bid_sample,\n",
    "                         \"ratings\": actual_lsi,\n",
    "                         \"pred_lsi\":  predictions_lsi                       \n",
    "                        })"
   ]
  },
  {
   "cell_type": "code",
   "execution_count": null,
   "metadata": {},
   "outputs": [],
   "source": [
    "t0 = time.time()\n",
    "df_pred_results_lsi = pd.DataFrame(columns= [\"ks\",\"n_topics\",\"sample_size\", \"rmse\", \"mae\"])\n",
    "# sample_sizes = [100]\n",
    "ks = [40]\n",
    "n_topics = [20,50,80,100]\n",
    "\n",
    "# for sample_size in sample_sizes:\n",
    "for k in ks:\n",
    "    for n_topic in n_topics:\n",
    "        test = CB_LSI_predict(df_texts_train,train_df, test_df, k = k, n_topics = n_topic)\n",
    "        rmse = mean_squared_error(test.dropna().pred_lsi, test.dropna().ratings)**0.5\n",
    "        mae = mean_absolute_error(test.dropna().pred_lsi, test.dropna().ratings)**0.5\n",
    "        df_pred_results_lsi = df_pred_results_lsi.append({\"ks\": k, \"n_topics\": n_topic,\"sample_size\": len(test_df),\n",
    "                                \"rmse\": rmse, \"mae\": mae}, ignore_index = True)\n",
    "t1=  time.time()\n",
    "print(\"time elapsed: (seconds)\")\n",
    "print(np.round(t1- t0,3))"
   ]
  },
  {
   "cell_type": "code",
   "execution_count": 58,
   "metadata": {},
   "outputs": [
    {
     "data": {
      "text/html": [
       "<div>\n",
       "<style scoped>\n",
       "    .dataframe tbody tr th:only-of-type {\n",
       "        vertical-align: middle;\n",
       "    }\n",
       "\n",
       "    .dataframe tbody tr th {\n",
       "        vertical-align: top;\n",
       "    }\n",
       "\n",
       "    .dataframe thead th {\n",
       "        text-align: right;\n",
       "    }\n",
       "</style>\n",
       "<table border=\"1\" class=\"dataframe\">\n",
       "  <thead>\n",
       "    <tr style=\"text-align: right;\">\n",
       "      <th></th>\n",
       "      <th>ks</th>\n",
       "      <th>n_topics</th>\n",
       "      <th>sample_size</th>\n",
       "      <th>rmse</th>\n",
       "      <th>mae</th>\n",
       "    </tr>\n",
       "  </thead>\n",
       "  <tbody>\n",
       "    <tr>\n",
       "      <td>0</td>\n",
       "      <td>40.0</td>\n",
       "      <td>20.0</td>\n",
       "      <td>20433.0</td>\n",
       "      <td>1.165239</td>\n",
       "      <td>0.914670</td>\n",
       "    </tr>\n",
       "    <tr>\n",
       "      <td>1</td>\n",
       "      <td>40.0</td>\n",
       "      <td>50.0</td>\n",
       "      <td>20433.0</td>\n",
       "      <td>1.165827</td>\n",
       "      <td>0.915209</td>\n",
       "    </tr>\n",
       "    <tr>\n",
       "      <td>2</td>\n",
       "      <td>40.0</td>\n",
       "      <td>80.0</td>\n",
       "      <td>20433.0</td>\n",
       "      <td>1.166328</td>\n",
       "      <td>0.915811</td>\n",
       "    </tr>\n",
       "    <tr>\n",
       "      <td>3</td>\n",
       "      <td>40.0</td>\n",
       "      <td>100.0</td>\n",
       "      <td>20433.0</td>\n",
       "      <td>1.166328</td>\n",
       "      <td>0.915811</td>\n",
       "    </tr>\n",
       "  </tbody>\n",
       "</table>\n",
       "</div>"
      ],
      "text/plain": [
       "     ks  n_topics  sample_size      rmse       mae\n",
       "0  40.0      20.0      20433.0  1.165239  0.914670\n",
       "1  40.0      50.0      20433.0  1.165827  0.915209\n",
       "2  40.0      80.0      20433.0  1.166328  0.915811\n",
       "3  40.0     100.0      20433.0  1.166328  0.915811"
      ]
     },
     "execution_count": 58,
     "metadata": {},
     "output_type": "execute_result"
    }
   ],
   "source": [
    "df_pred_results_lsi"
   ]
  },
  {
   "cell_type": "code",
   "execution_count": 90,
   "metadata": {},
   "outputs": [
    {
     "data": {
      "text/plain": [
       "<matplotlib.axes._subplots.AxesSubplot at 0x7fa5803d5b10>"
      ]
     },
     "execution_count": 90,
     "metadata": {},
     "output_type": "execute_result"
    },
    {
     "data": {
      "image/png": "[encoded data removed]",
      "text/plain": [
       "<Figure size 432x288 with 1 Axes>"
      ]
     },
     "metadata": {
      "needs_background": "light"
     },
     "output_type": "display_data"
    }
   ],
   "source": [
    "df_pred_results_lsi[df_pred_results_lsi[\"n_topics\"] == 120].plot(\"ks\", \"rmse\")"
   ]
  },
  {
   "cell_type": "code",
   "execution_count": 59,
   "metadata": {},
   "outputs": [
    {
     "data": {
      "text/plain": [
       "<matplotlib.axes._subplots.AxesSubplot at 0x7fd968d2ca58>"
      ]
     },
     "execution_count": 59,
     "metadata": {},
     "output_type": "execute_result"
    },
    {
     "data": {
      "image/png": "[encoded data removed]",
      "text/plain": [
       "<Figure size 432x288 with 1 Axes>"
      ]
     },
     "metadata": {
      "needs_background": "light"
     },
     "output_type": "display_data"
    }
   ],
   "source": [
    "df_pred_results_lsi[df_pred_results_lsi[\"ks\"] == 40].plot(\"n_topics\", \"rmse\")"
   ]
  },
  {
   "cell_type": "code",
   "execution_count": 349,
   "metadata": {},
   "outputs": [
    {
     "data": {
      "text/plain": [
       "0.0"
      ]
     },
     "execution_count": 349,
     "metadata": {},
     "output_type": "execute_result"
    }
   ],
   "source": [
    "mean_squared_error(test.dropna().pred_lsi, test.dropna().ratings)**0.5"
   ]
  },
  {
   "cell_type": "code",
   "execution_count": 333,
   "metadata": {},
   "outputs": [
    {
     "data": {
      "text/html": [
       "<div>\n",
       "<style scoped>\n",
       "    .dataframe tbody tr th:only-of-type {\n",
       "        vertical-align: middle;\n",
       "    }\n",
       "\n",
       "    .dataframe tbody tr th {\n",
       "        vertical-align: top;\n",
       "    }\n",
       "\n",
       "    .dataframe thead th {\n",
       "        text-align: right;\n",
       "    }\n",
       "</style>\n",
       "<table border=\"1\" class=\"dataframe\">\n",
       "  <thead>\n",
       "    <tr style=\"text-align: right;\">\n",
       "      <th></th>\n",
       "      <th>ks</th>\n",
       "      <th>n_topics</th>\n",
       "      <th>sample_size</th>\n",
       "      <th>rmse</th>\n",
       "      <th>mae</th>\n",
       "    </tr>\n",
       "  </thead>\n",
       "  <tbody>\n",
       "    <tr>\n",
       "      <th>0</th>\n",
       "      <td>10.0</td>\n",
       "      <td>10.0</td>\n",
       "      <td>50.0</td>\n",
       "      <td>0.0</td>\n",
       "      <td>0.0</td>\n",
       "    </tr>\n",
       "    <tr>\n",
       "      <th>1</th>\n",
       "      <td>10.0</td>\n",
       "      <td>50.0</td>\n",
       "      <td>50.0</td>\n",
       "      <td>0.0</td>\n",
       "      <td>0.0</td>\n",
       "    </tr>\n",
       "    <tr>\n",
       "      <th>2</th>\n",
       "      <td>10.0</td>\n",
       "      <td>100.0</td>\n",
       "      <td>50.0</td>\n",
       "      <td>0.0</td>\n",
       "      <td>0.0</td>\n",
       "    </tr>\n",
       "    <tr>\n",
       "      <th>3</th>\n",
       "      <td>10.0</td>\n",
       "      <td>200.0</td>\n",
       "      <td>50.0</td>\n",
       "      <td>0.0</td>\n",
       "      <td>0.0</td>\n",
       "    </tr>\n",
       "  </tbody>\n",
       "</table>\n",
       "</div>"
      ],
      "text/plain": [
       "     ks  n_topics  sample_size  rmse  mae\n",
       "0  10.0      10.0         50.0   0.0  0.0\n",
       "1  10.0      50.0         50.0   0.0  0.0\n",
       "2  10.0     100.0         50.0   0.0  0.0\n",
       "3  10.0     200.0         50.0   0.0  0.0"
      ]
     },
     "execution_count": 333,
     "metadata": {},
     "output_type": "execute_result"
    }
   ],
   "source": [
    "df_pred_results_lsi"
   ]
  },
  {
   "cell_type": "code",
   "execution_count": 34,
   "metadata": {},
   "outputs": [
    {
     "name": "stdout",
     "output_type": "stream",
     "text": [
      "651 ms ± 37.8 ms per loop (mean ± std. dev. of 7 runs, 1 loop each)\n"
     ]
    }
   ],
   "source": [
    "%timeit get_results_lsi(df_texts_train, train_df, test_df, bid_sample[0], uid_sample[0], 30,10)"
   ]
  },
  {
   "cell_type": "code",
   "execution_count": 55,
   "metadata": {},
   "outputs": [],
   "source": [
    "# experiement\n",
    "uid_sample = test_df['user_id'].values\n",
    "bid_sample = test_df['business_id'].values\n",
    "act, pred = get_results_lsi(df_texts_train, train_df, \n",
    "                                test_df, \n",
    "                                bid_sample[0], \n",
    "                                uid_sample[0], \n",
    "                                30,\n",
    "                                20)"
   ]
  },
  {
   "cell_type": "code",
   "execution_count": 54,
   "metadata": {},
   "outputs": [
    {
     "data": {
      "text/plain": [
       "(5.0, 4.633333333333334)"
      ]
     },
     "execution_count": 54,
     "metadata": {},
     "output_type": "execute_result"
    }
   ],
   "source": [
    "act, pred"
   ]
  },
  {
   "cell_type": "code",
   "execution_count": null,
   "metadata": {},
   "outputs": [],
   "source": []
  },
  {
   "cell_type": "code",
   "execution_count": null,
   "metadata": {},
   "outputs": [],
   "source": []
  },
  {
   "cell_type": "code",
   "execution_count": null,
   "metadata": {},
   "outputs": [],
   "source": []
  },
  {
   "cell_type": "markdown",
   "metadata": {},
   "source": [
    "# Mixture Model"
   ]
  },
  {
   "cell_type": "markdown",
   "metadata": {},
   "source": [
    "- Add additional similarity matrix on top of the cosine similarity matrix\n",
    "\n",
    "- Extracte additional information for the business dataset\n",
    "\n",
    "- Compute the similarity between different businesses based on the numerical variables available in the business dataset. For example, stars, review_count etc.\n",
    "\n",
    "- The new matrix is a linear combination of the cosine similarity matrix and the additional matrix, with both matrices multiplied by a factor $\\lambda$ and $1-\\lambda$\n",
    "\n",
    "- The next step would be finding out the optimal value of $\\lambda$, which is defaulted as 0.5"
   ]
  },
  {
   "cell_type": "code",
   "execution_count": 31,
   "metadata": {},
   "outputs": [],
   "source": [
    "business = pd.read_csv('../data/business_data_subset.csv')"
   ]
  },
  {
   "cell_type": "code",
   "execution_count": 32,
   "metadata": {},
   "outputs": [
    {
     "data": {
      "text/html": [
       "<div>\n",
       "<style scoped>\n",
       "    .dataframe tbody tr th:only-of-type {\n",
       "        vertical-align: middle;\n",
       "    }\n",
       "\n",
       "    .dataframe tbody tr th {\n",
       "        vertical-align: top;\n",
       "    }\n",
       "\n",
       "    .dataframe thead th {\n",
       "        text-align: right;\n",
       "    }\n",
       "</style>\n",
       "<table border=\"1\" class=\"dataframe\">\n",
       "  <thead>\n",
       "    <tr style=\"text-align: right;\">\n",
       "      <th></th>\n",
       "      <th>business_id</th>\n",
       "      <th>latitude</th>\n",
       "      <th>longitude</th>\n",
       "      <th>stars</th>\n",
       "      <th>review_count</th>\n",
       "      <th>is_open</th>\n",
       "    </tr>\n",
       "  </thead>\n",
       "  <tbody>\n",
       "    <tr>\n",
       "      <th>0</th>\n",
       "      <td>CsLQLiRoafpJPJSkNX2h5Q</td>\n",
       "      <td>35.194894</td>\n",
       "      <td>-80.767442</td>\n",
       "      <td>3.0</td>\n",
       "      <td>5</td>\n",
       "      <td>0</td>\n",
       "    </tr>\n",
       "    <tr>\n",
       "      <th>1</th>\n",
       "      <td>vjTVxnsQEZ34XjYNS-XUpA</td>\n",
       "      <td>33.602822</td>\n",
       "      <td>-111.983533</td>\n",
       "      <td>4.0</td>\n",
       "      <td>10</td>\n",
       "      <td>1</td>\n",
       "    </tr>\n",
       "    <tr>\n",
       "      <th>2</th>\n",
       "      <td>fnZrZlqW1Z8iWgTVDfv_MA</td>\n",
       "      <td>36.099738</td>\n",
       "      <td>-115.301568</td>\n",
       "      <td>2.5</td>\n",
       "      <td>15</td>\n",
       "      <td>0</td>\n",
       "    </tr>\n",
       "  </tbody>\n",
       "</table>\n",
       "</div>"
      ],
      "text/plain": [
       "              business_id   latitude   longitude  stars  review_count  is_open\n",
       "0  CsLQLiRoafpJPJSkNX2h5Q  35.194894  -80.767442    3.0             5        0\n",
       "1  vjTVxnsQEZ34XjYNS-XUpA  33.602822 -111.983533    4.0            10        1\n",
       "2  fnZrZlqW1Z8iWgTVDfv_MA  36.099738 -115.301568    2.5            15        0"
      ]
     },
     "execution_count": 32,
     "metadata": {},
     "output_type": "execute_result"
    }
   ],
   "source": [
    "business_sub = business[['business_id', 'latitude', 'longitude', 'stars', 'review_count', 'is_open']]\n",
    "business_sub.head(3)"
   ]
  },
  {
   "cell_type": "code",
   "execution_count": 37,
   "metadata": {},
   "outputs": [],
   "source": [
    "def get_mix_sim_matrix(processed, lmbda, business):\n",
    "    tfidf_matrix = get_tfidf_matrix(processed)\n",
    "    cosine_sim = get_cos_sim_matrix(tfidf_matrix, 20)\n",
    "    business_sub = business[['business_id', 'latitude', 'longitude', 'stars', 'review_count', 'is_open']]\n",
    "    business_processed = business_sub[business_sub['business_id'].isin(processed['business_id'])]\\\n",
    "                                                                 .set_index('business_id')\n",
    "    scaler = StandardScaler()\n",
    "    X = scaler.fit_transform(business_processed)\n",
    "    eucl_dis = euclidean_distances(X,X)\n",
    "    eucl_sim = 1/np.exp(eucl_dis)\n",
    "    mixed_sim = np.add(cosine_sim*lmbda,eucl_sim*(1-lmbda)) # assume equally weighted\n",
    "\n",
    "    return mixed_sim"
   ]
  },
  {
   "cell_type": "markdown",
   "metadata": {},
   "source": [
    "### - Set $\\lambda$ = 0.5"
   ]
  },
  {
   "cell_type": "code",
   "execution_count": 38,
   "metadata": {},
   "outputs": [
    {
     "data": {
      "text/plain": [
       "(1728, 1728)"
      ]
     },
     "execution_count": 38,
     "metadata": {},
     "output_type": "execute_result"
    }
   ],
   "source": [
    "mixed_sim = get_mix_sim_matrix(text_train_df, 0.5, business)\n",
    "mixed_sim.shape"
   ]
  },
  {
   "cell_type": "code",
   "execution_count": null,
   "metadata": {},
   "outputs": [],
   "source": [
    "predictions_mix = []\n",
    "actual_mix = []\n",
    "for i in range(len(reviews_processed)):\n",
    "    try:\n",
    "        act, pred = get_results_cos(df_texts_train, \n",
    "                                    reviews_processed, \n",
    "                                    business, \n",
    "                                    busi_id_sample[i], \n",
    "                                    user_id_sample[i], \n",
    "                                    mixed_sim, \n",
    "                                    5)\n",
    "        predictions_mix.append(pred)\n",
    "        actual_mix.append(act)\n",
    "    \n",
    "    except:\n",
    "    next"
   ]
  },
  {
   "cell_type": "code",
   "execution_count": null,
   "metadata": {},
   "outputs": [],
   "source": [
    "rmse_mix = mean_squared_error(predictions_mix, actual_mix)**0.5\n",
    "mae_mix = mean_absolute_error(predictions_mix, actual_mix)\n",
    "print(f'RMSE: {rmse_mix}, MAE: {mae_mix}')"
   ]
  },
  {
   "cell_type": "code",
   "execution_count": null,
   "metadata": {},
   "outputs": [],
   "source": [
    "cov_mix = get_coverage(processed,reviews,business,mixed_sim,5)\n",
    "print(f'coverage: {cov_mix}')"
   ]
  },
  {
   "cell_type": "markdown",
   "metadata": {},
   "source": [
    "### - Tune $\\lambda$ "
   ]
  },
  {
   "cell_type": "code",
   "execution_count": null,
   "metadata": {},
   "outputs": [],
   "source": [
    "def tuning_mix_param(lmbdas,\n",
    "                     processed, \n",
    "                     reviews, \n",
    "                     business):\n",
    "    rmse_mix = []\n",
    "    reviews_processed = get_review_processed(processed, reviews)\n",
    "    user_id_sample = reviews_processed['user_id'].values\n",
    "    busi_id_sample = reviews_processed['business_id'].values\n",
    "\n",
    "    for lmbda in lmbdas:\n",
    "        mixed_sim = get_mix_sim_matrix(processed, lmbda, business)\n",
    "        predictions_mix, actual_mix = [], []\n",
    "        for i in range(len(reviews_processed)):\n",
    "            try:\n",
    "            act, pred = get_results_cos(processed, \n",
    "                                        reviews_processed, \n",
    "                                        business, \n",
    "                                        bid_sample[i], \n",
    "                                        uid_sample[i], \n",
    "                                        mixed_sim, \n",
    "                                        5)\n",
    "            predictions_mix.append(pred)\n",
    "            actual_mix.append(act)\n",
    "            except:\n",
    "            next\n",
    "            \n",
    "        rmse = mean_squared_error(predictions_mix, actual_mix)**0.5\n",
    "        rmse_mix.append(rmse)\n",
    "  \n",
    "  return rmse_mix"
   ]
  },
  {
   "cell_type": "code",
   "execution_count": null,
   "metadata": {},
   "outputs": [],
   "source": [
    "processed_s = get_processed(text_train_df)\n",
    "lmbdas = np.linspace(0,1,5)\n",
    "rmse_mix_tune = tuning_mix_param(lmbdas,\n",
    "                                 processed_s, \n",
    "                                 reviews, \n",
    "                                 business)\n",
    "rmse_mix_min = min(rmse_mix_tune)\n",
    "rmse_mix_min_idx = rmse_mix_tune.index(rmse_mix_min)\n",
    "lmbda_min = lmbdas[rmse_mix_min_idx]"
   ]
  },
  {
   "cell_type": "code",
   "execution_count": null,
   "metadata": {},
   "outputs": [],
   "source": [
    "plt.plot(lmbdas, rmse_mix_tune)\n",
    "plt.xlabel('lambda')\n",
    "plt.ylabel('RMSE')\n",
    "plt.title('RMSE for different mixture models')\n",
    "plt.plot([lmbda_min], [rmse_mix_min], 'o')\n",
    "plt.show()"
   ]
  }
 ],
 "metadata": {
  "kernelspec": {
   "display_name": "Python 3",
   "language": "python",
   "name": "python3"
  },
  "language_info": {
   "codemirror_mode": {
    "name": "ipython",
    "version": 3
   },
   "file_extension": ".py",
   "mimetype": "text/x-python",
   "name": "python",
   "nbconvert_exporter": "python",
   "pygments_lexer": "ipython3",
   "version": "3.7.6"
  },
  "varInspector": {
   "cols": {
    "lenName": 16,
    "lenType": 16,
    "lenVar": 40
   },
   "kernels_config": {
    "python": {
     "delete_cmd_postfix": "",
     "delete_cmd_prefix": "del ",
     "library": "var_list.py",
     "varRefreshCmd": "print(var_dic_list())"
    },
    "r": {
     "delete_cmd_postfix": ") ",
     "delete_cmd_prefix": "rm(",
     "library": "var_list.r",
     "varRefreshCmd": "cat(var_dic_list()) "
    }
   },
   "types_to_exclude": [
    "module",
    "function",
    "builtin_function_or_method",
    "instance",
    "_Feature"
   ],
   "window_display": false
  }
 },
 "nbformat": 4,
 "nbformat_minor": 4
}
