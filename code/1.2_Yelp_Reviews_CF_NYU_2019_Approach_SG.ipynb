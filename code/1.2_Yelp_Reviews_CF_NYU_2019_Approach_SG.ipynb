{
 "cells": [
  {
   "cell_type": "markdown",
   "metadata": {},
   "source": [
    "## This file follows the NYU 2019 approach to clean data and build the CF baseline model\n",
    "https://github.com/jiangzl2016/yelp-rating-prediction/blob/master/1_baseline_and_collaborative_filtering.ipynb\n"
   ]
  },
  {
   "cell_type": "code",
   "execution_count": 218,
   "metadata": {},
   "outputs": [],
   "source": [
    "import matplotlib.pyplot as plt\n",
    "import pandas as pd\n",
    "import tarfile\n",
    "from tqdm import tqdm, tqdm_notebook, tnrange\n",
    "import json\n",
    "import numpy as np\n",
    "import time\n",
    "from copy import deepcopy\n",
    "\n"
   ]
  },
  {
   "cell_type": "code",
   "execution_count": 219,
   "metadata": {},
   "outputs": [],
   "source": [
    "# Load three pre-processed datasets: reviews data, business data for selected candidate cities\n",
    "sys_path = \"/Users/sigao/Yelp/yelp_dataset/\"\n",
    "## The restaurants in the five candidate cities\n",
    "restaurants_ = pd.read_csv(sys_path+ \"business_data_subset.csv\", index_col= None)\n",
    "### reviews in the top 5 candidate cities\n",
    "ratings_ = pd.read_csv(sys_path + \"reviews_data_subset.csv\")\n",
    "### users that are found in the top cities' restaurant reviews\n",
    "users_ = pd.read_csv(sys_path + \"user_data_subset.csv\")"
   ]
  },
  {
   "cell_type": "markdown",
   "metadata": {},
   "source": [
    "## subset data and focus on one city\n"
   ]
  },
  {
   "cell_type": "code",
   "execution_count": 3,
   "metadata": {},
   "outputs": [
    {
     "data": {
      "text/plain": [
       "array(['Charlotte', 'Phoenix', 'Las Vegas', 'Toronto', 'Scottsdale'],\n",
       "      dtype=object)"
      ]
     },
     "execution_count": 3,
     "metadata": {},
     "output_type": "execute_result"
    }
   ],
   "source": [
    "cities = restaurants_.city.unique()\n",
    "cities"
   ]
  },
  {
   "cell_type": "code",
   "execution_count": 4,
   "metadata": {},
   "outputs": [],
   "source": [
    "city = \"Phoenix\""
   ]
  },
  {
   "cell_type": "code",
   "execution_count": 5,
   "metadata": {},
   "outputs": [],
   "source": [
    "restaurants_ = restaurants_.loc[restaurants_.city == city]"
   ]
  },
  {
   "cell_type": "code",
   "execution_count": 6,
   "metadata": {},
   "outputs": [
    {
     "data": {
      "text/html": [
       "<div>\n",
       "<style scoped>\n",
       "    .dataframe tbody tr th:only-of-type {\n",
       "        vertical-align: middle;\n",
       "    }\n",
       "\n",
       "    .dataframe tbody tr th {\n",
       "        vertical-align: top;\n",
       "    }\n",
       "\n",
       "    .dataframe thead th {\n",
       "        text-align: right;\n",
       "    }\n",
       "</style>\n",
       "<table border=\"1\" class=\"dataframe\">\n",
       "  <thead>\n",
       "    <tr style=\"text-align: right;\">\n",
       "      <th></th>\n",
       "      <th>review_id</th>\n",
       "      <th>user_id</th>\n",
       "      <th>business_id</th>\n",
       "      <th>stars</th>\n",
       "      <th>useful</th>\n",
       "      <th>funny</th>\n",
       "      <th>cool</th>\n",
       "      <th>text</th>\n",
       "      <th>date</th>\n",
       "      <th>city</th>\n",
       "      <th>categories</th>\n",
       "      <th>review_count</th>\n",
       "    </tr>\n",
       "  </thead>\n",
       "  <tbody>\n",
       "    <tr>\n",
       "      <th>0</th>\n",
       "      <td>UGErdm6bt48SXTVwJIti2Q</td>\n",
       "      <td>QodunSzok4nIYFNrTSGesQ</td>\n",
       "      <td>poSV39UqEg-gpESXafS9-g</td>\n",
       "      <td>3.0</td>\n",
       "      <td>0.0</td>\n",
       "      <td>0.0</td>\n",
       "      <td>0.0</td>\n",
       "      <td>My husband and I go there once a week since la...</td>\n",
       "      <td>2018-03-04 01:03:53</td>\n",
       "      <td>Phoenix</td>\n",
       "      <td>Restaurants, American (New), Seafood, Cajun/Cr...</td>\n",
       "      <td>384</td>\n",
       "    </tr>\n",
       "    <tr>\n",
       "      <th>1</th>\n",
       "      <td>aBWKb49Xfkv1946YN7_SIg</td>\n",
       "      <td>sSPbLBHcEMXaJfoO8zs1bA</td>\n",
       "      <td>poSV39UqEg-gpESXafS9-g</td>\n",
       "      <td>5.0</td>\n",
       "      <td>0.0</td>\n",
       "      <td>0.0</td>\n",
       "      <td>0.0</td>\n",
       "      <td>Amazing food, drinks, service!\\n\\nWe started w...</td>\n",
       "      <td>2016-01-17 05:33:14</td>\n",
       "      <td>Phoenix</td>\n",
       "      <td>Restaurants, American (New), Seafood, Cajun/Cr...</td>\n",
       "      <td>384</td>\n",
       "    </tr>\n",
       "    <tr>\n",
       "      <th>2</th>\n",
       "      <td>jCHaWXgppmZjkOdpFltWGA</td>\n",
       "      <td>D5ywfFmwtJxLReqAYlDDmw</td>\n",
       "      <td>poSV39UqEg-gpESXafS9-g</td>\n",
       "      <td>5.0</td>\n",
       "      <td>3.0</td>\n",
       "      <td>0.0</td>\n",
       "      <td>2.0</td>\n",
       "      <td>I couldn't be more excited to have found this ...</td>\n",
       "      <td>2016-01-30 01:13:29</td>\n",
       "      <td>Phoenix</td>\n",
       "      <td>Restaurants, American (New), Seafood, Cajun/Cr...</td>\n",
       "      <td>384</td>\n",
       "    </tr>\n",
       "  </tbody>\n",
       "</table>\n",
       "</div>"
      ],
      "text/plain": [
       "                review_id                 user_id             business_id  \\\n",
       "0  UGErdm6bt48SXTVwJIti2Q  QodunSzok4nIYFNrTSGesQ  poSV39UqEg-gpESXafS9-g   \n",
       "1  aBWKb49Xfkv1946YN7_SIg  sSPbLBHcEMXaJfoO8zs1bA  poSV39UqEg-gpESXafS9-g   \n",
       "2  jCHaWXgppmZjkOdpFltWGA  D5ywfFmwtJxLReqAYlDDmw  poSV39UqEg-gpESXafS9-g   \n",
       "\n",
       "   stars  useful  funny  cool  \\\n",
       "0    3.0     0.0    0.0   0.0   \n",
       "1    5.0     0.0    0.0   0.0   \n",
       "2    5.0     3.0    0.0   2.0   \n",
       "\n",
       "                                                text                 date  \\\n",
       "0  My husband and I go there once a week since la...  2018-03-04 01:03:53   \n",
       "1  Amazing food, drinks, service!\\n\\nWe started w...  2016-01-17 05:33:14   \n",
       "2  I couldn't be more excited to have found this ...  2016-01-30 01:13:29   \n",
       "\n",
       "      city                                         categories  review_count  \n",
       "0  Phoenix  Restaurants, American (New), Seafood, Cajun/Cr...           384  \n",
       "1  Phoenix  Restaurants, American (New), Seafood, Cajun/Cr...           384  \n",
       "2  Phoenix  Restaurants, American (New), Seafood, Cajun/Cr...           384  "
      ]
     },
     "execution_count": 6,
     "metadata": {},
     "output_type": "execute_result"
    }
   ],
   "source": [
    "## merge restaurants and ratings to get city info:\n",
    "ratings_  = pd.merge(ratings_, restaurants_[['city','categories', 'business_id',\"review_count\"]], how = \"inner\", on =\"business_id\")\n",
    "# df_toronto.to_csv(\"merged_Toronto_reviews.csv\", index = None)\n",
    "ratings_.head(3)"
   ]
  },
  {
   "cell_type": "code",
   "execution_count": 7,
   "metadata": {},
   "outputs": [
    {
     "data": {
      "text/plain": [
       "(510982, 12)"
      ]
     },
     "execution_count": 7,
     "metadata": {},
     "output_type": "execute_result"
    }
   ],
   "source": [
    "ratings_.shape"
   ]
  },
  {
   "cell_type": "code",
   "execution_count": 8,
   "metadata": {},
   "outputs": [],
   "source": [
    "rating_threshold = 5"
   ]
  },
  {
   "cell_type": "code",
   "execution_count": 9,
   "metadata": {},
   "outputs": [
    {
     "data": {
      "text/plain": [
       "(262292, 12)"
      ]
     },
     "execution_count": 9,
     "metadata": {},
     "output_type": "execute_result"
    }
   ],
   "source": [
    "user_counts = ratings_[\"user_id\"].value_counts()\n",
    "active_users= user_counts.loc[user_counts >= rating_threshold].index.tolist()\n",
    "ratings_ = ratings_.loc[ratings_.user_id.isin(active_users)]\n",
    "ratings_.shape"
   ]
  },
  {
   "cell_type": "code",
   "execution_count": 10,
   "metadata": {},
   "outputs": [
    {
     "data": {
      "text/html": [
       "<div>\n",
       "<style scoped>\n",
       "    .dataframe tbody tr th:only-of-type {\n",
       "        vertical-align: middle;\n",
       "    }\n",
       "\n",
       "    .dataframe tbody tr th {\n",
       "        vertical-align: top;\n",
       "    }\n",
       "\n",
       "    .dataframe thead th {\n",
       "        text-align: right;\n",
       "    }\n",
       "</style>\n",
       "<table border=\"1\" class=\"dataframe\">\n",
       "  <thead>\n",
       "    <tr style=\"text-align: right;\">\n",
       "      <th></th>\n",
       "      <th>review_id</th>\n",
       "      <th>user_id</th>\n",
       "      <th>business_id</th>\n",
       "      <th>stars</th>\n",
       "      <th>useful</th>\n",
       "      <th>funny</th>\n",
       "      <th>cool</th>\n",
       "      <th>text</th>\n",
       "      <th>date</th>\n",
       "      <th>city</th>\n",
       "      <th>categories</th>\n",
       "      <th>review_count</th>\n",
       "    </tr>\n",
       "  </thead>\n",
       "  <tbody>\n",
       "    <tr>\n",
       "      <th>1</th>\n",
       "      <td>aBWKb49Xfkv1946YN7_SIg</td>\n",
       "      <td>sSPbLBHcEMXaJfoO8zs1bA</td>\n",
       "      <td>poSV39UqEg-gpESXafS9-g</td>\n",
       "      <td>5.0</td>\n",
       "      <td>0.0</td>\n",
       "      <td>0.0</td>\n",
       "      <td>0.0</td>\n",
       "      <td>Amazing food, drinks, service!\\n\\nWe started w...</td>\n",
       "      <td>2016-01-17 05:33:14</td>\n",
       "      <td>Phoenix</td>\n",
       "      <td>Restaurants, American (New), Seafood, Cajun/Cr...</td>\n",
       "      <td>384</td>\n",
       "    </tr>\n",
       "    <tr>\n",
       "      <th>2</th>\n",
       "      <td>jCHaWXgppmZjkOdpFltWGA</td>\n",
       "      <td>D5ywfFmwtJxLReqAYlDDmw</td>\n",
       "      <td>poSV39UqEg-gpESXafS9-g</td>\n",
       "      <td>5.0</td>\n",
       "      <td>3.0</td>\n",
       "      <td>0.0</td>\n",
       "      <td>2.0</td>\n",
       "      <td>I couldn't be more excited to have found this ...</td>\n",
       "      <td>2016-01-30 01:13:29</td>\n",
       "      <td>Phoenix</td>\n",
       "      <td>Restaurants, American (New), Seafood, Cajun/Cr...</td>\n",
       "      <td>384</td>\n",
       "    </tr>\n",
       "    <tr>\n",
       "      <th>3</th>\n",
       "      <td>KvJ8yT-dODmCYe21J-Pp_A</td>\n",
       "      <td>gjoN4q-f61kwjmmU4mm1_g</td>\n",
       "      <td>poSV39UqEg-gpESXafS9-g</td>\n",
       "      <td>2.0</td>\n",
       "      <td>0.0</td>\n",
       "      <td>0.0</td>\n",
       "      <td>0.0</td>\n",
       "      <td>The craft beers are very good, but that's abou...</td>\n",
       "      <td>2016-03-30 22:28:36</td>\n",
       "      <td>Phoenix</td>\n",
       "      <td>Restaurants, American (New), Seafood, Cajun/Cr...</td>\n",
       "      <td>384</td>\n",
       "    </tr>\n",
       "    <tr>\n",
       "      <th>5</th>\n",
       "      <td>CfueO6B4_WauGRQ0cq9Whg</td>\n",
       "      <td>fhwZh6_7YxWeVEuskKMTcA</td>\n",
       "      <td>poSV39UqEg-gpESXafS9-g</td>\n",
       "      <td>5.0</td>\n",
       "      <td>2.0</td>\n",
       "      <td>0.0</td>\n",
       "      <td>0.0</td>\n",
       "      <td>Loved this place! \\nI came for crab legs and w...</td>\n",
       "      <td>2016-05-07 01:19:53</td>\n",
       "      <td>Phoenix</td>\n",
       "      <td>Restaurants, American (New), Seafood, Cajun/Cr...</td>\n",
       "      <td>384</td>\n",
       "    </tr>\n",
       "    <tr>\n",
       "      <th>7</th>\n",
       "      <td>S8YMS-nYudRr-_NIT0CZqg</td>\n",
       "      <td>CyL4Nh9VHti5oIfcWevRIg</td>\n",
       "      <td>poSV39UqEg-gpESXafS9-g</td>\n",
       "      <td>5.0</td>\n",
       "      <td>0.0</td>\n",
       "      <td>1.0</td>\n",
       "      <td>2.0</td>\n",
       "      <td>I love sea food and I loved the Angry Crab Sha...</td>\n",
       "      <td>2016-02-11 23:00:41</td>\n",
       "      <td>Phoenix</td>\n",
       "      <td>Restaurants, American (New), Seafood, Cajun/Cr...</td>\n",
       "      <td>384</td>\n",
       "    </tr>\n",
       "  </tbody>\n",
       "</table>\n",
       "</div>"
      ],
      "text/plain": [
       "                review_id                 user_id             business_id  \\\n",
       "1  aBWKb49Xfkv1946YN7_SIg  sSPbLBHcEMXaJfoO8zs1bA  poSV39UqEg-gpESXafS9-g   \n",
       "2  jCHaWXgppmZjkOdpFltWGA  D5ywfFmwtJxLReqAYlDDmw  poSV39UqEg-gpESXafS9-g   \n",
       "3  KvJ8yT-dODmCYe21J-Pp_A  gjoN4q-f61kwjmmU4mm1_g  poSV39UqEg-gpESXafS9-g   \n",
       "5  CfueO6B4_WauGRQ0cq9Whg  fhwZh6_7YxWeVEuskKMTcA  poSV39UqEg-gpESXafS9-g   \n",
       "7  S8YMS-nYudRr-_NIT0CZqg  CyL4Nh9VHti5oIfcWevRIg  poSV39UqEg-gpESXafS9-g   \n",
       "\n",
       "   stars  useful  funny  cool  \\\n",
       "1    5.0     0.0    0.0   0.0   \n",
       "2    5.0     3.0    0.0   2.0   \n",
       "3    2.0     0.0    0.0   0.0   \n",
       "5    5.0     2.0    0.0   0.0   \n",
       "7    5.0     0.0    1.0   2.0   \n",
       "\n",
       "                                                text                 date  \\\n",
       "1  Amazing food, drinks, service!\\n\\nWe started w...  2016-01-17 05:33:14   \n",
       "2  I couldn't be more excited to have found this ...  2016-01-30 01:13:29   \n",
       "3  The craft beers are very good, but that's abou...  2016-03-30 22:28:36   \n",
       "5  Loved this place! \\nI came for crab legs and w...  2016-05-07 01:19:53   \n",
       "7  I love sea food and I loved the Angry Crab Sha...  2016-02-11 23:00:41   \n",
       "\n",
       "      city                                         categories  review_count  \n",
       "1  Phoenix  Restaurants, American (New), Seafood, Cajun/Cr...           384  \n",
       "2  Phoenix  Restaurants, American (New), Seafood, Cajun/Cr...           384  \n",
       "3  Phoenix  Restaurants, American (New), Seafood, Cajun/Cr...           384  \n",
       "5  Phoenix  Restaurants, American (New), Seafood, Cajun/Cr...           384  \n",
       "7  Phoenix  Restaurants, American (New), Seafood, Cajun/Cr...           384  "
      ]
     },
     "execution_count": 10,
     "metadata": {},
     "output_type": "execute_result"
    }
   ],
   "source": [
    "ratings_.head()"
   ]
  },
  {
   "cell_type": "code",
   "execution_count": 11,
   "metadata": {},
   "outputs": [
    {
     "name": "stdout",
     "output_type": "stream",
     "text": [
      "Unique Users: 20481, unique restaurants: 4164, total reviews: 262292\n"
     ]
    }
   ],
   "source": [
    "n_users = len(ratings_.user_id.unique())\n",
    "n_restaurants = len(ratings_.business_id.unique())\n",
    "n_ratings = len(ratings_)\n",
    "print('Unique Users: {0}, unique restaurants: {1}, total reviews: {2}'.format(n_users, n_restaurants,n_ratings))"
   ]
  },
  {
   "cell_type": "markdown",
   "metadata": {},
   "source": [
    "## Subsampling and Train-Test Split"
   ]
  },
  {
   "cell_type": "code",
   "execution_count": 12,
   "metadata": {},
   "outputs": [],
   "source": [
    "# Sampling rate: \n",
    "# since we are building recommender systems city-by-city, no need to downsampling\n",
    "SAMPLING_RATE = 1"
   ]
  },
  {
   "cell_type": "code",
   "execution_count": 13,
   "metadata": {},
   "outputs": [
    {
     "name": "stdout",
     "output_type": "stream",
     "text": [
      "                review_id                 user_id             business_id  \\\n",
      "0  aBWKb49Xfkv1946YN7_SIg  sSPbLBHcEMXaJfoO8zs1bA  poSV39UqEg-gpESXafS9-g   \n",
      "1  qw-m8wZJZWxLGJjlOE0Tew  sSPbLBHcEMXaJfoO8zs1bA  3CBLxydJU6CFRMGhu9b-sw   \n",
      "2  qhH0-khe2U1Vb88YGDxfuQ  sSPbLBHcEMXaJfoO8zs1bA  JRo3APL5f4-TEkuI-SoDcA   \n",
      "3  EiFX8Z5o_zu8HAbP9mVGyw  sSPbLBHcEMXaJfoO8zs1bA  PmQqj0wAnraXPuPSZCzEZQ   \n",
      "4  nFXB3me-0dpjwgzY_Hy5dg  sSPbLBHcEMXaJfoO8zs1bA  g3w01guDiTLszguA3vUrSg   \n",
      "\n",
      "   stars  useful  funny  cool  \\\n",
      "0    5.0     0.0    0.0   0.0   \n",
      "1    5.0     0.0    0.0   0.0   \n",
      "2    2.0     1.0    0.0   0.0   \n",
      "3    1.0     0.0    0.0   0.0   \n",
      "4    5.0     0.0    0.0   0.0   \n",
      "\n",
      "                                                text                 date  \\\n",
      "0  Amazing food, drinks, service!\\n\\nWe started w...  2016-01-17 05:33:14   \n",
      "1  After being a relatively regular patron for th...  2017-04-14 02:58:03   \n",
      "2  Solid 2-2.5 each time we have visited, includi...  2017-08-28 02:20:58   \n",
      "3  After standing in line and leaving once becaus...  2016-01-23 18:28:47   \n",
      "4  Excellent food and service all around. Among m...  2018-06-01 02:01:19   \n",
      "\n",
      "      city                                         categories  review_count  \n",
      "0  Phoenix  Restaurants, American (New), Seafood, Cajun/Cr...           384  \n",
      "1  Phoenix  Sandwiches, Sports Bars, Bars, Barbeque, Arts ...           244  \n",
      "2  Phoenix  Bars, Sports Bars, Nightlife, Food, Restaurant...           198  \n",
      "3  Phoenix                               Restaurants, Mexican           111  \n",
      "4  Phoenix   Fondue, Hot Pot, Restaurants, Asian Fusion, Soup           245  \n",
      "(262292, 12)\n"
     ]
    }
   ],
   "source": [
    "# Downsample by users\n",
    "user_id_unique = ratings_.user_id.unique()\n",
    "user_id_sample = pd.DataFrame(user_id_unique, columns=['unique_user_id']) \\\n",
    "                    .sample(frac= SAMPLING_RATE, replace=False, random_state=1)\n",
    "\n",
    "ratings_sample = ratings_.merge(user_id_sample, left_on='user_id', right_on='unique_user_id') \\\n",
    "                    .drop(['unique_user_id'], axis=1)\n",
    "print(ratings_sample.head())\n",
    "print(ratings_sample.shape)"
   ]
  },
  {
   "cell_type": "code",
   "execution_count": 14,
   "metadata": {},
   "outputs": [
    {
     "name": "stdout",
     "output_type": "stream",
     "text": [
      "There are 221326 rows, 12 columns in training set.\n",
      "There are 20481 rows, 12 columns in training set.\n",
      "There are 20480 rows, 12 columns in holdout set.\n"
     ]
    }
   ],
   "source": [
    "\n",
    "# hold out last review\n",
    "ratings_user_date = ratings_sample.loc[:, ['user_id', 'date']]\n",
    "ratings_user_date.date = pd.to_datetime(ratings_user_date.date)\n",
    "index_holdout = ratings_user_date.groupby(['user_id'], sort=False)['date'].transform(max) == ratings_user_date['date']\n",
    "ratings_holdout_ = ratings_sample[index_holdout]\n",
    "ratings_traincv_ = ratings_sample[~index_holdout]\n",
    "\n",
    "ratings_user_date = ratings_traincv_.loc[:, ['user_id', 'date']]\n",
    "index_holdout = ratings_user_date.groupby(['user_id'], sort=False)['date'].transform(max) == ratings_user_date['date']\n",
    "ratings_cv_ = ratings_traincv_[index_holdout]\n",
    "ratings_train_ = ratings_traincv_[~index_holdout]\n",
    "\n",
    "# remove the user that has fake reviews \n",
    "\n",
    "cv_users_del = set(ratings_cv_.user_id) - set(ratings_train_.user_id)\n",
    "holdout_users_del = set(ratings_holdout_.user_id) - set(ratings_train_.user_id)\n",
    "ratings_cv_ = ratings_cv_[~ratings_cv_.user_id.isin(cv_users_del)]\n",
    "ratings_holdout_ = ratings_holdout_[~ratings_holdout_.user_id.isin(holdout_users_del)]\n",
    "\n",
    "# ratings_cv_ = ratings_cv_[~ratings_cv_.user_id.isin(['HiT9sg9pvDiEVMFHJYihXg'])]\n",
    "# ratings_holdout_ = ratings_holdout_[~ratings_holdout_.user_id.isin(['HiT9sg9pvDiEVMFHJYihXg'])]\n",
    "\n",
    "print('There are {0} rows, {1} columns in training set.'.format(ratings_train_.shape[0], ratings_train_.shape[1]))\n",
    "print('There are {0} rows, {1} columns in training set.'.format(ratings_cv_.shape[0], ratings_cv_.shape[1]))\n",
    "print('There are {0} rows, {1} columns in holdout set.'.format(ratings_holdout_.shape[0], ratings_holdout_.shape[1]))"
   ]
  },
  {
   "cell_type": "code",
   "execution_count": 15,
   "metadata": {},
   "outputs": [
    {
     "name": "stdout",
     "output_type": "stream",
     "text": [
      "20480\n"
     ]
    }
   ],
   "source": [
    "# check if we have a enough user sample size (> 20000)\n",
    "number_of_unique_users = len(ratings_train_.user_id.unique())\n",
    "print(number_of_unique_users)"
   ]
  },
  {
   "cell_type": "markdown",
   "metadata": {},
   "source": [
    "### Further cleaning"
   ]
  },
  {
   "cell_type": "code",
   "execution_count": 16,
   "metadata": {},
   "outputs": [],
   "source": [
    "def process(df):\n",
    "    df['date']  = pd.to_datetime(df['date'])\n",
    "    df['week_day'] = df['date'].dt.weekday\n",
    "    df['month'] = df['date'].dt.month\n",
    "    df['hour'] = df['date'].dt.hour\n",
    "    df = df.merge(users_, on = 'user_id', how = \"inner\")\n",
    "#     df = df.merge(restaurants_, on = 'business_id')\n",
    "    rename_dict = {'business_longitude': 'longitude', 'business_latitude': 'latitude',\n",
    "                  'business_state':'state','business_city':'city', 'business_address': 'address'}\n",
    "    df = df.rename(columns = rename_dict)\n",
    "    return df\n",
    "\n",
    "ratings_train = process(ratings_train_.copy())\n",
    "ratings_test = process(ratings_holdout_.copy())\n",
    "ratings_val = process(ratings_cv_.copy())"
   ]
  },
  {
   "cell_type": "code",
   "execution_count": 17,
   "metadata": {},
   "outputs": [
    {
     "data": {
      "text/plain": [
       "(221326, 15)"
      ]
     },
     "execution_count": 17,
     "metadata": {},
     "output_type": "execute_result"
    }
   ],
   "source": [
    "ratings_train.shape"
   ]
  },
  {
   "cell_type": "code",
   "execution_count": 18,
   "metadata": {},
   "outputs": [
    {
     "data": {
      "text/html": [
       "<div>\n",
       "<style scoped>\n",
       "    .dataframe tbody tr th:only-of-type {\n",
       "        vertical-align: middle;\n",
       "    }\n",
       "\n",
       "    .dataframe tbody tr th {\n",
       "        vertical-align: top;\n",
       "    }\n",
       "\n",
       "    .dataframe thead th {\n",
       "        text-align: right;\n",
       "    }\n",
       "</style>\n",
       "<table border=\"1\" class=\"dataframe\">\n",
       "  <thead>\n",
       "    <tr style=\"text-align: right;\">\n",
       "      <th></th>\n",
       "      <th>review_id</th>\n",
       "      <th>user_id</th>\n",
       "      <th>business_id</th>\n",
       "      <th>stars</th>\n",
       "      <th>useful</th>\n",
       "      <th>funny</th>\n",
       "      <th>cool</th>\n",
       "      <th>text</th>\n",
       "      <th>date</th>\n",
       "      <th>city</th>\n",
       "      <th>categories</th>\n",
       "      <th>review_count</th>\n",
       "      <th>week_day</th>\n",
       "      <th>month</th>\n",
       "      <th>hour</th>\n",
       "    </tr>\n",
       "  </thead>\n",
       "  <tbody>\n",
       "    <tr>\n",
       "      <th>0</th>\n",
       "      <td>aBWKb49Xfkv1946YN7_SIg</td>\n",
       "      <td>sSPbLBHcEMXaJfoO8zs1bA</td>\n",
       "      <td>poSV39UqEg-gpESXafS9-g</td>\n",
       "      <td>5.0</td>\n",
       "      <td>0.0</td>\n",
       "      <td>0.0</td>\n",
       "      <td>0.0</td>\n",
       "      <td>Amazing food, drinks, service!\\n\\nWe started w...</td>\n",
       "      <td>2016-01-17 05:33:14</td>\n",
       "      <td>Phoenix</td>\n",
       "      <td>Restaurants, American (New), Seafood, Cajun/Cr...</td>\n",
       "      <td>384</td>\n",
       "      <td>6</td>\n",
       "      <td>1</td>\n",
       "      <td>5</td>\n",
       "    </tr>\n",
       "    <tr>\n",
       "      <th>1</th>\n",
       "      <td>qw-m8wZJZWxLGJjlOE0Tew</td>\n",
       "      <td>sSPbLBHcEMXaJfoO8zs1bA</td>\n",
       "      <td>3CBLxydJU6CFRMGhu9b-sw</td>\n",
       "      <td>5.0</td>\n",
       "      <td>0.0</td>\n",
       "      <td>0.0</td>\n",
       "      <td>0.0</td>\n",
       "      <td>After being a relatively regular patron for th...</td>\n",
       "      <td>2017-04-14 02:58:03</td>\n",
       "      <td>Phoenix</td>\n",
       "      <td>Sandwiches, Sports Bars, Bars, Barbeque, Arts ...</td>\n",
       "      <td>244</td>\n",
       "      <td>4</td>\n",
       "      <td>4</td>\n",
       "      <td>2</td>\n",
       "    </tr>\n",
       "    <tr>\n",
       "      <th>2</th>\n",
       "      <td>qhH0-khe2U1Vb88YGDxfuQ</td>\n",
       "      <td>sSPbLBHcEMXaJfoO8zs1bA</td>\n",
       "      <td>JRo3APL5f4-TEkuI-SoDcA</td>\n",
       "      <td>2.0</td>\n",
       "      <td>1.0</td>\n",
       "      <td>0.0</td>\n",
       "      <td>0.0</td>\n",
       "      <td>Solid 2-2.5 each time we have visited, includi...</td>\n",
       "      <td>2017-08-28 02:20:58</td>\n",
       "      <td>Phoenix</td>\n",
       "      <td>Bars, Sports Bars, Nightlife, Food, Restaurant...</td>\n",
       "      <td>198</td>\n",
       "      <td>0</td>\n",
       "      <td>8</td>\n",
       "      <td>2</td>\n",
       "    </tr>\n",
       "  </tbody>\n",
       "</table>\n",
       "</div>"
      ],
      "text/plain": [
       "                review_id                 user_id             business_id  \\\n",
       "0  aBWKb49Xfkv1946YN7_SIg  sSPbLBHcEMXaJfoO8zs1bA  poSV39UqEg-gpESXafS9-g   \n",
       "1  qw-m8wZJZWxLGJjlOE0Tew  sSPbLBHcEMXaJfoO8zs1bA  3CBLxydJU6CFRMGhu9b-sw   \n",
       "2  qhH0-khe2U1Vb88YGDxfuQ  sSPbLBHcEMXaJfoO8zs1bA  JRo3APL5f4-TEkuI-SoDcA   \n",
       "\n",
       "   stars  useful  funny  cool  \\\n",
       "0    5.0     0.0    0.0   0.0   \n",
       "1    5.0     0.0    0.0   0.0   \n",
       "2    2.0     1.0    0.0   0.0   \n",
       "\n",
       "                                                text                date  \\\n",
       "0  Amazing food, drinks, service!\\n\\nWe started w... 2016-01-17 05:33:14   \n",
       "1  After being a relatively regular patron for th... 2017-04-14 02:58:03   \n",
       "2  Solid 2-2.5 each time we have visited, includi... 2017-08-28 02:20:58   \n",
       "\n",
       "      city                                         categories  review_count  \\\n",
       "0  Phoenix  Restaurants, American (New), Seafood, Cajun/Cr...           384   \n",
       "1  Phoenix  Sandwiches, Sports Bars, Bars, Barbeque, Arts ...           244   \n",
       "2  Phoenix  Bars, Sports Bars, Nightlife, Food, Restaurant...           198   \n",
       "\n",
       "   week_day  month  hour  \n",
       "0         6      1     5  \n",
       "1         4      4     2  \n",
       "2         0      8     2  "
      ]
     },
     "execution_count": 18,
     "metadata": {},
     "output_type": "execute_result"
    }
   ],
   "source": [
    "ratings_train.head(3)"
   ]
  },
  {
   "cell_type": "code",
   "execution_count": 19,
   "metadata": {},
   "outputs": [],
   "source": [
    "ratings_train_final = ratings_train.append(ratings_val)\n",
    "ratings_entire_df = ratings_train.append(ratings_val).append(ratings_test)"
   ]
  },
  {
   "cell_type": "markdown",
   "metadata": {},
   "source": [
    "## Evaluation Metrics"
   ]
  },
  {
   "cell_type": "code",
   "execution_count": 20,
   "metadata": {},
   "outputs": [
    {
     "data": {
      "text/html": [
       "<div>\n",
       "<style scoped>\n",
       "    .dataframe tbody tr th:only-of-type {\n",
       "        vertical-align: middle;\n",
       "    }\n",
       "\n",
       "    .dataframe tbody tr th {\n",
       "        vertical-align: top;\n",
       "    }\n",
       "\n",
       "    .dataframe thead th {\n",
       "        text-align: right;\n",
       "    }\n",
       "</style>\n",
       "<table border=\"1\" class=\"dataframe\">\n",
       "  <thead>\n",
       "    <tr style=\"text-align: right;\">\n",
       "      <th></th>\n",
       "      <th>review_id</th>\n",
       "      <th>user_id</th>\n",
       "      <th>business_id</th>\n",
       "      <th>stars</th>\n",
       "      <th>useful</th>\n",
       "      <th>funny</th>\n",
       "      <th>cool</th>\n",
       "      <th>text</th>\n",
       "      <th>date</th>\n",
       "      <th>city</th>\n",
       "      <th>categories</th>\n",
       "      <th>review_count</th>\n",
       "      <th>week_day</th>\n",
       "      <th>month</th>\n",
       "      <th>hour</th>\n",
       "    </tr>\n",
       "  </thead>\n",
       "  <tbody>\n",
       "    <tr>\n",
       "      <th>4</th>\n",
       "      <td>nFXB3me-0dpjwgzY_Hy5dg</td>\n",
       "      <td>sSPbLBHcEMXaJfoO8zs1bA</td>\n",
       "      <td>g3w01guDiTLszguA3vUrSg</td>\n",
       "      <td>5.0</td>\n",
       "      <td>0.0</td>\n",
       "      <td>0.0</td>\n",
       "      <td>0.0</td>\n",
       "      <td>Excellent food and service all around. Among m...</td>\n",
       "      <td>2018-06-01 02:01:19</td>\n",
       "      <td>Phoenix</td>\n",
       "      <td>Fondue, Hot Pot, Restaurants, Asian Fusion, Soup</td>\n",
       "      <td>245</td>\n",
       "      <td>4</td>\n",
       "      <td>6</td>\n",
       "      <td>2</td>\n",
       "    </tr>\n",
       "    <tr>\n",
       "      <th>30</th>\n",
       "      <td>Q7w9BHq63-RbtQQHILKHBA</td>\n",
       "      <td>D5ywfFmwtJxLReqAYlDDmw</td>\n",
       "      <td>S-mdSI4dMr-KeF28L5CMyA</td>\n",
       "      <td>5.0</td>\n",
       "      <td>0.0</td>\n",
       "      <td>0.0</td>\n",
       "      <td>0.0</td>\n",
       "      <td>Great new local place with great food and grea...</td>\n",
       "      <td>2017-09-20 18:05:44</td>\n",
       "      <td>Phoenix</td>\n",
       "      <td>Pizza, Restaurants, Sandwiches, Italian, Chick...</td>\n",
       "      <td>130</td>\n",
       "      <td>2</td>\n",
       "      <td>9</td>\n",
       "      <td>18</td>\n",
       "    </tr>\n",
       "  </tbody>\n",
       "</table>\n",
       "</div>"
      ],
      "text/plain": [
       "                 review_id                 user_id             business_id  \\\n",
       "4   nFXB3me-0dpjwgzY_Hy5dg  sSPbLBHcEMXaJfoO8zs1bA  g3w01guDiTLszguA3vUrSg   \n",
       "30  Q7w9BHq63-RbtQQHILKHBA  D5ywfFmwtJxLReqAYlDDmw  S-mdSI4dMr-KeF28L5CMyA   \n",
       "\n",
       "    stars  useful  funny  cool  \\\n",
       "4     5.0     0.0    0.0   0.0   \n",
       "30    5.0     0.0    0.0   0.0   \n",
       "\n",
       "                                                 text                date  \\\n",
       "4   Excellent food and service all around. Among m... 2018-06-01 02:01:19   \n",
       "30  Great new local place with great food and grea... 2017-09-20 18:05:44   \n",
       "\n",
       "       city                                         categories  review_count  \\\n",
       "4   Phoenix   Fondue, Hot Pot, Restaurants, Asian Fusion, Soup           245   \n",
       "30  Phoenix  Pizza, Restaurants, Sandwiches, Italian, Chick...           130   \n",
       "\n",
       "    week_day  month  hour  \n",
       "4          4      6     2  \n",
       "30         2      9    18  "
      ]
     },
     "execution_count": 20,
     "metadata": {},
     "output_type": "execute_result"
    }
   ],
   "source": [
    "ratings_test.head(2)"
   ]
  },
  {
   "cell_type": "code",
   "execution_count": 21,
   "metadata": {},
   "outputs": [
    {
     "data": {
      "text/html": [
       "<div>\n",
       "<style scoped>\n",
       "    .dataframe tbody tr th:only-of-type {\n",
       "        vertical-align: middle;\n",
       "    }\n",
       "\n",
       "    .dataframe tbody tr th {\n",
       "        vertical-align: top;\n",
       "    }\n",
       "\n",
       "    .dataframe thead th {\n",
       "        text-align: right;\n",
       "    }\n",
       "</style>\n",
       "<table border=\"1\" class=\"dataframe\">\n",
       "  <thead>\n",
       "    <tr style=\"text-align: right;\">\n",
       "      <th></th>\n",
       "      <th>user_id</th>\n",
       "      <th>city</th>\n",
       "      <th>business_id</th>\n",
       "      <th>predictions</th>\n",
       "    </tr>\n",
       "  </thead>\n",
       "  <tbody>\n",
       "    <tr>\n",
       "      <th>0</th>\n",
       "      <td>sSPbLBHcEMXaJfoO8zs1bA</td>\n",
       "      <td>Phoenix</td>\n",
       "      <td>poSV39UqEg-gpESXafS9-g</td>\n",
       "      <td>2.5</td>\n",
       "    </tr>\n",
       "    <tr>\n",
       "      <th>1</th>\n",
       "      <td>sSPbLBHcEMXaJfoO8zs1bA</td>\n",
       "      <td>Phoenix</td>\n",
       "      <td>3CBLxydJU6CFRMGhu9b-sw</td>\n",
       "      <td>2.5</td>\n",
       "    </tr>\n",
       "    <tr>\n",
       "      <th>2</th>\n",
       "      <td>sSPbLBHcEMXaJfoO8zs1bA</td>\n",
       "      <td>Phoenix</td>\n",
       "      <td>JRo3APL5f4-TEkuI-SoDcA</td>\n",
       "      <td>2.5</td>\n",
       "    </tr>\n",
       "    <tr>\n",
       "      <th>3</th>\n",
       "      <td>sSPbLBHcEMXaJfoO8zs1bA</td>\n",
       "      <td>Phoenix</td>\n",
       "      <td>PmQqj0wAnraXPuPSZCzEZQ</td>\n",
       "      <td>2.5</td>\n",
       "    </tr>\n",
       "    <tr>\n",
       "      <th>4</th>\n",
       "      <td>sSPbLBHcEMXaJfoO8zs1bA</td>\n",
       "      <td>Phoenix</td>\n",
       "      <td>-rCIoxp7pqN3xY7E3-v56Q</td>\n",
       "      <td>2.5</td>\n",
       "    </tr>\n",
       "  </tbody>\n",
       "</table>\n",
       "</div>"
      ],
      "text/plain": [
       "                  user_id     city             business_id  predictions\n",
       "0  sSPbLBHcEMXaJfoO8zs1bA  Phoenix  poSV39UqEg-gpESXafS9-g          2.5\n",
       "1  sSPbLBHcEMXaJfoO8zs1bA  Phoenix  3CBLxydJU6CFRMGhu9b-sw          2.5\n",
       "2  sSPbLBHcEMXaJfoO8zs1bA  Phoenix  JRo3APL5f4-TEkuI-SoDcA          2.5\n",
       "3  sSPbLBHcEMXaJfoO8zs1bA  Phoenix  PmQqj0wAnraXPuPSZCzEZQ          2.5\n",
       "4  sSPbLBHcEMXaJfoO8zs1bA  Phoenix  -rCIoxp7pqN3xY7E3-v56Q          2.5"
      ]
     },
     "execution_count": 21,
     "metadata": {},
     "output_type": "execute_result"
    }
   ],
   "source": [
    "unique_city_businesses = ratings_entire_df[['city','business_id']].drop_duplicates()\n",
    "predict_df = ratings_test[['user_id','city']]\n",
    "predict_df = predict_df.merge(unique_city_businesses, on = 'city')\n",
    "# random initialization, needs to be substituted by actual predictions later.\n",
    "predict_df['predictions'] = 2.5\n",
    "predict_df.head()"
   ]
  },
  {
   "cell_type": "code",
   "execution_count": 22,
   "metadata": {},
   "outputs": [],
   "source": [
    "def get_all_metrics(predict_df, validation_subsample, ratings_train_final):\n",
    "    top_10_recs = predict_df.groupby(['user_id','city'])['predictions'].nlargest(10).reset_index()\n",
    "    out = validation_subsample\n",
    "    cnt =0\n",
    "    serendipity = 0\n",
    "    \n",
    "    \n",
    "    for row in out.iterrows():\n",
    "        row_values = row[1]\n",
    "        top_10 = predict_df.loc[top_10_recs[top_10_recs['user_id'] == row_values['user_id']].level_2]['business_id']\n",
    "        ###In top 10\n",
    "        if row_values['business_id'] in top_10.values:\n",
    "            cnt+=1\n",
    "        user_history = ratings_train_final[ratings_train_final['user_id'] == row_values['user_id']]    \n",
    "        been_there = [i for i in top_10.values if i in  user_history.business_id.values]\n",
    "        serendipity += 1-len(been_there)/10\n",
    "    \n",
    "    top_10 = cnt/len(out)\n",
    "    serendipity = serendipity/len(out)\n",
    "    \n",
    "    predict_df = predict_df.reset_index()\n",
    "    \n",
    "    analysis_df = predict_df.merge(top_10_recs, left_on = ['user_id','city','index'], \\\n",
    "                                   right_on = ['user_id','city','level_2'])\n",
    "    \n",
    "    coverage = (analysis_df.groupby('city')['business_id'].nunique()/50).values.mean()\n",
    "    \n",
    "    predict_df['rankings']=predict_df.groupby(['city','user_id'])['predictions']. \\\n",
    "                                                        rank(method=\"first\",ascending = False)\n",
    "    running_rankings =0\n",
    "    for row in out.iterrows():\n",
    "        row_values = row[1]\n",
    "        user_recs = predict_df[(predict_df['user_id']==row_values['user_id'])\n",
    "                            &(predict_df['city']==row_values['city'])\n",
    "                             & (predict_df['business_id']==row_values['business_id'])\n",
    "                              ]\n",
    "        assert len(user_recs)==1\n",
    "        running_rankings += user_recs['rankings'].sum()\n",
    "\n",
    "    avg_rank = running_rankings / len(out)\n",
    "    print(top_10, coverage, serendipity, avg_rank)\n",
    "    \n",
    "    return top_10, coverage, serendipity, avg_rank"
   ]
  },
  {
   "cell_type": "markdown",
   "metadata": {},
   "source": [
    "## Modeling"
   ]
  },
  {
   "cell_type": "markdown",
   "metadata": {},
   "source": [
    "## Baseline Model (Biased CF)"
   ]
  },
  {
   "cell_type": "code",
   "execution_count": 45,
   "metadata": {},
   "outputs": [
    {
     "name": "stdout",
     "output_type": "stream",
     "text": [
      "Collecting scikit-surprise\n",
      "  Downloading scikit-surprise-1.1.1.tar.gz (11.8 MB)\n",
      "\u001b[K     |████████████████████████████████| 11.8 MB 4.5 MB/s eta 0:00:01\n",
      "\u001b[?25hRequirement already satisfied: joblib>=0.11 in /Users/sigao/anaconda3/lib/python3.7/site-packages (from scikit-surprise) (0.15.1)\n",
      "Requirement already satisfied: numpy>=1.11.2 in /Users/sigao/anaconda3/lib/python3.7/site-packages (from scikit-surprise) (1.18.1)\n",
      "Requirement already satisfied: scipy>=1.0.0 in /Users/sigao/anaconda3/lib/python3.7/site-packages (from scikit-surprise) (1.4.1)\n",
      "Requirement already satisfied: six>=1.10.0 in /Users/sigao/anaconda3/lib/python3.7/site-packages (from scikit-surprise) (1.14.0)\n",
      "Building wheels for collected packages: scikit-surprise\n",
      "  Building wheel for scikit-surprise (setup.py) ... \u001b[?25ldone\n",
      "\u001b[?25h  Created wheel for scikit-surprise: filename=scikit_surprise-1.1.1-cp37-cp37m-macosx_10_9_x86_64.whl size=779837 sha256=3b603cca54cf416d30fdd94ef038f78359e4ad09d81cc4fe90b726b8fdff1733\n",
      "  Stored in directory: /Users/sigao/Library/Caches/pip/wheels/76/44/74/b498c42be47b2406bd27994e16c5188e337c657025ab400c1c\n",
      "Successfully built scikit-surprise\n",
      "Installing collected packages: scikit-surprise\n",
      "Successfully installed scikit-surprise-1.1.1\n"
     ]
    }
   ],
   "source": [
    "!pip install scikit-surprise"
   ]
  },
  {
   "cell_type": "code",
   "execution_count": 24,
   "metadata": {},
   "outputs": [],
   "source": [
    "from surprise import SVD\n",
    "from surprise import accuracy\n",
    "from surprise import Reader\n",
    "from surprise.model_selection import GridSearchCV\n",
    "from surprise import Dataset\n",
    "from surprise import BaselineOnly\n",
    "\n",
    "from sklearn.metrics import r2_score\n",
    "from sklearn.metrics import mean_absolute_error"
   ]
  },
  {
   "cell_type": "code",
   "execution_count": 26,
   "metadata": {},
   "outputs": [],
   "source": [
    "\n",
    "# remove observations that may cause cold-start problem, which breaks the model.\n",
    "ratings_test = ratings_test.loc[ratings_test.business_id.isin(ratings_train.business_id)]\n",
    "ratings_val = ratings_val.loc[ratings_val.business_id.isin(ratings_train.business_id)]"
   ]
  },
  {
   "cell_type": "code",
   "execution_count": 27,
   "metadata": {},
   "outputs": [],
   "source": [
    "trainset = ratings_train.loc[:,['user_id', 'business_id', 'stars']]\n",
    "trainset.columns = ['userID', 'itemID','rating']\n",
    "valset = ratings_val.loc[:, ['user_id', 'business_id', 'stars']]\n",
    "valset.columns = ['userID', 'itemID','rating']\n",
    "testset = ratings_test.loc[:, ['user_id', 'business_id', 'stars']]\n",
    "testset.columns = ['userID', 'itemID','rating']"
   ]
  },
  {
   "cell_type": "code",
   "execution_count": 28,
   "metadata": {},
   "outputs": [],
   "source": [
    "reader = Reader(rating_scale = (0.0, 5.0))\n",
    "train_data = Dataset.load_from_df(trainset[['userID','itemID','rating']], reader)\n",
    "val_data = Dataset.load_from_df(valset[['userID','itemID','rating']], reader)\n",
    "test_data = Dataset.load_from_df(testset[['userID','itemID','rating']], reader)\n",
    "\n",
    "train_sr = train_data.build_full_trainset()\n",
    "val_sr_before = val_data.build_full_trainset()\n",
    "val_sr = val_sr_before.build_testset()\n",
    "test_sr_before = test_data.build_full_trainset()\n",
    "test_sr = test_sr_before.build_testset()"
   ]
  },
  {
   "cell_type": "markdown",
   "metadata": {},
   "source": [
    "#### Baseline biased ALS model:"
   ]
  },
  {
   "cell_type": "code",
   "execution_count": 29,
   "metadata": {},
   "outputs": [
    {
     "name": "stdout",
     "output_type": "stream",
     "text": [
      "Estimating biases using als...\n",
      "RMSE: 1.2312\n"
     ]
    },
    {
     "data": {
      "text/plain": [
       "1.2311988173740696"
      ]
     },
     "execution_count": 29,
     "metadata": {},
     "output_type": "execute_result"
    }
   ],
   "source": [
    "bsl_options = {'method': 'als', 'n_epochs':3}\n",
    "bias_baseline = BaselineOnly(bsl_options)\n",
    "bias_baseline.fit(train_sr)\n",
    "predictions = bias_baseline.test(val_sr)\n",
    "accuracy.rmse(predictions)"
   ]
  },
  {
   "cell_type": "code",
   "execution_count": 28,
   "metadata": {},
   "outputs": [
    {
     "name": "stdout",
     "output_type": "stream",
     "text": [
      "Estimating biases using als...\n",
      "--- 0.17382192611694336 seconds ---\n"
     ]
    }
   ],
   "source": [
    "# runtime on 20% data\n",
    "start_time = time.time()\n",
    "bias_baseline.fit(train_sr)\n",
    "print(\"--- %s seconds ---\" % (time.time() - start_time))"
   ]
  },
  {
   "cell_type": "code",
   "execution_count": 29,
   "metadata": {},
   "outputs": [
    {
     "name": "stdout",
     "output_type": "stream",
     "text": [
      "RMSE: 1.2755\n",
      "R^2 for Phoenix: 0.18507267033119656\n",
      "MAE for Phoenix: 1.0322239979308105\n",
      "--- 0.06747627258300781 seconds ---\n"
     ]
    }
   ],
   "source": [
    "\n",
    "# Regression metrics \n",
    "bbase_p = bias_baseline.test(test_sr)\n",
    "start_time = time.time()\n",
    "bbase_20_df = pd.DataFrame(bbase_p, columns = ['userId','itemId','rating','pred_rating','x'])\n",
    "accuracy.rmse(bbase_p)\n",
    "print('R^2 for {}:'.format(city), r2_score(bbase_20_df.rating , bbase_20_df.pred_rating))\n",
    "print('MAE for {}:'.format(city), mean_absolute_error(bbase_20_df.rating, bbase_20_df.pred_rating))\n",
    "print(\"--- %s seconds ---\" % (time.time() - start_time))"
   ]
  },
  {
   "cell_type": "code",
   "execution_count": null,
   "metadata": {},
   "outputs": [],
   "source": [
    "\n",
    "# Ranking + coverage + novelty metrics\n",
    "predict_df_baseline = predict_df.copy()\n",
    "eval_set = Dataset.load_from_df(predict_df_baseline[['user_id','business_id','predictions']], reader)\n",
    "\n",
    "bias_basline = BaselineOnly({'method': 'als', 'n_epochs':9})\n",
    "eval_before = eval_set.build_full_trainset()\n",
    "eval_sr = eval_before.build_testset()\n",
    "bias_basline.fit(train_sr)\n",
    "eval_pred = bias_basline.test(eval_sr)\n",
    "#accuracy.rmse(predictions_50)\n",
    "baseline_20 = pd.DataFrame(eval_pred, columns = ['userId','itemId','rating','pred_rating','x'])\n",
    "predict_df_baseline['predictions'] = baseline_20.pred_rating"
   ]
  },
  {
   "cell_type": "markdown",
   "metadata": {},
   "source": [
    "### Model-based Collaborative Filtering - SVD"
   ]
  },
  {
   "cell_type": "code",
   "execution_count": 30,
   "metadata": {},
   "outputs": [],
   "source": [
    "import matplotlib.pyplot as plt\n",
    "import json\n",
    "from tqdm import tqdm"
   ]
  },
  {
   "cell_type": "code",
   "execution_count": 31,
   "metadata": {},
   "outputs": [
    {
     "name": "stdout",
     "output_type": "stream",
     "text": [
      "Fitting n: 10, l: 0.001, r: 0.02\n",
      "RMSE: 1.2917\n",
      "Fitting n: 10, l: 0.001, r: 0.05\n",
      "RMSE: 1.2926\n",
      "Fitting n: 10, l: 0.001, r: 0.1\n",
      "RMSE: 1.2929\n",
      "Fitting n: 10, l: 0.001, r: 0.4\n",
      "RMSE: 1.2953\n",
      "Fitting n: 10, l: 0.001, r: 0.5\n",
      "RMSE: 1.2970\n",
      "Fitting n: 10, l: 0.003, r: 0.02\n",
      "RMSE: 1.2560\n",
      "Fitting n: 10, l: 0.003, r: 0.05\n",
      "RMSE: 1.2553\n",
      "Fitting n: 10, l: 0.003, r: 0.1\n",
      "RMSE: 1.2543\n",
      "Fitting n: 10, l: 0.003, r: 0.4\n",
      "RMSE: 1.2612\n",
      "Fitting n: 10, l: 0.003, r: 0.5\n",
      "RMSE: 1.2631\n",
      "Fitting n: 10, l: 0.005, r: 0.02\n",
      "RMSE: 1.2397\n",
      "Fitting n: 10, l: 0.005, r: 0.05\n",
      "RMSE: 1.2389\n",
      "Fitting n: 10, l: 0.005, r: 0.1\n",
      "RMSE: 1.2382\n",
      "Fitting n: 10, l: 0.005, r: 0.4\n",
      "RMSE: 1.2449\n",
      "Fitting n: 10, l: 0.005, r: 0.5\n",
      "RMSE: 1.2478\n",
      "Fitting n: 20, l: 0.001, r: 0.02\n",
      "RMSE: 1.2696\n",
      "Fitting n: 20, l: 0.001, r: 0.05\n",
      "RMSE: 1.2688\n",
      "Fitting n: 20, l: 0.001, r: 0.1\n",
      "RMSE: 1.2694\n",
      "Fitting n: 20, l: 0.001, r: 0.4\n",
      "RMSE: 1.2733\n",
      "Fitting n: 20, l: 0.001, r: 0.5\n",
      "RMSE: 1.2760\n",
      "Fitting n: 20, l: 0.003, r: 0.02\n",
      "RMSE: 1.2342\n",
      "Fitting n: 20, l: 0.003, r: 0.05\n",
      "RMSE: 1.2332\n",
      "Fitting n: 20, l: 0.003, r: 0.1\n",
      "RMSE: 1.2329\n",
      "Fitting n: 20, l: 0.003, r: 0.4\n",
      "RMSE: 1.2399\n",
      "Fitting n: 20, l: 0.003, r: 0.5\n",
      "RMSE: 1.2434\n",
      "Fitting n: 20, l: 0.005, r: 0.02\n",
      "RMSE: 1.2297\n",
      "Fitting n: 20, l: 0.005, r: 0.05\n",
      "RMSE: 1.2249\n",
      "Fitting n: 20, l: 0.005, r: 0.1\n",
      "RMSE: 1.2219\n",
      "Fitting n: 20, l: 0.005, r: 0.4\n",
      "RMSE: 1.2288\n",
      "Fitting n: 20, l: 0.005, r: 0.5\n",
      "RMSE: 1.2321\n",
      "Fitting n: 30, l: 0.001, r: 0.02\n",
      "RMSE: 1.2558\n",
      "Fitting n: 30, l: 0.001, r: 0.05\n",
      "RMSE: 1.2550\n",
      "Fitting n: 30, l: 0.001, r: 0.1\n",
      "RMSE: 1.2540\n",
      "Fitting n: 30, l: 0.001, r: 0.4\n",
      "RMSE: 1.2622\n",
      "Fitting n: 30, l: 0.001, r: 0.5\n",
      "RMSE: 1.2636\n",
      "Fitting n: 30, l: 0.003, r: 0.02\n",
      "RMSE: 1.2272\n",
      "Fitting n: 30, l: 0.003, r: 0.05\n",
      "RMSE: 1.2241\n",
      "Fitting n: 30, l: 0.003, r: 0.1\n",
      "RMSE: 1.2233\n",
      "Fitting n: 30, l: 0.003, r: 0.4\n",
      "RMSE: 1.2308\n",
      "Fitting n: 30, l: 0.003, r: 0.5\n",
      "RMSE: 1.2341\n",
      "Fitting n: 30, l: 0.005, r: 0.02\n",
      "RMSE: 1.2356\n",
      "Fitting n: 30, l: 0.005, r: 0.05\n",
      "RMSE: 1.2241\n",
      "Fitting n: 30, l: 0.005, r: 0.1\n",
      "RMSE: 1.2169\n",
      "Fitting n: 30, l: 0.005, r: 0.4\n",
      "RMSE: 1.2239\n",
      "Fitting n: 30, l: 0.005, r: 0.5\n",
      "RMSE: 1.2272\n"
     ]
    }
   ],
   "source": [
    "RMSE_tune = {}\n",
    "n_epochs = [ 20, 30,40]  # the number of iteration of the SGD procedure\n",
    "lr_all = [0.001, 0.003, 0.005] # the learning rate for all parameters\n",
    "reg_all =  [0.02, 0.05, 0.1, 0.4, 0.5] # the regularization term for all parameters\n",
    "\n",
    "for n in n_epochs:\n",
    "    for l in lr_all:\n",
    "        for r in reg_all:\n",
    "            print('Fitting n: {0}, l: {1}, r: {2}'.format(n, l, r))\n",
    "            algo = SVD(n_epochs = n, lr_all = l, reg_all = r)\n",
    "            algo.fit(train_sr)\n",
    "            predictions = algo.test(val_sr)\n",
    "            RMSE_tune[n,l,r] = accuracy.rmse(predictions)"
   ]
  },
  {
   "cell_type": "code",
   "execution_count": 33,
   "metadata": {},
   "outputs": [
    {
     "data": {
      "text/plain": [
       "(30, 0.005, 0.1)"
      ]
     },
     "execution_count": 33,
     "metadata": {},
     "output_type": "execute_result"
    }
   ],
   "source": [
    "import operator\n",
    "min(RMSE_tune.items(), key=operator.itemgetter(1))[0]"
   ]
  },
  {
   "cell_type": "code",
   "execution_count": 34,
   "metadata": {},
   "outputs": [],
   "source": [
    "# train and test on the optimal parameter\n",
    "start_time = time.time()\n",
    "algo_real = SVD(n_epochs = 30, lr_all = 0.005, reg_all = 0.1)\n",
    "algo_real.fit(train_sr)\n",
    "predictions = algo_real.test(test_sr)"
   ]
  },
  {
   "cell_type": "code",
   "execution_count": 35,
   "metadata": {},
   "outputs": [
    {
     "name": "stdout",
     "output_type": "stream",
     "text": [
      "RMSE: 1.2616\n"
     ]
    },
    {
     "data": {
      "text/plain": [
       "1.2616299048743893"
      ]
     },
     "execution_count": 35,
     "metadata": {},
     "output_type": "execute_result"
    }
   ],
   "source": [
    "accuracy.rmse(predictions)"
   ]
  },
  {
   "cell_type": "code",
   "execution_count": 36,
   "metadata": {},
   "outputs": [
    {
     "name": "stdout",
     "output_type": "stream",
     "text": [
      "MAE:  1.0070\n"
     ]
    },
    {
     "data": {
      "text/plain": [
       "1.0069519782898286"
      ]
     },
     "execution_count": 36,
     "metadata": {},
     "output_type": "execute_result"
    }
   ],
   "source": [
    "accuracy.mae(predictions)"
   ]
  },
  {
   "cell_type": "code",
   "execution_count": 37,
   "metadata": {},
   "outputs": [
    {
     "data": {
      "text/plain": [
       "0.20274431505252244"
      ]
     },
     "execution_count": 37,
     "metadata": {},
     "output_type": "execute_result"
    }
   ],
   "source": [
    "r2_score([t[2] for t in predictions], [t[3] for t in predictions])"
   ]
  },
  {
   "cell_type": "code",
   "execution_count": null,
   "metadata": {},
   "outputs": [],
   "source": [
    "# To evaluate coverage and serendipity metrics, use evaluation set created earlier.\n",
    "eval_20 = Dataset.load_from_df(predict_df[['user_id','business_id','predictions']], reader)\n",
    "eval_before_20 = eval_20.build_full_trainset()\n",
    "eval_sr_20 = eval_before_20.build_testset()\n",
    "eval_pred_20 = algo_real.test(eval_sr_20)\n",
    "\n",
    "baseline_20 = pd.DataFrame(eval_pred_20, columns = ['userId','itemId','rating','pred_rating','x'])\n",
    "predict_df_20['predictions'] = baseline_20.pred_rating"
   ]
  },
  {
   "cell_type": "code",
   "execution_count": null,
   "metadata": {},
   "outputs": [],
   "source": [
    "top_10, coverage, serendipity, avg_rank = get_all_metrics(predict_df_20, out, ratings_train_final)"
   ]
  },
  {
   "cell_type": "markdown",
   "metadata": {},
   "source": [
    "### Collaborative Filtering - non-model based Cosine and SVD"
   ]
  },
  {
   "cell_type": "code",
   "execution_count": 57,
   "metadata": {},
   "outputs": [],
   "source": [
    "import scipy.sparse as sparse\n",
    "from scipy.sparse import csr_matrix\n",
    "\n",
    "def get_sparse_matrix(df):\n",
    "    '''Converts the df into a sparse ratings matrix'''\n",
    "    unique_users = list(df['userID'].unique())\n",
    "    unique_bus = list(df['itemID'].unique())\n",
    "    data = df['rating'].tolist()\n",
    "    row = pd.Series(pd.Categorical(df[\"userID\"],categories=unique_users)).cat.codes\n",
    "    \n",
    "#     df['user_id'].astype('category', categories=unique_users).cat.codes\n",
    "#     col = df['business_id'].astype('category', categories=unique_bus).cat.codes\n",
    "    col = pd.Series(pd.Categorical(df[\"itemID\"], categories=unique_bus)).cat.codes\n",
    "    sparse_matrix = csr_matrix((data, (row, col)), shape=(len(unique_users), len(unique_bus)))\n",
    "    return sparse_matrix    "
   ]
  },
  {
   "cell_type": "code",
   "execution_count": 177,
   "metadata": {},
   "outputs": [
    {
     "data": {
      "text/plain": [
       "0.9970575369383992"
      ]
     },
     "execution_count": 177,
     "metadata": {},
     "output_type": "execute_result"
    }
   ],
   "source": [
    "ratings_entire_df = trainset.append(valset).append(testset)\n",
    "df_sparse = get_sparse_matrix(ratings_entire_df)\n",
    "sparsity_clt = 1 - df_sparse.nnz/(df_sparse.shape[0]*df_sparse.shape[1])\n",
    "sparsity_clt"
   ]
  },
  {
   "cell_type": "code",
   "execution_count": 178,
   "metadata": {},
   "outputs": [],
   "source": [
    "ratings_entire_df.drop(\"rating\",axis = 1, inplace = True)\n",
    "\n",
    "trainset_expand = pd.merge(trainset, ratings_entire_df, how = \"outer\", on = [\"userID\",\"itemID\"]).fillna(0)\n",
    "valset_expand = pd.merge(valset, ratings_entire_df, how = \"outer\", on = [\"userID\",\"itemID\"]).fillna(0)\n",
    "testset_expand = pd.merge(testset, ratings_entire_df, how = \"outer\", on = [\"userID\",\"itemID\"]).fillna(0)\n"
   ]
  },
  {
   "cell_type": "code",
   "execution_count": 179,
   "metadata": {},
   "outputs": [
    {
     "data": {
      "text/plain": [
       "0.9970575369383992"
      ]
     },
     "execution_count": 179,
     "metadata": {},
     "output_type": "execute_result"
    }
   ],
   "source": [
    "df_sparse_train = get_sparse_matrix(trainset_expand)\n",
    "df_sparse_test = get_sparse_matrix(testset_expand)\n",
    "df_sparse_val = get_sparse_matrix(valset_expand)\n",
    "    \n",
    "sparsity_clt = 1 - df_sparse_train.nnz/(df_sparse_train.shape[0]*df_sparse_train.shape[1])\n",
    "sparsity_clt    \n",
    "    "
   ]
  },
  {
   "cell_type": "code",
   "execution_count": 180,
   "metadata": {},
   "outputs": [
    {
     "name": "stdout",
     "output_type": "stream",
     "text": [
      "247133 247133 247133 247133\n"
     ]
    }
   ],
   "source": [
    "print(df_sparse.nnz, df_sparse_train.nnz, df_sparse_val.nnz, df_sparse_test.nnz)"
   ]
  },
  {
   "cell_type": "code",
   "execution_count": 181,
   "metadata": {},
   "outputs": [],
   "source": [
    "U_, S_, Vt_ = np.linalg.svd(df_sparse_train.todense())#k = min(sm_u_10_phx_res_train.shape)-1)\n",
    "S_diag = np.diag(S_)"
   ]
  },
  {
   "cell_type": "code",
   "execution_count": 204,
   "metadata": {},
   "outputs": [
    {
     "data": {
      "image/png": "[encoded data removed]",
      "text/plain": [
       "<Figure size 576x360 with 1 Axes>"
      ]
     },
     "metadata": {
      "needs_background": "light"
     },
     "output_type": "display_data"
    }
   ],
   "source": [
    "fig = plt.figure(figsize=(8,5))\n",
    "plt.plot(S_[:20], '-', linewidth=1)\n",
    "plt.title('Elbow Plot')\n",
    "# plt.xticks(np.arange(0, S_phx_res.shape[0]+1, 50), rotation='vertical')\n",
    "plt.xlabel('The n-th Principal Component')\n",
    "plt.xticks(range(1,21,3))\n",
    "plt.ylabel('Singular Values')\n",
    "plt.show()"
   ]
  },
  {
   "cell_type": "code",
   "execution_count": 184,
   "metadata": {},
   "outputs": [],
   "source": [
    "def approx_err(k, A, U, S, Vt):\n",
    "    rec_A = np.dot(U[:, :k], np.dot(S[:k,:k], Vt[:k, :]))\n",
    "    idx = np.where(A>0);\n",
    "    diff = A[idx] - rec_A[idx]\n",
    "    return np.sqrt(np.linalg.norm(diff)**2/diff.shape[1])"
   ]
  },
  {
   "cell_type": "code",
   "execution_count": 202,
   "metadata": {},
   "outputs": [
    {
     "data": {
      "text/plain": [
       "Text(0.5, 1.0, 'Phoenix')"
      ]
     },
     "execution_count": 202,
     "metadata": {},
     "output_type": "execute_result"
    },
    {
     "data": {
      "image/png": "[encoded data removed]",
      "text/plain": [
       "<Figure size 432x288 with 1 Axes>"
      ]
     },
     "metadata": {
      "needs_background": "light"
     },
     "output_type": "display_data"
    }
   ],
   "source": [
    "k = np.linspace(2,40,20, dtype = int)\n",
    "errors_svd_val = {}\n",
    "errors_svd_train = {}\n",
    "errors_svd_test = {}\n",
    "for i in k:\n",
    "    errors_svd_val[i] =   approx_err(i, df_sparse_val.todense(),   U_, S_diag, Vt_)\n",
    "    errors_svd_test[i] =   approx_err(i, df_sparse_test.todense(),   U_, S_diag, Vt_)\n",
    "    errors_svd_train[i] = approx_err(i, df_sparse_train.todense(), U_, S_diag, Vt_)\n",
    "\n",
    "plt.plot(k,list(errors_svd_val.values()), label = 'Validation')\n",
    "plt.plot(k,list(errors_svd_train.values()), label = 'Train')\n",
    "plt.plot(k,list(errors_svd_test.values()), label = 'Test')\n",
    "plt.xlabel('k')\n",
    "plt.ylabel('RMSE')\n",
    "plt.legend()\n",
    "plt.title(city)"
   ]
  },
  {
   "cell_type": "code",
   "execution_count": 205,
   "metadata": {},
   "outputs": [
    {
     "data": {
      "text/plain": [
       "dict_values([4.727351105652918, 4.726312097933946, 4.725098033921179, 4.7098037216632465, 4.706068351890178, 4.706119849673813, 4.706651082718803, 4.706623136971479, 4.707781511826373, 4.707335971352676, 4.707171696600668, 4.707205272809604, 4.707130975433741, 4.707321968481861, 4.707537624938611, 4.709136619233915, 4.709163203023042, 4.708281161777875, 4.707539059668099, 4.706883559181007])"
      ]
     },
     "execution_count": 205,
     "metadata": {},
     "output_type": "execute_result"
    }
   ],
   "source": []
  },
  {
   "cell_type": "code",
   "execution_count": 206,
   "metadata": {},
   "outputs": [
    {
     "name": "stdout",
     "output_type": "stream",
     "text": [
      "Best k\n",
      "10\n",
      "Best Test RMSE for SVD for Restaurants in Phoenix=  4.706068351890178\n"
     ]
    },
    {
     "data": {
      "image/png": "[encoded data removed]",
      "text/plain": [
       "<Figure size 432x288 with 1 Axes>"
      ]
     },
     "metadata": {
      "needs_background": "light"
     },
     "output_type": "display_data"
    }
   ],
   "source": [
    "plt.plot(k,list(errors_svd_test.values()), label = 'Validation')\n",
    "# plt.plot(k,list(errors_svd_train.values()), label = 'Train')\n",
    "plt.xlabel('k')\n",
    "plt.ylabel('MSE')\n",
    "plt.legend()\n",
    "plt.title(city)\n",
    "print(\"Best k\")\n",
    "k_opt = k[np.argmin(list(errors_svd_test.values()))]\n",
    "print( k_opt)\n",
    "\n",
    "Best_Test_RMSE_SVD = approx_err(k_opt, df_sparse_test.todense(), U_, S_diag, Vt_)\n",
    "print('Best Test RMSE for SVD for Restaurants in {0}= '.format(city), Best_Test_RMSE_SVD)"
   ]
  },
  {
   "cell_type": "markdown",
   "metadata": {},
   "source": [
    "\n",
    "### Non-Model based CF - SVD with bias correction\n"
   ]
  },
  {
   "cell_type": "code",
   "execution_count": 208,
   "metadata": {},
   "outputs": [],
   "source": [
    "def find_global_user_res_bias(ratings_matrix):\n",
    "    dense_matrix = ratings_matrix.todense()\n",
    "    mask_matrix = (dense_matrix>0).astype(int)\n",
    "    user_bias = np.sum(dense_matrix, axis = 1)/np.sum(mask_matrix, axis = 1)\n",
    "    res_bias =  np.sum(dense_matrix, axis = 0)/np.sum(mask_matrix, axis = 0)\n",
    "    user_bias = np.nan_to_num(user_bias)\n",
    "    res_bias = np.nan_to_num(res_bias)\n",
    "    user_bias = user_bias.reshape(-1,1)\n",
    "    res_bias = res_bias.reshape(1,-1)\n",
    "    ratings_matrix_wo_bias = dense_matrix - np.tile(user_bias, (1,dense_matrix.shape[1]))- np.tile(res_bias, (dense_matrix.shape[0], 1))\n",
    "    return user_bias, res_bias, ratings_matrix_wo_bias"
   ]
  },
  {
   "cell_type": "code",
   "execution_count": 209,
   "metadata": {},
   "outputs": [],
   "source": [
    "user_bias_ur, res_bias_ur, train_ur = find_global_user_res_bias(df_sparse_train)"
   ]
  },
  {
   "cell_type": "code",
   "execution_count": 210,
   "metadata": {},
   "outputs": [
    {
     "name": "stdout",
     "output_type": "stream",
     "text": [
      "smallest singular value =  1.3159384193971196e-14\n",
      "largest singular value =  90978.03207683914\n"
     ]
    }
   ],
   "source": [
    "U_bias_ur, S_bias_ur, Vt_bias_ur = np.linalg.svd(train_ur)\n",
    "print(\"smallest singular value = \",min(S_bias_ur))\n",
    "print(\"largest singular value = \",max(S_bias_ur))\n",
    "S_bias_ur_diag = np.diag(S_bias_ur)"
   ]
  },
  {
   "cell_type": "code",
   "execution_count": 211,
   "metadata": {},
   "outputs": [
    {
     "data": {
      "image/png": "[encoded data removed]",
      "text/plain": [
       "<Figure size 576x360 with 1 Axes>"
      ]
     },
     "metadata": {
      "needs_background": "light"
     },
     "output_type": "display_data"
    }
   ],
   "source": [
    "fig = plt.figure(figsize=(8,5))\n",
    "plt.plot(S_bias_ur[:20], '-', linewidth=1)\n",
    "plt.title('Elbow Plot')\n",
    "plt.xlabel('Principal Component')\n",
    "plt.ylabel('Singular Values')\n",
    "plt.title(city)\n",
    "plt.show()\n"
   ]
  },
  {
   "cell_type": "code",
   "execution_count": null,
   "metadata": {},
   "outputs": [],
   "source": [
    "k_wo_bias_ur = np.linspace(2,40,20, dtype = int)\n",
    "errors_svd_wo_bias_ur = {}\n",
    "df_val_bias_ur = df_val.todense() - user_bias_ur - res_bias_ur\n",
    "\n",
    "for i in k_wo_bias_ur:\n",
    "    df_val_bias_ur_rec = np.dot(U_bias_ur[:, :i], np.dot(S_bias_ur_diag[:i,:i], Vt_bias_ur[:i, :]))\n",
    "    idx_wo_bias_ur = np.where(df_val.todense()>0);\n",
    "    diff_wo_bias_ur = df_val_bias_ur[idx_wo_bias_ur] - df_val_bias_ur_rec[idx_wo_bias_ur]\n",
    "    errors_svd_wo_bias_ur[i] = np.sqrt(np.linalg.norm(diff_wo_bias_ur)**2/diff_wo_bias_ur.shape[1])\n",
    "plt.plot(k_wo_bias_ur,list(errors_svd_wo_bias_ur.values()), label= 'Validation')\n",
    "plt.xlabel('PC')\n",
    "plt.ylabel('RMSE')\n",
    "plt.legend()"
   ]
  },
  {
   "cell_type": "code",
   "execution_count": null,
   "metadata": {},
   "outputs": [],
   "source": [
    "k_opt2 = k_wo_bias_ur[np.argmin(list(errors_svd_wo_bias_ur.values()))]\n",
    "print( k_opt2)\n",
    "\n",
    "Best_Test_RMSE_SVD_Bias_Cor = approx_err(k_opt2, df_test.todense(), S_bias_ur_diag, S_diag, Vt_bias_ur)\n",
    "print('Best Test MSE for SVD for Restaurants in {0}= '.format(city), Best_Test_RMSE_SVD)"
   ]
  },
  {
   "cell_type": "code",
   "execution_count": 112,
   "metadata": {},
   "outputs": [
    {
     "data": {
      "text/html": [
       "<div>\n",
       "<style scoped>\n",
       "    .dataframe tbody tr th:only-of-type {\n",
       "        vertical-align: middle;\n",
       "    }\n",
       "\n",
       "    .dataframe tbody tr th {\n",
       "        vertical-align: top;\n",
       "    }\n",
       "\n",
       "    .dataframe thead th {\n",
       "        text-align: right;\n",
       "    }\n",
       "</style>\n",
       "<table border=\"1\" class=\"dataframe\">\n",
       "  <thead>\n",
       "    <tr style=\"text-align: right;\">\n",
       "      <th></th>\n",
       "      <th>A</th>\n",
       "      <th>B</th>\n",
       "    </tr>\n",
       "  </thead>\n",
       "  <tbody>\n",
       "    <tr>\n",
       "      <th>0</th>\n",
       "      <td>1</td>\n",
       "      <td>2</td>\n",
       "    </tr>\n",
       "    <tr>\n",
       "      <th>1</th>\n",
       "      <td>3</td>\n",
       "      <td>4</td>\n",
       "    </tr>\n",
       "    <tr>\n",
       "      <th>0</th>\n",
       "      <td>5</td>\n",
       "      <td>6</td>\n",
       "    </tr>\n",
       "    <tr>\n",
       "      <th>1</th>\n",
       "      <td>7</td>\n",
       "      <td>8</td>\n",
       "    </tr>\n",
       "  </tbody>\n",
       "</table>\n",
       "</div>"
      ],
      "text/plain": [
       "   A  B\n",
       "0  1  2\n",
       "1  3  4\n",
       "0  5  6\n",
       "1  7  8"
      ]
     },
     "execution_count": 112,
     "metadata": {},
     "output_type": "execute_result"
    }
   ],
   "source": [
    "df = pd.DataFrame([[1, 2], [3, 4]], columns=list('AB'))\n",
    "df\n",
    "df2 = pd.DataFrame([[5, 6], [7, 8]], columns=list('AB'))\n",
    "df.append(df2)"
   ]
  },
  {
   "cell_type": "code",
   "execution_count": 115,
   "metadata": {},
   "outputs": [
    {
     "data": {
      "text/plain": [
       "(221326, 3)"
      ]
     },
     "execution_count": 115,
     "metadata": {},
     "output_type": "execute_result"
    }
   ],
   "source": [
    "trainset.shape"
   ]
  },
  {
   "cell_type": "code",
   "execution_count": 116,
   "metadata": {},
   "outputs": [
    {
     "data": {
      "text/plain": [
       "(20451, 3)"
      ]
     },
     "execution_count": 116,
     "metadata": {},
     "output_type": "execute_result"
    }
   ],
   "source": [
    "valset.shape"
   ]
  },
  {
   "cell_type": "code",
   "execution_count": 120,
   "metadata": {},
   "outputs": [
    {
     "data": {
      "text/plain": [
       "(20394, 3)"
      ]
     },
     "execution_count": 120,
     "metadata": {},
     "output_type": "execute_result"
    }
   ],
   "source": [
    "testset.shape"
   ]
  },
  {
   "cell_type": "code",
   "execution_count": 117,
   "metadata": {},
   "outputs": [
    {
     "data": {
      "text/plain": [
       "(241777, 3)"
      ]
     },
     "execution_count": 117,
     "metadata": {},
     "output_type": "execute_result"
    }
   ],
   "source": [
    "trainset.append(valset).shape"
   ]
  },
  {
   "cell_type": "code",
   "execution_count": 118,
   "metadata": {},
   "outputs": [
    {
     "data": {
      "text/plain": [
       "241777"
      ]
     },
     "execution_count": 118,
     "metadata": {},
     "output_type": "execute_result"
    }
   ],
   "source": [
    "20451+221326"
   ]
  },
  {
   "cell_type": "code",
   "execution_count": 123,
   "metadata": {},
   "outputs": [
    {
     "data": {
      "text/plain": [
       "(262228, 3)"
      ]
     },
     "execution_count": 123,
     "metadata": {},
     "output_type": "execute_result"
    }
   ],
   "source": [
    "trainset.append(valset).append(valset).shape"
   ]
  },
  {
   "cell_type": "code",
   "execution_count": 128,
   "metadata": {},
   "outputs": [
    {
     "data": {
      "text/plain": [
       "241777"
      ]
     },
     "execution_count": 128,
     "metadata": {},
     "output_type": "execute_result"
    }
   ],
   "source": [
    "20394 + 20451 + 221326"
   ]
  },
  {
   "cell_type": "code",
   "execution_count": 126,
   "metadata": {},
   "outputs": [
    {
     "data": {
      "text/plain": [
       "(241777, 3)"
      ]
     },
     "execution_count": 126,
     "metadata": {},
     "output_type": "execute_result"
    }
   ],
   "source": [
    "x = trainset.append(valset)\n",
    "x.shape"
   ]
  },
  {
   "cell_type": "code",
   "execution_count": 129,
   "metadata": {},
   "outputs": [
    {
     "data": {
      "text/plain": [
       "(262171, 3)"
      ]
     },
     "execution_count": 129,
     "metadata": {},
     "output_type": "execute_result"
    }
   ],
   "source": [
    "x.append(testset).shape"
   ]
  },
  {
   "cell_type": "code",
   "execution_count": 130,
   "metadata": {},
   "outputs": [
    {
     "data": {
      "text/plain": [
       "(262228, 3)"
      ]
     },
     "execution_count": 130,
     "metadata": {},
     "output_type": "execute_result"
    }
   ],
   "source": [
    "trainset.append(valset).append(valset).shape"
   ]
  },
  {
   "cell_type": "code",
   "execution_count": null,
   "metadata": {},
   "outputs": [],
   "source": []
  }
 ],
 "metadata": {
  "kernelspec": {
   "display_name": "Python 3",
   "language": "python",
   "name": "python3"
  },
  "language_info": {
   "codemirror_mode": {
    "name": "ipython",
    "version": 3
   },
   "file_extension": ".py",
   "mimetype": "text/x-python",
   "name": "python",
   "nbconvert_exporter": "python",
   "pygments_lexer": "ipython3",
   "version": "3.7.6"
  },
  "varInspector": {
   "cols": {
    "lenName": 16,
    "lenType": 16,
    "lenVar": 40
   },
   "kernels_config": {
    "python": {
     "delete_cmd_postfix": "",
     "delete_cmd_prefix": "del ",
     "library": "var_list.py",
     "varRefreshCmd": "print(var_dic_list())"
    },
    "r": {
     "delete_cmd_postfix": ") ",
     "delete_cmd_prefix": "rm(",
     "library": "var_list.r",
     "varRefreshCmd": "cat(var_dic_list()) "
    }
   },
   "types_to_exclude": [
    "module",
    "function",
    "builtin_function_or_method",
    "instance",
    "_Feature"
   ],
   "window_display": false
  }
 },
 "nbformat": 4,
 "nbformat_minor": 4
}
