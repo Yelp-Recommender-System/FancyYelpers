{
 "cells": [
  {
   "cell_type": "code",
   "execution_count": 1,
   "metadata": {},
   "outputs": [
    {
     "name": "stderr",
     "output_type": "stream",
     "text": [
      "<frozen importlib._bootstrap>:219: RuntimeWarning: numpy.ufunc size changed, may indicate binary incompatibility. Expected 192 from C header, got 216 from PyObject\n"
     ]
    }
   ],
   "source": [
    "import pandas as pd\n",
    "import numpy as np"
   ]
  },
  {
   "cell_type": "code",
   "execution_count": 2,
   "metadata": {
    "scrolled": true
   },
   "outputs": [
    {
     "data": {
      "text/html": [
       "<div>\n",
       "<style scoped>\n",
       "    .dataframe tbody tr th:only-of-type {\n",
       "        vertical-align: middle;\n",
       "    }\n",
       "\n",
       "    .dataframe tbody tr th {\n",
       "        vertical-align: top;\n",
       "    }\n",
       "\n",
       "    .dataframe thead th {\n",
       "        text-align: right;\n",
       "    }\n",
       "</style>\n",
       "<table border=\"1\" class=\"dataframe\">\n",
       "  <thead>\n",
       "    <tr style=\"text-align: right;\">\n",
       "      <th></th>\n",
       "      <th>Unnamed: 0</th>\n",
       "      <th>review_id</th>\n",
       "      <th>user_id</th>\n",
       "      <th>business_id</th>\n",
       "      <th>stars</th>\n",
       "      <th>text</th>\n",
       "      <th>date</th>\n",
       "      <th>business_name</th>\n",
       "      <th>city</th>\n",
       "      <th>state</th>\n",
       "      <th>categories</th>\n",
       "    </tr>\n",
       "  </thead>\n",
       "  <tbody>\n",
       "    <tr>\n",
       "      <th>0</th>\n",
       "      <td>1</td>\n",
       "      <td>aBWKb49Xfkv1946YN7_SIg</td>\n",
       "      <td>sSPbLBHcEMXaJfoO8zs1bA</td>\n",
       "      <td>poSV39UqEg-gpESXafS9-g</td>\n",
       "      <td>5.0</td>\n",
       "      <td>Amazing food, drinks, service!\\n\\nWe started w...</td>\n",
       "      <td>2016-01-17 05:33:14</td>\n",
       "      <td>Angry Crab Shack</td>\n",
       "      <td>Phoenix</td>\n",
       "      <td>AZ</td>\n",
       "      <td>Restaurants, American (New), Seafood, Cajun/Cr...</td>\n",
       "    </tr>\n",
       "    <tr>\n",
       "      <th>1</th>\n",
       "      <td>2</td>\n",
       "      <td>jCHaWXgppmZjkOdpFltWGA</td>\n",
       "      <td>D5ywfFmwtJxLReqAYlDDmw</td>\n",
       "      <td>poSV39UqEg-gpESXafS9-g</td>\n",
       "      <td>5.0</td>\n",
       "      <td>I couldn't be more excited to have found this ...</td>\n",
       "      <td>2016-01-30 01:13:29</td>\n",
       "      <td>Angry Crab Shack</td>\n",
       "      <td>Phoenix</td>\n",
       "      <td>AZ</td>\n",
       "      <td>Restaurants, American (New), Seafood, Cajun/Cr...</td>\n",
       "    </tr>\n",
       "    <tr>\n",
       "      <th>2</th>\n",
       "      <td>5</td>\n",
       "      <td>CfueO6B4_WauGRQ0cq9Whg</td>\n",
       "      <td>fhwZh6_7YxWeVEuskKMTcA</td>\n",
       "      <td>poSV39UqEg-gpESXafS9-g</td>\n",
       "      <td>5.0</td>\n",
       "      <td>Loved this place! \\nI came for crab legs and w...</td>\n",
       "      <td>2016-05-07 01:19:53</td>\n",
       "      <td>Angry Crab Shack</td>\n",
       "      <td>Phoenix</td>\n",
       "      <td>AZ</td>\n",
       "      <td>Restaurants, American (New), Seafood, Cajun/Cr...</td>\n",
       "    </tr>\n",
       "    <tr>\n",
       "      <th>3</th>\n",
       "      <td>7</td>\n",
       "      <td>S8YMS-nYudRr-_NIT0CZqg</td>\n",
       "      <td>CyL4Nh9VHti5oIfcWevRIg</td>\n",
       "      <td>poSV39UqEg-gpESXafS9-g</td>\n",
       "      <td>5.0</td>\n",
       "      <td>I love sea food and I loved the Angry Crab Sha...</td>\n",
       "      <td>2016-02-11 23:00:41</td>\n",
       "      <td>Angry Crab Shack</td>\n",
       "      <td>Phoenix</td>\n",
       "      <td>AZ</td>\n",
       "      <td>Restaurants, American (New), Seafood, Cajun/Cr...</td>\n",
       "    </tr>\n",
       "    <tr>\n",
       "      <th>4</th>\n",
       "      <td>11</td>\n",
       "      <td>mseSVlHQ87m1pyJvbIT3GA</td>\n",
       "      <td>jPfONqo5q5SNz0Dh131W2Q</td>\n",
       "      <td>poSV39UqEg-gpESXafS9-g</td>\n",
       "      <td>5.0</td>\n",
       "      <td>We've been to the chandler location twice.Noth...</td>\n",
       "      <td>2018-02-02 01:34:57</td>\n",
       "      <td>Angry Crab Shack</td>\n",
       "      <td>Phoenix</td>\n",
       "      <td>AZ</td>\n",
       "      <td>Restaurants, American (New), Seafood, Cajun/Cr...</td>\n",
       "    </tr>\n",
       "    <tr>\n",
       "      <th>...</th>\n",
       "      <td>...</td>\n",
       "      <td>...</td>\n",
       "      <td>...</td>\n",
       "      <td>...</td>\n",
       "      <td>...</td>\n",
       "      <td>...</td>\n",
       "      <td>...</td>\n",
       "      <td>...</td>\n",
       "      <td>...</td>\n",
       "      <td>...</td>\n",
       "      <td>...</td>\n",
       "    </tr>\n",
       "    <tr>\n",
       "      <th>219554</th>\n",
       "      <td>510848</td>\n",
       "      <td>xn_0_mUS8FqvLD6OkLOO5w</td>\n",
       "      <td>W2K94WPhkHNHXMiaAIA7Jg</td>\n",
       "      <td>NPQBXnKDzAFimQPT7SSEAw</td>\n",
       "      <td>5.0</td>\n",
       "      <td>What a find! I hate to review this place cause...</td>\n",
       "      <td>2019-02-02 16:29:46</td>\n",
       "      <td>Pigtails Desert Ridge</td>\n",
       "      <td>Phoenix</td>\n",
       "      <td>AZ</td>\n",
       "      <td>Bars, Nightlife, Tapas/Small Plates, Cocktail ...</td>\n",
       "    </tr>\n",
       "    <tr>\n",
       "      <th>219555</th>\n",
       "      <td>510850</td>\n",
       "      <td>d2W2V2N3EYc19bEmTQFJ-A</td>\n",
       "      <td>el3TmKFEFzZOcNbCw2FNlQ</td>\n",
       "      <td>NPQBXnKDzAFimQPT7SSEAw</td>\n",
       "      <td>5.0</td>\n",
       "      <td>Y'all!! Desert Ridge got a speakeasy!!! Locate...</td>\n",
       "      <td>2019-08-14 23:49:23</td>\n",
       "      <td>Pigtails Desert Ridge</td>\n",
       "      <td>Phoenix</td>\n",
       "      <td>AZ</td>\n",
       "      <td>Bars, Nightlife, Tapas/Small Plates, Cocktail ...</td>\n",
       "    </tr>\n",
       "    <tr>\n",
       "      <th>219556</th>\n",
       "      <td>510853</td>\n",
       "      <td>w41yhCe4HsosDZyiIpYG4Q</td>\n",
       "      <td>Wdz7oPzkqG_JFMPDBsq8Wg</td>\n",
       "      <td>NPQBXnKDzAFimQPT7SSEAw</td>\n",
       "      <td>5.0</td>\n",
       "      <td>Great drinks the bartender made us something t...</td>\n",
       "      <td>2019-11-03 08:43:20</td>\n",
       "      <td>Pigtails Desert Ridge</td>\n",
       "      <td>Phoenix</td>\n",
       "      <td>AZ</td>\n",
       "      <td>Bars, Nightlife, Tapas/Small Plates, Cocktail ...</td>\n",
       "    </tr>\n",
       "    <tr>\n",
       "      <th>219557</th>\n",
       "      <td>510854</td>\n",
       "      <td>FIkGcpQJf3LXqZe3QbdVkg</td>\n",
       "      <td>zy4A7504SezncCAcotMv4g</td>\n",
       "      <td>NPQBXnKDzAFimQPT7SSEAw</td>\n",
       "      <td>4.0</td>\n",
       "      <td>I really like the speakeasy feel of this place...</td>\n",
       "      <td>2019-06-29 02:38:36</td>\n",
       "      <td>Pigtails Desert Ridge</td>\n",
       "      <td>Phoenix</td>\n",
       "      <td>AZ</td>\n",
       "      <td>Bars, Nightlife, Tapas/Small Plates, Cocktail ...</td>\n",
       "    </tr>\n",
       "    <tr>\n",
       "      <th>219558</th>\n",
       "      <td>510856</td>\n",
       "      <td>LqYtlnEUvwi0U0V4FCvb4g</td>\n",
       "      <td>04J_q_VhSBItxNiEAN-gkA</td>\n",
       "      <td>NPQBXnKDzAFimQPT7SSEAw</td>\n",
       "      <td>5.0</td>\n",
       "      <td>Love this place place! Its intimate, dimly lit...</td>\n",
       "      <td>2019-11-23 21:25:38</td>\n",
       "      <td>Pigtails Desert Ridge</td>\n",
       "      <td>Phoenix</td>\n",
       "      <td>AZ</td>\n",
       "      <td>Bars, Nightlife, Tapas/Small Plates, Cocktail ...</td>\n",
       "    </tr>\n",
       "  </tbody>\n",
       "</table>\n",
       "<p>219559 rows × 11 columns</p>\n",
       "</div>"
      ],
      "text/plain": [
       "        Unnamed: 0               review_id                 user_id  \\\n",
       "0                1  aBWKb49Xfkv1946YN7_SIg  sSPbLBHcEMXaJfoO8zs1bA   \n",
       "1                2  jCHaWXgppmZjkOdpFltWGA  D5ywfFmwtJxLReqAYlDDmw   \n",
       "2                5  CfueO6B4_WauGRQ0cq9Whg  fhwZh6_7YxWeVEuskKMTcA   \n",
       "3                7  S8YMS-nYudRr-_NIT0CZqg  CyL4Nh9VHti5oIfcWevRIg   \n",
       "4               11  mseSVlHQ87m1pyJvbIT3GA  jPfONqo5q5SNz0Dh131W2Q   \n",
       "...            ...                     ...                     ...   \n",
       "219554      510848  xn_0_mUS8FqvLD6OkLOO5w  W2K94WPhkHNHXMiaAIA7Jg   \n",
       "219555      510850  d2W2V2N3EYc19bEmTQFJ-A  el3TmKFEFzZOcNbCw2FNlQ   \n",
       "219556      510853  w41yhCe4HsosDZyiIpYG4Q  Wdz7oPzkqG_JFMPDBsq8Wg   \n",
       "219557      510854  FIkGcpQJf3LXqZe3QbdVkg  zy4A7504SezncCAcotMv4g   \n",
       "219558      510856  LqYtlnEUvwi0U0V4FCvb4g  04J_q_VhSBItxNiEAN-gkA   \n",
       "\n",
       "                   business_id  stars  \\\n",
       "0       poSV39UqEg-gpESXafS9-g    5.0   \n",
       "1       poSV39UqEg-gpESXafS9-g    5.0   \n",
       "2       poSV39UqEg-gpESXafS9-g    5.0   \n",
       "3       poSV39UqEg-gpESXafS9-g    5.0   \n",
       "4       poSV39UqEg-gpESXafS9-g    5.0   \n",
       "...                        ...    ...   \n",
       "219554  NPQBXnKDzAFimQPT7SSEAw    5.0   \n",
       "219555  NPQBXnKDzAFimQPT7SSEAw    5.0   \n",
       "219556  NPQBXnKDzAFimQPT7SSEAw    5.0   \n",
       "219557  NPQBXnKDzAFimQPT7SSEAw    4.0   \n",
       "219558  NPQBXnKDzAFimQPT7SSEAw    5.0   \n",
       "\n",
       "                                                     text  \\\n",
       "0       Amazing food, drinks, service!\\n\\nWe started w...   \n",
       "1       I couldn't be more excited to have found this ...   \n",
       "2       Loved this place! \\nI came for crab legs and w...   \n",
       "3       I love sea food and I loved the Angry Crab Sha...   \n",
       "4       We've been to the chandler location twice.Noth...   \n",
       "...                                                   ...   \n",
       "219554  What a find! I hate to review this place cause...   \n",
       "219555  Y'all!! Desert Ridge got a speakeasy!!! Locate...   \n",
       "219556  Great drinks the bartender made us something t...   \n",
       "219557  I really like the speakeasy feel of this place...   \n",
       "219558  Love this place place! Its intimate, dimly lit...   \n",
       "\n",
       "                       date          business_name     city state  \\\n",
       "0       2016-01-17 05:33:14       Angry Crab Shack  Phoenix    AZ   \n",
       "1       2016-01-30 01:13:29       Angry Crab Shack  Phoenix    AZ   \n",
       "2       2016-05-07 01:19:53       Angry Crab Shack  Phoenix    AZ   \n",
       "3       2016-02-11 23:00:41       Angry Crab Shack  Phoenix    AZ   \n",
       "4       2018-02-02 01:34:57       Angry Crab Shack  Phoenix    AZ   \n",
       "...                     ...                    ...      ...   ...   \n",
       "219554  2019-02-02 16:29:46  Pigtails Desert Ridge  Phoenix    AZ   \n",
       "219555  2019-08-14 23:49:23  Pigtails Desert Ridge  Phoenix    AZ   \n",
       "219556  2019-11-03 08:43:20  Pigtails Desert Ridge  Phoenix    AZ   \n",
       "219557  2019-06-29 02:38:36  Pigtails Desert Ridge  Phoenix    AZ   \n",
       "219558  2019-11-23 21:25:38  Pigtails Desert Ridge  Phoenix    AZ   \n",
       "\n",
       "                                               categories  \n",
       "0       Restaurants, American (New), Seafood, Cajun/Cr...  \n",
       "1       Restaurants, American (New), Seafood, Cajun/Cr...  \n",
       "2       Restaurants, American (New), Seafood, Cajun/Cr...  \n",
       "3       Restaurants, American (New), Seafood, Cajun/Cr...  \n",
       "4       Restaurants, American (New), Seafood, Cajun/Cr...  \n",
       "...                                                   ...  \n",
       "219554  Bars, Nightlife, Tapas/Small Plates, Cocktail ...  \n",
       "219555  Bars, Nightlife, Tapas/Small Plates, Cocktail ...  \n",
       "219556  Bars, Nightlife, Tapas/Small Plates, Cocktail ...  \n",
       "219557  Bars, Nightlife, Tapas/Small Plates, Cocktail ...  \n",
       "219558  Bars, Nightlife, Tapas/Small Plates, Cocktail ...  \n",
       "\n",
       "[219559 rows x 11 columns]"
      ]
     },
     "execution_count": 2,
     "metadata": {},
     "output_type": "execute_result"
    }
   ],
   "source": [
    "data = pd.read_csv(\"../data/filtered_reviews_in_Phonex.csv\")\n",
    "data"
   ]
  },
  {
   "cell_type": "code",
   "execution_count": 3,
   "metadata": {},
   "outputs": [],
   "source": [
    "train_df = pd.read_pickle('../data/train_df.pkl')\n",
    "val_df = pd.read_pickle('../data/valid_df.pkl')\n",
    "test_df = pd.read_pickle('../data/test_df.pkl')"
   ]
  },
  {
   "cell_type": "code",
   "execution_count": 4,
   "metadata": {},
   "outputs": [
    {
     "data": {
      "text/html": [
       "<div>\n",
       "<style scoped>\n",
       "    .dataframe tbody tr th:only-of-type {\n",
       "        vertical-align: middle;\n",
       "    }\n",
       "\n",
       "    .dataframe tbody tr th {\n",
       "        vertical-align: top;\n",
       "    }\n",
       "\n",
       "    .dataframe thead th {\n",
       "        text-align: right;\n",
       "    }\n",
       "</style>\n",
       "<table border=\"1\" class=\"dataframe\">\n",
       "  <thead>\n",
       "    <tr style=\"text-align: right;\">\n",
       "      <th></th>\n",
       "      <th>user_id</th>\n",
       "      <th>business_id</th>\n",
       "      <th>stars</th>\n",
       "    </tr>\n",
       "  </thead>\n",
       "  <tbody>\n",
       "    <tr>\n",
       "      <th>0</th>\n",
       "      <td>--2HUmLkcNHZp0xw6AMBPg</td>\n",
       "      <td>yX0pOWG_Be9TjGnm0aihVA</td>\n",
       "      <td>5.0</td>\n",
       "    </tr>\n",
       "    <tr>\n",
       "      <th>1</th>\n",
       "      <td>--2HUmLkcNHZp0xw6AMBPg</td>\n",
       "      <td>u9R0_pvEkl7QGPJYH3j1sg</td>\n",
       "      <td>5.0</td>\n",
       "    </tr>\n",
       "    <tr>\n",
       "      <th>2</th>\n",
       "      <td>--2HUmLkcNHZp0xw6AMBPg</td>\n",
       "      <td>cHdJXLlKNWixBXpDwEGb_A</td>\n",
       "      <td>5.0</td>\n",
       "    </tr>\n",
       "    <tr>\n",
       "      <th>3</th>\n",
       "      <td>--2HUmLkcNHZp0xw6AMBPg</td>\n",
       "      <td>LR_99E7tVUfxqemvcGkDzw</td>\n",
       "      <td>3.0</td>\n",
       "    </tr>\n",
       "    <tr>\n",
       "      <th>4</th>\n",
       "      <td>--2HUmLkcNHZp0xw6AMBPg</td>\n",
       "      <td>lfyg98UFNYMVk18p6LIlkw</td>\n",
       "      <td>5.0</td>\n",
       "    </tr>\n",
       "  </tbody>\n",
       "</table>\n",
       "</div>"
      ],
      "text/plain": [
       "                  user_id             business_id  stars\n",
       "0  --2HUmLkcNHZp0xw6AMBPg  yX0pOWG_Be9TjGnm0aihVA    5.0\n",
       "1  --2HUmLkcNHZp0xw6AMBPg  u9R0_pvEkl7QGPJYH3j1sg    5.0\n",
       "2  --2HUmLkcNHZp0xw6AMBPg  cHdJXLlKNWixBXpDwEGb_A    5.0\n",
       "3  --2HUmLkcNHZp0xw6AMBPg  LR_99E7tVUfxqemvcGkDzw    3.0\n",
       "4  --2HUmLkcNHZp0xw6AMBPg  lfyg98UFNYMVk18p6LIlkw    5.0"
      ]
     },
     "execution_count": 4,
     "metadata": {},
     "output_type": "execute_result"
    }
   ],
   "source": [
    "train_df.head()"
   ]
  },
  {
   "cell_type": "markdown",
   "metadata": {},
   "source": [
    "## lightFM"
   ]
  },
  {
   "cell_type": "code",
   "execution_count": 5,
   "metadata": {},
   "outputs": [
    {
     "name": "stderr",
     "output_type": "stream",
     "text": [
      "<frozen importlib._bootstrap>:219: RuntimeWarning: numpy.ufunc size changed, may indicate binary incompatibility. Expected 192 from C header, got 216 from PyObject\n",
      "<frozen importlib._bootstrap>:219: RuntimeWarning: numpy.ufunc size changed, may indicate binary incompatibility. Expected 192 from C header, got 216 from PyObject\n"
     ]
    }
   ],
   "source": [
    "import lightfm\n",
    "from lightfm import LightFM\n",
    "from lightfm.data import Dataset\n",
    "from lightfm import cross_validation\n",
    "\n",
    "from lightfm.evaluation import precision_at_k as lightfm_prec_at_k\n",
    "from lightfm.evaluation import recall_at_k as lightfm_recall_at_k\n",
    "from lightfm.evaluation import auc_score "
   ]
  },
  {
   "cell_type": "code",
   "execution_count": 6,
   "metadata": {},
   "outputs": [],
   "source": [
    "# default number of recommendations\n",
    "K = 10\n",
    "# percentage of data used for testing\n",
    "TEST_PERCENTAGE = 0.25\n",
    "# model learning rate\n",
    "LEARNING_RATE = 0.25\n",
    "# no of latent factors\n",
    "NO_COMPONENTS = 20\n",
    "# no of epochs to fit model\n",
    "NO_EPOCHS = 20\n",
    "# no of threads to fit model\n",
    "NO_THREADS = 32\n",
    "# regularisation for both user and item features\n",
    "ITEM_ALPHA=1e-6\n",
    "USER_ALPHA=1e-6\n",
    "\n",
    "# seed for pseudonumber generations\n",
    "SEEDNO = 42"
   ]
  },
  {
   "cell_type": "code",
   "execution_count": 7,
   "metadata": {},
   "outputs": [],
   "source": [
    "dataset = Dataset()\n",
    "dataset.fit(users=train_df[\"user_id\"], items=train_df[\"business_id\"])"
   ]
  },
  {
   "cell_type": "code",
   "execution_count": 8,
   "metadata": {},
   "outputs": [
    {
     "name": "stdout",
     "output_type": "stream",
     "text": [
      "Num users: 19683, num_topics: 1728.\n"
     ]
    }
   ],
   "source": [
    "num_users, num_topics = dataset.interactions_shape()\n",
    "print(f'Num users: {num_users}, num_topics: {num_topics}.')"
   ]
  },
  {
   "cell_type": "code",
   "execution_count": 9,
   "metadata": {},
   "outputs": [],
   "source": [
    "# train_interactions, test_interactions = cross_validation.random_train_test_split(\n",
    "#     interactions, test_percentage=TEST_PERCENTAGE,\n",
    "#     random_state=np.random.RandomState(SEEDNO))"
   ]
  },
  {
   "cell_type": "code",
   "execution_count": 10,
   "metadata": {},
   "outputs": [],
   "source": [
    "(train_interactions, train_weights) = dataset.build_interactions(train_df.values)\n",
    "(val_interactions, val_weights) = dataset.build_interactions(val_df.values)\n",
    "(test_interactions, test_weights) = dataset.build_interactions(test_df.values)"
   ]
  },
  {
   "cell_type": "code",
   "execution_count": 11,
   "metadata": {},
   "outputs": [
    {
     "name": "stdout",
     "output_type": "stream",
     "text": [
      "Shape of train interactions: (19683, 1728)\n",
      "Shape of train interactions: (19683, 1728)\n",
      "Shape of test interactions: (19683, 1728)\n"
     ]
    }
   ],
   "source": [
    "print(f\"Shape of train interactions: {train_interactions.shape}\")\n",
    "print(f\"Shape of train interactions: {val_interactions.shape}\")\n",
    "print(f\"Shape of test interactions: {test_interactions.shape}\")"
   ]
  },
  {
   "cell_type": "code",
   "execution_count": 12,
   "metadata": {},
   "outputs": [],
   "source": [
    "model1 = LightFM(loss='warp', no_components=NO_COMPONENTS, \n",
    "                 learning_rate=LEARNING_RATE,                 \n",
    "                 random_state=np.random.RandomState(SEEDNO))"
   ]
  },
  {
   "cell_type": "code",
   "execution_count": 13,
   "metadata": {},
   "outputs": [
    {
     "data": {
      "text/plain": [
       "<lightfm.lightfm.LightFM at 0x7f9d62759820>"
      ]
     },
     "execution_count": 13,
     "metadata": {},
     "output_type": "execute_result"
    }
   ],
   "source": [
    "model1.fit(interactions=train_interactions, epochs=NO_EPOCHS)"
   ]
  },
  {
   "cell_type": "code",
   "execution_count": 15,
   "metadata": {},
   "outputs": [
    {
     "name": "stdout",
     "output_type": "stream",
     "text": [
      "\n",
      "------ Using LightFM evaluation methods ------\n",
      "Precision@K:\t0.000487\n",
      "Recall@K:\t0.004872\n",
      "AUC:\t0.586453\n"
     ]
    }
   ],
   "source": [
    "eval_precision_lfm = lightfm_prec_at_k(model1, val_interactions, \n",
    "                                           train_interactions, k=K).mean()\n",
    "eval_recall_lfm = lightfm_recall_at_k(model1, val_interactions, \n",
    "                                          train_interactions, k=K).mean()\n",
    "eval_auc_lfm = auc_score(model1, val_interactions, \n",
    "                                          train_interactions).mean()\n",
    "    \n",
    "print(\n",
    "    \"\\n------ Using LightFM evaluation methods ------\",\n",
    "    f\"Precision@K:\\t{eval_precision_lfm:.6f}\",\n",
    "    f\"Recall@K:\\t{eval_recall_lfm:.6f}\", \n",
    "    f\"AUC:\\t{eval_auc_lfm:.6f}\", \n",
    "    sep='\\n')"
   ]
  },
  {
   "cell_type": "markdown",
   "metadata": {},
   "source": [
    "## hybrid lightfm"
   ]
  },
  {
   "cell_type": "code",
   "execution_count": 16,
   "metadata": {
    "scrolled": true
   },
   "outputs": [
    {
     "data": {
      "text/plain": [
       "array(['Restaurants, American (New), Seafood, Cajun/Creole, Barbeque',\n",
       "       'Mexican, Restaurants, Hot Dogs', 'Restaurants, American (New)',\n",
       "       ...,\n",
       "       'American (Traditional), Restaurants, Music Venues, Performing Arts, Nightlife, Arts & Entertainment, Bars',\n",
       "       'Wine Bars, American (New), Tapas/Small Plates, Restaurants, Bars, Nightlife',\n",
       "       'Bars, Nightlife, Tapas/Small Plates, Cocktail Bars, Restaurants'],\n",
       "      dtype=object)"
      ]
     },
     "execution_count": 16,
     "metadata": {},
     "output_type": "execute_result"
    }
   ],
   "source": [
    "data[\"categories\"].unique()"
   ]
  },
  {
   "cell_type": "code",
   "execution_count": 17,
   "metadata": {},
   "outputs": [],
   "source": [
    "# get all categories\n",
    "cate_lst = []\n",
    "for categories in data[\"categories\"].unique():\n",
    "    for i in categories.split(','):\n",
    "        cate_lst.append(i.strip())\n",
    "cate_lst = list(set(cate_lst))"
   ]
  },
  {
   "cell_type": "code",
   "execution_count": 18,
   "metadata": {},
   "outputs": [
    {
     "data": {
      "text/html": [
       "<div>\n",
       "<style scoped>\n",
       "    .dataframe tbody tr th:only-of-type {\n",
       "        vertical-align: middle;\n",
       "    }\n",
       "\n",
       "    .dataframe tbody tr th {\n",
       "        vertical-align: top;\n",
       "    }\n",
       "\n",
       "    .dataframe thead th {\n",
       "        text-align: right;\n",
       "    }\n",
       "</style>\n",
       "<table border=\"1\" class=\"dataframe\">\n",
       "  <thead>\n",
       "    <tr style=\"text-align: right;\">\n",
       "      <th></th>\n",
       "      <th>business_id</th>\n",
       "      <th>categories</th>\n",
       "    </tr>\n",
       "  </thead>\n",
       "  <tbody>\n",
       "    <tr>\n",
       "      <th>0</th>\n",
       "      <td>poSV39UqEg-gpESXafS9-g</td>\n",
       "      <td>Restaurants, American (New), Seafood, Cajun/Cr...</td>\n",
       "    </tr>\n",
       "    <tr>\n",
       "      <th>1</th>\n",
       "      <td>d_q4avZYM1sOlQP7noJKVg</td>\n",
       "      <td>Mexican, Restaurants, Hot Dogs</td>\n",
       "    </tr>\n",
       "    <tr>\n",
       "      <th>2</th>\n",
       "      <td>k1c_bC3DK6mKg797vH1T8w</td>\n",
       "      <td>Restaurants, American (New)</td>\n",
       "    </tr>\n",
       "    <tr>\n",
       "      <th>3</th>\n",
       "      <td>kBJfBVaXJtPEKLTov1hJdQ</td>\n",
       "      <td>Barbeque, Cambodian, Noodles, Asian Fusion, Re...</td>\n",
       "    </tr>\n",
       "    <tr>\n",
       "      <th>4</th>\n",
       "      <td>vhKUBKcOm8zOLxeS3XM9iA</td>\n",
       "      <td>Pizza, Restaurants</td>\n",
       "    </tr>\n",
       "    <tr>\n",
       "      <th>...</th>\n",
       "      <td>...</td>\n",
       "      <td>...</td>\n",
       "    </tr>\n",
       "    <tr>\n",
       "      <th>1723</th>\n",
       "      <td>ayAe3Ap3lN2tPwkfKDLeuA</td>\n",
       "      <td>Mexican, Restaurants</td>\n",
       "    </tr>\n",
       "    <tr>\n",
       "      <th>1724</th>\n",
       "      <td>2adhYiY1IQ5flntw30Sdew</td>\n",
       "      <td>American (Traditional), Restaurants, Music Ven...</td>\n",
       "    </tr>\n",
       "    <tr>\n",
       "      <th>1725</th>\n",
       "      <td>Aqy2wQmWH1YkiCaQeqG1jg</td>\n",
       "      <td>American (New), Restaurants</td>\n",
       "    </tr>\n",
       "    <tr>\n",
       "      <th>1726</th>\n",
       "      <td>5V8O-vas5A4XGWqxsJ7GBg</td>\n",
       "      <td>Wine Bars, American (New), Tapas/Small Plates,...</td>\n",
       "    </tr>\n",
       "    <tr>\n",
       "      <th>1727</th>\n",
       "      <td>NPQBXnKDzAFimQPT7SSEAw</td>\n",
       "      <td>Bars, Nightlife, Tapas/Small Plates, Cocktail ...</td>\n",
       "    </tr>\n",
       "  </tbody>\n",
       "</table>\n",
       "<p>1728 rows × 2 columns</p>\n",
       "</div>"
      ],
      "text/plain": [
       "                 business_id  \\\n",
       "0     poSV39UqEg-gpESXafS9-g   \n",
       "1     d_q4avZYM1sOlQP7noJKVg   \n",
       "2     k1c_bC3DK6mKg797vH1T8w   \n",
       "3     kBJfBVaXJtPEKLTov1hJdQ   \n",
       "4     vhKUBKcOm8zOLxeS3XM9iA   \n",
       "...                      ...   \n",
       "1723  ayAe3Ap3lN2tPwkfKDLeuA   \n",
       "1724  2adhYiY1IQ5flntw30Sdew   \n",
       "1725  Aqy2wQmWH1YkiCaQeqG1jg   \n",
       "1726  5V8O-vas5A4XGWqxsJ7GBg   \n",
       "1727  NPQBXnKDzAFimQPT7SSEAw   \n",
       "\n",
       "                                             categories  \n",
       "0     Restaurants, American (New), Seafood, Cajun/Cr...  \n",
       "1                        Mexican, Restaurants, Hot Dogs  \n",
       "2                           Restaurants, American (New)  \n",
       "3     Barbeque, Cambodian, Noodles, Asian Fusion, Re...  \n",
       "4                                    Pizza, Restaurants  \n",
       "...                                                 ...  \n",
       "1723                               Mexican, Restaurants  \n",
       "1724  American (Traditional), Restaurants, Music Ven...  \n",
       "1725                        American (New), Restaurants  \n",
       "1726  Wine Bars, American (New), Tapas/Small Plates,...  \n",
       "1727  Bars, Nightlife, Tapas/Small Plates, Cocktail ...  \n",
       "\n",
       "[1728 rows x 2 columns]"
      ]
     },
     "execution_count": 18,
     "metadata": {},
     "output_type": "execute_result"
    }
   ],
   "source": [
    "bus_df = data[[\"business_id\",\"categories\"]].drop_duplicates()\n",
    "bus_df = bus_df.reset_index(drop=True)\n",
    "bus_df"
   ]
  },
  {
   "cell_type": "code",
   "execution_count": 19,
   "metadata": {},
   "outputs": [
    {
     "data": {
      "text/html": [
       "<div>\n",
       "<style scoped>\n",
       "    .dataframe tbody tr th:only-of-type {\n",
       "        vertical-align: middle;\n",
       "    }\n",
       "\n",
       "    .dataframe tbody tr th {\n",
       "        vertical-align: top;\n",
       "    }\n",
       "\n",
       "    .dataframe thead th {\n",
       "        text-align: right;\n",
       "    }\n",
       "</style>\n",
       "<table border=\"1\" class=\"dataframe\">\n",
       "  <thead>\n",
       "    <tr style=\"text-align: right;\">\n",
       "      <th></th>\n",
       "      <th>business_id</th>\n",
       "      <th>categories</th>\n",
       "    </tr>\n",
       "  </thead>\n",
       "  <tbody>\n",
       "    <tr>\n",
       "      <th>0</th>\n",
       "      <td>poSV39UqEg-gpESXafS9-g</td>\n",
       "      <td>Restaurants, American (New), Seafood, Cajun/Cr...</td>\n",
       "    </tr>\n",
       "    <tr>\n",
       "      <th>1</th>\n",
       "      <td>d_q4avZYM1sOlQP7noJKVg</td>\n",
       "      <td>Mexican, Restaurants, Hot Dogs</td>\n",
       "    </tr>\n",
       "    <tr>\n",
       "      <th>2</th>\n",
       "      <td>k1c_bC3DK6mKg797vH1T8w</td>\n",
       "      <td>Restaurants, American (New)</td>\n",
       "    </tr>\n",
       "    <tr>\n",
       "      <th>3</th>\n",
       "      <td>kBJfBVaXJtPEKLTov1hJdQ</td>\n",
       "      <td>Barbeque, Cambodian, Noodles, Asian Fusion, Re...</td>\n",
       "    </tr>\n",
       "    <tr>\n",
       "      <th>4</th>\n",
       "      <td>vhKUBKcOm8zOLxeS3XM9iA</td>\n",
       "      <td>Pizza, Restaurants</td>\n",
       "    </tr>\n",
       "    <tr>\n",
       "      <th>...</th>\n",
       "      <td>...</td>\n",
       "      <td>...</td>\n",
       "    </tr>\n",
       "    <tr>\n",
       "      <th>1723</th>\n",
       "      <td>ayAe3Ap3lN2tPwkfKDLeuA</td>\n",
       "      <td>Mexican, Restaurants</td>\n",
       "    </tr>\n",
       "    <tr>\n",
       "      <th>1724</th>\n",
       "      <td>2adhYiY1IQ5flntw30Sdew</td>\n",
       "      <td>American (Traditional), Restaurants, Music Ven...</td>\n",
       "    </tr>\n",
       "    <tr>\n",
       "      <th>1725</th>\n",
       "      <td>Aqy2wQmWH1YkiCaQeqG1jg</td>\n",
       "      <td>American (New), Restaurants</td>\n",
       "    </tr>\n",
       "    <tr>\n",
       "      <th>1726</th>\n",
       "      <td>5V8O-vas5A4XGWqxsJ7GBg</td>\n",
       "      <td>Wine Bars, American (New), Tapas/Small Plates,...</td>\n",
       "    </tr>\n",
       "    <tr>\n",
       "      <th>1727</th>\n",
       "      <td>NPQBXnKDzAFimQPT7SSEAw</td>\n",
       "      <td>Bars, Nightlife, Tapas/Small Plates, Cocktail ...</td>\n",
       "    </tr>\n",
       "  </tbody>\n",
       "</table>\n",
       "<p>1728 rows × 2 columns</p>\n",
       "</div>"
      ],
      "text/plain": [
       "                 business_id  \\\n",
       "0     poSV39UqEg-gpESXafS9-g   \n",
       "1     d_q4avZYM1sOlQP7noJKVg   \n",
       "2     k1c_bC3DK6mKg797vH1T8w   \n",
       "3     kBJfBVaXJtPEKLTov1hJdQ   \n",
       "4     vhKUBKcOm8zOLxeS3XM9iA   \n",
       "...                      ...   \n",
       "1723  ayAe3Ap3lN2tPwkfKDLeuA   \n",
       "1724  2adhYiY1IQ5flntw30Sdew   \n",
       "1725  Aqy2wQmWH1YkiCaQeqG1jg   \n",
       "1726  5V8O-vas5A4XGWqxsJ7GBg   \n",
       "1727  NPQBXnKDzAFimQPT7SSEAw   \n",
       "\n",
       "                                             categories  \n",
       "0     Restaurants, American (New), Seafood, Cajun/Cr...  \n",
       "1                        Mexican, Restaurants, Hot Dogs  \n",
       "2                           Restaurants, American (New)  \n",
       "3     Barbeque, Cambodian, Noodles, Asian Fusion, Re...  \n",
       "4                                    Pizza, Restaurants  \n",
       "...                                                 ...  \n",
       "1723                               Mexican, Restaurants  \n",
       "1724  American (Traditional), Restaurants, Music Ven...  \n",
       "1725                        American (New), Restaurants  \n",
       "1726  Wine Bars, American (New), Tapas/Small Plates,...  \n",
       "1727  Bars, Nightlife, Tapas/Small Plates, Cocktail ...  \n",
       "\n",
       "[1728 rows x 2 columns]"
      ]
     },
     "execution_count": 19,
     "metadata": {},
     "output_type": "execute_result"
    }
   ],
   "source": [
    "bus_df = bus_df[bus_df[\"business_id\"].isin(train_df[\"business_id\"])]\n",
    "bus_df.reset_index(drop=True)"
   ]
  },
  {
   "cell_type": "code",
   "execution_count": 20,
   "metadata": {
    "scrolled": true
   },
   "outputs": [],
   "source": [
    "business_cate = []\n",
    "for i in range(len(bus_df)):\n",
    "    i_lst = []\n",
    "    for j in bus_df.loc[i,\"categories\"].split(','):\n",
    "        i_lst.append(j.strip())\n",
    "    business_cate.append(i_lst)"
   ]
  },
  {
   "cell_type": "code",
   "execution_count": null,
   "metadata": {},
   "outputs": [],
   "source": []
  },
  {
   "cell_type": "code",
   "execution_count": 21,
   "metadata": {},
   "outputs": [],
   "source": [
    "dataset2 = Dataset()\n",
    "dataset2.fit(train_df['user_id'], train_df['business_id'], item_features=cate_lst)"
   ]
  },
  {
   "cell_type": "code",
   "execution_count": 22,
   "metadata": {
    "scrolled": true
   },
   "outputs": [],
   "source": [
    "item_features = dataset2.build_item_features(\n",
    "    (x, y) for x,y in zip(bus_df.business_id, business_cate))"
   ]
  },
  {
   "cell_type": "code",
   "execution_count": 23,
   "metadata": {
    "scrolled": true
   },
   "outputs": [
    {
     "data": {
      "text/plain": [
       "(1728, 1966)"
      ]
     },
     "execution_count": 23,
     "metadata": {},
     "output_type": "execute_result"
    }
   ],
   "source": [
    "item_features.todense().shape"
   ]
  },
  {
   "cell_type": "code",
   "execution_count": 24,
   "metadata": {},
   "outputs": [],
   "source": [
    "(train_interactions2, train_weights) = dataset2.build_interactions(train_df.values)\n",
    "(val_interactions2, val_weights) = dataset2.build_interactions(val_df.values)\n",
    "(test_interactions2, test_weights) = dataset2.build_interactions(test_df.values)"
   ]
  },
  {
   "cell_type": "code",
   "execution_count": 25,
   "metadata": {},
   "outputs": [],
   "source": [
    "model2 = LightFM(loss='warp', no_components=NO_COMPONENTS, \n",
    "                 learning_rate=LEARNING_RATE, \n",
    "                 item_alpha=ITEM_ALPHA,\n",
    "                 user_alpha=USER_ALPHA,\n",
    "                 random_state=np.random.RandomState(SEEDNO))"
   ]
  },
  {
   "cell_type": "code",
   "execution_count": 26,
   "metadata": {},
   "outputs": [
    {
     "data": {
      "text/plain": [
       "<lightfm.lightfm.LightFM at 0x7f9d64ffb370>"
      ]
     },
     "execution_count": 26,
     "metadata": {},
     "output_type": "execute_result"
    }
   ],
   "source": [
    "model2.fit(interactions=train_interactions2,\n",
    "           item_features=item_features,\n",
    "           epochs=NO_EPOCHS)"
   ]
  },
  {
   "cell_type": "code",
   "execution_count": 29,
   "metadata": {},
   "outputs": [
    {
     "name": "stdout",
     "output_type": "stream",
     "text": [
      "\n",
      "------ Using LightFM evaluation methods with categories ------\n",
      "Precision@K:\t0.005985\n",
      "Recall@K:\t0.059846\n",
      "AUC:\t0.763221\n"
     ]
    }
   ],
   "source": [
    "eval_precision_lfm = lightfm_prec_at_k(model2, val_interactions2, \n",
    "                                           train_interactions2,item_features=item_features, k=K).mean()\n",
    "eval_recall_lfm = lightfm_recall_at_k(model2, val_interactions2, \n",
    "                                          train_interactions2, item_features=item_features,k=K).mean()\n",
    "eval_auc_lfm = auc_score(model2, val_interactions2, \n",
    "                                          train_interactions2,item_features=item_features).mean()\n",
    "    \n",
    "print(\n",
    "    \"\\n------ Using LightFM evaluation methods with categories ------\",\n",
    "    f\"Precision@K:\\t{eval_precision_lfm:.6f}\",\n",
    "    f\"Recall@K:\\t{eval_recall_lfm:.6f}\", \n",
    "    f\"AUC:\\t{eval_auc_lfm:.6f}\", \n",
    "    sep='\\n')"
   ]
  },
  {
   "cell_type": "markdown",
   "metadata": {},
   "source": [
    "### tuning parameters"
   ]
  },
  {
   "cell_type": "code",
   "execution_count": 36,
   "metadata": {},
   "outputs": [],
   "source": [
    "# default number of recommendations\n",
    "K = 10\n",
    "\n",
    "# model learning rate\n",
    "LEARNING_RATE = 0.25\n",
    "# no of latent factors\n",
    "NO_COMPONENTS = 20\n",
    "# no of epochs to fit model\n",
    "NO_EPOCHS = 20\n",
    "# no of threads to fit model\n",
    "NO_THREADS = 32\n",
    "# regularisation for both user and item features\n",
    "ITEM_ALPHA=1e-6"
   ]
  },
  {
   "cell_type": "code",
   "execution_count": 31,
   "metadata": {},
   "outputs": [],
   "source": [
    "learning_rate_all = [0.01,0.1,0.2,0.25,0.3,0.4]\n",
    "precision_lr = []\n",
    "recall_lr = []\n",
    "auc_lr = []\n",
    "for LEARNING_RATE in learning_rate_all:\n",
    "    model = LightFM(loss='warp', no_components=NO_COMPONENTS, \n",
    "                 learning_rate=LEARNING_RATE, \n",
    "                 item_alpha=ITEM_ALPHA,\n",
    "                 random_state=np.random.RandomState(SEEDNO))\n",
    "    model.fit(interactions=train_interactions2,item_features=item_features,epochs=NO_EPOCHS)\n",
    "    eval_precision_lfm = lightfm_prec_at_k(model, val_interactions2, \n",
    "                                           train_interactions2,item_features=item_features, k=K).mean()\n",
    "    eval_recall_lfm = lightfm_recall_at_k(model, val_interactions2, \n",
    "                                          train_interactions2, item_features=item_features,k=K).mean()\n",
    "    eval_auc_lfm = auc_score(model, val_interactions2, \n",
    "                                          train_interactions2,item_features=item_features).mean()\n",
    "\n",
    "    precision_lr.append(eval_precision_lfm)\n",
    "    recall_lr.append(eval_recall_lfm)\n",
    "    auc_lr.append(eval_auc_lfm)"
   ]
  },
  {
   "cell_type": "code",
   "execution_count": 72,
   "metadata": {},
   "outputs": [
    {
     "data": {
      "text/plain": [
       "Text(0, 0.5, 'AUC')"
      ]
     },
     "execution_count": 72,
     "metadata": {},
     "output_type": "execute_result"
    },
    {
     "data": {
      "image/png": "[encoded data removed]",
      "text/plain": [
       "<Figure size 1008x360 with 2 Axes>"
      ]
     },
     "metadata": {
      "needs_background": "light"
     },
     "output_type": "display_data"
    }
   ],
   "source": [
    "import matplotlib.pyplot as plt\n",
    "\n",
    "plt.figure(figsize=(14,5))\n",
    "ax = plt.subplot(1,2,1)\n",
    "plt.plot(learning_rate_all,precision_lr,label=\"precision\")\n",
    "plt.plot(learning_rate_all,recall_lr,label=\"recall\")\n",
    "plt.legend()\n",
    "plt.xlabel(\"learning rate\")\n",
    "\n",
    "ax = plt.subplot(1,2,2)\n",
    "plt.plot(learning_rate_all,auc_lr,label=\"\")\n",
    "plt.xlabel(\"learning rate\")\n",
    "plt.ylabel(\"AUC\")"
   ]
  },
  {
   "cell_type": "code",
   "execution_count": 37,
   "metadata": {},
   "outputs": [],
   "source": [
    "reg_all = [1e-7,1e-6,1e-5,1e-4,1e-3,1e-2]\n",
    "precision_reg = []\n",
    "recall_reg = []\n",
    "auc_reg = []\n",
    "for ITEM_ALPHA in reg_all:\n",
    "    model = LightFM(loss='warp', no_components=NO_COMPONENTS, \n",
    "                 learning_rate=LEARNING_RATE, \n",
    "                 item_alpha=ITEM_ALPHA,\n",
    "                 random_state=np.random.RandomState(SEEDNO))\n",
    "    model.fit(interactions=train_interactions2,item_features=item_features,epochs=NO_EPOCHS)\n",
    "    eval_precision_lfm = lightfm_prec_at_k(model, val_interactions2, \n",
    "                                           train_interactions2,item_features=item_features, k=K).mean()\n",
    "    eval_recall_lfm = lightfm_recall_at_k(model, val_interactions2, \n",
    "                                          train_interactions2, item_features=item_features,k=K).mean()\n",
    "    eval_auc_lfm = auc_score(model, val_interactions2, \n",
    "                                          train_interactions2,item_features=item_features).mean()\n",
    "\n",
    "    precision_reg.append(eval_precision_lfm)\n",
    "    recall_reg.append(eval_recall_lfm)\n",
    "    auc_reg.append(eval_auc_lfm)"
   ]
  },
  {
   "cell_type": "code",
   "execution_count": 79,
   "metadata": {},
   "outputs": [
    {
     "data": {
      "text/plain": [
       "Text(0, 0.5, 'AUC')"
      ]
     },
     "execution_count": 79,
     "metadata": {},
     "output_type": "execute_result"
    },
    {
     "data": {
      "image/png": "[encoded data removed]",
      "text/plain": [
       "<Figure size 1008x360 with 2 Axes>"
      ]
     },
     "metadata": {
      "needs_background": "light"
     },
     "output_type": "display_data"
    }
   ],
   "source": [
    "plt.figure(figsize=(14,5))\n",
    "ax = plt.subplot(1,2,1)\n",
    "plt.plot(reg_all,precision_reg,label=\"precision\")\n",
    "plt.plot(reg_all,recall_reg,label=\"recall\")\n",
    "plt.legend()\n",
    "plt.xlabel(\"regularization\")\n",
    "\n",
    "ax = plt.subplot(1,2,2)\n",
    "plt.plot(reg_all,auc_reg)\n",
    "plt.xlabel(\"regularization\")\n",
    "plt.ylabel(\"AUC\")"
   ]
  },
  {
   "cell_type": "code",
   "execution_count": 40,
   "metadata": {},
   "outputs": [],
   "source": [
    "components_all = [10,20,40,60]\n",
    "precision_com = []\n",
    "recall_com = []\n",
    "auc_com = []\n",
    "for NO_COMPONENTS in components_all:\n",
    "    model = LightFM(loss='warp', no_components=NO_COMPONENTS, \n",
    "                 learning_rate=LEARNING_RATE, \n",
    "                 item_alpha=ITEM_ALPHA,\n",
    "                 random_state=np.random.RandomState(SEEDNO))\n",
    "    model.fit(interactions=train_interactions2,item_features=item_features,epochs=NO_EPOCHS)\n",
    "    eval_precision_lfm = lightfm_prec_at_k(model, val_interactions2, \n",
    "                                           train_interactions2,item_features=item_features, k=K).mean()\n",
    "    eval_recall_lfm = lightfm_recall_at_k(model, val_interactions2, \n",
    "                                          train_interactions2, item_features=item_features,k=K).mean()\n",
    "    eval_auc_lfm = auc_score(model, val_interactions2, \n",
    "                                          train_interactions2,item_features=item_features).mean()\n",
    "\n",
    "    precision_com.append(eval_precision_lfm)\n",
    "    recall_com.append(eval_recall_lfm)\n",
    "    auc_com.append(eval_auc_lfm)"
   ]
  },
  {
   "cell_type": "code",
   "execution_count": 78,
   "metadata": {},
   "outputs": [
    {
     "data": {
      "text/plain": [
       "Text(0, 0.5, 'AUC')"
      ]
     },
     "execution_count": 78,
     "metadata": {},
     "output_type": "execute_result"
    },
    {
     "data": {
      "image/png": "[encoded data removed]",
      "text/plain": [
       "<Figure size 1008x360 with 2 Axes>"
      ]
     },
     "metadata": {
      "needs_background": "light"
     },
     "output_type": "display_data"
    }
   ],
   "source": [
    "plt.figure(figsize=(14,5))\n",
    "ax = plt.subplot(1,2,1)\n",
    "plt.plot(components_all,precision_com,label=\"precision\")\n",
    "plt.plot(components_all,recall_com,label=\"recall\")\n",
    "plt.legend()\n",
    "plt.xlabel(\"Number of Components\")\n",
    "\n",
    "ax = plt.subplot(1,2,2)\n",
    "plt.plot(components_all,auc_com)\n",
    "plt.xlabel(\"Number of Components\")\n",
    "plt.ylabel(\"AUC\")"
   ]
  },
  {
   "cell_type": "code",
   "execution_count": 44,
   "metadata": {},
   "outputs": [],
   "source": [
    "learning_rate_all = [0.2,0.25,0.3,0.35]\n",
    "reg_all = [1e-7,1e-6,1e-5]\n",
    "components = [10,20,30]"
   ]
  },
  {
   "cell_type": "code",
   "execution_count": 45,
   "metadata": {},
   "outputs": [],
   "source": [
    "para_tuning_precision = {}\n",
    "para_tuning_recall = {}\n",
    "para_tuning_auc = {}\n",
    "for LEARNING_RATE in learning_rate_all:\n",
    "    for ITEM_ALPHA in reg_all:\n",
    "        for NO_COMPONENTS in components:\n",
    "            model = LightFM(loss='warp', no_components=NO_COMPONENTS, \n",
    "                 learning_rate=LEARNING_RATE, \n",
    "                 item_alpha=ITEM_ALPHA,\n",
    "                 random_state=np.random.RandomState(SEEDNO))\n",
    "            model.fit(interactions=train_interactions2,item_features=item_features,epochs=NO_EPOCHS)\n",
    "            eval_precision_lfm = lightfm_prec_at_k(model, val_interactions2, \n",
    "                                           train_interactions2,item_features=item_features, k=K).mean()\n",
    "            eval_recall_lfm = lightfm_recall_at_k(model, val_interactions2, \n",
    "                                          train_interactions2, item_features=item_features,k=K).mean()\n",
    "            eval_auc_lfm = auc_score(model, val_interactions2, \n",
    "                                          train_interactions2,item_features=item_features).mean()\n",
    "            \n",
    "            para_tuning_precision[LEARNING_RATE,ITEM_ALPHA,NO_COMPONENTS] = eval_precision_lfm\n",
    "            para_tuning_recall[LEARNING_RATE,ITEM_ALPHA,NO_COMPONENTS] = eval_recall_lfm\n",
    "            para_tuning_auc[LEARNING_RATE,ITEM_ALPHA,NO_COMPONENTS] = eval_auc_lfm"
   ]
  },
  {
   "cell_type": "code",
   "execution_count": 54,
   "metadata": {
    "scrolled": true
   },
   "outputs": [],
   "source": [
    "# para_tuning_auc"
   ]
  },
  {
   "cell_type": "code",
   "execution_count": 52,
   "metadata": {},
   "outputs": [
    {
     "name": "stdout",
     "output_type": "stream",
     "text": [
      "(0.35, 1e-06, 10)\n",
      "auc = 0.7806720733642578\n"
     ]
    }
   ],
   "source": [
    "import operator\n",
    "print(max(para_tuning_auc.items(), key=operator.itemgetter(1))[0])\n",
    "print(f\"auc = {para_tuning_auc[max(para_tuning_auc.items(), key=operator.itemgetter(1))[0]]}\")"
   ]
  },
  {
   "cell_type": "code",
   "execution_count": 49,
   "metadata": {},
   "outputs": [
    {
     "name": "stdout",
     "output_type": "stream",
     "text": [
      "on test data\n",
      "\n",
      "------ Using LightFM evaluation methods with categories after tuning parameters ------\n",
      "Precision@K:\t0.005195\n",
      "Recall@K:\t0.051949\n",
      "AUC:\t0.757110\n"
     ]
    }
   ],
   "source": [
    "LEARNING_RATE = 0.35\n",
    "ITEM_ALPHA = 1e-6\n",
    "NO_COMPONENTS = 10\n",
    "\n",
    "model3 = LightFM(loss='warp', no_components=NO_COMPONENTS, \n",
    "                 learning_rate=LEARNING_RATE, \n",
    "                 item_alpha=ITEM_ALPHA,\n",
    "                 random_state=np.random.RandomState(SEEDNO))\n",
    "model3.fit(interactions=train_interactions2,item_features=item_features,epochs=NO_EPOCHS)\n",
    "\n",
    "eval_precision_lfm = lightfm_prec_at_k(model3, test_interactions2, \n",
    "                                           train_interactions2,item_features=item_features, k=K).mean()\n",
    "eval_recall_lfm = lightfm_recall_at_k(model3, test_interactions2, \n",
    "                                          train_interactions2, item_features=item_features,k=K).mean()\n",
    "eval_auc_lfm = auc_score(model3, test_interactions2, \n",
    "                                          train_interactions2,item_features=item_features).mean()\n",
    "    \n",
    "print(\n",
    "    \"on test data\",\n",
    "    \"\\n------ Using LightFM evaluation methods with categories after tuning parameters ------\",\n",
    "    f\"Precision@K:\\t{eval_precision_lfm:.6f}\",\n",
    "    f\"Recall@K:\\t{eval_recall_lfm:.6f}\", \n",
    "    f\"AUC:\\t{eval_auc_lfm:.6f}\", \n",
    "    sep='\\n')"
   ]
  },
  {
   "cell_type": "code",
   "execution_count": null,
   "metadata": {},
   "outputs": [],
   "source": []
  }
 ],
 "metadata": {
  "kernelspec": {
   "display_name": "Python 3",
   "language": "python",
   "name": "python3"
  },
  "language_info": {
   "codemirror_mode": {
    "name": "ipython",
    "version": 3
   },
   "file_extension": ".py",
   "mimetype": "text/x-python",
   "name": "python",
   "nbconvert_exporter": "python",
   "pygments_lexer": "ipython3",
   "version": "3.8.3"
  }
 },
 "nbformat": 4,
 "nbformat_minor": 4
}
