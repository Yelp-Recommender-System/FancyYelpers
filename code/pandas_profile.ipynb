{
 "cells": [
  {
   "cell_type": "code",
   "execution_count": 1,
   "metadata": {},
   "outputs": [],
   "source": [
    "import pandas as pd\n",
    "import pandas_profiling \n"
   ]
  },
  {
   "cell_type": "code",
   "execution_count": 2,
   "metadata": {},
   "outputs": [],
   "source": [
    "# business: ~200,000 businesses and their profiles \n",
    "\n",
    "busi = pd.read_csv('csv_data/business_df.csv')\n",
    "busi_prof = pandas_profiling.ProfileReport(busi)\n",
    "busi_prof.to_file(output_file='busi_profile.html')"
   ]
  },
  {
   "cell_type": "code",
   "execution_count": null,
   "metadata": {},
   "outputs": [],
   "source": [
    "# review: ~8 million user ratings and reviews\n",
    "\n",
    "review = pd.read_csv('data/review_df.csv', low_memory=False)\n",
    "review_prof = pandas_profiling.ProfileReport(review)\n",
    "review_prof.to_file(output_file='review_profile.html')"
   ]
  },
  {
   "cell_type": "code",
   "execution_count": null,
   "metadata": {},
   "outputs": [],
   "source": [
    "# user: ~2 million users' profiles, comment history, friends etc. \n",
    "\n",
    "user = pd.read_csv('data/business_df.csv')\n",
    "user_prof = pandas_profiling.ProfileReport(user)\n",
    "user_prof.to_file(output_file='user_profile.html')"
   ]
  }
 ],
 "metadata": {
  "kernelspec": {
   "display_name": "Python 3",
   "language": "python",
   "name": "python3"
  },
  "language_info": {
   "codemirror_mode": {
    "name": "ipython",
    "version": 3
   },
   "file_extension": ".py",
   "mimetype": "text/x-python",
   "name": "python",
   "nbconvert_exporter": "python",
   "pygments_lexer": "ipython3",
   "version": "3.7.4"
  }
 },
 "nbformat": 4,
 "nbformat_minor": 4
}
